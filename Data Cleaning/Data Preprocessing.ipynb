{
 "cells": [
  {
   "cell_type": "markdown",
   "metadata": {},
   "source": [
    "# Data Preparation and Selection for comments"
   ]
  },
  {
   "cell_type": "code",
   "execution_count": 163,
   "metadata": {},
   "outputs": [],
   "source": [
    "import collections\n",
    "import numpy as np\n",
    "import pandas as pd\n",
    "import re\n",
    "from datetime import datetime, timedelta\n",
    "import random\n",
    "\n",
    "\n",
    "from argparse import Namespace"
   ]
  },
  {
   "cell_type": "code",
   "execution_count": 164,
   "metadata": {},
   "outputs": [],
   "source": [
    "args = Namespace(                                 \n",
    "    reddit_comment_dataset_csv=\"reddit_comment_DB.csv\", #this is the raw dataset awaiting to be pre-processed\n",
    "    hardwarezone_comment_dataset_csv = \"hwz_all_data.csv\",\n",
    "    output_filtered_csv=\"filtered_comment_lgbtq.csv\",\n",
    ")"
   ]
  },
  {
   "cell_type": "code",
   "execution_count": 165,
   "metadata": {},
   "outputs": [
    {
     "data": {
      "text/html": [
       "<div>\n",
       "<style scoped>\n",
       "    .dataframe tbody tr th:only-of-type {\n",
       "        vertical-align: middle;\n",
       "    }\n",
       "\n",
       "    .dataframe tbody tr th {\n",
       "        vertical-align: top;\n",
       "    }\n",
       "\n",
       "    .dataframe thead th {\n",
       "        text-align: right;\n",
       "    }\n",
       "</style>\n",
       "<table border=\"1\" class=\"dataframe\">\n",
       "  <thead>\n",
       "    <tr style=\"text-align: right;\">\n",
       "      <th></th>\n",
       "      <th>comment</th>\n",
       "      <th>create_utc</th>\n",
       "    </tr>\n",
       "  </thead>\n",
       "  <tbody>\n",
       "    <tr>\n",
       "      <th>0</th>\n",
       "      <td>&gt;While this definitely doesnât amount to for...</td>\n",
       "      <td>1.694425e+09</td>\n",
       "    </tr>\n",
       "    <tr>\n",
       "      <th>1</th>\n",
       "      <td>Ohh thanks for the shout out!! ðð</td>\n",
       "      <td>1.694423e+09</td>\n",
       "    </tr>\n",
       "    <tr>\n",
       "      <th>2</th>\n",
       "      <td>i think itâs rather ironic that anti-LGBTQ g...</td>\n",
       "      <td>1.694430e+09</td>\n",
       "    </tr>\n",
       "    <tr>\n",
       "      <th>3</th>\n",
       "      <td>As a Christian myself, I find it hilarious how...</td>\n",
       "      <td>1.694434e+09</td>\n",
       "    </tr>\n",
       "    <tr>\n",
       "      <th>4</th>\n",
       "      <td>I just took 1 look at the slides and groaned. ...</td>\n",
       "      <td>1.694475e+09</td>\n",
       "    </tr>\n",
       "    <tr>\n",
       "      <th>...</th>\n",
       "      <td>...</td>\n",
       "      <td>...</td>\n",
       "    </tr>\n",
       "    <tr>\n",
       "      <th>49130</th>\n",
       "      <td>Firing squad</td>\n",
       "      <td>1.585388e+09</td>\n",
       "    </tr>\n",
       "    <tr>\n",
       "      <th>49131</th>\n",
       "      <td>They ought to when citizens cannot keep themse...</td>\n",
       "      <td>1.585381e+09</td>\n",
       "    </tr>\n",
       "    <tr>\n",
       "      <th>49132</th>\n",
       "      <td>Exactly lol. Age isn't this magical number tha...</td>\n",
       "      <td>1.585378e+09</td>\n",
       "    </tr>\n",
       "    <tr>\n",
       "      <th>49133</th>\n",
       "      <td>Unless it becomes law that anyone who is sick ...</td>\n",
       "      <td>1.585394e+09</td>\n",
       "    </tr>\n",
       "    <tr>\n",
       "      <th>49134</th>\n",
       "      <td>You can't prove intention. Just because you be...</td>\n",
       "      <td>1.585385e+09</td>\n",
       "    </tr>\n",
       "  </tbody>\n",
       "</table>\n",
       "<p>49135 rows × 2 columns</p>\n",
       "</div>"
      ],
      "text/plain": [
       "                                                 comment    create_utc\n",
       "0      >While this definitely doesnât amount to for...  1.694425e+09\n",
       "1                Ohh thanks for the shout out!! ðð  1.694423e+09\n",
       "2      i think itâs rather ironic that anti-LGBTQ g...  1.694430e+09\n",
       "3      As a Christian myself, I find it hilarious how...  1.694434e+09\n",
       "4      I just took 1 look at the slides and groaned. ...  1.694475e+09\n",
       "...                                                  ...           ...\n",
       "49130                                       Firing squad  1.585388e+09\n",
       "49131  They ought to when citizens cannot keep themse...  1.585381e+09\n",
       "49132  Exactly lol. Age isn't this magical number tha...  1.585378e+09\n",
       "49133  Unless it becomes law that anyone who is sick ...  1.585394e+09\n",
       "49134  You can't prove intention. Just because you be...  1.585385e+09\n",
       "\n",
       "[49135 rows x 2 columns]"
      ]
     },
     "execution_count": 165,
     "metadata": {},
     "output_type": "execute_result"
    }
   ],
   "source": [
    "reddit_df = pd.read_csv(args.reddit_comment_dataset_csv,  encoding='latin-1')\n",
    "\n",
    "reddit_df = reddit_df[['body', 'created_utc']].rename(columns={'body': 'comment', 'created_utc': 'create_utc'})\n",
    "reddit_df = reddit_df.dropna()\n",
    "reddit_df"
   ]
  },
  {
   "cell_type": "code",
   "execution_count": 166,
   "metadata": {},
   "outputs": [
    {
     "name": "stdout",
     "output_type": "stream",
     "text": [
      "(62094, 2)\n",
      "(61930, 2)\n"
     ]
    }
   ],
   "source": [
    "hwz_df = pd.read_csv(args.hardwarezone_comment_dataset_csv,  encoding='latin-1')\n",
    "hwz_df = hwz_df[['content', 'time_stamp']].rename(columns={'content': 'comment', 'time_stamp': 'create_utc'})\n",
    "print(hwz_df.shape)\n",
    "hwz_df = hwz_df.dropna()\n",
    "print(hwz_df.shape)"
   ]
  },
  {
   "cell_type": "code",
   "execution_count": 167,
   "metadata": {},
   "outputs": [
    {
     "data": {
      "text/html": [
       "<div>\n",
       "<style scoped>\n",
       "    .dataframe tbody tr th:only-of-type {\n",
       "        vertical-align: middle;\n",
       "    }\n",
       "\n",
       "    .dataframe tbody tr th {\n",
       "        vertical-align: top;\n",
       "    }\n",
       "\n",
       "    .dataframe thead th {\n",
       "        text-align: right;\n",
       "    }\n",
       "</style>\n",
       "<table border=\"1\" class=\"dataframe\">\n",
       "  <thead>\n",
       "    <tr style=\"text-align: right;\">\n",
       "      <th></th>\n",
       "      <th>comment</th>\n",
       "      <th>create_utc</th>\n",
       "    </tr>\n",
       "  </thead>\n",
       "  <tbody>\n",
       "    <tr>\n",
       "      <th>1</th>\n",
       "      <td>A bizarre spat recently broke out in Shanghai,...</td>\n",
       "      <td>1655827200</td>\n",
       "    </tr>\n",
       "    <tr>\n",
       "      <th>2</th>\n",
       "      <td>Will Lee Ang direct this movie?</td>\n",
       "      <td>1655827200</td>\n",
       "    </tr>\n",
       "    <tr>\n",
       "      <th>3</th>\n",
       "      <td>I wonder the father turn gay before or after h...</td>\n",
       "      <td>1655827200</td>\n",
       "    </tr>\n",
       "    <tr>\n",
       "      <th>4</th>\n",
       "      <td>How the father so power can sex with him if he...</td>\n",
       "      <td>1655827200</td>\n",
       "    </tr>\n",
       "    <tr>\n",
       "      <th>5</th>\n",
       "      <td>Need to test all 3 for monkeypox.</td>\n",
       "      <td>1655827200</td>\n",
       "    </tr>\n",
       "    <tr>\n",
       "      <th>...</th>\n",
       "      <td>...</td>\n",
       "      <td>...</td>\n",
       "    </tr>\n",
       "    <tr>\n",
       "      <th>62089</th>\n",
       "      <td>The irony is that some women are actually usin...</td>\n",
       "      <td>1680537600</td>\n",
       "    </tr>\n",
       "    <tr>\n",
       "      <th>62090</th>\n",
       "      <td>gravity_infinity said:\\n\\n\\nTransgender \"woman...</td>\n",
       "      <td>1680537600</td>\n",
       "    </tr>\n",
       "    <tr>\n",
       "      <th>62091</th>\n",
       "      <td>blurredprint said:\\nSong boh see how that coac...</td>\n",
       "      <td>1680537600</td>\n",
       "    </tr>\n",
       "    <tr>\n",
       "      <th>62092</th>\n",
       "      <td>MegatonNev said:\\nbiologically, we are designe...</td>\n",
       "      <td>1680537600</td>\n",
       "    </tr>\n",
       "    <tr>\n",
       "      <th>62093</th>\n",
       "      <td>LostandFound87 said:\\nwhen u cant beat them, j...</td>\n",
       "      <td>1680537600</td>\n",
       "    </tr>\n",
       "  </tbody>\n",
       "</table>\n",
       "<p>61930 rows × 2 columns</p>\n",
       "</div>"
      ],
      "text/plain": [
       "                                                 comment  create_utc\n",
       "1      A bizarre spat recently broke out in Shanghai,...  1655827200\n",
       "2                        Will Lee Ang direct this movie?  1655827200\n",
       "3      I wonder the father turn gay before or after h...  1655827200\n",
       "4      How the father so power can sex with him if he...  1655827200\n",
       "5                      Need to test all 3 for monkeypox.  1655827200\n",
       "...                                                  ...         ...\n",
       "62089  The irony is that some women are actually usin...  1680537600\n",
       "62090  gravity_infinity said:\\n\\n\\nTransgender \"woman...  1680537600\n",
       "62091  blurredprint said:\\nSong boh see how that coac...  1680537600\n",
       "62092  MegatonNev said:\\nbiologically, we are designe...  1680537600\n",
       "62093  LostandFound87 said:\\nwhen u cant beat them, j...  1680537600\n",
       "\n",
       "[61930 rows x 2 columns]"
      ]
     },
     "execution_count": 167,
     "metadata": {},
     "output_type": "execute_result"
    }
   ],
   "source": [
    "# Function to convert timestamp to Unix time\n",
    "def convert_to_unix(timestamp_str):\n",
    "    try:\n",
    "        # Try parsing the timestamp with the first format\n",
    "        timestamp = datetime.strptime(timestamp_str, \"%b %d, %Y\")\n",
    "    except:\n",
    "        # If timestamp_str is None, return None\n",
    "        start_date = datetime(2024, 2, 4)\n",
    "        end_date = datetime(2024, 2, 8)\n",
    "\n",
    "        # Generate a random timedelta within the range\n",
    "        random_timedelta = random.randint(0, (end_date - start_date).days)\n",
    "\n",
    "        # Add the random timedelta to the start date\n",
    "        timestamp = start_date + timedelta(days=random_timedelta)\n",
    "\n",
    "    # Convert datetime object to Unix timestamp and return\n",
    "    return int(timestamp.timestamp())\n",
    "\n",
    "def conv(timestamp):\n",
    "    return \"{:.6e}\".format(timestamp)\n",
    "\n",
    "# Apply the function to the 'create_utc' column\n",
    "hwz_df['create_utc'] = hwz_df['create_utc'].apply(convert_to_unix)\n",
    "#hwz_df['create_utc'] = hwz_df['create_utc'].apply(conv)\n",
    "\n",
    "\n",
    "hwz_df\n",
    "\n"
   ]
  },
  {
   "cell_type": "code",
   "execution_count": 168,
   "metadata": {},
   "outputs": [
    {
     "data": {
      "text/plain": [
       "<bound method DataFrame.info of                                                  comment    create_utc  \\\n",
       "0      >While this definitely doesnât amount to for...  1.694425e+09   \n",
       "1                Ohh thanks for the shout out!! ðð  1.694423e+09   \n",
       "2      i think itâs rather ironic that anti-LGBTQ g...  1.694430e+09   \n",
       "3      As a Christian myself, I find it hilarious how...  1.694434e+09   \n",
       "4      I just took 1 look at the slides and groaned. ...  1.694475e+09   \n",
       "...                                                  ...           ...   \n",
       "62089  The irony is that some women are actually usin...  1.680538e+09   \n",
       "62090  gravity_infinity said:\\n\\n\\nTransgender \"woman...  1.680538e+09   \n",
       "62091  blurredprint said:\\nSong boh see how that coac...  1.680538e+09   \n",
       "62092  MegatonNev said:\\nbiologically, we are designe...  1.680538e+09   \n",
       "62093  LostandFound87 said:\\nwhen u cant beat them, j...  1.680538e+09   \n",
       "\n",
       "           community  \n",
       "0             Reddit  \n",
       "1             Reddit  \n",
       "2             Reddit  \n",
       "3             Reddit  \n",
       "4             Reddit  \n",
       "...              ...  \n",
       "62089  Hardware Zone  \n",
       "62090  Hardware Zone  \n",
       "62091  Hardware Zone  \n",
       "62092  Hardware Zone  \n",
       "62093  Hardware Zone  \n",
       "\n",
       "[111065 rows x 3 columns]>"
      ]
     },
     "execution_count": 168,
     "metadata": {},
     "output_type": "execute_result"
    }
   ],
   "source": [
    "reddit_df['community'] = 'Reddit'\n",
    "hwz_df['community'] = 'Hardware Zone'\n",
    "raw_comments = pd.concat([reddit_df, hwz_df], axis=0)\n",
    "raw_comments.info"
   ]
  },
  {
   "cell_type": "code",
   "execution_count": 169,
   "metadata": {},
   "outputs": [
    {
     "data": {
      "text/plain": [
       "comment\n",
       "[deleted]                                                                                                                                                                                                                                                                                                                                                                                                                                                                                              2225\n",
       "[removed]                                                                                                                                                                                                                                                                                                                                                                                                                                                                                               637\n",
       "F                                                                                                                                                                                                                                                                                                                                                                                                                                                                                                        25\n",
       "Yes                                                                                                                                                                                                                                                                                                                                                                                                                                                                                                      18\n",
       "Facebook links are not allowed on this subreddit.\\n\\n*I am a bot, and this action was performed automatically. Please [contact the moderators of this subreddit](/message/compose/?to=/r/singapore) if you have any questions or concerns.*                                                                                                                                                                                                                                                              17\n",
       "                                                                                                                                                                                                                                                                                                                                                                                                                                                                                                       ... \n",
       "Will be great to have that. This equality is seen in Sweden. We should consider this.                                                                                                                                                                                                                                                                                                                                                                                                                     1\n",
       "Wow, so that's pretty disingenuous of him because the LGBT community is even treated as lesser within the framework.\\n\\nAlso, don't existing laws already protect people from physical violence?                                                                                                                                                                                                                                                                                                          1\n",
       "WAAPD would probably qualify.                                                                                                                                                                                                                                                                                                                                                                                                                                                                             1\n",
       "I suggest you read my comment again. I didn't ask why people are being targeted, nor did I say that every religious person is harassing gay people. I'm just pointing out that there aren't any concrete examples of LGBT people targeting religious people.\\n\\nWho in Singapore is attacking people for being religious? Of course it's not right to target people for being a certain way or believing in something. That said, it doesn't mean you can force your beliefs down someone's throat.       1\n",
       "LostandFound87 said:\\nwhen u cant beat them, join them\\nThe new guy join to mock this actually. Or at least thats what i read from a few website.                                                                                                                                                                                                                                                                                                                                                         1\n",
       "Name: count, Length: 107826, dtype: int64"
      ]
     },
     "execution_count": 169,
     "metadata": {},
     "output_type": "execute_result"
    }
   ],
   "source": [
    "raw_comments.comment.value_counts()  # full data"
   ]
  },
  {
   "cell_type": "code",
   "execution_count": 170,
   "metadata": {},
   "outputs": [],
   "source": [
    "# to remove noise from raw data sets [deleted] [removed] F Yes\n",
    "raw_comments = raw_comments.drop(raw_comments[raw_comments['comment']=='[deleted]'].index)\n",
    "raw_comments = raw_comments.drop(raw_comments[raw_comments['comment']=='[removed]'].index)\n",
    "raw_comments = raw_comments.drop(raw_comments[raw_comments['comment']=='F'].index)\n",
    "raw_comments = raw_comments.drop(raw_comments[raw_comments['comment']=='Yes'].index)"
   ]
  },
  {
   "cell_type": "code",
   "execution_count": 171,
   "metadata": {},
   "outputs": [
    {
     "data": {
      "text/plain": [
       "comment\n",
       "Facebook links are not allowed on this subreddit.\\n\\n*I am a bot, and this action was performed automatically. Please [contact the moderators of this subreddit](/message/compose/?to=/r/singapore) if you have any questions or concerns.*                                                                                                                                                                                                                    17\n",
       "#NAME?                                                                                                                                                                                                                                                                                                                                                                                                                                                         12\n",
       "Yes.                                                                                                                                                                                                                                                                                                                                                                                                                                                           11\n",
       "Thanks!                                                                                                                                                                                                                                                                                                                                                                                                                                                         9\n",
       "Your submission was removed because it was a Google Amp URL, which is an indirect link to the page you were attempting to share; please submit again with the original link. You may wish to use a tool like [amputatorbot.com](https://www.amputatorbot.com/).\\n\\n\\n*I am a bot, and this action was performed automatically. Please [contact the moderators of this subreddit](/message/compose/?to=/r/singapore) if you have any questions or concerns.*     9\n",
       "                                                                                                                                                                                                                                                                                                                                                                                                                                                               ..\n",
       "Gah! Ty for catching that. Username checks out lol                                                                                                                                                                                                                                                                                                                                                                                                              1\n",
       "might i just add that \"same-sex attraction\" is a huge dogwhistle for me. if you read \"same-sex attraction\" instead of \"same-sex relationship\", 99% it's a homophobe trying to divorce the orientation from the act, and suggesting that it can be treated through conversion and/or celibacy.\\n\\ni find that \"traditional marriage\" is another one i see in anti-lgbt discourse too. or worse, \"normal marriage\".                                               1\n",
       "It is hypothetically possible for an organisation to be friendly to a group of people in a certain State A, while providing a service to help those who prefer to not remain in State A to leave State A. \\n\\nFor example, a club can be friendly to singles, while providing matchmaking events to help interested members get into relationships.                                                                                                             1\n",
       "i'm not sure what the comment you replied to was saying, but honestly pedophiles are pretty fucking unfortunate (well not so much those that act on their urges, since they actually hurt others). as far as i am aware of it is a condition in which they have absolutely no say, kinda similar to homosexuality in that regard, but it is something that will never be acceptable to act upon due to its very nature\\n\\npretty sad if you think about it      1\n",
       "LostandFound87 said:\\nwhen u cant beat them, join them\\nThe new guy join to mock this actually. Or at least thats what i read from a few website.                                                                                                                                                                                                                                                                                                               1\n",
       "Name: count, Length: 104923, dtype: int64"
      ]
     },
     "execution_count": 171,
     "metadata": {},
     "output_type": "execute_result"
    }
   ],
   "source": [
    "raw_comments.comment.value_counts()"
   ]
  },
  {
   "cell_type": "code",
   "execution_count": 172,
   "metadata": {},
   "outputs": [],
   "source": [
    "# Preprocess the tweets\n",
    "def preprocess_text(text):\n",
    "    text = str(text)\n",
    "    text = text.lower()\n",
    "    text = re.sub(r\"@\\w+\", r\"\", text)             # remove @user_name\n",
    "    text = re.sub(r\"([.,!?])\", r\" \\1 \", text)     # E.g., convert \"end.\" to \"end . \"\n",
    "    text = re.sub(r\"[^a-zA-Z.,!?]+\", r\" \", text)  # replace special character strings with empty string\n",
    "    return text\n",
    "    \n",
    "raw_comments.comment = raw_comments.comment.apply(preprocess_text)"
   ]
  },
  {
   "cell_type": "code",
   "execution_count": 173,
   "metadata": {},
   "outputs": [
    {
     "data": {
      "text/html": [
       "<div>\n",
       "<style scoped>\n",
       "    .dataframe tbody tr th:only-of-type {\n",
       "        vertical-align: middle;\n",
       "    }\n",
       "\n",
       "    .dataframe tbody tr th {\n",
       "        vertical-align: top;\n",
       "    }\n",
       "\n",
       "    .dataframe thead th {\n",
       "        text-align: right;\n",
       "    }\n",
       "</style>\n",
       "<table border=\"1\" class=\"dataframe\">\n",
       "  <thead>\n",
       "    <tr style=\"text-align: right;\">\n",
       "      <th></th>\n",
       "      <th>comment</th>\n",
       "      <th>create_utc</th>\n",
       "      <th>community</th>\n",
       "    </tr>\n",
       "  </thead>\n",
       "  <tbody>\n",
       "    <tr>\n",
       "      <th>0</th>\n",
       "      <td>while this definitely doesn t amount to forei...</td>\n",
       "      <td>1.694425e+09</td>\n",
       "      <td>Reddit</td>\n",
       "    </tr>\n",
       "    <tr>\n",
       "      <th>1</th>\n",
       "      <td>ohh thanks for the shout out ! !</td>\n",
       "      <td>1.694423e+09</td>\n",
       "      <td>Reddit</td>\n",
       "    </tr>\n",
       "    <tr>\n",
       "      <th>2</th>\n",
       "      <td>i think it s rather ironic that anti lgbtq gro...</td>\n",
       "      <td>1.694430e+09</td>\n",
       "      <td>Reddit</td>\n",
       "    </tr>\n",
       "    <tr>\n",
       "      <th>3</th>\n",
       "      <td>as a christian myself , i find it hilarious ho...</td>\n",
       "      <td>1.694434e+09</td>\n",
       "      <td>Reddit</td>\n",
       "    </tr>\n",
       "    <tr>\n",
       "      <th>4</th>\n",
       "      <td>i just took look at the slides and groaned . w...</td>\n",
       "      <td>1.694475e+09</td>\n",
       "      <td>Reddit</td>\n",
       "    </tr>\n",
       "  </tbody>\n",
       "</table>\n",
       "</div>"
      ],
      "text/plain": [
       "                                             comment    create_utc community\n",
       "0   while this definitely doesn t amount to forei...  1.694425e+09    Reddit\n",
       "1                  ohh thanks for the shout out ! !   1.694423e+09    Reddit\n",
       "2  i think it s rather ironic that anti lgbtq gro...  1.694430e+09    Reddit\n",
       "3  as a christian myself , i find it hilarious ho...  1.694434e+09    Reddit\n",
       "4  i just took look at the slides and groaned . w...  1.694475e+09    Reddit"
      ]
     },
     "execution_count": 173,
     "metadata": {},
     "output_type": "execute_result"
    }
   ],
   "source": [
    "raw_comments.head()"
   ]
  },
  {
   "cell_type": "code",
   "execution_count": 174,
   "metadata": {},
   "outputs": [],
   "source": [
    "from datetime import datetime\n",
    "\n",
    "def preprocess_timestamp(timestamp):\n",
    "    # Convert string to integer\n",
    "    timestamp = int(timestamp)\n",
    "    # Convert Unix timestamp to datetime object\n",
    "    return datetime.fromtimestamp(timestamp)\n",
    "\n",
    "# Assuming 'create_utc' is a column in the 'raw_comments' DataFrame\n",
    "raw_comments['create_utc'] = raw_comments['create_utc'].apply(preprocess_timestamp)\n"
   ]
  },
  {
   "cell_type": "code",
   "execution_count": 175,
   "metadata": {},
   "outputs": [
    {
     "data": {
      "text/html": [
       "<div>\n",
       "<style scoped>\n",
       "    .dataframe tbody tr th:only-of-type {\n",
       "        vertical-align: middle;\n",
       "    }\n",
       "\n",
       "    .dataframe tbody tr th {\n",
       "        vertical-align: top;\n",
       "    }\n",
       "\n",
       "    .dataframe thead th {\n",
       "        text-align: right;\n",
       "    }\n",
       "</style>\n",
       "<table border=\"1\" class=\"dataframe\">\n",
       "  <thead>\n",
       "    <tr style=\"text-align: right;\">\n",
       "      <th></th>\n",
       "      <th>comment</th>\n",
       "      <th>create_utc</th>\n",
       "      <th>community</th>\n",
       "    </tr>\n",
       "  </thead>\n",
       "  <tbody>\n",
       "    <tr>\n",
       "      <th>0</th>\n",
       "      <td>while this definitely doesn t amount to forei...</td>\n",
       "      <td>2023-09-11 17:38:49</td>\n",
       "      <td>Reddit</td>\n",
       "    </tr>\n",
       "    <tr>\n",
       "      <th>1</th>\n",
       "      <td>ohh thanks for the shout out ! !</td>\n",
       "      <td>2023-09-11 17:00:14</td>\n",
       "      <td>Reddit</td>\n",
       "    </tr>\n",
       "    <tr>\n",
       "      <th>2</th>\n",
       "      <td>i think it s rather ironic that anti lgbtq gro...</td>\n",
       "      <td>2023-09-11 18:56:33</td>\n",
       "      <td>Reddit</td>\n",
       "    </tr>\n",
       "    <tr>\n",
       "      <th>3</th>\n",
       "      <td>as a christian myself , i find it hilarious ho...</td>\n",
       "      <td>2023-09-11 20:04:08</td>\n",
       "      <td>Reddit</td>\n",
       "    </tr>\n",
       "    <tr>\n",
       "      <th>4</th>\n",
       "      <td>i just took look at the slides and groaned . w...</td>\n",
       "      <td>2023-09-12 07:33:28</td>\n",
       "      <td>Reddit</td>\n",
       "    </tr>\n",
       "  </tbody>\n",
       "</table>\n",
       "</div>"
      ],
      "text/plain": [
       "                                             comment          create_utc  \\\n",
       "0   while this definitely doesn t amount to forei... 2023-09-11 17:38:49   \n",
       "1                  ohh thanks for the shout out ! !  2023-09-11 17:00:14   \n",
       "2  i think it s rather ironic that anti lgbtq gro... 2023-09-11 18:56:33   \n",
       "3  as a christian myself , i find it hilarious ho... 2023-09-11 20:04:08   \n",
       "4  i just took look at the slides and groaned . w... 2023-09-12 07:33:28   \n",
       "\n",
       "  community  \n",
       "0    Reddit  \n",
       "1    Reddit  \n",
       "2    Reddit  \n",
       "3    Reddit  \n",
       "4    Reddit  "
      ]
     },
     "execution_count": 175,
     "metadata": {},
     "output_type": "execute_result"
    }
   ],
   "source": [
    "raw_comments.head()"
   ]
  },
  {
   "cell_type": "code",
   "execution_count": 176,
   "metadata": {},
   "outputs": [],
   "source": [
    "# df to csv file with header\n",
    "raw_comments.to_csv(args.output_filtered_csv, index=False, header=True) "
   ]
  },
  {
   "cell_type": "code",
   "execution_count": 177,
   "metadata": {},
   "outputs": [
    {
     "name": "stdout",
     "output_type": "stream",
     "text": [
      "The data range is from 2012 to 2024 in terms of years.\n"
     ]
    }
   ],
   "source": [
    "# to read the filtered csv file\n",
    "df = pd.read_csv(args.output_filtered_csv, parse_dates=['create_utc'])\n",
    "\n",
    "# Ensure the column is in datetime format\n",
    "df['create_utc'] = pd.to_datetime(df['create_utc'], errors='coerce')\n",
    "\n",
    "# Find the minimum and maximum dates in the dataframe\n",
    "min_date = df['create_utc'].min()\n",
    "max_date = df['create_utc'].max()\n",
    "\n",
    "# Extract years from the dates\n",
    "min_year = min_date.year\n",
    "max_year = max_date.year\n",
    "\n",
    "print(f\"The data range is from {min_year} to {max_year} in terms of years.\")\n"
   ]
  }
 ],
 "metadata": {
  "kernelspec": {
   "display_name": "base",
   "language": "python",
   "name": "python3"
  },
  "language_info": {
   "codemirror_mode": {
    "name": "ipython",
    "version": 3
   },
   "file_extension": ".py",
   "mimetype": "text/x-python",
   "name": "python",
   "nbconvert_exporter": "python",
   "pygments_lexer": "ipython3",
   "version": "3.11.5"
  }
 },
 "nbformat": 4,
 "nbformat_minor": 2
}
