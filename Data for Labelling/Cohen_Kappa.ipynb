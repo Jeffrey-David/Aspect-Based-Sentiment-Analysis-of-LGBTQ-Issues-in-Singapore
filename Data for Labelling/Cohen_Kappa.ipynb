{
 "cells": [
  {
   "cell_type": "code",
   "execution_count": 14,
   "metadata": {},
   "outputs": [
    {
     "name": "stdout",
     "output_type": "stream",
     "text": [
      "Requirement already satisfied: pip in c:\\users\\jeffr\\anaconda3\\lib\\site-packages (23.2.1)\n"
     ]
    },
    {
     "name": "stderr",
     "output_type": "stream",
     "text": [
      "WARNING: Retrying (Retry(total=4, connect=None, read=None, redirect=None, status=None)) after connection broken by 'NewConnectionError('<pip._vendor.urllib3.connection.HTTPSConnection object at 0x000001F908133790>: Failed to establish a new connection: [Errno 11001] getaddrinfo failed')': /simple/pip/\n",
      "WARNING: Retrying (Retry(total=3, connect=None, read=None, redirect=None, status=None)) after connection broken by 'NewConnectionError('<pip._vendor.urllib3.connection.HTTPSConnection object at 0x000001F90B411350>: Failed to establish a new connection: [Errno 11001] getaddrinfo failed')': /simple/pip/\n",
      "WARNING: Retrying (Retry(total=2, connect=None, read=None, redirect=None, status=None)) after connection broken by 'NewConnectionError('<pip._vendor.urllib3.connection.HTTPSConnection object at 0x000001F90B42AFD0>: Failed to establish a new connection: [Errno 11001] getaddrinfo failed')': /simple/pip/\n",
      "WARNING: Retrying (Retry(total=1, connect=None, read=None, redirect=None, status=None)) after connection broken by 'NewConnectionError('<pip._vendor.urllib3.connection.HTTPSConnection object at 0x000001F90B401A50>: Failed to establish a new connection: [Errno 11001] getaddrinfo failed')': /simple/pip/\n",
      "WARNING: Retrying (Retry(total=0, connect=None, read=None, redirect=None, status=None)) after connection broken by 'NewConnectionError('<pip._vendor.urllib3.connection.HTTPSConnection object at 0x000001F90B448450>: Failed to establish a new connection: [Errno 11001] getaddrinfo failed')': /simple/pip/\n"
     ]
    },
    {
     "name": "stdout",
     "output_type": "stream",
     "text": [
      "Requirement already satisfied: statsmodels in c:\\users\\jeffr\\anaconda3\\lib\\site-packages (0.14.0)\n",
      "Requirement already satisfied: numpy>=1.18 in c:\\users\\jeffr\\anaconda3\\lib\\site-packages (from statsmodels) (1.24.3)\n",
      "Requirement already satisfied: scipy!=1.9.2,>=1.4 in c:\\users\\jeffr\\anaconda3\\lib\\site-packages (from statsmodels) (1.11.1)\n",
      "Requirement already satisfied: pandas>=1.0 in c:\\users\\jeffr\\anaconda3\\lib\\site-packages (from statsmodels) (2.0.3)\n",
      "Requirement already satisfied: patsy>=0.5.2 in c:\\users\\jeffr\\anaconda3\\lib\\site-packages (from statsmodels) (0.5.3)\n",
      "Requirement already satisfied: packaging>=21.3 in c:\\users\\jeffr\\anaconda3\\lib\\site-packages (from statsmodels) (23.1)\n",
      "Requirement already satisfied: python-dateutil>=2.8.2 in c:\\users\\jeffr\\anaconda3\\lib\\site-packages (from pandas>=1.0->statsmodels) (2.8.2)\n",
      "Requirement already satisfied: pytz>=2020.1 in c:\\users\\jeffr\\anaconda3\\lib\\site-packages (from pandas>=1.0->statsmodels) (2023.3.post1)\n",
      "Requirement already satisfied: tzdata>=2022.1 in c:\\users\\jeffr\\anaconda3\\lib\\site-packages (from pandas>=1.0->statsmodels) (2023.3)\n",
      "Requirement already satisfied: six in c:\\users\\jeffr\\anaconda3\\lib\\site-packages (from patsy>=0.5.2->statsmodels) (1.16.0)\n"
     ]
    }
   ],
   "source": [
    "# update pip version\n",
    "!pip install --upgrade pip\n",
    "\n",
    "# To install statsmodels\n",
    "!pip install statsmodels"
   ]
  },
  {
   "cell_type": "code",
   "execution_count": 15,
   "metadata": {},
   "outputs": [],
   "source": [
    "import pandas as pd\n",
    "import numpy as np\n",
    "from statsmodels.stats.inter_rater import aggregate_raters, fleiss_kappa"
   ]
  },
  {
   "cell_type": "code",
   "execution_count": 21,
   "metadata": {},
   "outputs": [
    {
     "name": "stdout",
     "output_type": "stream",
     "text": [
      "     jd  sy  kk\n",
      "0     1   1   1\n",
      "1    -1   0  -1\n",
      "2    -1  -1  -1\n",
      "3     1   1   1\n",
      "4     1   1   1\n",
      "..   ..  ..  ..\n",
      "294   0   0   0\n",
      "295  -1  -1  -1\n",
      "296  -1  -1  -1\n",
      "297  -1   0   0\n",
      "298   0   0   0\n",
      "\n",
      "[299 rows x 3 columns]\n",
      "Fleiss' Kappa:  0.7103817696622654\n"
     ]
    }
   ],
   "source": [
    "jd_df = pd.read_csv(\"data_for_labelling_300_JD.csv\")\n",
    "sy_df = pd.read_csv(\"data_for_labelling_300_SY.csv\")\n",
    "kk_df = pd.read_csv(\"data_for_labelling_300_KK.csv\")\n",
    "\n",
    "# Select one column from each DataFrame\n",
    "column_from_df1 = jd_df['Sentiment']\n",
    "column_from_df2 = sy_df['Sentiment']\n",
    "column_from_df3 = kk_df['Sentiment']\n",
    "\n",
    "# Concatenate the selected columns into a new DataFrame\n",
    "df = pd.concat([column_from_df1, column_from_df2, column_from_df3], axis=1)\n",
    "df.columns = ['jd', 'sy', 'kk']\n",
    "\n",
    "def map_values(x):\n",
    "    if x == 1 or x=='1':\n",
    "        return 1\n",
    "    elif x == -1 or x=='-1':\n",
    "        return -1\n",
    "    else:\n",
    "        return 0\n",
    "\n",
    "# Apply the function to each value in the DataFrame\n",
    "df = df.applymap(map_values)\n",
    "\n",
    "print(df)\n",
    "# Aggregate ratings using statsmodels.stats.inter_rater.aggregate_raters\n",
    "aggregated_ratings, _ = aggregate_raters(df)\n",
    "\n",
    "# Calculate Fleiss' Kappa\n",
    "fleiss_kappa_score = fleiss_kappa(aggregated_ratings, method='fleiss')\n",
    "\n",
    "# Print the result\n",
    "print(\"Fleiss' Kappa: \", fleiss_kappa_score)\n"
   ]
  }
 ],
 "metadata": {
  "kernelspec": {
   "display_name": "base",
   "language": "python",
   "name": "python3"
  },
  "language_info": {
   "codemirror_mode": {
    "name": "ipython",
    "version": 3
   },
   "file_extension": ".py",
   "mimetype": "text/x-python",
   "name": "python",
   "nbconvert_exporter": "python",
   "pygments_lexer": "ipython3",
   "version": "3.11.5"
  }
 },
 "nbformat": 4,
 "nbformat_minor": 2
}
