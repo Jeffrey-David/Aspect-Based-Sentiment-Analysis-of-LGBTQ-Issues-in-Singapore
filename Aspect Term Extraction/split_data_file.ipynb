{
 "cells": [
  {
   "cell_type": "code",
   "execution_count": 2,
   "metadata": {},
   "outputs": [],
   "source": [
    "import collections\n",
    "import numpy as np\n",
    "import pandas as pd\n",
    "import re\n",
    "\n",
    "from argparse import Namespace"
   ]
  },
  {
   "cell_type": "code",
   "execution_count": 3,
   "metadata": {},
   "outputs": [],
   "source": [
    "args = Namespace(                                 \n",
    "    raw_comment_dataset_csv=\"../Fuzzy Search/fuzzy_filtered_data_processed.csv\", #this is the raw dataset awaiting to be pre-processed\n",
    "    output_csv_part1=\"data_for_aspect_part1.csv\",\n",
    "    output_csv_part2=\"data_for_aspect_part2.csv\",\n",
    "    output_csv_part3=\"data_for_aspect_part3.csv\",\n",
    "    output_csv_part4=\"data_for_aspect_part4.csv\",\n",
    ")"
   ]
  },
  {
   "cell_type": "code",
   "execution_count": 4,
   "metadata": {},
   "outputs": [],
   "source": [
    "# Read raw data\n",
    "data_to_split = pd.read_csv(args.raw_comment_dataset_csv, header=None, encoding='latin-1', names=['comment', 'create_utc','community','score'])\n",
    "# to skip the first line\n",
    "data_to_split = data_to_split.iloc[1:]"
   ]
  },
  {
   "cell_type": "code",
   "execution_count": 5,
   "metadata": {},
   "outputs": [
    {
     "data": {
      "text/html": [
       "<div>\n",
       "<style scoped>\n",
       "    .dataframe tbody tr th:only-of-type {\n",
       "        vertical-align: middle;\n",
       "    }\n",
       "\n",
       "    .dataframe tbody tr th {\n",
       "        vertical-align: top;\n",
       "    }\n",
       "\n",
       "    .dataframe thead th {\n",
       "        text-align: right;\n",
       "    }\n",
       "</style>\n",
       "<table border=\"1\" class=\"dataframe\">\n",
       "  <thead>\n",
       "    <tr style=\"text-align: right;\">\n",
       "      <th></th>\n",
       "      <th>comment</th>\n",
       "      <th>create_utc</th>\n",
       "      <th>community</th>\n",
       "      <th>score</th>\n",
       "    </tr>\n",
       "  </thead>\n",
       "  <tbody>\n",
       "    <tr>\n",
       "      <th>1</th>\n",
       "      <td>i think it s rather ironic that anti lgbtq gro...</td>\n",
       "      <td>11-09-2023 18:56</td>\n",
       "      <td>Reddit</td>\n",
       "      <td>18</td>\n",
       "    </tr>\n",
       "    <tr>\n",
       "      <th>2</th>\n",
       "      <td>here https transgendersg . com response to dr...</td>\n",
       "      <td>11-09-2023 21:55</td>\n",
       "      <td>Reddit</td>\n",
       "      <td>20</td>\n",
       "    </tr>\n",
       "    <tr>\n",
       "      <th>3</th>\n",
       "      <td>conservatism largely have no real data or fact...</td>\n",
       "      <td>12-09-2023 06:29</td>\n",
       "      <td>Reddit</td>\n",
       "      <td>9</td>\n",
       "    </tr>\n",
       "    <tr>\n",
       "      <th>4</th>\n",
       "      <td>i find it funny that the counsellor is obsesse...</td>\n",
       "      <td>12-09-2023 00:11</td>\n",
       "      <td>Reddit</td>\n",
       "      <td>10</td>\n",
       "    </tr>\n",
       "    <tr>\n",
       "      <th>5</th>\n",
       "      <td>sometimes , i feel hor . . what if , really wh...</td>\n",
       "      <td>11-09-2023 20:35</td>\n",
       "      <td>Reddit</td>\n",
       "      <td>8</td>\n",
       "    </tr>\n",
       "  </tbody>\n",
       "</table>\n",
       "</div>"
      ],
      "text/plain": [
       "                                             comment        create_utc  \\\n",
       "1  i think it s rather ironic that anti lgbtq gro...  11-09-2023 18:56   \n",
       "2   here https transgendersg . com response to dr...  11-09-2023 21:55   \n",
       "3  conservatism largely have no real data or fact...  12-09-2023 06:29   \n",
       "4  i find it funny that the counsellor is obsesse...  12-09-2023 00:11   \n",
       "5  sometimes , i feel hor . . what if , really wh...  11-09-2023 20:35   \n",
       "\n",
       "  community score  \n",
       "1    Reddit    18  \n",
       "2    Reddit    20  \n",
       "3    Reddit     9  \n",
       "4    Reddit    10  \n",
       "5    Reddit     8  "
      ]
     },
     "execution_count": 5,
     "metadata": {},
     "output_type": "execute_result"
    }
   ],
   "source": [
    "data_to_split.head()"
   ]
  },
  {
   "cell_type": "code",
   "execution_count": 6,
   "metadata": {},
   "outputs": [
    {
     "name": "stdout",
     "output_type": "stream",
     "text": [
      "Part 1 saved with 1000 records.\n",
      "Part 2 saved with 1000 records.\n",
      "Part 3 saved with 1000 records.\n",
      "Part 4 saved with 1000 records.\n",
      "Part 5 saved with 1000 records.\n",
      "Part 6 saved with 1000 records.\n",
      "Part 7 saved with 1000 records.\n",
      "Part 8 saved with 1000 records.\n",
      "Part 9 saved with 1000 records.\n",
      "Part 10 saved with 1000 records.\n",
      "Part 11 saved with 1000 records.\n",
      "Part 12 saved with 1000 records.\n",
      "Part 13 saved with 1000 records.\n",
      "Part 14 saved with 1000 records.\n",
      "Dataset split into four parts\n"
     ]
    }
   ],
   "source": [
    "# Split the dataset into four equal parts, each contains 1k records\n",
    "part_size = 1000\n",
    "num_parts = len(data_to_split) // part_size\n",
    "\n",
    "\n",
    "if num_parts < 4:\n",
    "    print(\"The dataset does not contain enough records to create four parts with 1000 records each.\")\n",
    "else:\n",
    "    parts = []\n",
    "    for i in range(num_parts):\n",
    "        part = data_to_split[i * part_size : (i + 1) * part_size]\n",
    "        parts.append(part)\n",
    "\n",
    "    # Save the four parts to separate CSV files\n",
    "    for i, part in enumerate(parts):\n",
    "        part.to_csv(f'data_for_aspect_part{i+1}.csv', index=False)\n",
    "        print(f'Part {i+1} saved with {len(part)} records.')\n",
    "\n",
    "    print(\"Dataset split into four parts\")"
   ]
  },
  {
   "cell_type": "markdown",
   "metadata": {},
   "source": [
    "## Split Long Sentences"
   ]
  },
  {
   "cell_type": "code",
   "execution_count": 7,
   "metadata": {},
   "outputs": [],
   "source": [
    "import collections\n",
    "import numpy as np\n",
    "import pandas as pd\n",
    "import nltk\n",
    "import re\n",
    "\n",
    "from nltk.tokenize import word_tokenize, sent_tokenize\n",
    "from argparse import Namespace"
   ]
  },
  {
   "cell_type": "code",
   "execution_count": 8,
   "metadata": {},
   "outputs": [],
   "source": [
    "args = Namespace(                                 \n",
    "    filtered_dataset_csv=\"data_for_aspect_part1.csv\",\n",
    "    output_filtered_csv=\"test_data_for_aspect_part1.csv\",\n",
    ")"
   ]
  },
  {
   "cell_type": "code",
   "execution_count": 9,
   "metadata": {},
   "outputs": [],
   "source": [
    "# Read raw data\n",
    "filtered_comments = pd.read_csv(args.filtered_dataset_csv, header=None, encoding='latin-1', names=['comment', 'create_utc', 'community', 'score'])"
   ]
  },
  {
   "cell_type": "code",
   "execution_count": 10,
   "metadata": {},
   "outputs": [
    {
     "data": {
      "text/html": [
       "<div>\n",
       "<style scoped>\n",
       "    .dataframe tbody tr th:only-of-type {\n",
       "        vertical-align: middle;\n",
       "    }\n",
       "\n",
       "    .dataframe tbody tr th {\n",
       "        vertical-align: top;\n",
       "    }\n",
       "\n",
       "    .dataframe thead th {\n",
       "        text-align: right;\n",
       "    }\n",
       "</style>\n",
       "<table border=\"1\" class=\"dataframe\">\n",
       "  <thead>\n",
       "    <tr style=\"text-align: right;\">\n",
       "      <th></th>\n",
       "      <th>comment</th>\n",
       "      <th>create_utc</th>\n",
       "      <th>community</th>\n",
       "      <th>score</th>\n",
       "    </tr>\n",
       "  </thead>\n",
       "  <tbody>\n",
       "    <tr>\n",
       "      <th>1</th>\n",
       "      <td>i think it s rather ironic that anti lgbtq gro...</td>\n",
       "      <td>11-09-2023 18:56</td>\n",
       "      <td>Reddit</td>\n",
       "      <td>18</td>\n",
       "    </tr>\n",
       "    <tr>\n",
       "      <th>2</th>\n",
       "      <td>here https transgendersg . com response to dr...</td>\n",
       "      <td>11-09-2023 21:55</td>\n",
       "      <td>Reddit</td>\n",
       "      <td>20</td>\n",
       "    </tr>\n",
       "    <tr>\n",
       "      <th>3</th>\n",
       "      <td>conservatism largely have no real data or fact...</td>\n",
       "      <td>12-09-2023 06:29</td>\n",
       "      <td>Reddit</td>\n",
       "      <td>9</td>\n",
       "    </tr>\n",
       "    <tr>\n",
       "      <th>4</th>\n",
       "      <td>i find it funny that the counsellor is obsesse...</td>\n",
       "      <td>12-09-2023 00:11</td>\n",
       "      <td>Reddit</td>\n",
       "      <td>10</td>\n",
       "    </tr>\n",
       "    <tr>\n",
       "      <th>5</th>\n",
       "      <td>sometimes , i feel hor . . what if , really wh...</td>\n",
       "      <td>11-09-2023 20:35</td>\n",
       "      <td>Reddit</td>\n",
       "      <td>8</td>\n",
       "    </tr>\n",
       "  </tbody>\n",
       "</table>\n",
       "</div>"
      ],
      "text/plain": [
       "                                             comment        create_utc  \\\n",
       "1  i think it s rather ironic that anti lgbtq gro...  11-09-2023 18:56   \n",
       "2   here https transgendersg . com response to dr...  11-09-2023 21:55   \n",
       "3  conservatism largely have no real data or fact...  12-09-2023 06:29   \n",
       "4  i find it funny that the counsellor is obsesse...  12-09-2023 00:11   \n",
       "5  sometimes , i feel hor . . what if , really wh...  11-09-2023 20:35   \n",
       "\n",
       "  community score  \n",
       "1    Reddit    18  \n",
       "2    Reddit    20  \n",
       "3    Reddit     9  \n",
       "4    Reddit    10  \n",
       "5    Reddit     8  "
      ]
     },
     "execution_count": 10,
     "metadata": {},
     "output_type": "execute_result"
    }
   ],
   "source": [
    "filtered_comments = filtered_comments.iloc[1:]\n",
    "filtered_comments.head()"
   ]
  },
  {
   "cell_type": "code",
   "execution_count": 11,
   "metadata": {},
   "outputs": [
    {
     "name": "stdout",
     "output_type": "stream",
     "text": [
      "Empty DataFrame\n",
      "Columns: [comment, create_utc, community, score]\n",
      "Index: []\n"
     ]
    }
   ],
   "source": [
    "newDF = pd.DataFrame(columns = ['comment', 'create_utc', 'community', 'score'])\n",
    "print(newDF)"
   ]
  },
  {
   "cell_type": "code",
   "execution_count": 12,
   "metadata": {},
   "outputs": [
    {
     "name": "stdout",
     "output_type": "stream",
     "text": [
      "                                                comment        create_utc  \\\n",
      "1     i think it s rather ironic that anti lgbtq gro...  11-09-2023 18:56   \n",
      "2      here https transgendersg . com response to dr...  11-09-2023 21:55   \n",
      "3     conservatism largely have no real data or fact...  12-09-2023 06:29   \n",
      "4     i find it funny that the counsellor is obsesse...  12-09-2023 00:11   \n",
      "5     sometimes , i feel hor . . what if , really wh...  11-09-2023 20:35   \n",
      "...                                                 ...               ...   \n",
      "996    of domestic violence cases are same sex coupl...  17-07-2022 12:05   \n",
      "997   this was happening years ago and i m not surpr...  17-07-2022 12:28   \n",
      "998   i wonder which other schools are not out calle...  17-07-2022 11:55   \n",
      "999   perfect for my family . my parents label homos...  16-07-2022 23:54   \n",
      "1000  let s ask the catholic priest who was recently...  17-07-2022 00:50   \n",
      "\n",
      "     community score  \n",
      "1       Reddit    18  \n",
      "2       Reddit    20  \n",
      "3       Reddit     9  \n",
      "4       Reddit    10  \n",
      "5       Reddit     8  \n",
      "...        ...   ...  \n",
      "996     Reddit     6  \n",
      "997     Reddit     6  \n",
      "998     Reddit     7  \n",
      "999     Reddit     8  \n",
      "1000    Reddit     6  \n",
      "\n",
      "[1000 rows x 4 columns]\n"
     ]
    }
   ],
   "source": [
    "print(filtered_comments)"
   ]
  },
  {
   "cell_type": "code",
   "execution_count": 13,
   "metadata": {},
   "outputs": [
    {
     "name": "stdout",
     "output_type": "stream",
     "text": [
      "i think it s rather ironic that anti lgbtq groups and individuals often claim that lgbtq identities are imported and that the campaign for lgbtq recognition and rights is a foreign influence when the anti lgbtq movement is so heavily influenced by american evangelical and fundamentalist christianity . even the laws against gay sex were introduced by the british colonials more foreign influence . it s such a flimsy , poorly thought out disguise for bigotry and hate . \n",
      " here https transgendersg . com response to dr quentin van meters webinar on transgenderism is the debunking of dr quentin s trans webinar that i wrote for transgendersg , which the article mentioned . below are extracts from the review i wrote for my friends after taking one for the team dr quentin would make a point , cite impressive peer reviewed papers in tiny text , and then when i looked them up i found that they said the direct opposite of what he did . he does this multiple times . he also does this thing where he expounds in passionate length on an anti trans point , mumbles as he acknowledges criticism that nullifies all he just said , and then while i m impressed and waiting in anticipation for how he would address that , he moves on to the next slide and i am sad . he said that if an archaeologist were to dig up a trans person s skeleton years from now , they would identify their sex based on the morphology of their bones . he says this proves that only biological sex is real . he said that the terms transmale and transfemale are liberal propaganda and instead the scientifically accurate terms are transmasculine and transfeminine . i was very confused . my favourite argument was when he objected to the term sex assigned at birth by explaining in great , painstaking detail the nature of gender reveal parties at one point he was talking a lot about the culinary process of baking a gender reveal cake for such parties , which delighted me because i enjoy cake , eventually coming to his triumphant point that if sex was really only assigned at birth , gender reveal parties would not be possible , because they are organised before birth . his theory which he returned to repeatedly on how people become trans is this sad kids want an escape from their suffering maybe they were very poor , or abused , or their parents died they become enchanted by the carousel of social media , which he says kids are into these days . he talked about carousels for about minutes . he explained what they are , with the lights and music , and how they go round and round and round . then , someone on the carousel presents them with cotton candy , which in this extended metaphor is the enticing suggestion that changing sex is the solution to all their problems . this excites them because it s what all the celebrities are doing these days . so they change their sex , and sometimes it does make them happy , but at other times it doesn t , and the carousel crashes and they die . he was inexplicably convinced that that sex reassignment surgery destroys a person s ability to experience orgasm or sexual intimacy , the former of which i believe has not been a significant risk since the s or earlier . so he argued against children transitioning because at that age they cannot possibly understand the ramifications of what it would mean to never be able to orgasm in their life , and never be able to experience sexual intimacy or have a family of their own . he sounded genuinely sad . q a someone asked if there are ways to resolve gender dysphoria in young people other than transition . he started talking about how he knows a lot of kids because he s a pediatrician , and it s nice to watch them grow up , and then they go to college , and then sometimes they visit and he can chat to them about what their majors are and what s happening in their lives , or with their families , and and what they plan to do in future , and he loves to see the kind of people they re growing up to be . . . . and then , in this zoom room full of ultra conservative christians , his non answer to that question concluded with . . . and then someone might realise i m not a transgendered female , i m a gay adult man ! and that is what i intend to be and i will be happy as being , but for god s sake , i almost had my anatomy cut off and all of my tissue that would respond to erotic stimuli taken from me , because i had same sex attraction and i found that transgender is more acceptable by society , you know , there s a bit of celebrity to it now , and i almost ruined my life ! \n",
      "conservatism largely have no real data or facts to back up their policies . its all lies and propaganda made to make the new stuff scary so lets stick with the old stuff . lgbt literally does nothing doesnt affect anyone that isnt in the community . pride parades ? just ignore them . drag shows ? just dont go . gay marriage ? unless youre having one , why do you care ? \n",
      "i find it funny that the counsellor is obsessed with gay people only . even though homosexuals were mentioned and should represent lgb , its only the gay thats being obsesses about . since people tend to pursue religion that shares the same mindset as they do , it might not surprise me if they were themselves ashamed of being something they were taught to hate . its just not normal behavior to have such disdain for a target group . wheres the hate on the tq group ? why isn t it targeted here . \n",
      "sometimes , i feel hor . . what if , really what if , it was scientifically proven , with replicable , well documented , that lgbt is really not beneficial . what would they do ? mind you , i don t mean something unreasonable such as defying gravity or time travel that kind , just the same level as our current understanding of cardiology or orthopaedics , or even as much as we understand basic nutrition . would most lgbt accept ? what kind of science is considered proper science ? is that kind of science even possible ? what would satisfy an unfavourable answer ? same thing to opponents of lgbt . what kind of science must be done to prove that such behaviour is normal ? what kind of empirical data is needed to put to rest the question and say no this is meant to be by natural selection , not because of societal bias and theres nothing wrong with them . as much evidence as is needed to convince you that left handlers are no more an abomination than right handers ? as much evidence that the color of skin is not greater or lesser ? the same amount of evidence that it is nurture not nature that makes a person ? edit for comprehension without such a distinction , discussions around science are a waste of time and only boils down to who has more money power . like dave chapelle said pepsi paid me most recently . . therefore it tastes better \n",
      "the article is long but clear and helpful to clarify the lies of fake science . thankfully this fake science remains only in english for now . if gets translated to malay chinese can cause even more problems . the pandemic made many disadvantaged struggling families very reliant on malay language social media for everything news changing smms know where to get gahmen support learn how to use other technology keep in touch with family friends . last year the strong gotong royong spirit of malay language social media slowly kena overtake by feelings of frustrated anger helpless over economic struggles elitism racism . this is contributing factor to spread of certain beliefs about lgbt as a danger threat like lgbt want to use cancel culture and secularism for employment racism . another factor is such disadvantaged people got nowhere to clarify such doubts fears . if ask on english language social media sure kena dismissed insulted censored . i think same for chinese language social media and of course many elderly kena brainwash by china propaganda . \n",
      "[['i think it s rather ironic that anti lgbtq groups and individuals often claim that lgbtq identities are imported and that the campaign for lgbtq recognition and rights is a foreign influence when the anti lgbtq movement is so heavily influenced by american evangelical and fundamentalist christianity ', ' even the laws against gay sex were introduced by the british colonials more foreign influence ', ' it s such a flimsy ', ' poorly thought out disguise for bigotry and hate ', ' '], [' here https transgendersg ', ' com response to dr quentin van meters webinar on transgenderism is the debunking of dr quentin s trans webinar that i wrote for transgendersg ', ' which the article mentioned ', ' below are extracts from the review i wrote for my friends after taking one for the team dr quentin would make a point ', ' cite impressive peer reviewed papers in tiny text ', ' and then when i looked them up i found that they said the direct opposite of what he did ', ' he does this multiple times ', ' he also does this thing where he expounds in passionate length on an anti trans point ', ' mumbles as he acknowledges criticism that nullifies all he just said ', ' and then while i m impressed and waiting in anticipation for how he would address that ', ' he moves on to the next slide and i am sad ', ' he said that if an archaeologist were to dig up a trans person s skeleton years from now ', ' they would identify their sex based on the morphology of their bones ', ' he says this proves that only biological sex is real ', ' he said that the terms transmale and transfemale are liberal propaganda and instead the scientifically accurate terms are transmasculine and transfeminine ', ' i was very confused ', ' my favourite argument was when he objected to the term sex assigned at birth by explaining in great ', ' painstaking detail the nature of gender reveal parties at one point he was talking a lot about the culinary process of baking a gender reveal cake for such parties ', ' which delighted me because i enjoy cake ', ' eventually coming to his triumphant point that if sex was really only assigned at birth ', ' gender reveal parties would not be possible ', ' because they are organised before birth ', ' his theory which he returned to repeatedly on how people become trans is this sad kids want an escape from their suffering maybe they were very poor ', ' or abused ', ' or their parents died they become enchanted by the carousel of social media ', ' which he says kids are into these days ', ' he talked about carousels for about minutes ', ' he explained what they are ', ' with the lights and music ', ' and how they go round and round and round ', ' then ', ' someone on the carousel presents them with cotton candy ', ' which in this extended metaphor is the enticing suggestion that changing sex is the solution to all their problems ', ' this excites them because it s what all the celebrities are doing these days ', ' so they change their sex ', ' and sometimes it does make them happy ', ' but at other times it doesn t ', ' and the carousel crashes and they die ', ' he was inexplicably convinced that that sex reassignment surgery destroys a person s ability to experience orgasm or sexual intimacy ', ' the former of which i believe has not been a significant risk since the s or earlier ', ' so he argued against children transitioning because at that age they cannot possibly understand the ramifications of what it would mean to never be able to orgasm in their life ', ' and never be able to experience sexual intimacy or have a family of their own ', ' he sounded genuinely sad ', ' q a someone asked if there are ways to resolve gender dysphoria in young people other than transition ', ' he started talking about how he knows a lot of kids because he s a pediatrician ', ' and it s nice to watch them grow up ', ' and then they go to college ', ' and then sometimes they visit and he can chat to them about what their majors are and what s happening in their lives ', ' or with their families ', ' and and what they plan to do in future ', ' and he loves to see the kind of people they re growing up to be ', ' ', ' ', ' ', ' and then ', ' in this zoom room full of ultra conservative christians ', ' his non answer to that question concluded with ', ' ', ' ', ' and then someone might realise i m not a transgendered female ', ' i m a gay adult man ', ' and that is what i intend to be and i will be happy as being ', ' but for god s sake ', ' i almost had my anatomy cut off and all of my tissue that would respond to erotic stimuli taken from me ', ' because i had same sex attraction and i found that transgender is more acceptable by society ', ' you know ', ' there s a bit of celebrity to it now ', ' and i almost ruined my life ', ' '], ['conservatism largely have no real data or facts to back up their policies ', ' its all lies and propaganda made to make the new stuff scary so lets stick with the old stuff ', ' lgbt literally does nothing doesnt affect anyone that isnt in the community ', ' pride parades ', ' just ignore them ', ' drag shows ', ' just dont go ', ' gay marriage ', ' unless youre having one ', ' why do you care ', ' '], ['i find it funny that the counsellor is obsessed with gay people only ', ' even though homosexuals were mentioned and should represent lgb ', ' its only the gay thats being obsesses about ', ' since people tend to pursue religion that shares the same mindset as they do ', ' it might not surprise me if they were themselves ashamed of being something they were taught to hate ', ' its just not normal behavior to have such disdain for a target group ', ' wheres the hate on the tq group ', ' why isn t it targeted here ', ' '], ['sometimes ', ' i feel hor ', ' ', ' what if ', ' really what if ', ' it was scientifically proven ', ' with replicable ', ' well documented ', ' that lgbt is really not beneficial ', ' what would they do ', ' mind you ', ' i don t mean something unreasonable such as defying gravity or time travel that kind ', ' just the same level as our current understanding of cardiology or orthopaedics ', ' or even as much as we understand basic nutrition ', ' would most lgbt accept ', ' what kind of science is considered proper science ', ' is that kind of science even possible ', ' what would satisfy an unfavourable answer ', ' same thing to opponents of lgbt ', ' what kind of science must be done to prove that such behaviour is normal ', ' what kind of empirical data is needed to put to rest the question and say no this is meant to be by natural selection ', ' not because of societal bias and theres nothing wrong with them ', ' as much evidence as is needed to convince you that left handlers are no more an abomination than right handers ', ' as much evidence that the color of skin is not greater or lesser ', ' the same amount of evidence that it is nurture not nature that makes a person ', ' edit for comprehension without such a distinction ', ' discussions around science are a waste of time and only boils down to who has more money power ', ' like dave chapelle said pepsi paid me most recently ', ' ', ' therefore it tastes better '], ['the article is long but clear and helpful to clarify the lies of fake science ', ' thankfully this fake science remains only in english for now ', ' if gets translated to malay chinese can cause even more problems ', ' the pandemic made many disadvantaged struggling families very reliant on malay language social media for everything news changing smms know where to get gahmen support learn how to use other technology keep in touch with family friends ', ' last year the strong gotong royong spirit of malay language social media slowly kena overtake by feelings of frustrated anger helpless over economic struggles elitism racism ', ' this is contributing factor to spread of certain beliefs about lgbt as a danger threat like lgbt want to use cancel culture and secularism for employment racism ', ' another factor is such disadvantaged people got nowhere to clarify such doubts fears ', ' if ask on english language social media sure kena dismissed insulted censored ', ' i think same for chinese language social media and of course many elderly kena brainwash by china propaganda ', ' ']]\n"
     ]
    }
   ],
   "source": [
    "c = 0\n",
    "full_list = []\n",
    "for i in filtered_comments.comment:\n",
    "    if c>5:\n",
    "        break\n",
    "    print(i)\n",
    "    c = c + 1\n",
    "    \n",
    "    pattern = r'\\.|/|;|\\'|`|\\[|\\]|<|>|\\?|:|\"|\\{|\\}|\\~|!|@|#|\\$|%|\\^|&|\\(|\\)|-|=|\\_|\\+|。|、|；|‘|’|【|】|·|！|,|…|（|）'\n",
    "#     result_list = re.split(pattern, i)\n",
    "#     full_list.append(result_list)\n",
    "    full_list.append(re.split(pattern, i))\n",
    "\n",
    "print(full_list)"
   ]
  },
  {
   "cell_type": "code",
   "execution_count": 15,
   "metadata": {},
   "outputs": [
    {
     "name": "stderr",
     "output_type": "stream",
     "text": [
      "[nltk_data] Downloading package punkt to\n",
      "[nltk_data]     C:\\Users\\jeffr\\AppData\\Roaming\\nltk_data...\n",
      "[nltk_data]   Package punkt is already up-to-date!\n"
     ]
    }
   ],
   "source": [
    "# Load aspect term list\n",
    "General = ['LGBTQ', 'homosexual', 'homo', 'sexual orientation']\n",
    "Gay = ['Gay', 'ah gua', 'ah qua'] \n",
    "Lesbian = ['Lesbian', 'les', 'sapphic']\n",
    "Bisexual = ['Bisexual']\n",
    "Transgender =['Transgender', 'tranny', 'ladyboy', 'trans'] \n",
    "Queer = ['Queer', 'non-binary', 'non binary']\n",
    "Same_Sex_Marriage = ['same-sex couples', 'same-sex marriage',  'same-sex partner', 'gay marriage']\n",
    "LGBTQ_rights = ['LGBTQ right', 'LGBTQ rights', 'LGBTQ IVF', 'LGBTQ adoption', 'LGBTQ housing']  \n",
    "LGBTQ_mental_wellbeing = ['LGBTQ depression', 'LGBTQ suicide', 'LGBTQ mental health', 'LGBTQ mental illness']\n",
    "Diseases = ['LGBTQ HIV', 'LGBTQ HPV', 'LGBTQ syphilis', 'LGBTQ gonorrhoea', 'LGBTQ AIDS']\n",
    "Pride_Month = ['Pink dot', 'Wear White', 'Pride Month']\n",
    "Anti_LGBTQ_Law = ['Anti-LGBTQ law',  'S377a', 'Section377a', 'section 377A', '377a', \n",
    "                'anti gay law', '377a penal code']\n",
    "                \n",
    "\n",
    "\n",
    "ASPECT_TERM_LIST = []\n",
    "ASPECT_TERM_LIST.extend(General)\n",
    "ASPECT_TERM_LIST.extend(Gay)\n",
    "ASPECT_TERM_LIST.extend(Lesbian)\n",
    "ASPECT_TERM_LIST.extend(Bisexual)\n",
    "ASPECT_TERM_LIST.extend(Transgender)\n",
    "ASPECT_TERM_LIST.extend(Queer)\n",
    "ASPECT_TERM_LIST.extend(Same_Sex_Marriage)\n",
    "ASPECT_TERM_LIST.extend(LGBTQ_rights)\n",
    "ASPECT_TERM_LIST.extend(LGBTQ_mental_wellbeing)\n",
    "ASPECT_TERM_LIST.extend(Diseases)\n",
    "ASPECT_TERM_LIST.extend(Pride_Month)\n",
    "ASPECT_TERM_LIST.extend(Anti_LGBTQ_Law)\n",
    "\n",
    "\n",
    "\n",
    "# Load input CSV file\n",
    "input_csv_path = \"sentences.csv\"  # Update with your file path\n",
    "input_data = pd.read_csv(input_csv_path)\n",
    "\n",
    "# Create lists to hold new data\n",
    "new_data = []\n",
    "\n",
    "# Iterate through each comment and aspect term\n",
    "for comment in input_data['comment']:\n",
    "    for aspect_term in ASPECT_TERM_LIST:\n",
    "        if aspect_term in comment:\n",
    "            row = {\n",
    "                'comment': comment,\n",
    "                'create_utc': input_data.loc[input_data['comment'] == comment, 'create_utc'].iloc[0],\n",
    "                'community': input_data.loc[input_data['comment'] == comment, 'community'].iloc[0],\n",
    "                'score': input_data.loc[input_data['comment'] == comment, 'score'].iloc[0],\n",
    "                'aspect_term': aspect_term\n",
    "            }\n",
    "            new_data.append(row)\n",
    "\n",
    "# Create a new DataFrame\n",
    "new_df = pd.DataFrame(new_data)\n",
    "\n",
    "# Save the new DataFrame to a CSV file\n",
    "output_csv_path = \"output.csv\"  # Choose a file path for the new CSV\n",
    "new_df.to_csv(output_csv_path, index=False)\n",
    "\n",
    "print(\"New CSV file created successfully.\")"
   ]
  }
 ],
 "metadata": {
  "kernelspec": {
   "display_name": "base",
   "language": "python",
   "name": "python3"
  },
  "language_info": {
   "codemirror_mode": {
    "name": "ipython",
    "version": 3
   },
   "file_extension": ".py",
   "mimetype": "text/x-python",
   "name": "python",
   "nbconvert_exporter": "python",
   "pygments_lexer": "ipython3",
   "version": "3.11.5"
  }
 },
 "nbformat": 4,
 "nbformat_minor": 2
}
