{
 "cells": [
  {
   "cell_type": "code",
   "execution_count": 1,
   "metadata": {},
   "outputs": [],
   "source": [
    "import pandas as pd\n",
    "import re"
   ]
  },
  {
   "cell_type": "code",
   "execution_count": 2,
   "metadata": {},
   "outputs": [
    {
     "name": "stdout",
     "output_type": "stream",
     "text": [
      "                                             comment  \\\n",
      "0  you can t be charged under 377a if you are not...   \n",
      "1  in fact , they have captured the courts to the...   \n",
      "2  see the whole premise of those supporting the ...   \n",
      "3  if you argue that it s because of post 19th ce...   \n",
      "4  also , every country that has legalized same s...   \n",
      "\n",
      "                                    original_content           create_utc  \\\n",
      "0  you can t be charged under 377a if you are not...  2017-03-28 10:57:09   \n",
      "1   i have not read up on the situation in the we...  2022-08-21 10:31:30   \n",
      "2  see the whole premise of those supporting the ...  2022-07-23 08:59:28   \n",
      "3  i feel like the arguement has kinda become con...  2021-02-22 21:22:38   \n",
      "4   i support the government s prudent and though...  2019-06-30 11:09:35   \n",
      "\n",
      "  community        aspect_term  Sentiment  \n",
      "0    Reddit               377a          0  \n",
      "1    Reddit              trans         -1  \n",
      "2    Reddit             rights         -1  \n",
      "3    Reddit      homosexuality          0  \n",
      "4    Reddit  same sex marriage          1  \n"
     ]
    }
   ],
   "source": [
    "# Read the CSV file into a pandas DataFrame\n",
    "df = pd.read_csv('data/Labelled_Training_Data.csv', header=0)\n",
    "print(df.head())"
   ]
  },
  {
   "cell_type": "code",
   "execution_count": 3,
   "metadata": {},
   "outputs": [
    {
     "data": {
      "text/plain": [
       "aspect_term\n",
       "377a                  1209\n",
       "rights                 842\n",
       "trans                  505\n",
       "homosexuality          442\n",
       "same sex               369\n",
       "homosexual             294\n",
       "same sex marriage      278\n",
       "sexual orientation     201\n",
       "gay marriage           181\n",
       "housing                153\n",
       "gender dysphoria       100\n",
       "adoption                56\n",
       "gender identity         55\n",
       "mental health           53\n",
       "suicide                 52\n",
       "les                     33\n",
       "homo                    30\n",
       "mental illness          26\n",
       "diseases                26\n",
       "non binary              22\n",
       "ah gua                  19\n",
       "depression              15\n",
       "sex reassignment        11\n",
       "pride parades           10\n",
       "tranny                   8\n",
       "anti gay law             4\n",
       "ladyboy                  4\n",
       "syphilis                 1\n",
       "sapphic                  1\n",
       "Name: count, dtype: int64"
      ]
     },
     "execution_count": 3,
     "metadata": {},
     "output_type": "execute_result"
    }
   ],
   "source": [
    "df['aspect_term'].value_counts()"
   ]
  },
  {
   "cell_type": "code",
   "execution_count": 4,
   "metadata": {},
   "outputs": [],
   "source": [
    "def adjust_comment(comment, aspect_term):\n",
    "    # Split the comment into words\n",
    "    words = comment.split()\n",
    "    # Split the aspect term into words\n",
    "    aspect_words = aspect_term.split()\n",
    "    # Find the index of the first word of the aspect term\n",
    "    aspect_index = -1\n",
    "    for i in range(len(words)):\n",
    "        if words[i:i+len(aspect_words)] == aspect_words:\n",
    "            aspect_index = i\n",
    "            break\n",
    "    # If aspect term not found, return original comment\n",
    "    if aspect_index == -1:\n",
    "        return comment\n",
    "    # Calculate the number of words to include before and after the aspect term\n",
    "    words_before = min(20, aspect_index)\n",
    "    words_after = min(20, len(words) - aspect_index - len(aspect_words))\n",
    "    # Adjust the comment to include 40 words\n",
    "    adjusted_comment = ' '.join(words[aspect_index - words_before : aspect_index + len(aspect_words) + words_after])\n",
    "    return adjusted_comment\n",
    "\n",
    "# Apply the function to the dataframe\n",
    "# df['comment'] = df.apply(lambda row: adjust_comment(row['comment'], row['aspect_term']), axis=1)"
   ]
  },
  {
   "cell_type": "code",
   "execution_count": 5,
   "metadata": {},
   "outputs": [],
   "source": [
    "import numpy as np\n",
    "#df = df.sample(frac=1, random_state=42)\n",
    "np.random.seed(12)\n",
    "# Save the modified DataFrame back to a CSV file\n",
    "df = df.sample(frac=1)\n",
    "df.to_csv('data/Labelled_Training_Data_Preprocessed.csv', index=False)"
   ]
  },
  {
   "cell_type": "code",
   "execution_count": 6,
   "metadata": {},
   "outputs": [
    {
     "data": {
      "text/plain": [
       "(5000, 6)"
      ]
     },
     "execution_count": 6,
     "metadata": {},
     "output_type": "execute_result"
    }
   ],
   "source": [
    "df.shape"
   ]
  },
  {
   "cell_type": "code",
   "execution_count": 7,
   "metadata": {},
   "outputs": [
    {
     "data": {
      "text/html": [
       "<div>\n",
       "<style scoped>\n",
       "    .dataframe tbody tr th:only-of-type {\n",
       "        vertical-align: middle;\n",
       "    }\n",
       "\n",
       "    .dataframe tbody tr th {\n",
       "        vertical-align: top;\n",
       "    }\n",
       "\n",
       "    .dataframe thead th {\n",
       "        text-align: right;\n",
       "    }\n",
       "</style>\n",
       "<table border=\"1\" class=\"dataframe\">\n",
       "  <thead>\n",
       "    <tr style=\"text-align: right;\">\n",
       "      <th></th>\n",
       "      <th>comment</th>\n",
       "      <th>original_content</th>\n",
       "      <th>create_utc</th>\n",
       "      <th>community</th>\n",
       "      <th>aspect_term</th>\n",
       "      <th>Sentiment</th>\n",
       "    </tr>\n",
       "  </thead>\n",
       "  <tbody>\n",
       "    <tr>\n",
       "      <th>4506</th>\n",
       "      <td>heterosexual upbringing does not guarantee het...</td>\n",
       "      <td>chuakboon said not normal lo . even they adopt...</td>\n",
       "      <td>22-08-2022</td>\n",
       "      <td>Hardware Zone</td>\n",
       "      <td>homosexual</td>\n",
       "      <td>0</td>\n",
       "    </tr>\n",
       "    <tr>\n",
       "      <th>1273</th>\n",
       "      <td>the railroading of same sex marriage on the am...</td>\n",
       "      <td>it is not marriage calling something marriage...</td>\n",
       "      <td>2015-06-11 10:18:21</td>\n",
       "      <td>Reddit</td>\n",
       "      <td>homosexuality</td>\n",
       "      <td>0</td>\n",
       "    </tr>\n",
       "    <tr>\n",
       "      <th>357</th>\n",
       "      <td>people have tried treating gender dysphoria by...</td>\n",
       "      <td>there are multiple reasons . there used to be ...</td>\n",
       "      <td>2021-03-08 18:33:04</td>\n",
       "      <td>Reddit</td>\n",
       "      <td>gender dysphoria</td>\n",
       "      <td>1</td>\n",
       "    </tr>\n",
       "    <tr>\n",
       "      <th>478</th>\n",
       "      <td>constitution means nothing here because pap ca...</td>\n",
       "      <td>racking2322 said tats ok . but if they start g...</td>\n",
       "      <td>2022-08-21</td>\n",
       "      <td>Hardware Zone</td>\n",
       "      <td>same sex marriage</td>\n",
       "      <td>1</td>\n",
       "    </tr>\n",
       "    <tr>\n",
       "      <th>356</th>\n",
       "      <td>let s work towards getting rid of the perverte...</td>\n",
       "      <td>how about , male female marry . and one of the...</td>\n",
       "      <td>2022-01-04</td>\n",
       "      <td>Hardware Zone</td>\n",
       "      <td>homosexuality</td>\n",
       "      <td>-1</td>\n",
       "    </tr>\n",
       "  </tbody>\n",
       "</table>\n",
       "</div>"
      ],
      "text/plain": [
       "                                                comment  \\\n",
       "4506  heterosexual upbringing does not guarantee het...   \n",
       "1273  the railroading of same sex marriage on the am...   \n",
       "357   people have tried treating gender dysphoria by...   \n",
       "478   constitution means nothing here because pap ca...   \n",
       "356   let s work towards getting rid of the perverte...   \n",
       "\n",
       "                                       original_content           create_utc  \\\n",
       "4506  chuakboon said not normal lo . even they adopt...           22-08-2022   \n",
       "1273   it is not marriage calling something marriage...  2015-06-11 10:18:21   \n",
       "357   there are multiple reasons . there used to be ...  2021-03-08 18:33:04   \n",
       "478   racking2322 said tats ok . but if they start g...           2022-08-21   \n",
       "356   how about , male female marry . and one of the...           2022-01-04   \n",
       "\n",
       "          community        aspect_term  Sentiment  \n",
       "4506  Hardware Zone         homosexual          0  \n",
       "1273         Reddit      homosexuality          0  \n",
       "357          Reddit   gender dysphoria          1  \n",
       "478   Hardware Zone  same sex marriage          1  \n",
       "356   Hardware Zone      homosexuality         -1  "
      ]
     },
     "execution_count": 7,
     "metadata": {},
     "output_type": "execute_result"
    }
   ],
   "source": [
    "df.head()"
   ]
  },
  {
   "cell_type": "code",
   "execution_count": 8,
   "metadata": {},
   "outputs": [
    {
     "data": {
      "image/png": "[encoded data removed]",
      "text/plain": [
       "<Figure size 1000x600 with 1 Axes>"
      ]
     },
     "metadata": {},
     "output_type": "display_data"
    }
   ],
   "source": [
    "import pandas as pd\n",
    "import nltk\n",
    "from nltk.tokenize import sent_tokenize\n",
    "import matplotlib.pyplot as plt\n",
    "\n",
    "\n",
    "# Tokenize the sentences in the 'comment' column\n",
    "word_counts = df['comment'].apply(lambda x: len(x.split()))\n",
    "\n",
    "# Plot the word count distribution\n",
    "plt.figure(figsize=(10, 6))\n",
    "plt.hist(word_counts, bins=30, color='skyblue', edgecolor='black')\n",
    "plt.xlabel('Word Count')\n",
    "plt.ylabel('Frequency')\n",
    "plt.title('Word Count Distribution of Comments')\n",
    "plt.grid(True)\n",
    "plt.show()\n"
   ]
  }
 ],
 "metadata": {
  "kernelspec": {
   "display_name": "base",
   "language": "python",
   "name": "python3"
  },
  "language_info": {
   "codemirror_mode": {
    "name": "ipython",
    "version": 3
   },
   "file_extension": ".py",
   "mimetype": "text/x-python",
   "name": "python",
   "nbconvert_exporter": "python",
   "pygments_lexer": "ipython3",
   "version": "3.11.5"
  }
 },
 "nbformat": 4,
 "nbformat_minor": 2
}
