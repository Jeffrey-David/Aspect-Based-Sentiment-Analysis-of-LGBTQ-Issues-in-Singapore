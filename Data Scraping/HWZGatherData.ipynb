{
 "cells": [
  {
   "cell_type": "code",
   "execution_count": 18,
   "metadata": {},
   "outputs": [],
   "source": [
    "import time\n",
    "import pandas as pd\n",
    "import os\n",
    "import glob\n",
    "from tqdm import tqdm\n",
    "from selenium import webdriver\n",
    "from selenium.webdriver import Chrome\n",
    "from webdriver_manager.chrome import ChromeDriverManager\n",
    "from selenium.webdriver.chrome.service import Service as ChromeService\n",
    "from selenium.common.exceptions import NoSuchElementException\n",
    "from selenium.webdriver.common.by import By\n",
    "from selenium.webdriver.support.ui import WebDriverWait\n",
    "from selenium.webdriver.support import expected_conditions as EC\n",
    "from selenium.common.exceptions import TimeoutException\n",
    "\n",
    "class HardwarezoneCrawler:\n",
    "    def __init__(self) -> None:\n",
    "        options = webdriver.ChromeOptions() \n",
    "        options.add_argument('log-level=3')\n",
    "        options.add_argument(\"start-maximized\")\n",
    "        options.add_argument(\"--disable-gpu\")\n",
    "        options.add_argument(\"enable-automation\")\n",
    "        options.add_argument(\"--headless\")\n",
    "        options.add_argument(\"--no-sandbox\")\n",
    "        options.add_argument(\"--disable-dev-shm-usage\")\n",
    "        options.add_argument(\"--disable-browser-side-navigation\")\n",
    "        options.add_experimental_option(\"excludeSwitches\", [\"enable-automation\"])\n",
    "        options.add_experimental_option('useAutomationExtension', False)\n",
    "        options.add_experimental_option('excludeSwitches', ['enable-logging'])\n",
    "        self.driver = webdriver.Chrome(service=ChromeService(ChromeDriverManager().install()), options=options)\n",
    "    \n",
    "    def get_options():\n",
    "        options = webdriver.ChromeOptions() \n",
    "        options.add_argument('log-level=3')\n",
    "        options.add_argument(\"start-maximized\")\n",
    "        options.add_argument(\"--disable-gpu\")\n",
    "        options.add_argument(\"enable-automation\")\n",
    "        options.add_argument(\"--headless\")\n",
    "        options.add_argument(\"--no-sandbox\")\n",
    "        options.add_argument(\"--disable-dev-shm-usage\")\n",
    "        options.add_argument(\"--disable-browser-side-navigation\")\n",
    "        options.add_experimental_option(\"excludeSwitches\", [\"enable-automation\"])\n",
    "        options.add_experimental_option('useAutomationExtension', False)\n",
    "        options.add_experimental_option('excludeSwitches', ['enable-logging'])\n",
    "        return options\n",
    "        \n",
    "    def get_url(self, aspect_item: str):\n",
    "        self.driver.quit()\n",
    "        options = webdriver.ChromeOptions() \n",
    "        options.add_argument('log-level=3')\n",
    "        options.add_argument(\"start-maximized\")\n",
    "        options.add_argument(\"--disable-gpu\")\n",
    "        options.add_argument(\"enable-automation\")\n",
    "        options.add_argument(\"--headless\")\n",
    "        options.add_argument(\"--no-sandbox\")\n",
    "        options.add_argument(\"--disable-dev-shm-usage\")\n",
    "        options.add_argument(\"--disable-browser-side-navigation\")\n",
    "        options.add_experimental_option(\"excludeSwitches\", [\"enable-automation\"])\n",
    "        options.add_experimental_option('useAutomationExtension', False)\n",
    "        options.add_experimental_option('excludeSwitches', ['enable-logging'])\n",
    "        self.driver = webdriver.Chrome(service=ChromeService(ChromeDriverManager().install()), options=options)\n",
    "        self.driver.get(\"https://www.hardwarezone.com.sg/search/forum\")\n",
    "\n",
    "        # Wait for the search input field to be clickable\n",
    "        search_navi = WebDriverWait(self.driver, 11).until(\n",
    "            EC.element_to_be_clickable((By.XPATH, \"//form/input[@class='text']\"))\n",
    "        )\n",
    "        search_navi.send_keys(aspect_item)\n",
    "        time.sleep(10)\n",
    "\n",
    "        submit_btn = self.driver.find_element(\"xpath\",\"//form/input[@type='submit']\")\n",
    "        webdriver.ActionChains(self.driver).move_to_element(submit_btn).click(submit_btn).perform()\n",
    "        time.sleep(10)\n",
    "        forum_btn = self.driver.find_element(\"xpath\",\"//ul[@class='tabs-menu']/li[6]\")\n",
    "        webdriver.ActionChains(self.driver).move_to_element(forum_btn).click(forum_btn).perform()\n",
    "        time.sleep(10)\n",
    "\n",
    "        self.driver.execute_script (\"window.scrollTo(0,document.body.scrollHeight);\")\n",
    "\n",
    "        # The first page of forums\n",
    "        threads_list = []\n",
    "        links_list = self.driver.find_elements(\"xpath\",\"//a[@class='gs-title']\")\n",
    "        for link in links_list:\n",
    "            if link.get_attribute('href'):\n",
    "                threads_list.append(link.get_attribute('href'))\n",
    "                \n",
    "        # The rest pages of forums\n",
    "        for i in range(2, 11):\n",
    "            try:\n",
    "                page_ele = self.driver.find_element(\"xpath\", \"//div[@aria-label='Page \" + str(i) + \"']\")\n",
    "                webdriver.ActionChains(self.driver).move_to_element(page_ele).click(page_ele).perform()\n",
    "                time.sleep(10)\n",
    "            except NoSuchElementException:\n",
    "                print(\"Page element not found for page\", i)\n",
    "                a=input()\n",
    "            \n",
    "            links_list = self.driver.find_elements(\"xpath\",\"//a[@class='gs-title']\")\n",
    "            for link in links_list:\n",
    "                if link.get_attribute('href'):\n",
    "                    threads_list.append(link.get_attribute('href'))\n",
    "\n",
    "        # Navigate to Google\n",
    "        try:\n",
    "            google_navi_ele = self.driver.find_element(\"xpath\",\"//div[@class='gcsc-more-maybe-branding-root']/a\")\n",
    "            google_search_url = google_navi_ele.get_attribute(\"href\")\n",
    "            self.driver.get(google_search_url)\n",
    "        except NoSuchElementException:\n",
    "            print(\"Page element not found for page\")\n",
    "\n",
    "        # The first page of google search results\n",
    "        links_list = self.driver.find_elements(\"xpath\",\"//div[@class='yuRUbf']/a\")\n",
    "        for link in links_list:\n",
    "            if link.get_attribute(\"href\"):\n",
    "                threads_list.append(link.get_attribute(\"href\"))\n",
    "\n",
    "        self.driver.execute_script (\"window.scrollTo(0,document.body.scrollHeight);\")\n",
    "        # The rest pages of google search results\n",
    "        for i in range(2, 16):\n",
    "            try:\n",
    "                page_ele = self.driver.find_element(\"xpath\",\"//a[@aria-label='Page \" + str(i) + \"']\")\n",
    "                webdriver.ActionChains(self.driver).move_to_element(page_ele).click(page_ele).perform()\n",
    "                time.sleep(10)\n",
    "                \n",
    "                links_list = self.driver.find_elements(\"xpath\",\"//div[@class='yuRUbf']/a\")\n",
    "                for link in links_list:\n",
    "                    if link.get_attribute('href'):\n",
    "                        threads_list.append(link.get_attribute('href'))\n",
    "            except:\n",
    "                print(\"We can not find the pages that required, end the loop\")\n",
    "                    \n",
    "        threads_list = list(set(threads_list))\n",
    "        aspects_list = [aspect_item for i in range(len(threads_list))]\n",
    "        data_df = pd.DataFrame(list(zip(threads_list, aspects_list)), columns=['url', 'aspect'])\n",
    "        data_df.to_csv(\"E:/Critical Inquiry/Code/Data Scraping/data/hwz_data_\" + aspect_item + \".csv\", index=False)\n",
    "    \n",
    "    def getReviews_content(self, csv_path: str, aspect_term: str):\n",
    "        # Initialize WebDriver instance outside the loop\n",
    "        options = webdriver.ChromeOptions() \n",
    "        options.headless = True\n",
    "        options.add_argument('log-level=3')\n",
    "        options.add_argument(\"start-maximized\")\n",
    "        options.add_argument(\"--disable-gpu\")\n",
    "        options.add_argument(\"enable-automation\")\n",
    "        options.add_argument(\"--no-sandbox\")\n",
    "        options.add_argument(\"--disable-dev-shm-usage\")\n",
    "        options.add_argument(\"--disable-browser-side-navigation\")\n",
    "        options.add_experimental_option(\"excludeSwitches\", [\"enable-automation\"])\n",
    "        options.add_experimental_option('useAutomationExtension', False)\n",
    "        options.add_experimental_option('excludeSwitches', ['enable-logging'])\n",
    "        \n",
    "        page_count = 0  # Counter for pages scanned\n",
    "\n",
    "        try:\n",
    "            with webdriver.Chrome(service=ChromeService(ChromeDriverManager().install()), options=options) as driver:\n",
    "                driver.set_page_load_timeout(30)  # Set a longer timeout value (e.g., 30 seconds)\n",
    "\n",
    "                # Read CSV file containing URLs\n",
    "                url_df = pd.read_csv(csv_path)\n",
    "                # Remove specific unwanted URL\n",
    "                url_df = url_df.drop(url_df[url_df['url'] == \"https://forums.hardwarezone.com.sg/forums/eat-drink-man-woman.16/\"].index)\n",
    "\n",
    "                # Iterate through each URL\n",
    "                for index, row in tqdm(url_df.iterrows()):\n",
    "                    # Filter by aspect term\n",
    "\n",
    "                    if row.aspect != aspect_term:\n",
    "                        continue\n",
    "\n",
    "                    # Initialize lists to store data inside the loop\n",
    "                    aspects_list = []\n",
    "                    urls_list = []\n",
    "                    titles_list = []\n",
    "                    contents_list = []\n",
    "                    authors_list = []\n",
    "                    timeStamps_list = []\n",
    "                    memberships_list = []\n",
    "\n",
    "                    try:\n",
    "                        # Visit the URL\n",
    "                        driver.get(row.url)\n",
    "                        \n",
    "                        \n",
    "                        try:\n",
    "                            if page_count%10 == 0:\n",
    "                                buttons = WebDriverWait(driver, 10).until(EC.presence_of_all_elements_located((By.TAG_NAME, \"button\")))\n",
    "                                \n",
    "                                # Click on the first button found\n",
    "                                if buttons:\n",
    "                                    first_button = buttons[0]\n",
    "                                    first_button.click()\n",
    "                                else:\n",
    "                                    print(\"No buttons found on the page.\")\n",
    "                                \n",
    "                        except TimeoutException:\n",
    "                            print(\"Timeout occurred while waiting for buttons to be located.\")\n",
    "                        except Exception as e:\n",
    "                            print(f\"An error occurred: {e}\")\n",
    "\n",
    "\n",
    "\n",
    "                        try:\n",
    "                            # Find the first page link\n",
    "                            thread_first_page = driver.find_element(\"xpath\",\"//ul[@class='pageNav-main']/li/a\")\n",
    "                            driver.get(thread_first_page.get_attribute(\"href\"))\n",
    "                        except Exception as e:\n",
    "                            #print(driver.find_element(\"xpath\",\"//h1[@class='p-title-value']\").text, \"\\t, this thread Only one pages\")\n",
    "                            pass\n",
    "\n",
    "                        # Extract data from the page\n",
    "                        contents_web = driver.find_elements(\"xpath\",\"//div[@class='bbWrapper']\")\n",
    "                        for content in contents_web:\n",
    "                            contents_list.append(content.text)\n",
    "                            titles_list.append(driver.find_element(\"xpath\",\"//h1[@class='p-title-value']\").text)\n",
    "                            urls_list.append(row.url)\n",
    "                            aspects_list.append(row.aspect)\n",
    "\n",
    "                        authors_web = driver.find_elements(\"xpath\",\"//a[@class='username ']\")\n",
    "                        for author in authors_web:\n",
    "                            authors_list.append(author.text)\n",
    "\n",
    "                        timeStamps_web = driver.find_elements(\"xpath\",\"//time[@class='u-dt']\")\n",
    "                        for timeStamp in timeStamps_web:\n",
    "                            timeStamps_list.append(timeStamp.text)\n",
    "\n",
    "                        memberships_web = driver.find_elements(\"xpath\",\"//h5[@class='userTitle message-userTitle']\")\n",
    "                        for membership in memberships_web:\n",
    "                            memberships_list.append(membership.text)\n",
    "\n",
    "                        # Increment page count\n",
    "                        page_count += 1\n",
    "\n",
    "                        # Restart the browser after every 20 pages scanned\n",
    "                        \n",
    "\n",
    "                        # Iterating over pages until no next page is found or a limit is reached\n",
    "                        flag = True\n",
    "                        cnt = 0\n",
    "                        while flag and cnt <= 100:\n",
    "                            try:\n",
    "                                forum_first_page = driver.find_element(\"xpath\",\"//a[@class='pageNav-jump pageNav-jump--next']\")\n",
    "                                driver.get(forum_first_page.get_attribute(\"href\"))\n",
    "                                time.sleep(1)\n",
    "\n",
    "                                contents_web = driver.find_elements(\"xpath\",\"//div[@class='bbWrapper']\")\n",
    "                                for content in contents_web:\n",
    "                                    contents_list.append(content.text)\n",
    "                                    titles_list.append(driver.find_element(\"xpath\",\"//h1[@class='p-title-value']\").text)\n",
    "                                    urls_list.append(row.url)\n",
    "                                    aspects_list.append(row.aspect)\n",
    "\n",
    "                                authors_web = driver.find_elements(\"xpath\",\"//a[@class='username ']\")\n",
    "                                for author in authors_web:\n",
    "                                    authors_list.append(author.text)\n",
    "\n",
    "                                timeStamps_web = driver.find_elements(\"xpath\",\"//time[@class='u-dt']\")\n",
    "                                for timeStamp in timeStamps_web:\n",
    "                                    timeStamps_list.append(timeStamp.text)\n",
    "\n",
    "                                memberships_web = driver.find_elements(\"xpath\",\"//h5[@class='userTitle message-userTitle']\")\n",
    "                                for membership in memberships_web:\n",
    "                                    memberships_list.append(membership.text)\n",
    "                                cnt+=1\n",
    "                            except Exception as e: \n",
    "                                flag = False\n",
    "                                cnt = 0\n",
    "                                print(\"Websites Name:\\t\", driver.find_element(\"xpath\",\"//h1[@class='p-title-value']\").text, ', We encounter a problem in this websites or we come the end the this thread')\n",
    "                                time.sleep(1)\n",
    "                        if page_count % 10 == 0:\n",
    "                            #print('10 rows reached')\n",
    "                            driver.close()\n",
    "                            time.sleep(5)\n",
    "                            driver = webdriver.Chrome(service=ChromeService(ChromeDriverManager().install()), options=options)\n",
    "                            driver.set_page_load_timeout(30)\n",
    "                    except TimeoutException as te:\n",
    "                        print(\"TimeoutException occurred:\", str(te))\n",
    "\n",
    "                    # Create a DataFrame and append to CSV\n",
    "                    hardware_zone_df = pd.DataFrame(list(zip(urls_list, titles_list, contents_list,\n",
    "                                                                authors_list, timeStamps_list, memberships_list, aspects_list)),\n",
    "                                                        columns=['url', 'title', 'content', 'author', \n",
    "                                                                    'time_stamp', 'membership', \"aspect\"])\n",
    "                    hardware_zone_df.to_csv(\"E:/Critical Inquiry/Code/Data Scraping/data/hwz_thread_all_data_\" + aspect_term + '.csv', mode='a', index=False, header=False)\n",
    "        except Exception as e:\n",
    "            print(\"An error occurred:\", str(e))\n",
    "\n",
    "    \n",
    "    def search_items(self, aspect_items: list):\n",
    "        for item in aspect_items:\n",
    "            self.getAndSave_url(item)\n",
    "        \n",
    "        self.combine_data()\n",
    "    \n",
    "    def combine_url_data(self):\n",
    "        all_data = glob.glob(os.path.join(\"E:/Critical Inquiry/Code/Data Scraping/data/\", \"hwz_data_*.csv\"))\n",
    "        df_from_each_file = (pd.read_csv(f, sep=',') for f in all_data)\n",
    "        df_merged = pd.concat(df_from_each_file, ignore_index=True)\n",
    "        df_merged.drop_duplicates()\n",
    "        c=0\n",
    "        # Drop noise pages\n",
    "        for index, row in tqdm(df_merged.iterrows()):\n",
    "            cnt = 1\n",
    "            if c == 20:\n",
    "                self.driver.quit()\n",
    "                options = webdriver.ChromeOptions() \n",
    "                options.add_argument('log-level=3')\n",
    "                options.add_argument(\"start-maximized\")\n",
    "                options.add_argument(\"--disable-gpu\")\n",
    "                options.add_argument(\"enable-automation\")\n",
    "                options.add_argument(\"--headless\")\n",
    "                options.add_argument(\"--no-sandbox\")\n",
    "                options.add_argument(\"--disable-dev-shm-usage\")\n",
    "                options.add_argument(\"--disable-browser-side-navigation\")\n",
    "                options.add_experimental_option(\"excludeSwitches\", [\"enable-automation\"])\n",
    "                options.add_experimental_option('useAutomationExtension', False)\n",
    "                options.add_experimental_option('excludeSwitches', ['enable-logging'])\n",
    "                self.driver = webdriver.Chrome(service=ChromeService(ChromeDriverManager().install()), options=options)\n",
    "                c=0\n",
    "            c+=1\n",
    "            self.driver.get(row.url)\n",
    "            try:\n",
    "                pages = self.driver.find_elements(\"xpath\",\"//li[@class='pageNav-page ']/a\")\n",
    "                for page in pages: \n",
    "                    cnt = max(int(page.text), cnt)\n",
    "            except:\n",
    "                cnt = 1\n",
    "                \n",
    "            if cnt >= 100:\n",
    "                df_merged.drop(index, inplace=True)\n",
    "            time.sleep(1)\n",
    "        \n",
    "        df_merged.to_csv(\"E:/Critical Inquiry/Code/Data Scraping/data/hwz_url_data.csv\", index=False)\n",
    "        \n",
    "\n",
    "    def combine_data(self):\n",
    "        all_data = glob.glob(os.path.join(\"E:/Critical Inquiry/Code/Data Scraping/data/\", \"hwz_thread_all_data_*.csv\"))\n",
    "        df_from_each_file = (pd.read_csv(f, header=None, sep=',') for f in all_data)  # Set header=None to read files without column names\n",
    "        df_merged = pd.concat(df_from_each_file, ignore_index=True)\n",
    "        df_merged.drop_duplicates(subset=[df_merged.columns[2]], inplace=True)  # Select the 3rd column by position\n",
    "        df_merged.to_csv(\"E:/Critical Inquiry/Code/Data Scraping/data/hwz_all_data.csv\", index=False)"
   ]
  },
  {
   "cell_type": "code",
   "execution_count": 3,
   "metadata": {},
   "outputs": [
    {
     "name": "stdout",
     "output_type": "stream",
     "text": [
      "All aspect terms:\tdict_keys(['bisexual', 'gay', 'lgbt', 'pink dot', 'pride month', 'section 377A', 'transgender', 'lesbian', 'lgbtq', 'same-sex marriage', 'queer'])\n",
      "Aspect is :\tbisexual\n"
     ]
    },
    {
     "name": "stderr",
     "output_type": "stream",
     "text": [
      "0it [00:00, ?it/s]"
     ]
    },
    {
     "name": "stdout",
     "output_type": "stream",
     "text": [
      "Websites Name:\t Glgt bf broke back with gf father , We encounter a problem in this websites or we come the end the this thread\n"
     ]
    },
    {
     "name": "stderr",
     "output_type": "stream",
     "text": [
      "1it [00:12, 12.54s/it]"
     ]
    },
    {
     "name": "stdout",
     "output_type": "stream",
     "text": [
      "Websites Name:\t Section 377A review: Govt considering how to safeguard 'current legal position on marriage', says Shanmugam , We encounter a problem in this websites or we come the end the this thread\n"
     ]
    },
    {
     "name": "stderr",
     "output_type": "stream",
     "text": [
      "2it [01:00, 33.10s/it]"
     ]
    },
    {
     "name": "stdout",
     "output_type": "stream",
     "text": [
      "Websites Name:\t Singapore debate on LGBTQ rights heats up in test for leaders , We encounter a problem in this websites or we come the end the this thread\n"
     ]
    },
    {
     "name": "stderr",
     "output_type": "stream",
     "text": [
      "3it [01:01, 18.78s/it]"
     ]
    },
    {
     "name": "stdout",
     "output_type": "stream",
     "text": [
      "Websites Name:\t Europe health official warns monkeypox cases could 'accelerate' , We encounter a problem in this websites or we come the end the this thread\n"
     ]
    },
    {
     "name": "stderr",
     "output_type": "stream",
     "text": [
      "4it [01:03, 12.01s/it]"
     ]
    },
    {
     "name": "stdout",
     "output_type": "stream",
     "text": [
      "Websites Name:\t Why is Loki a female? , We encounter a problem in this websites or we come the end the this thread\n"
     ]
    },
    {
     "name": "stderr",
     "output_type": "stream",
     "text": [
      "5it [01:08,  9.49s/it]"
     ]
    },
    {
     "name": "stdout",
     "output_type": "stream",
     "text": [
      "Websites Name:\t [OFFICIAL] 单翼天使 My Guardian Angels, Debuts 6 April 2020, Every Mon - Fri 9pm, Channel 8 , We encounter a problem in this websites or we come the end the this thread\n"
     ]
    },
    {
     "name": "stderr",
     "output_type": "stream",
     "text": [
      "6it [03:30, 54.73s/it]"
     ]
    },
    {
     "name": "stdout",
     "output_type": "stream",
     "text": [
      "Websites Name:\t Stronger laws on religious harmony to take effect on Nov 1 , We encounter a problem in this websites or we come the end the this thread\n"
     ]
    },
    {
     "name": "stderr",
     "output_type": "stream",
     "text": [
      "7it [03:38, 39.15s/it]"
     ]
    },
    {
     "name": "stdout",
     "output_type": "stream",
     "text": [
      "Websites Name:\t TODAY Youth Survey: S'pore youths have confidence in 4G leaders but expect them to be more accepting of different views , We encounter a problem in this websites or we come the end the this thread\n"
     ]
    },
    {
     "name": "stderr",
     "output_type": "stream",
     "text": [
      "8it [03:40, 27.52s/it]"
     ]
    },
    {
     "name": "stdout",
     "output_type": "stream",
     "text": [
      "Websites Name:\t [PSA] Becareful don't read too much Loh Kean Yew news... , We encounter a problem in this websites or we come the end the this thread\n"
     ]
    },
    {
     "name": "stderr",
     "output_type": "stream",
     "text": [
      "9it [03:48, 21.39s/it]"
     ]
    },
    {
     "name": "stdout",
     "output_type": "stream",
     "text": [
      "Websites Name:\t GPGT: Dafug. Jack Neo shortlisted a Lady Boy as one of the cast in Ah Girls Go Army? , We encounter a problem in this websites or we come the end the this thread\n"
     ]
    },
    {
     "name": "stderr",
     "output_type": "stream",
     "text": [
      "10it [04:40, 30.95s/it]"
     ]
    },
    {
     "name": "stdout",
     "output_type": "stream",
     "text": [
      "Websites Name:\t \"When ur dating a girl but ur also a lil bit into men\" Another boleh land concert cancelled!!!! , We encounter a problem in this websites or we come the end the this thread\n"
     ]
    },
    {
     "name": "stderr",
     "output_type": "stream",
     "text": [
      "11it [04:44, 22.53s/it]"
     ]
    },
    {
     "name": "stdout",
     "output_type": "stream",
     "text": [
      "Websites Name:\t After 377A, what will it take for LGBT persons to reconcile their sexuality with their family, faith? , We encounter a problem in this websites or we come the end the this thread\n"
     ]
    },
    {
     "name": "stderr",
     "output_type": "stream",
     "text": [
      "12it [04:46, 16.44s/it]"
     ]
    },
    {
     "name": "stdout",
     "output_type": "stream",
     "text": [
      "Websites Name:\t This year's Gay Games, to be hosted by Hong Kong, is expected to welcome over 30,000 participants and spectators to the city in November. , We encounter a problem in this websites or we come the end the this thread\n"
     ]
    },
    {
     "name": "stderr",
     "output_type": "stream",
     "text": [
      "13it [04:52, 13.24s/it]"
     ]
    },
    {
     "name": "stdout",
     "output_type": "stream",
     "text": [
      "Websites Name:\t Lawrence Wong: As LGBTQ attitudes change, Govt too will consider policy adjustments , We encounter a problem in this websites or we come the end the this thread\n"
     ]
    },
    {
     "name": "stderr",
     "output_type": "stream",
     "text": [
      "14it [04:54,  9.77s/it]"
     ]
    },
    {
     "name": "stdout",
     "output_type": "stream",
     "text": [
      "Websites Name:\t 🌈 6 people aged 19 to 41 given police warnings for protest outside MOE 🌈 , We encounter a problem in this websites or we come the end the this thread\n"
     ]
    },
    {
     "name": "stderr",
     "output_type": "stream",
     "text": [
      "15it [05:02,  9.15s/it]"
     ]
    },
    {
     "name": "stdout",
     "output_type": "stream",
     "text": [
      "Websites Name:\t Man poked underage bro-in-law pigu kena jail & caning , We encounter a problem in this websites or we come the end the this thread\n"
     ]
    },
    {
     "name": "stderr",
     "output_type": "stream",
     "text": [
      "16it [05:16, 10.83s/it]"
     ]
    },
    {
     "name": "stdout",
     "output_type": "stream",
     "text": [
      "Websites Name:\t DC CANCELS gay superman after 18 issues as sales plummeted to just 34,000 last month , We encounter a problem in this websites or we come the end the this thread\n"
     ]
    },
    {
     "name": "stderr",
     "output_type": "stream",
     "text": [
      "17it [05:22,  9.12s/it]"
     ]
    },
    {
     "name": "stdout",
     "output_type": "stream",
     "text": [
      "Websites Name:\t Monkey pix spreading fast and furious around the world, why hah? , We encounter a problem in this websites or we come the end the this thread\n"
     ]
    },
    {
     "name": "stderr",
     "output_type": "stream",
     "text": [
      "18it [05:23,  6.89s/it]"
     ]
    },
    {
     "name": "stdout",
     "output_type": "stream",
     "text": [
      "Websites Name:\t Prof Hsu, NUS: I can think of no really good restrictive measure that will effectively block the spread of monkeypox in Singapore , We encounter a problem in this websites or we come the end the this thread\n"
     ]
    },
    {
     "name": "stderr",
     "output_type": "stream",
     "text": [
      "19it [05:26,  5.52s/it]"
     ]
    },
    {
     "name": "stdout",
     "output_type": "stream",
     "text": [
      "Websites Name:\t Seems like there are more gays than lesbians ?? , We encounter a problem in this websites or we come the end the this thread\n"
     ]
    },
    {
     "name": "stderr",
     "output_type": "stream",
     "text": [
      "20it [05:41,  8.59s/it]"
     ]
    },
    {
     "name": "stdout",
     "output_type": "stream",
     "text": [
      "Websites Name:\t Ex-M'sian minister demands apology after PAS accuses him of being supportive of LGBT community , We encounter a problem in this websites or we come the end the this thread\n"
     ]
    },
    {
     "name": "stderr",
     "output_type": "stream",
     "text": [
      "21it [05:45,  6.99s/it]"
     ]
    },
    {
     "name": "stdout",
     "output_type": "stream",
     "text": [
      "Websites Name:\t 2020 fantasy tv drama 琉璃 Love and Redemption , We encounter a problem in this websites or we come the end the this thread\n"
     ]
    },
    {
     "name": "stderr",
     "output_type": "stream",
     "text": [
      "22it [06:03, 10.43s/it]"
     ]
    },
    {
     "name": "stdout",
     "output_type": "stream",
     "text": [
      "Websites Name:\t Will u consider having a threesome with your gf/wife to keep the relationship fresh? , We encounter a problem in this websites or we come the end the this thread\n"
     ]
    },
    {
     "name": "stderr",
     "output_type": "stream",
     "text": [
      "23it [06:18, 11.77s/it]"
     ]
    },
    {
     "name": "stdout",
     "output_type": "stream",
     "text": [
      "Websites Name:\t 98% of Monkeypox Patients Have Been Men Who Have Sexual Interaction With Men , We encounter a problem in this websites or we come the end the this thread\n"
     ]
    },
    {
     "name": "stderr",
     "output_type": "stream",
     "text": [
      "24it [06:24, 10.14s/it]"
     ]
    },
    {
     "name": "stdout",
     "output_type": "stream",
     "text": [
      "Websites Name:\t Majority of UK’s 366 monkeypox cases are in London , We encounter a problem in this websites or we come the end the this thread\n"
     ]
    },
    {
     "name": "stderr",
     "output_type": "stream",
     "text": [
      "25it [06:26,  7.58s/it]"
     ]
    },
    {
     "name": "stdout",
     "output_type": "stream",
     "text": [
      "Websites Name:\t Malaysia confiscates Swatch watches over ‘LGBT elements’ , We encounter a problem in this websites or we come the end the this thread\n"
     ]
    },
    {
     "name": "stderr",
     "output_type": "stream",
     "text": [
      "26it [06:34,  7.76s/it]"
     ]
    },
    {
     "name": "stdout",
     "output_type": "stream",
     "text": [
      "Websites Name:\t Ladies what would you do if you found out your bf/husband was/is bisexual when he was single? , We encounter a problem in this websites or we come the end the this thread\n"
     ]
    },
    {
     "name": "stderr",
     "output_type": "stream",
     "text": [
      "27it [06:36,  5.93s/it]"
     ]
    },
    {
     "name": "stdout",
     "output_type": "stream",
     "text": [
      "Websites Name:\t News| Govt policies on media content will not alter upon repeal of Section 377A: MCI , We encounter a problem in this websites or we come the end the this thread\n"
     ]
    },
    {
     "name": "stderr",
     "output_type": "stream",
     "text": [
      "28it [06:37,  4.62s/it]"
     ]
    },
    {
     "name": "stdout",
     "output_type": "stream",
     "text": [
      "Websites Name:\t More than 300 teachers, counsellors, social workers urge MOE to support transgender students , We encounter a problem in this websites or we come the end the this thread\n"
     ]
    },
    {
     "name": "stderr",
     "output_type": "stream",
     "text": [
      "29it [06:55,  8.59s/it]"
     ]
    },
    {
     "name": "stdout",
     "output_type": "stream",
     "text": [
      "Websites Name:\t i am not a woman so i cant answer this , We encounter a problem in this websites or we come the end the this thread\n"
     ]
    },
    {
     "name": "stderr",
     "output_type": "stream",
     "text": [
      "30it [07:11, 10.64s/it]"
     ]
    },
    {
     "name": "stdout",
     "output_type": "stream",
     "text": [
      "Websites Name:\t [SAGAT] Transgender student says school barred her again; considering poly route , We encounter a problem in this websites or we come the end the this thread\n"
     ]
    },
    {
     "name": "stderr",
     "output_type": "stream",
     "text": [
      "32it [13:27, 111.54s/it]"
     ]
    },
    {
     "name": "stdout",
     "output_type": "stream",
     "text": [
      "Websites Name:\t Arrest warrant issued for HIV-positive man charged with having sex with 14-year-old girl , We encounter a problem in this websites or we come the end the this thread\n"
     ]
    },
    {
     "name": "stderr",
     "output_type": "stream",
     "text": [
      "33it [13:54, 86.25s/it] "
     ]
    },
    {
     "name": "stdout",
     "output_type": "stream",
     "text": [
      "Websites Name:\t Should LGBTQ activists push for changes in areas such as education & media, will very likely lead to lots of pushback from conservatives... , We encounter a problem in this websites or we come the end the this thread\n"
     ]
    },
    {
     "name": "stderr",
     "output_type": "stream",
     "text": [
      "34it [13:57, 61.21s/it]"
     ]
    },
    {
     "name": "stdout",
     "output_type": "stream",
     "text": [
      "Websites Name:\t Titus Low RAIDED and INVESTIGATED for production of SG porn! BoundBoySG releasing exclusive footage! , We encounter a problem in this websites or we come the end the this thread\n"
     ]
    },
    {
     "name": "stderr",
     "output_type": "stream",
     "text": [
      "35it [34:16, 408.59s/it]"
     ]
    },
    {
     "name": "stdout",
     "output_type": "stream",
     "text": [
      "Websites Name:\t Would you rather have gay son or lesbian daughter ? , We encounter a problem in this websites or we come the end the this thread\n"
     ]
    },
    {
     "name": "stderr",
     "output_type": "stream",
     "text": [
      "36it [34:20, 287.08s/it]"
     ]
    },
    {
     "name": "stdout",
     "output_type": "stream",
     "text": [
      "Websites Name:\t WHO calls emergency meeting as monkeypox cases cross 100 in Europe 🙄🙄🙄🙄🙄 , We encounter a problem in this websites or we come the end the this thread\n"
     ]
    },
    {
     "name": "stderr",
     "output_type": "stream",
     "text": [
      "38it [41:37, 270.93s/it]"
     ]
    },
    {
     "name": "stdout",
     "output_type": "stream",
     "text": [
      "Websites Name:\t [GVGT]Male Lion Mates with Another Male , We encounter a problem in this websites or we come the end the this thread\n"
     ]
    },
    {
     "name": "stderr",
     "output_type": "stream",
     "text": [
      "39it [41:57, 195.71s/it]"
     ]
    },
    {
     "name": "stdout",
     "output_type": "stream",
     "text": [
      "Websites Name:\t Titus Low Teases Engagement to a Mystery Woman; Saying It’s an ‘Unplanned Engagement’ , We encounter a problem in this websites or we come the end the this thread\n"
     ]
    },
    {
     "name": "stderr",
     "output_type": "stream",
     "text": [
      "40it [42:38, 149.36s/it]"
     ]
    },
    {
     "name": "stdout",
     "output_type": "stream",
     "text": [
      "Websites Name:\t [Consolidated] Jackson Wang in Singapore , We encounter a problem in this websites or we come the end the this thread\n"
     ]
    },
    {
     "name": "stderr",
     "output_type": "stream",
     "text": [
      "41it [43:46, 125.00s/it]"
     ]
    },
    {
     "name": "stdout",
     "output_type": "stream",
     "text": [
      "Websites Name:\t on dating app, if a girl says shes bisexual and is a xtian... , We encounter a problem in this websites or we come the end the this thread\n"
     ]
    },
    {
     "name": "stderr",
     "output_type": "stream",
     "text": [
      "42it [43:48, 88.01s/it] "
     ]
    },
    {
     "name": "stdout",
     "output_type": "stream",
     "text": [
      "Websites Name:\t Singapore Catholic Church says marriage is between man and woman but it respects dignity of LGBTQ people , We encounter a problem in this websites or we come the end the this thread\n"
     ]
    },
    {
     "name": "stderr",
     "output_type": "stream",
     "text": [
      "43it [43:56, 64.17s/it]"
     ]
    },
    {
     "name": "stdout",
     "output_type": "stream",
     "text": [
      "Websites Name:\t Gay - Applies to man only or both man and woman?? , We encounter a problem in this websites or we come the end the this thread\n"
     ]
    },
    {
     "name": "stderr",
     "output_type": "stream",
     "text": [
      "44it [43:59, 45.66s/it]"
     ]
    },
    {
     "name": "stdout",
     "output_type": "stream",
     "text": [
      "Websites Name:\t Disney's attempt at inclusivity, with Colombian actor Rachel Zegler cast in Snow White adaptation , We encounter a problem in this websites or we come the end the this thread\n"
     ]
    },
    {
     "name": "stderr",
     "output_type": "stream",
     "text": [
      "45it [44:16, 37.10s/it]"
     ]
    },
    {
     "name": "stdout",
     "output_type": "stream",
     "text": [
      "Websites Name:\t Pu Yi's Patek Philippe watch for sale , We encounter a problem in this websites or we come the end the this thread\n"
     ]
    },
    {
     "name": "stderr",
     "output_type": "stream",
     "text": [
      "46it [44:27, 29.30s/it]"
     ]
    },
    {
     "name": "stdout",
     "output_type": "stream",
     "text": [
      "Websites Name:\t 6 men who challenged Section 377A in the courts said they were elated & relieved & still in a state of shock & disbelief... , We encounter a problem in this websites or we come the end the this thread\n"
     ]
    },
    {
     "name": "stderr",
     "output_type": "stream",
     "text": [
      "47it [44:29, 21.02s/it]"
     ]
    },
    {
     "name": "stdout",
     "output_type": "stream",
     "text": [
      "Websites Name:\t Meet the bold, beautiful men of Singapore – the next gay capital of Asia , We encounter a problem in this websites or we come the end the this thread\n"
     ]
    },
    {
     "name": "stderr",
     "output_type": "stream",
     "text": [
      "48it [44:36, 16.98s/it]"
     ]
    },
    {
     "name": "stdout",
     "output_type": "stream",
     "text": [
      "Websites Name:\t [Code Black] Sauna Like Temperatures In Singapore At Night , We encounter a problem in this websites or we come the end the this thread\n"
     ]
    },
    {
     "name": "stderr",
     "output_type": "stream",
     "text": [
      "49it [44:39, 12.70s/it]"
     ]
    },
    {
     "name": "stdout",
     "output_type": "stream",
     "text": [
      "Websites Name:\t The Crown, Netflix. Thoughts and Opinions , We encounter a problem in this websites or we come the end the this thread\n"
     ]
    },
    {
     "name": "stderr",
     "output_type": "stream",
     "text": [
      "50it [44:55, 13.62s/it]"
     ]
    },
    {
     "name": "stdout",
     "output_type": "stream",
     "text": [
      "Websites Name:\t Pride just get bigger, LGBT is now LGBTQIA+ , We encounter a problem in this websites or we come the end the this thread\n"
     ]
    },
    {
     "name": "stderr",
     "output_type": "stream",
     "text": [
      "51it [45:16, 15.89s/it]"
     ]
    },
    {
     "name": "stdout",
     "output_type": "stream",
     "text": [
      "Websites Name:\t Boy boy with his sugar daddy KYM? , We encounter a problem in this websites or we come the end the this thread\n"
     ]
    },
    {
     "name": "stderr",
     "output_type": "stream",
     "text": [
      "52it [45:23, 13.35s/it]"
     ]
    },
    {
     "name": "stdout",
     "output_type": "stream",
     "text": [
      "Websites Name:\t In SG, phrases such as ‘Chinese only’, ‘No Malay’ and ‘No Indian’ are a common sight on the gay apps , We encounter a problem in this websites or we come the end the this thread\n"
     ]
    },
    {
     "name": "stderr",
     "output_type": "stream",
     "text": [
      "53it [45:32, 11.87s/it]"
     ]
    },
    {
     "name": "stdout",
     "output_type": "stream",
     "text": [
      "Websites Name:\t Ellen Page becomes like that liao , We encounter a problem in this websites or we come the end the this thread\n"
     ]
    },
    {
     "name": "stderr",
     "output_type": "stream",
     "text": [
      "54it [45:42, 11.30s/it]"
     ]
    },
    {
     "name": "stdout",
     "output_type": "stream",
     "text": [
      "Websites Name:\t Pink Dot SG: Impt to remember anyone can catch the disease. Stigma deters ppl from coming forward get tested & puts all of us at risk... , We encounter a problem in this websites or we come the end the this thread\n"
     ]
    },
    {
     "name": "stderr",
     "output_type": "stream",
     "text": [
      "55it [45:47,  9.45s/it]"
     ]
    },
    {
     "name": "stdout",
     "output_type": "stream",
     "text": [
      "Websites Name:\t LGBT community unlikely to 'seek same-sex marriage or to redefine families', should 377A be repealed , We encounter a problem in this websites or we come the end the this thread\n"
     ]
    },
    {
     "name": "stderr",
     "output_type": "stream",
     "text": [
      "56it [45:57,  9.76s/it]"
     ]
    },
    {
     "name": "stdout",
     "output_type": "stream",
     "text": [
      "Websites Name:\t [GLGT]Those who have received their second booster should be offered a booster dose of the bivalent vaccine around 5 months after their last booster , We encounter a problem in this websites or we come the end the this thread\n"
     ]
    },
    {
     "name": "stderr",
     "output_type": "stream",
     "text": [
      "57it [46:03,  8.42s/it]"
     ]
    },
    {
     "name": "stdout",
     "output_type": "stream",
     "text": [
      "Websites Name:\t Pelosi calls on Singapore businesses to support LGBTQ groups , We encounter a problem in this websites or we come the end the this thread\n"
     ]
    },
    {
     "name": "stderr",
     "output_type": "stream",
     "text": [
      "58it [46:11,  8.33s/it]"
     ]
    },
    {
     "name": "stdout",
     "output_type": "stream",
     "text": [
      "Websites Name:\t What’s gender neutral?......was just reading an article and this was mentioned... , We encounter a problem in this websites or we come the end the this thread\n"
     ]
    },
    {
     "name": "stderr",
     "output_type": "stream",
     "text": [
      "59it [46:13,  6.49s/it]"
     ]
    },
    {
     "name": "stdout",
     "output_type": "stream",
     "text": [
      "Websites Name:\t ‘Stay... stand up for what you believe in’: Janil Puthucheary tells LGBTQ youths thinking of leaving Singapore , We encounter a problem in this websites or we come the end the this thread\n"
     ]
    },
    {
     "name": "stderr",
     "output_type": "stream",
     "text": [
      "60it [46:40, 12.73s/it]"
     ]
    },
    {
     "name": "stdout",
     "output_type": "stream",
     "text": [
      "Websites Name:\t Do you believe a straight man will choose a gay as lifelong partner? , We encounter a problem in this websites or we come the end the this thread\n"
     ]
    },
    {
     "name": "stderr",
     "output_type": "stream",
     "text": [
      "61it [46:52, 12.57s/it]"
     ]
    },
    {
     "name": "stdout",
     "output_type": "stream",
     "text": [
      "Websites Name:\t any of u got LGBT siblings at home? , We encounter a problem in this websites or we come the end the this thread\n"
     ]
    },
    {
     "name": "stderr",
     "output_type": "stream",
     "text": [
      "63it [51:46, 93.92s/it]"
     ]
    },
    {
     "name": "stdout",
     "output_type": "stream",
     "text": [
      "Websites Name:\t Why married men liao can become GAY one??? Kena wat , We encounter a problem in this websites or we come the end the this thread\n"
     ]
    },
    {
     "name": "stderr",
     "output_type": "stream",
     "text": [
      "64it [51:56, 68.85s/it]"
     ]
    },
    {
     "name": "stdout",
     "output_type": "stream",
     "text": [
      "Websites Name:\t V unwise for Govt to repeal 377A which criminalises sex between men, until & unless robust safeguards in place especially for sake of our children , We encounter a problem in this websites or we come the end the this thread\n"
     ]
    },
    {
     "name": "stderr",
     "output_type": "stream",
     "text": [
      "65it [52:15, 54.00s/it]"
     ]
    },
    {
     "name": "stdout",
     "output_type": "stream",
     "text": [
      "Websites Name:\t Possible to retire from full time job with this amount in CPF at age 55? , We encounter a problem in this websites or we come the end the this thread\n"
     ]
    },
    {
     "name": "stderr",
     "output_type": "stream",
     "text": [
      "67it [1:00:00, 160.23s/it]"
     ]
    },
    {
     "name": "stdout",
     "output_type": "stream",
     "text": [
      "Websites Name:\t Do you think you are 100% straight? , We encounter a problem in this websites or we come the end the this thread\n"
     ]
    },
    {
     "name": "stderr",
     "output_type": "stream",
     "text": [
      "68it [1:00:20, 118.18s/it]"
     ]
    },
    {
     "name": "stdout",
     "output_type": "stream",
     "text": [
      "Websites Name:\t What's the benefits of being married? , We encounter a problem in this websites or we come the end the this thread\n"
     ]
    },
    {
     "name": "stderr",
     "output_type": "stream",
     "text": [
      "69it [1:02:28, 121.31s/it]"
     ]
    },
    {
     "name": "stdout",
     "output_type": "stream",
     "text": [
      "Websites Name:\t Miss Universe Philippines Michelle Dee comes out as ‘loud and proud’ bisexual , We encounter a problem in this websites or we come the end the this thread\n"
     ]
    },
    {
     "name": "stderr",
     "output_type": "stream",
     "text": [
      "70it [1:02:43, 89.39s/it] "
     ]
    },
    {
     "name": "stdout",
     "output_type": "stream",
     "text": [
      "Websites Name:\t Man who called Judge a boomer and told him to watch out after verdict on 377A jailed , We encounter a problem in this websites or we come the end the this thread\n"
     ]
    },
    {
     "name": "stderr",
     "output_type": "stream",
     "text": [
      "71it [1:02:53, 65.55s/it]"
     ]
    },
    {
     "name": "stdout",
     "output_type": "stream",
     "text": [
      "Websites Name:\t DC Comics reveal that latest Superman character is bisexual , We encounter a problem in this websites or we come the end the this thread\n"
     ]
    },
    {
     "name": "stderr",
     "output_type": "stream",
     "text": [
      "72it [1:02:55, 46.52s/it]"
     ]
    },
    {
     "name": "stdout",
     "output_type": "stream",
     "text": [
      "Websites Name:\t To tackle the spread of monkeypox in Singapore, MOH says it's reaching out to at-risk groups, including those engaging in \"high-risk sexual activities , We encounter a problem in this websites or we come the end the this thread\n"
     ]
    },
    {
     "name": "stderr",
     "output_type": "stream",
     "text": [
      "73it [1:03:06, 35.80s/it]"
     ]
    },
    {
     "name": "stdout",
     "output_type": "stream",
     "text": [
      "Websites Name:\t My married guy colleague jio me go staycation , We encounter a problem in this websites or we come the end the this thread\n"
     ]
    },
    {
     "name": "stderr",
     "output_type": "stream",
     "text": [
      "75it [1:08:03, 105.95s/it]"
     ]
    },
    {
     "name": "stdout",
     "output_type": "stream",
     "text": [
      "Websites Name:\t Sjws attack lesbians for not wanting to have sex with trans women , We encounter a problem in this websites or we come the end the this thread\n"
     ]
    },
    {
     "name": "stderr",
     "output_type": "stream",
     "text": [
      "76it [1:08:06, 75.19s/it] "
     ]
    },
    {
     "name": "stdout",
     "output_type": "stream",
     "text": [
      "Websites Name:\t [Tanjong Pagar BMW crash] no Coroner’s report? , We encounter a problem in this websites or we come the end the this thread\n"
     ]
    },
    {
     "name": "stderr",
     "output_type": "stream",
     "text": [
      "77it [1:09:11, 71.96s/it]"
     ]
    },
    {
     "name": "stdout",
     "output_type": "stream",
     "text": [
      "Websites Name:\t what is this da bian that i'm reading? , We encounter a problem in this websites or we come the end the this thread\n"
     ]
    },
    {
     "name": "stderr",
     "output_type": "stream",
     "text": [
      "78it [1:09:14, 51.36s/it]"
     ]
    },
    {
     "name": "stdout",
     "output_type": "stream",
     "text": [
      "Websites Name:\t The flight attendant had largely remained in hotel room, except to visit a massage establishment & eat at 3 food establishments on 16 June , We encounter a problem in this websites or we come the end the this thread\n"
     ]
    },
    {
     "name": "stderr",
     "output_type": "stream",
     "text": [
      "79it [1:10:17, 54.76s/it]"
     ]
    },
    {
     "name": "stdout",
     "output_type": "stream",
     "text": [
      "Websites Name:\t Men's Formal Work Bag Recommendation , We encounter a problem in this websites or we come the end the this thread\n"
     ]
    },
    {
     "name": "stderr",
     "output_type": "stream",
     "text": [
      "80it [1:12:07, 71.30s/it]"
     ]
    },
    {
     "name": "stdout",
     "output_type": "stream",
     "text": [
      "Websites Name:\t Woman goes to police after people yanked her pride flag twice , We encounter a problem in this websites or we come the end the this thread\n"
     ]
    },
    {
     "name": "stderr",
     "output_type": "stream",
     "text": [
      "81it [1:12:10, 50.84s/it]"
     ]
    },
    {
     "name": "stdout",
     "output_type": "stream",
     "text": [
      "Websites Name:\t 48 yr British AMDK rashes at anus pigu + 41 yr old Sg man rashes at KKJ both kenna Monkeypox !!!! , We encounter a problem in this websites or we come the end the this thread\n"
     ]
    },
    {
     "name": "stderr",
     "output_type": "stream",
     "text": [
      "82it [1:12:25, 40.14s/it]"
     ]
    },
    {
     "name": "stdout",
     "output_type": "stream",
     "text": [
      "Websites Name:\t 1000 years later, if people chanced on EDMWers, don't know what they will think of the people here , We encounter a problem in this websites or we come the end the this thread\n"
     ]
    },
    {
     "name": "stderr",
     "output_type": "stream",
     "text": [
      "83it [1:12:28, 28.86s/it]"
     ]
    },
    {
     "name": "stdout",
     "output_type": "stream",
     "text": [
      "Websites Name:\t Man jailed for sex offences against 12-year-old boy he met on Grindr, offered him money , We encounter a problem in this websites or we come the end the this thread\n"
     ]
    },
    {
     "name": "stderr",
     "output_type": "stream",
     "text": [
      "84it [1:12:38, 23.28s/it]"
     ]
    },
    {
     "name": "stdout",
     "output_type": "stream",
     "text": [
      "Websites Name:\t LGBTQ+ people, looks like 377a will be repealed! , We encounter a problem in this websites or we come the end the this thread\n"
     ]
    },
    {
     "name": "stderr",
     "output_type": "stream",
     "text": [
      "85it [1:12:56, 21.84s/it]"
     ]
    },
    {
     "name": "stdout",
     "output_type": "stream",
     "text": [
      "Websites Name:\t Latest acronym for LGBT , We encounter a problem in this websites or we come the end the this thread\n"
     ]
    },
    {
     "name": "stderr",
     "output_type": "stream",
     "text": [
      "86it [1:13:06, 18.20s/it]"
     ]
    },
    {
     "name": "stdout",
     "output_type": "stream",
     "text": [
      "Websites Name:\t BREAKING: Johnny Depp say Amber Heard pangsai on his bed , We encounter a problem in this websites or we come the end the this thread\n"
     ]
    },
    {
     "name": "stderr",
     "output_type": "stream",
     "text": [
      "87it [1:13:25, 18.35s/it]"
     ]
    },
    {
     "name": "stdout",
     "output_type": "stream",
     "text": [
      "Websites Name:\t Recently talk to my niece about life.. she suddenly mentioned next time when she grows up want to marry Ang Mohs.. , We encounter a problem in this websites or we come the end the this thread\n"
     ]
    },
    {
     "name": "stderr",
     "output_type": "stream",
     "text": [
      "88it [1:13:39, 17.06s/it]"
     ]
    },
    {
     "name": "stdout",
     "output_type": "stream",
     "text": [
      "Websites Name:\t 'Doctor Strange' sequel is banned in Saudi Arabia over key LGBTQ superhero , We encounter a problem in this websites or we come the end the this thread\n"
     ]
    },
    {
     "name": "stderr",
     "output_type": "stream",
     "text": [
      "89it [1:13:47, 14.57s/it]"
     ]
    },
    {
     "name": "stdout",
     "output_type": "stream",
     "text": [
      "Websites Name:\t Republican congressman exposed as LGBT , We encounter a problem in this websites or we come the end the this thread\n"
     ]
    },
    {
     "name": "stderr",
     "output_type": "stream",
     "text": [
      "90it [1:14:00, 13.82s/it]"
     ]
    },
    {
     "name": "stdout",
     "output_type": "stream",
     "text": [
      "Websites Name:\t Monkeypox could spread well beyond communities of gay and bisexual men, WHO says , We encounter a problem in this websites or we come the end the this thread\n"
     ]
    },
    {
     "name": "stderr",
     "output_type": "stream",
     "text": [
      "91it [1:14:11, 13.23s/it]"
     ]
    },
    {
     "name": "stdout",
     "output_type": "stream",
     "text": [
      "Websites Name:\t [LOL @pinkdot man] Man jailed for inciting violence, threatening judge who dismissed 377A challenges , We encounter a problem in this websites or we come the end the this thread\n"
     ]
    },
    {
     "name": "stderr",
     "output_type": "stream",
     "text": [
      "92it [1:14:14,  9.98s/it]"
     ]
    },
    {
     "name": "stdout",
     "output_type": "stream",
     "text": [
      "Websites Name:\t Explainer: Why monkeypox is not a 'gay disease', yet the queer community needs to heed the health risks , We encounter a problem in this websites or we come the end the this thread\n"
     ]
    },
    {
     "name": "stderr",
     "output_type": "stream",
     "text": [
      "93it [1:14:21,  9.28s/it]"
     ]
    },
    {
     "name": "stdout",
     "output_type": "stream",
     "text": [
      "Websites Name:\t 𝗖𝘂𝗿𝗿𝗲𝗻𝘁 𝗟𝗮𝘄𝘀 𝗜𝗻𝗮𝗱𝗲𝗾𝘂𝗮𝘁𝗲 𝘁𝗼 𝗔𝗱𝗱𝗿𝗲𝘀𝘀 𝗖𝗮𝗻𝗰𝗲𝗹 𝗖𝘂𝗹𝘁𝘂𝗿𝗲 , We encounter a problem in this websites or we come the end the this thread\n"
     ]
    },
    {
     "name": "stderr",
     "output_type": "stream",
     "text": [
      "94it [1:14:23,  6.99s/it]"
     ]
    },
    {
     "name": "stdout",
     "output_type": "stream",
     "text": [
      "Websites Name:\t Aaron Yan aka 炎亚纶 from 飞轮海 dio daiji , We encounter a problem in this websites or we come the end the this thread\n"
     ]
    },
    {
     "name": "stderr",
     "output_type": "stream",
     "text": [
      "95it [1:15:06, 17.80s/it]"
     ]
    },
    {
     "name": "stdout",
     "output_type": "stream",
     "text": [
      "Websites Name:\t Hugh Jackman Hints at Wolverine Return in the MCU , We encounter a problem in this websites or we come the end the this thread\n"
     ]
    },
    {
     "name": "stderr",
     "output_type": "stream",
     "text": [
      "96it [1:15:08, 13.16s/it]"
     ]
    },
    {
     "name": "stdout",
     "output_type": "stream",
     "text": [
      "Websites Name:\t Would you rather have gay son or bisexual son ? , We encounter a problem in this websites or we come the end the this thread\n"
     ]
    },
    {
     "name": "stderr",
     "output_type": "stream",
     "text": [
      "97it [1:15:10,  9.75s/it]"
     ]
    },
    {
     "name": "stdout",
     "output_type": "stream",
     "text": [
      "Websites Name:\t LGBTQ-themed arts performances in public spaces in line with the times: National Arts Council chief , We encounter a problem in this websites or we come the end the this thread\n"
     ]
    },
    {
     "name": "stderr",
     "output_type": "stream",
     "text": [
      "98it [1:15:12,  7.32s/it]"
     ]
    },
    {
     "name": "stdout",
     "output_type": "stream",
     "text": [
      "Websites Name:\t Why some guy wear earrings on one side , some on both side ? , We encounter a problem in this websites or we come the end the this thread\n"
     ]
    },
    {
     "name": "stderr",
     "output_type": "stream",
     "text": [
      "99it [1:15:14,  5.70s/it]"
     ]
    },
    {
     "name": "stdout",
     "output_type": "stream",
     "text": [
      "Websites Name:\t [GVGT]Why this Queer American Girl became a Porn Star in Japan , We encounter a problem in this websites or we come the end the this thread\n"
     ]
    },
    {
     "name": "stderr",
     "output_type": "stream",
     "text": [
      "1034it [1:15:27,  4.38s/it]\n"
     ]
    },
    {
     "name": "stdout",
     "output_type": "stream",
     "text": [
      "Aspect is :\tgay\n"
     ]
    },
    {
     "name": "stderr",
     "output_type": "stream",
     "text": [
      "0it [00:00, ?it/s]"
     ]
    },
    {
     "name": "stdout",
     "output_type": "stream",
     "text": [
      "Websites Name:\t How can you be born 'gay' ? , We encounter a problem in this websites or we come the end the this thread\n"
     ]
    },
    {
     "name": "stderr",
     "output_type": "stream",
     "text": [
      "101it [00:06, 15.32it/s]"
     ]
    },
    {
     "name": "stdout",
     "output_type": "stream",
     "text": [
      "Websites Name:\t when interviewing how to find out if the person is gay , We encounter a problem in this websites or we come the end the this thread\n"
     ]
    },
    {
     "name": "stderr",
     "output_type": "stream",
     "text": [
      "101it [00:21, 15.32it/s]"
     ]
    },
    {
     "name": "stdout",
     "output_type": "stream",
     "text": [
      "Websites Name:\t Tan Kin Lian says being gay is \"natural\" , We encounter a problem in this websites or we come the end the this thread\n"
     ]
    },
    {
     "name": "stderr",
     "output_type": "stream",
     "text": [
      "103it [00:23,  3.43it/s]"
     ]
    },
    {
     "name": "stdout",
     "output_type": "stream",
     "text": [
      "Websites Name:\t [GPGT] Spa Day with EDMWer on His Birthday, kym? , We encounter a problem in this websites or we come the end the this thread\n"
     ]
    },
    {
     "name": "stderr",
     "output_type": "stream",
     "text": [
      "104it [00:46,  1.37it/s]"
     ]
    },
    {
     "name": "stdout",
     "output_type": "stream",
     "text": [
      "Websites Name:\t will you become gay after being single for too long? , We encounter a problem in this websites or we come the end the this thread\n"
     ]
    },
    {
     "name": "stderr",
     "output_type": "stream",
     "text": [
      "105it [00:54,  1.08it/s]"
     ]
    },
    {
     "name": "stdout",
     "output_type": "stream",
     "text": [
      "Websites Name:\t Joanna Theng Says Gay Pride Is Satan's Influence , We encounter a problem in this websites or we come the end the this thread\n"
     ]
    },
    {
     "name": "stderr",
     "output_type": "stream",
     "text": [
      "106it [01:42,  2.69s/it]"
     ]
    },
    {
     "name": "stdout",
     "output_type": "stream",
     "text": [
      "Websites Name:\t Anyone watched this Taiwanese Gay movie? 刻在你心底的名字 , We encounter a problem in this websites or we come the end the this thread\n"
     ]
    },
    {
     "name": "stderr",
     "output_type": "stream",
     "text": [
      "107it [02:07,  3.79s/it]"
     ]
    },
    {
     "name": "stdout",
     "output_type": "stream",
     "text": [
      "Websites Name:\t My guide to spotting gays in public , We encounter a problem in this websites or we come the end the this thread\n"
     ]
    },
    {
     "name": "stderr",
     "output_type": "stream",
     "text": [
      "108it [02:20,  4.42s/it]"
     ]
    },
    {
     "name": "stdout",
     "output_type": "stream",
     "text": [
      "Websites Name:\t just now for the gay incident i kena, i went to the NPC, the officer said , We encounter a problem in this websites or we come the end the this thread\n"
     ]
    },
    {
     "name": "stderr",
     "output_type": "stream",
     "text": [
      "109it [02:32,  5.00s/it]"
     ]
    },
    {
     "name": "stdout",
     "output_type": "stream",
     "text": [
      "Websites Name:\t [GPGT] MasterChef Singapore winner Jonathan Chew tio exposed.. , We encounter a problem in this websites or we come the end the this thread\n"
     ]
    },
    {
     "name": "stderr",
     "output_type": "stream",
     "text": [
      "110it [03:08,  8.52s/it]"
     ]
    },
    {
     "name": "stdout",
     "output_type": "stream",
     "text": [
      "An error occurred: Message: element not interactable\n",
      "  (Session info: chrome=121.0.6167.161)\n",
      "Stacktrace:\n",
      "\tGetHandleVerifier [0x00651673+52979]\n",
      "\t(No symbol) [0x005D7961]\n",
      "\t(No symbol) [0x004BDC00]\n",
      "\t(No symbol) [0x004F6F63]\n",
      "\t(No symbol) [0x004EE010]\n",
      "\t(No symbol) [0x005144EC]\n",
      "\t(No symbol) [0x004EDA4E]\n",
      "\t(No symbol) [0x00514784]\n",
      "\t(No symbol) [0x0052B3FE]\n",
      "\t(No symbol) [0x00514286]\n",
      "\t(No symbol) [0x004EC063]\n",
      "\t(No symbol) [0x004ECECD]\n",
      "\tGetHandleVerifier [0x00968D83+3294723]\n",
      "\tGetHandleVerifier [0x009A6CC2+3548482]\n",
      "\tGetHandleVerifier [0x009A1C9C+3527964]\n",
      "\tGetHandleVerifier [0x006E870E+671630]\n",
      "\t(No symbol) [0x005E1EB4]\n",
      "\t(No symbol) [0x005DD808]\n",
      "\t(No symbol) [0x005DD92D]\n",
      "\t(No symbol) [0x005CF7E0]\n",
      "\tBaseThreadInitThunk [0x75EF7BA9+25]\n",
      "\tRtlInitializeExceptionChain [0x7722BD2B+107]\n",
      "\tRtlClearBits [0x7722BCAF+191]\n",
      "\n",
      "Websites Name:\t Gay is born with it or become gay? , We encounter a problem in this websites or we come the end the this thread\n"
     ]
    },
    {
     "name": "stderr",
     "output_type": "stream",
     "text": [
      "111it [03:17,  8.55s/it]"
     ]
    },
    {
     "name": "stdout",
     "output_type": "stream",
     "text": [
      "Websites Name:\t Gay question for my friend: poker and pokee , We encounter a problem in this websites or we come the end the this thread\n"
     ]
    },
    {
     "name": "stderr",
     "output_type": "stream",
     "text": [
      "112it [03:19,  7.47s/it]"
     ]
    },
    {
     "name": "stdout",
     "output_type": "stream",
     "text": [
      "Websites Name:\t Anyone watched this Taiwanese Gay movie? 刻在你心底的名字 , We encounter a problem in this websites or we come the end the this thread\n"
     ]
    },
    {
     "name": "stderr",
     "output_type": "stream",
     "text": [
      "113it [03:45, 10.95s/it]"
     ]
    },
    {
     "name": "stdout",
     "output_type": "stream",
     "text": [
      "Websites Name:\t Viral WA message allegations on oppo candidates and gay rights , We encounter a problem in this websites or we come the end the this thread\n"
     ]
    },
    {
     "name": "stderr",
     "output_type": "stream",
     "text": [
      "114it [03:50,  9.81s/it]"
     ]
    },
    {
     "name": "stdout",
     "output_type": "stream",
     "text": [
      "Websites Name:\t Is weight lifting glove and wrist band for gay only? , We encounter a problem in this websites or we come the end the this thread\n"
     ]
    },
    {
     "name": "stderr",
     "output_type": "stream",
     "text": [
      "115it [03:56,  8.72s/it]"
     ]
    },
    {
     "name": "stdout",
     "output_type": "stream",
     "text": [
      "Websites Name:\t My friend follow his gay friend on insta. But he also follow his bf , We encounter a problem in this websites or we come the end the this thread\n"
     ]
    },
    {
     "name": "stderr",
     "output_type": "stream",
     "text": [
      "116it [03:58,  7.16s/it]"
     ]
    },
    {
     "name": "stdout",
     "output_type": "stream",
     "text": [
      "Websites Name:\t Why y'all said Romeo Tan is gay , We encounter a problem in this websites or we come the end the this thread\n"
     ]
    },
    {
     "name": "stderr",
     "output_type": "stream",
     "text": [
      "117it [04:03,  6.56s/it]"
     ]
    },
    {
     "name": "stdout",
     "output_type": "stream",
     "text": [
      "Websites Name:\t If declare gay, need to serve NS? , We encounter a problem in this websites or we come the end the this thread\n"
     ]
    },
    {
     "name": "stderr",
     "output_type": "stream",
     "text": [
      "118it [04:11,  6.95s/it]"
     ]
    },
    {
     "name": "stdout",
     "output_type": "stream",
     "text": [
      "Websites Name:\t How I Dealt With Homophobia In NS & University As A Gay Singaporean , We encounter a problem in this websites or we come the end the this thread\n"
     ]
    },
    {
     "name": "stderr",
     "output_type": "stream",
     "text": [
      "119it [04:32, 10.85s/it]"
     ]
    },
    {
     "name": "stdout",
     "output_type": "stream",
     "text": [
      "Websites Name:\t How do you ensure that your children don’t turn out gay? , We encounter a problem in this websites or we come the end the this thread\n"
     ]
    },
    {
     "name": "stderr",
     "output_type": "stream",
     "text": [
      "120it [04:52, 13.51s/it]"
     ]
    },
    {
     "name": "stdout",
     "output_type": "stream",
     "text": [
      "Websites Name:\t How come 许振荣 Dasmond Koh so old le, never hear he got girlfriend or get married? , We encounter a problem in this websites or we come the end the this thread\n"
     ]
    },
    {
     "name": "stderr",
     "output_type": "stream",
     "text": [
      "121it [05:07, 13.82s/it]"
     ]
    },
    {
     "name": "stdout",
     "output_type": "stream",
     "text": [
      "Websites Name:\t New Superman is gay , We encounter a problem in this websites or we come the end the this thread\n"
     ]
    },
    {
     "name": "stderr",
     "output_type": "stream",
     "text": [
      "122it [05:29, 16.45s/it]"
     ]
    },
    {
     "name": "stdout",
     "output_type": "stream",
     "text": [
      "Websites Name:\t Tw allow gay couple to adopt little girl , We encounter a problem in this websites or we come the end the this thread\n"
     ]
    },
    {
     "name": "stderr",
     "output_type": "stream",
     "text": [
      "123it [05:49, 17.53s/it]"
     ]
    },
    {
     "name": "stdout",
     "output_type": "stream",
     "text": [
      "Websites Name:\t issit okay for straight person to enjoy watching gay/lesbian activities , We encounter a problem in this websites or we come the end the this thread\n"
     ]
    },
    {
     "name": "stderr",
     "output_type": "stream",
     "text": [
      "124it [05:57, 14.57s/it]"
     ]
    },
    {
     "name": "stdout",
     "output_type": "stream",
     "text": [
      "Websites Name:\t Joanna Theng Says Gay Pride Is Satan's Influence , We encounter a problem in this websites or we come the end the this thread\n"
     ]
    },
    {
     "name": "stderr",
     "output_type": "stream",
     "text": [
      "125it [06:45, 24.45s/it]"
     ]
    },
    {
     "name": "stdout",
     "output_type": "stream",
     "text": [
      "Websites Name:\t Is it gay if you ask your girlfriend to eat your... , We encounter a problem in this websites or we come the end the this thread\n"
     ]
    },
    {
     "name": "stderr",
     "output_type": "stream",
     "text": [
      "126it [06:47, 17.92s/it]"
     ]
    },
    {
     "name": "stdout",
     "output_type": "stream",
     "text": [
      "Websites Name:\t How do u turn down a gay's advances tactfully when he is ur customer? , We encounter a problem in this websites or we come the end the this thread\n"
     ]
    },
    {
     "name": "stderr",
     "output_type": "stream",
     "text": [
      "127it [07:03, 17.15s/it]"
     ]
    },
    {
     "name": "stdout",
     "output_type": "stream",
     "text": [
      "Websites Name:\t How can you be born 'gay' ? , We encounter a problem in this websites or we come the end the this thread\n"
     ]
    },
    {
     "name": "stderr",
     "output_type": "stream",
     "text": [
      "128it [07:08, 13.67s/it]"
     ]
    },
    {
     "name": "stdout",
     "output_type": "stream",
     "text": [
      "Websites Name:\t Tw allow gay couple to adopt little girl , We encounter a problem in this websites or we come the end the this thread\n"
     ]
    },
    {
     "name": "stderr",
     "output_type": "stream",
     "text": [
      "129it [07:28, 15.55s/it]"
     ]
    },
    {
     "name": "stdout",
     "output_type": "stream",
     "text": [
      "Websites Name:\t If a gay teacher teaches gay's right, being gay is acceptable, ok to be gay vs if a straight teacher teaches that gay is not natural and man-woman is , We encounter a problem in this websites or we come the end the this thread\n"
     ]
    },
    {
     "name": "stderr",
     "output_type": "stream",
     "text": [
      "130it [07:40, 14.54s/it]"
     ]
    },
    {
     "name": "stdout",
     "output_type": "stream",
     "text": [
      "Websites Name:\t Do you think it is dangerous for a gay to adopt a son? , We encounter a problem in this websites or we come the end the this thread\n"
     ]
    },
    {
     "name": "stderr",
     "output_type": "stream",
     "text": [
      "131it [07:59, 15.86s/it]"
     ]
    },
    {
     "name": "stdout",
     "output_type": "stream",
     "text": [
      "Websites Name:\t Would you accept ang pow from your gay cousin and his 'husband'? , We encounter a problem in this websites or we come the end the this thread\n"
     ]
    },
    {
     "name": "stderr",
     "output_type": "stream",
     "text": [
      "132it [08:07, 13.53s/it]"
     ]
    },
    {
     "name": "stdout",
     "output_type": "stream",
     "text": [
      "Websites Name:\t [Nostalgic] Who remembers this legend?! Hard Gay! , We encounter a problem in this websites or we come the end the this thread\n"
     ]
    },
    {
     "name": "stderr",
     "output_type": "stream",
     "text": [
      "133it [08:13, 11.22s/it]"
     ]
    },
    {
     "name": "stdout",
     "output_type": "stream",
     "text": [
      "Websites Name:\t GAY THIS SURNAME IS CHINESE IS WHAT? , We encounter a problem in this websites or we come the end the this thread\n"
     ]
    },
    {
     "name": "stderr",
     "output_type": "stream",
     "text": [
      "134it [08:19,  9.56s/it]"
     ]
    },
    {
     "name": "stdout",
     "output_type": "stream",
     "text": [
      "Websites Name:\t GAY vs LES, who is more aggresive in LGBT agenda? , We encounter a problem in this websites or we come the end the this thread\n"
     ]
    },
    {
     "name": "stderr",
     "output_type": "stream",
     "text": [
      "135it [08:24,  8.20s/it]"
     ]
    },
    {
     "name": "stdout",
     "output_type": "stream",
     "text": [
      "Websites Name:\t anyone like me don't have a single gay friend , We encounter a problem in this websites or we come the end the this thread\n"
     ]
    },
    {
     "name": "stderr",
     "output_type": "stream",
     "text": [
      "136it [08:26,  6.36s/it]"
     ]
    },
    {
     "name": "stdout",
     "output_type": "stream",
     "text": [
      "Websites Name:\t How will gay community ''celebrate'' tonight? , We encounter a problem in this websites or we come the end the this thread\n"
     ]
    },
    {
     "name": "stderr",
     "output_type": "stream",
     "text": [
      "137it [08:34,  6.82s/it]"
     ]
    },
    {
     "name": "stdout",
     "output_type": "stream",
     "text": [
      "Websites Name:\t Tw allow gay couple to adopt little girl , We encounter a problem in this websites or we come the end the this thread\n"
     ]
    },
    {
     "name": "stderr",
     "output_type": "stream",
     "text": [
      "138it [08:54, 10.71s/it]"
     ]
    },
    {
     "name": "stdout",
     "output_type": "stream",
     "text": [
      "Websites Name:\t Joanna Theng Says Gay Pride Is Satan's Influence , We encounter a problem in this websites or we come the end the this thread\n"
     ]
    },
    {
     "name": "stderr",
     "output_type": "stream",
     "text": [
      "139it [09:44, 22.70s/it]"
     ]
    },
    {
     "name": "stdout",
     "output_type": "stream",
     "text": [
      "Websites Name:\t Would you rather have gay son or lesbian daughter ? , We encounter a problem in this websites or we come the end the this thread\n"
     ]
    },
    {
     "name": "stderr",
     "output_type": "stream",
     "text": [
      "140it [09:57, 19.65s/it]"
     ]
    },
    {
     "name": "stdout",
     "output_type": "stream",
     "text": [
      "An error occurred: Message: element not interactable\n",
      "  (Session info: chrome=121.0.6167.161)\n",
      "Stacktrace:\n",
      "\tGetHandleVerifier [0x00651673+52979]\n",
      "\t(No symbol) [0x005D7961]\n",
      "\t(No symbol) [0x004BDC00]\n",
      "\t(No symbol) [0x004F6F63]\n",
      "\t(No symbol) [0x004EE010]\n",
      "\t(No symbol) [0x005144EC]\n",
      "\t(No symbol) [0x004EDA4E]\n",
      "\t(No symbol) [0x00514784]\n",
      "\t(No symbol) [0x0052B3FE]\n",
      "\t(No symbol) [0x00514286]\n",
      "\t(No symbol) [0x004EC063]\n",
      "\t(No symbol) [0x004ECECD]\n",
      "\tGetHandleVerifier [0x00968D83+3294723]\n",
      "\tGetHandleVerifier [0x009A6CC2+3548482]\n",
      "\tGetHandleVerifier [0x009A1C9C+3527964]\n",
      "\tGetHandleVerifier [0x006E870E+671630]\n",
      "\t(No symbol) [0x005E1EB4]\n",
      "\t(No symbol) [0x005DD808]\n",
      "\t(No symbol) [0x005DD92D]\n",
      "\t(No symbol) [0x005CF7E0]\n",
      "\tBaseThreadInitThunk [0x75EF7BA9+25]\n",
      "\tRtlInitializeExceptionChain [0x7722BD2B+107]\n",
      "\tRtlClearBits [0x7722BCAF+191]\n",
      "\n",
      "Websites Name:\t Gay is born with it or become gay? , We encounter a problem in this websites or we come the end the this thread\n"
     ]
    },
    {
     "name": "stderr",
     "output_type": "stream",
     "text": [
      "141it [10:07, 16.91s/it]"
     ]
    },
    {
     "name": "stdout",
     "output_type": "stream",
     "text": [
      "Websites Name:\t knn... gay porn ad pop out on YouTube. some amdk stroking his wee wee , We encounter a problem in this websites or we come the end the this thread\n"
     ]
    },
    {
     "name": "stderr",
     "output_type": "stream",
     "text": [
      "142it [10:25, 17.11s/it]"
     ]
    },
    {
     "name": "stdout",
     "output_type": "stream",
     "text": [
      "Websites Name:\t Bye 377A: It is Finally Legal to be GAY in Singapore! , We encounter a problem in this websites or we come the end the this thread\n"
     ]
    },
    {
     "name": "stderr",
     "output_type": "stream",
     "text": [
      "143it [10:33, 14.36s/it]"
     ]
    },
    {
     "name": "stdout",
     "output_type": "stream",
     "text": [
      "Websites Name:\t What's your view on gay? , We encounter a problem in this websites or we come the end the this thread\n"
     ]
    },
    {
     "name": "stderr",
     "output_type": "stream",
     "text": [
      "144it [10:43, 13.04s/it]"
     ]
    },
    {
     "name": "stdout",
     "output_type": "stream",
     "text": [
      "Websites Name:\t have u ever accidentally discover that someone was gay or kana discovered? , We encounter a problem in this websites or we come the end the this thread\n"
     ]
    },
    {
     "name": "stderr",
     "output_type": "stream",
     "text": [
      "145it [10:51, 11.57s/it]"
     ]
    },
    {
     "name": "stdout",
     "output_type": "stream",
     "text": [
      "Websites Name:\t Gay - Applies to man only or both man and woman?? , We encounter a problem in this websites or we come the end the this thread\n"
     ]
    },
    {
     "name": "stderr",
     "output_type": "stream",
     "text": [
      "146it [10:53,  8.71s/it]"
     ]
    },
    {
     "name": "stdout",
     "output_type": "stream",
     "text": [
      "Websites Name:\t Suddenly every MP got gay friend/relative/family/dog/cat/mouse? , We encounter a problem in this websites or we come the end the this thread\n"
     ]
    },
    {
     "name": "stderr",
     "output_type": "stream",
     "text": [
      "147it [10:58,  7.68s/it]"
     ]
    },
    {
     "name": "stdout",
     "output_type": "stream",
     "text": [
      "Websites Name:\t How to know if you are gay. PSA. , We encounter a problem in this websites or we come the end the this thread\n"
     ]
    },
    {
     "name": "stderr",
     "output_type": "stream",
     "text": [
      "148it [11:01,  6.19s/it]"
     ]
    },
    {
     "name": "stdout",
     "output_type": "stream",
     "text": [
      "Websites Name:\t New Superman is gay , We encounter a problem in this websites or we come the end the this thread\n"
     ]
    },
    {
     "name": "stderr",
     "output_type": "stream",
     "text": [
      "149it [11:25, 11.47s/it]"
     ]
    },
    {
     "name": "stdout",
     "output_type": "stream",
     "text": [
      "Websites Name:\t No girl want me...even gay boy avoid me...how like that , We encounter a problem in this websites or we come the end the this thread\n"
     ]
    },
    {
     "name": "stderr",
     "output_type": "stream",
     "text": [
      "150it [11:43, 13.55s/it]"
     ]
    },
    {
     "name": "stdout",
     "output_type": "stream",
     "text": [
      "Websites Name:\t How I Dealt With Homophobia In NS & University As A Gay Singaporean , We encounter a problem in this websites or we come the end the this thread\n"
     ]
    },
    {
     "name": "stderr",
     "output_type": "stream",
     "text": [
      "151it [11:54, 12.87s/it]"
     ]
    },
    {
     "name": "stdout",
     "output_type": "stream",
     "text": [
      "Websites Name:\t What will you do if your gay cousin brought his boyfriend to your house 拜年??? , We encounter a problem in this websites or we come the end the this thread\n"
     ]
    },
    {
     "name": "stderr",
     "output_type": "stream",
     "text": [
      "152it [11:59, 10.43s/it]"
     ]
    },
    {
     "name": "stdout",
     "output_type": "stream",
     "text": [
      "Websites Name:\t Im an NSF. Im straight. , We encounter a problem in this websites or we come the end the this thread\n"
     ]
    },
    {
     "name": "stderr",
     "output_type": "stream",
     "text": [
      "153it [12:04,  8.89s/it]"
     ]
    },
    {
     "name": "stdout",
     "output_type": "stream",
     "text": [
      "Websites Name:\t Anyone still remember Razor Ramon aka Hard Gay? , We encounter a problem in this websites or we come the end the this thread\n"
     ]
    },
    {
     "name": "stderr",
     "output_type": "stream",
     "text": [
      "154it [12:10,  7.89s/it]"
     ]
    },
    {
     "name": "stdout",
     "output_type": "stream",
     "text": [
      "Websites Name:\t At what age did you begin to realise you might be gay , We encounter a problem in this websites or we come the end the this thread\n"
     ]
    },
    {
     "name": "stderr",
     "output_type": "stream",
     "text": [
      "155it [12:20,  8.57s/it]"
     ]
    },
    {
     "name": "stdout",
     "output_type": "stream",
     "text": [
      "Websites Name:\t At what age did you begin to realise you might be gay , We encounter a problem in this websites or we come the end the this thread\n"
     ]
    },
    {
     "name": "stderr",
     "output_type": "stream",
     "text": [
      "156it [12:31,  9.12s/it]"
     ]
    },
    {
     "name": "stdout",
     "output_type": "stream",
     "text": [
      "Websites Name:\t Uh no. SG #1 gay forum no money maintaining forum... Maybe gone 4ever. Pls support , We encounter a problem in this websites or we come the end the this thread\n"
     ]
    },
    {
     "name": "stderr",
     "output_type": "stream",
     "text": [
      "157it [12:43, 10.23s/it]"
     ]
    },
    {
     "name": "stdout",
     "output_type": "stream",
     "text": [
      "Websites Name:\t are the men that **** ladyboys in JAV gay? , We encounter a problem in this websites or we come the end the this thread\n"
     ]
    },
    {
     "name": "stderr",
     "output_type": "stream",
     "text": [
      "158it [12:51,  9.54s/it]"
     ]
    },
    {
     "name": "stdout",
     "output_type": "stream",
     "text": [
      "Websites Name:\t why in sg most gay are uncle or old ppl? , We encounter a problem in this websites or we come the end the this thread\n"
     ]
    },
    {
     "name": "stderr",
     "output_type": "stream",
     "text": [
      "159it [12:54,  7.43s/it]"
     ]
    },
    {
     "name": "stdout",
     "output_type": "stream",
     "text": [
      "Websites Name:\t Tw allow gay couple to adopt little girl , We encounter a problem in this websites or we come the end the this thread\n"
     ]
    },
    {
     "name": "stderr",
     "output_type": "stream",
     "text": [
      "160it [13:25, 14.54s/it]"
     ]
    },
    {
     "name": "stdout",
     "output_type": "stream",
     "text": [
      "Websites Name:\t How do you ensure that your children don’t turn out gay? , We encounter a problem in this websites or we come the end the this thread\n"
     ]
    },
    {
     "name": "stderr",
     "output_type": "stream",
     "text": [
      "161it [13:38, 14.10s/it]"
     ]
    },
    {
     "name": "stdout",
     "output_type": "stream",
     "text": [
      "Websites Name:\t is it possible for a straight guy to suddenly become gay? , We encounter a problem in this websites or we come the end the this thread\n"
     ]
    },
    {
     "name": "stderr",
     "output_type": "stream",
     "text": [
      "162it [13:43, 11.43s/it]"
     ]
    },
    {
     "name": "stdout",
     "output_type": "stream",
     "text": [
      "Websites Name:\t Have u heard of a gay seduce a married man with wife and kid before? , We encounter a problem in this websites or we come the end the this thread\n"
     ]
    },
    {
     "name": "stderr",
     "output_type": "stream",
     "text": [
      "163it [13:53, 10.89s/it]"
     ]
    },
    {
     "name": "stdout",
     "output_type": "stream",
     "text": [
      "Websites Name:\t Do you think it is dangerous for a gay to adopt a son? , We encounter a problem in this websites or we come the end the this thread\n"
     ]
    },
    {
     "name": "stderr",
     "output_type": "stream",
     "text": [
      "164it [14:07, 11.98s/it]"
     ]
    },
    {
     "name": "stdout",
     "output_type": "stream",
     "text": [
      "Websites Name:\t Can you tell if someone is gay or a lesbian ?? , We encounter a problem in this websites or we come the end the this thread\n"
     ]
    },
    {
     "name": "stderr",
     "output_type": "stream",
     "text": [
      "165it [14:15, 10.72s/it]"
     ]
    },
    {
     "name": "stdout",
     "output_type": "stream",
     "text": [
      "Websites Name:\t Chao gay Lou Come in ....can I check is the clementi toilet legend true or csb , We encounter a problem in this websites or we come the end the this thread\n"
     ]
    },
    {
     "name": "stderr",
     "output_type": "stream",
     "text": [
      "166it [14:18,  8.31s/it]"
     ]
    },
    {
     "name": "stdout",
     "output_type": "stream",
     "text": [
      "Websites Name:\t Two Gay Edmwers Dating ??!! , We encounter a problem in this websites or we come the end the this thread\n"
     ]
    },
    {
     "name": "stderr",
     "output_type": "stream",
     "text": [
      "167it [14:31,  9.76s/it]"
     ]
    },
    {
     "name": "stdout",
     "output_type": "stream",
     "text": [
      "Websites Name:\t Why married men liao can become GAY one??? Kena wat , We encounter a problem in this websites or we come the end the this thread\n"
     ]
    },
    {
     "name": "stderr",
     "output_type": "stream",
     "text": [
      "168it [14:39,  9.14s/it]"
     ]
    },
    {
     "name": "stdout",
     "output_type": "stream",
     "text": [
      "Websites Name:\t My guide to spotting gays in public , We encounter a problem in this websites or we come the end the this thread\n"
     ]
    },
    {
     "name": "stderr",
     "output_type": "stream",
     "text": [
      "169it [14:52, 10.40s/it]"
     ]
    },
    {
     "name": "stdout",
     "output_type": "stream",
     "text": [
      "Websites Name:\t Edmw gays can I ask can gay switch top n bottom one? , We encounter a problem in this websites or we come the end the this thread\n"
     ]
    },
    {
     "name": "stderr",
     "output_type": "stream",
     "text": [
      "170it [15:04, 10.95s/it]"
     ]
    },
    {
     "name": "stdout",
     "output_type": "stream",
     "text": [
      "Websites Name:\t How come now SAFRA so dangerous? SAFRA become blowing wind forum gay hotspot , We encounter a problem in this websites or we come the end the this thread\n"
     ]
    },
    {
     "name": "stderr",
     "output_type": "stream",
     "text": [
      "171it [15:26, 14.15s/it]"
     ]
    },
    {
     "name": "stdout",
     "output_type": "stream",
     "text": [
      "Websites Name:\t When you see gay couples or guys holding hands, do you cringe? 😵‍💫 , We encounter a problem in this websites or we come the end the this thread\n"
     ]
    },
    {
     "name": "stderr",
     "output_type": "stream",
     "text": [
      "172it [15:36, 12.84s/it]"
     ]
    },
    {
     "name": "stdout",
     "output_type": "stream",
     "text": [
      "Websites Name:\t Is it gay and straight guys have diff taste in woman ?? , We encounter a problem in this websites or we come the end the this thread\n"
     ]
    },
    {
     "name": "stderr",
     "output_type": "stream",
     "text": [
      "173it [15:38,  9.78s/it]"
     ]
    },
    {
     "name": "stdout",
     "output_type": "stream",
     "text": [
      "Websites Name:\t [gpgt] Taiwan actor thinks Elvin ng is gay! Saga in the making! , We encounter a problem in this websites or we come the end the this thread\n"
     ]
    },
    {
     "name": "stderr",
     "output_type": "stream",
     "text": [
      "174it [15:44,  8.42s/it]"
     ]
    },
    {
     "name": "stdout",
     "output_type": "stream",
     "text": [
      "Websites Name:\t When you see gay couples or guys holding hands, do you cringe? 😵‍💫 , We encounter a problem in this websites or we come the end the this thread\n"
     ]
    },
    {
     "name": "stderr",
     "output_type": "stream",
     "text": [
      "175it [15:53,  8.84s/it]"
     ]
    },
    {
     "name": "stdout",
     "output_type": "stream",
     "text": [
      "Websites Name:\t [ST] - Is it ok for gay teachers to come out in class? , We encounter a problem in this websites or we come the end the this thread\n"
     ]
    },
    {
     "name": "stderr",
     "output_type": "stream",
     "text": [
      "176it [16:08, 10.55s/it]"
     ]
    },
    {
     "name": "stdout",
     "output_type": "stream",
     "text": [
      "Websites Name:\t What are the brands gay like to wear? , We encounter a problem in this websites or we come the end the this thread\n"
     ]
    },
    {
     "name": "stderr",
     "output_type": "stream",
     "text": [
      "177it [16:15,  9.60s/it]"
     ]
    },
    {
     "name": "stdout",
     "output_type": "stream",
     "text": [
      "Websites Name:\t Do you think it is dangerous for a gay to adopt a son? , We encounter a problem in this websites or we come the end the this thread\n"
     ]
    },
    {
     "name": "stderr",
     "output_type": "stream",
     "text": [
      "178it [16:30, 11.18s/it]"
     ]
    },
    {
     "name": "stdout",
     "output_type": "stream",
     "text": [
      "Websites Name:\t How does EDMW feel/treat gays or even gay members here? , We encounter a problem in this websites or we come the end the this thread\n"
     ]
    },
    {
     "name": "stderr",
     "output_type": "stream",
     "text": [
      "179it [16:44, 11.99s/it]"
     ]
    },
    {
     "name": "stdout",
     "output_type": "stream",
     "text": [
      "Websites Name:\t Top gun is a gay story? , We encounter a problem in this websites or we come the end the this thread\n"
     ]
    },
    {
     "name": "stderr",
     "output_type": "stream",
     "text": [
      "180it [16:57, 12.20s/it]"
     ]
    },
    {
     "name": "stdout",
     "output_type": "stream",
     "text": [
      "Websites Name:\t I have a colonoscopy next wednesday, need advice from gay bros here. , We encounter a problem in this websites or we come the end the this thread\n"
     ]
    },
    {
     "name": "stderr",
     "output_type": "stream",
     "text": [
      "181it [17:09, 12.17s/it]"
     ]
    },
    {
     "name": "stdout",
     "output_type": "stream",
     "text": [
      "Websites Name:\t How does EDMW feel/treat gays or even gay members here? , We encounter a problem in this websites or we come the end the this thread\n"
     ]
    },
    {
     "name": "stderr",
     "output_type": "stream",
     "text": [
      "182it [17:22, 12.32s/it]"
     ]
    },
    {
     "name": "stdout",
     "output_type": "stream",
     "text": [
      "Websites Name:\t have u ever accidentally discover that someone was gay or kana discovered? , We encounter a problem in this websites or we come the end the this thread\n"
     ]
    },
    {
     "name": "stderr",
     "output_type": "stream",
     "text": [
      "183it [17:29, 10.94s/it]"
     ]
    },
    {
     "name": "stdout",
     "output_type": "stream",
     "text": [
      "Websites Name:\t knn... gay porn ad pop out on YouTube. some amdk stroking his wee wee , We encounter a problem in this websites or we come the end the this thread\n"
     ]
    },
    {
     "name": "stderr",
     "output_type": "stream",
     "text": [
      "184it [17:47, 12.90s/it]"
     ]
    },
    {
     "name": "stdout",
     "output_type": "stream",
     "text": [
      "Websites Name:\t GPGT - CHW jin muscle siol , We encounter a problem in this websites or we come the end the this thread\n"
     ]
    },
    {
     "name": "stderr",
     "output_type": "stream",
     "text": [
      "185it [18:03, 13.83s/it]"
     ]
    },
    {
     "name": "stdout",
     "output_type": "stream",
     "text": [
      "Websites Name:\t Uh no. SG #1 gay forum no money maintaining forum... Maybe gone 4ever. Pls support , We encounter a problem in this websites or we come the end the this thread\n"
     ]
    },
    {
     "name": "stderr",
     "output_type": "stream",
     "text": [
      "186it [18:16, 13.53s/it]"
     ]
    },
    {
     "name": "stdout",
     "output_type": "stream",
     "text": [
      "Websites Name:\t when interviewing how to find out if the person is gay , We encounter a problem in this websites or we come the end the this thread\n"
     ]
    },
    {
     "name": "stderr",
     "output_type": "stream",
     "text": [
      "187it [18:24, 11.90s/it]"
     ]
    },
    {
     "name": "stdout",
     "output_type": "stream",
     "text": [
      "Websites Name:\t have you ever wondered why you're gay , We encounter a problem in this websites or we come the end the this thread\n"
     ]
    },
    {
     "name": "stderr",
     "output_type": "stream",
     "text": [
      "188it [18:27,  9.30s/it]"
     ]
    },
    {
     "name": "stdout",
     "output_type": "stream",
     "text": [
      "Websites Name:\t Has the number of gays increased in recent years , We encounter a problem in this websites or we come the end the this thread\n"
     ]
    },
    {
     "name": "stderr",
     "output_type": "stream",
     "text": [
      "189it [18:35,  8.92s/it]"
     ]
    },
    {
     "name": "stdout",
     "output_type": "stream",
     "text": [
      "Websites Name:\t When you see gay couples or guys holding hands, do you cringe? 😵‍💫 , We encounter a problem in this websites or we come the end the this thread\n"
     ]
    },
    {
     "name": "stderr",
     "output_type": "stream",
     "text": [
      "190it [18:55, 12.28s/it]"
     ]
    },
    {
     "name": "stdout",
     "output_type": "stream",
     "text": [
      "Websites Name:\t If Singapore wants to retain and attract gay talent, she has no choice but to make her society more LGBT-friendly. , We encounter a problem in this websites or we come the end the this thread\n"
     ]
    },
    {
     "name": "stderr",
     "output_type": "stream",
     "text": [
      "191it [19:04, 11.43s/it]"
     ]
    },
    {
     "name": "stdout",
     "output_type": "stream",
     "text": [
      "Websites Name:\t got this Taiwan actor 林哲熹 acted as gay in a few shows, act until quite convincing , We encounter a problem in this websites or we come the end the this thread\n"
     ]
    },
    {
     "name": "stderr",
     "output_type": "stream",
     "text": [
      "192it [19:07,  8.85s/it]"
     ]
    },
    {
     "name": "stdout",
     "output_type": "stream",
     "text": [
      "Websites Name:\t Need to fine CNA for showing gay kiss , We encounter a problem in this websites or we come the end the this thread\n"
     ]
    },
    {
     "name": "stderr",
     "output_type": "stream",
     "text": [
      "193it [19:14,  8.11s/it]"
     ]
    },
    {
     "name": "stdout",
     "output_type": "stream",
     "text": [
      "Websites Name:\t No girl want me...even gay boy avoid me...how like that , We encounter a problem in this websites or we come the end the this thread\n"
     ]
    },
    {
     "name": "stderr",
     "output_type": "stream",
     "text": [
      "194it [19:21,  7.93s/it]"
     ]
    },
    {
     "name": "stdout",
     "output_type": "stream",
     "text": [
      "Websites Name:\t LGBT party canceled due to Singapore management being ‘uncomfortable’ with ‘gay event’ , We encounter a problem in this websites or we come the end the this thread\n"
     ]
    },
    {
     "name": "stderr",
     "output_type": "stream",
     "text": [
      "195it [19:33,  9.06s/it]"
     ]
    },
    {
     "name": "stdout",
     "output_type": "stream",
     "text": [
      "Websites Name:\t GAYDAR: Guys mistaken to be gay, but actually straight and married. , We encounter a problem in this websites or we come the end the this thread\n"
     ]
    },
    {
     "name": "stderr",
     "output_type": "stream",
     "text": [
      "196it [19:36,  7.21s/it]"
     ]
    },
    {
     "name": "stdout",
     "output_type": "stream",
     "text": [
      "Websites Name:\t why so many weird gay people in sg? , We encounter a problem in this websites or we come the end the this thread\n"
     ]
    },
    {
     "name": "stderr",
     "output_type": "stream",
     "text": [
      "197it [19:44,  7.43s/it]"
     ]
    },
    {
     "name": "stdout",
     "output_type": "stream",
     "text": [
      "Websites Name:\t Tan Kin Lian says being gay is \"natural\" , We encounter a problem in this websites or we come the end the this thread\n"
     ]
    },
    {
     "name": "stderr",
     "output_type": "stream",
     "text": [
      "198it [19:52,  7.60s/it]"
     ]
    },
    {
     "name": "stdout",
     "output_type": "stream",
     "text": [
      "Websites Name:\t How I Dealt With Homophobia In NS & University As A Gay Singaporean , We encounter a problem in this websites or we come the end the this thread\n"
     ]
    },
    {
     "name": "stderr",
     "output_type": "stream",
     "text": [
      "199it [20:00,  7.65s/it]"
     ]
    },
    {
     "name": "stdout",
     "output_type": "stream",
     "text": [
      "Websites Name:\t Joanna Theng Says Gay Pride Is Satan's Influence , We encounter a problem in this websites or we come the end the this thread\n"
     ]
    },
    {
     "name": "stderr",
     "output_type": "stream",
     "text": [
      "1034it [20:59,  1.22s/it]\n"
     ]
    },
    {
     "name": "stdout",
     "output_type": "stream",
     "text": [
      "Aspect is :\tlgbt\n"
     ]
    },
    {
     "name": "stderr",
     "output_type": "stream",
     "text": [
      "0it [00:00, ?it/s]"
     ]
    },
    {
     "name": "stdout",
     "output_type": "stream",
     "text": [
      "Websites Name:\t Very disappointed that Mr Lee chose to ignore the LGBTs again , We encounter a problem in this websites or we come the end the this thread\n"
     ]
    },
    {
     "name": "stderr",
     "output_type": "stream",
     "text": [
      "300it [00:14, 20.68it/s]"
     ]
    },
    {
     "name": "stdout",
     "output_type": "stream",
     "text": [
      "Websites Name:\t [GPGT] Most expensive R18 concert ticket at Star Theatre (?) - Thai LGBT Drama \"KinnPorsche The Series World Tour\" , We encounter a problem in this websites or we come the end the this thread\n",
      "Websites Name:\t do modern churches support lgbt? , We encounter a problem in this websites or we come the end the this thread\n"
     ]
    },
    {
     "name": "stderr",
     "output_type": "stream",
     "text": [
      "300it [00:27, 20.68it/s]"
     ]
    },
    {
     "name": "stdout",
     "output_type": "stream",
     "text": [
      "Websites Name:\t MFA reminds US embassy \"not to interfere\" with domestic matters following webinar with LGBT org , We encounter a problem in this websites or we come the end the this thread\n"
     ]
    },
    {
     "name": "stderr",
     "output_type": "stream",
     "text": [
      "303it [00:28,  8.66it/s]"
     ]
    },
    {
     "name": "stdout",
     "output_type": "stream",
     "text": [
      "Websites Name:\t After 377A, what will it take for LGBT persons to reconcile their sexuality with their family, faith? , We encounter a problem in this websites or we come the end the this thread\n"
     ]
    },
    {
     "name": "stderr",
     "output_type": "stream",
     "text": [
      "304it [00:30,  7.92it/s]"
     ]
    },
    {
     "name": "stdout",
     "output_type": "stream",
     "text": [
      "Websites Name:\t  , We encounter a problem in this websites or we come the end the this thread\n"
     ]
    },
    {
     "name": "stderr",
     "output_type": "stream",
     "text": [
      "305it [00:32,  6.94it/s]"
     ]
    },
    {
     "name": "stdout",
     "output_type": "stream",
     "text": [
      "Websites Name:\t 'If you want to be homosexual, do it privately': Tan Kin Lian raises eyebrows with comments on LGBT community , We encounter a problem in this websites or we come the end the this thread\n"
     ]
    },
    {
     "name": "stderr",
     "output_type": "stream",
     "text": [
      "306it [00:56,  2.17it/s]"
     ]
    },
    {
     "name": "stdout",
     "output_type": "stream",
     "text": [
      "Websites Name:\t msia : The LGBT community should be categorised as those with mental health issues , We encounter a problem in this websites or we come the end the this thread\n"
     ]
    },
    {
     "name": "stderr",
     "output_type": "stream",
     "text": [
      "307it [01:01,  1.82it/s]"
     ]
    },
    {
     "name": "stdout",
     "output_type": "stream",
     "text": [
      "Websites Name:\t GLGT Empress have spoken her view about LGBT liao , We encounter a problem in this websites or we come the end the this thread\n"
     ]
    },
    {
     "name": "stderr",
     "output_type": "stream",
     "text": [
      "308it [01:17,  1.07it/s]"
     ]
    },
    {
     "name": "stdout",
     "output_type": "stream",
     "text": [
      "Websites Name:\t [LGBT] A Lesbian Couple’s Singaporean Dream for Legitimacy With a Biological Child , We encounter a problem in this websites or we come the end the this thread\n"
     ]
    },
    {
     "name": "stderr",
     "output_type": "stream",
     "text": [
      "309it [01:42,  1.81s/it]"
     ]
    },
    {
     "name": "stdout",
     "output_type": "stream",
     "text": [
      "Websites Name:\t ‘Act of Revolution’ | Gay kiss on CNA evades Singapore’s ban on LGBT content , We encounter a problem in this websites or we come the end the this thread\n"
     ]
    },
    {
     "name": "stderr",
     "output_type": "stream",
     "text": [
      "310it [01:50,  2.09s/it]"
     ]
    },
    {
     "name": "stdout",
     "output_type": "stream",
     "text": [
      "Websites Name:\t [Consolidated] LGBT protests in front of MOE building threads , We encounter a problem in this websites or we come the end the this thread\n"
     ]
    },
    {
     "name": "stderr",
     "output_type": "stream",
     "text": [
      "311it [02:22,  4.03s/it]"
     ]
    },
    {
     "name": "stdout",
     "output_type": "stream",
     "text": [
      "Websites Name:\t Kuwait criticises US embassy over pro-LGBT tweets , We encounter a problem in this websites or we come the end the this thread\n"
     ]
    },
    {
     "name": "stderr",
     "output_type": "stream",
     "text": [
      "312it [02:24,  3.84s/it]"
     ]
    },
    {
     "name": "stdout",
     "output_type": "stream",
     "text": [
      "Websites Name:\t What does LTK and WP think about 377A and Pink Dot? , We encounter a problem in this websites or we come the end the this thread\n"
     ]
    },
    {
     "name": "stderr",
     "output_type": "stream",
     "text": [
      "313it [02:25,  3.61s/it]"
     ]
    },
    {
     "name": "stdout",
     "output_type": "stream",
     "text": [
      "Websites Name:\t Discriminatory remarks against LGBT during Sec 4 assembly in HCI. , We encounter a problem in this websites or we come the end the this thread\n"
     ]
    },
    {
     "name": "stderr",
     "output_type": "stream",
     "text": [
      "314it [04:34, 20.27s/it]"
     ]
    },
    {
     "name": "stdout",
     "output_type": "stream",
     "text": [
      "Websites Name:\t Discriminatory remarks against LGBT during Sec 4 assembly in HCI. , We encounter a problem in this websites or we come the end the this thread\n"
     ]
    },
    {
     "name": "stderr",
     "output_type": "stream",
     "text": [
      "315it [06:59, 40.41s/it]"
     ]
    },
    {
     "name": "stdout",
     "output_type": "stream",
     "text": [
      "Websites Name:\t Ex-Malaysian Chinese and LGBT Penny Wong will become Australia’s New Foreign Minister , We encounter a problem in this websites or we come the end the this thread\n"
     ]
    },
    {
     "name": "stderr",
     "output_type": "stream",
     "text": [
      "316it [07:02, 33.42s/it]"
     ]
    },
    {
     "name": "stdout",
     "output_type": "stream",
     "text": [
      "Websites Name:\t Discriminatory remarks against LGBT during Sec 4 assembly in HCI. , We encounter a problem in this websites or we come the end the this thread\n"
     ]
    },
    {
     "name": "stderr",
     "output_type": "stream",
     "text": [
      "317it [09:57, 63.15s/it]"
     ]
    },
    {
     "name": "stdout",
     "output_type": "stream",
     "text": [
      "Websites Name:\t [Consolidated] LGBT protests in front of MOE building threads , We encounter a problem in this websites or we come the end the this thread\n"
     ]
    },
    {
     "name": "stderr",
     "output_type": "stream",
     "text": [
      "318it [10:50, 60.71s/it]"
     ]
    },
    {
     "name": "stdout",
     "output_type": "stream",
     "text": [
      "Websites Name:\t [question] if a religious entity reject/terminate a staff cause of LGBT issue, can report MOM? , We encounter a problem in this websites or we come the end the this thread\n"
     ]
    },
    {
     "name": "stderr",
     "output_type": "stream",
     "text": [
      "319it [11:12, 51.18s/it]"
     ]
    },
    {
     "name": "stdout",
     "output_type": "stream",
     "text": [
      "Websites Name:\t LGBT protest outside MOE building , We encounter a problem in this websites or we come the end the this thread\n"
     ]
    },
    {
     "name": "stderr",
     "output_type": "stream",
     "text": [
      "320it [11:26, 41.46s/it]"
     ]
    },
    {
     "name": "stdout",
     "output_type": "stream",
     "text": [
      "Websites Name:\t [poll] Do you treat LGBT colleagues/acquaintance differently? , We encounter a problem in this websites or we come the end the this thread\n"
     ]
    },
    {
     "name": "stderr",
     "output_type": "stream",
     "text": [
      "321it [11:38, 33.47s/it]"
     ]
    },
    {
     "name": "stdout",
     "output_type": "stream",
     "text": [
      "Websites Name:\t Gays really sabo all LGBT, win the battle lose the war , We encounter a problem in this websites or we come the end the this thread\n"
     ]
    },
    {
     "name": "stderr",
     "output_type": "stream",
     "text": [
      "322it [11:51, 27.73s/it]"
     ]
    },
    {
     "name": "stdout",
     "output_type": "stream",
     "text": [
      "Websites Name:\t LGBT girl deported from Bali after LGBT and lifestyle tweets , We encounter a problem in this websites or we come the end the this thread\n"
     ]
    },
    {
     "name": "stderr",
     "output_type": "stream",
     "text": [
      "323it [11:56, 21.31s/it]"
     ]
    },
    {
     "name": "stdout",
     "output_type": "stream",
     "text": [
      "Websites Name:\t Malaysia confiscates Swatch watches over ‘LGBT elements’ , We encounter a problem in this websites or we come the end the this thread\n"
     ]
    },
    {
     "name": "stderr",
     "output_type": "stream",
     "text": [
      "324it [12:05, 17.53s/it]"
     ]
    },
    {
     "name": "stdout",
     "output_type": "stream",
     "text": [
      "Websites Name:\t [poll] Do you treat LGBT colleagues/acquaintance differently? , We encounter a problem in this websites or we come the end the this thread\n"
     ]
    },
    {
     "name": "stderr",
     "output_type": "stream",
     "text": [
      "325it [12:18, 16.18s/it]"
     ]
    },
    {
     "name": "stdout",
     "output_type": "stream",
     "text": [
      "Websites Name:\t GAY vs LES, who is more aggresive in LGBT agenda? , We encounter a problem in this websites or we come the end the this thread\n"
     ]
    },
    {
     "name": "stderr",
     "output_type": "stream",
     "text": [
      "326it [12:22, 12.76s/it]"
     ]
    },
    {
     "name": "stdout",
     "output_type": "stream",
     "text": [
      "Websites Name:\t [History] Crown Prince Li 李 Chengqian 承乾 was LGBT and plot to overthrow his father after the Emperor kill his gay partner , We encounter a problem in this websites or we come the end the this thread\n"
     ]
    },
    {
     "name": "stderr",
     "output_type": "stream",
     "text": [
      "327it [12:28, 10.61s/it]"
     ]
    },
    {
     "name": "stdout",
     "output_type": "stream",
     "text": [
      "Websites Name:\t Discriminatory remarks against LGBT during Sec 4 assembly in HCI. , We encounter a problem in this websites or we come the end the this thread\n"
     ]
    },
    {
     "name": "stderr",
     "output_type": "stream",
     "text": [
      "328it [14:37, 45.91s/it]"
     ]
    },
    {
     "name": "stdout",
     "output_type": "stream",
     "text": [
      "Websites Name:\t Discriminatory remarks against LGBT during Sec 4 assembly in HCI. , We encounter a problem in this websites or we come the end the this thread\n"
     ]
    },
    {
     "name": "stderr",
     "output_type": "stream",
     "text": [
      "329it [17:22, 81.45s/it]"
     ]
    },
    {
     "name": "stdout",
     "output_type": "stream",
     "text": [
      "Websites Name:\t Mask Mandate vs LGBT issues , We encounter a problem in this websites or we come the end the this thread\n"
     ]
    },
    {
     "name": "stderr",
     "output_type": "stream",
     "text": [
      "330it [17:29, 59.07s/it]"
     ]
    },
    {
     "name": "stdout",
     "output_type": "stream",
     "text": [
      "Websites Name:\t Discriminatory remarks against LGBT during Sec 4 assembly in HCI. , We encounter a problem in this websites or we come the end the this thread\n"
     ]
    },
    {
     "name": "stderr",
     "output_type": "stream",
     "text": [
      "331it [19:37, 79.89s/it]"
     ]
    },
    {
     "name": "stdout",
     "output_type": "stream",
     "text": [
      "Websites Name:\t When you allow Pink Dot events, now they even dare to protest. Pink Dot event should be banned , We encounter a problem in this websites or we come the end the this thread\n"
     ]
    },
    {
     "name": "stderr",
     "output_type": "stream",
     "text": [
      "332it [19:46, 58.52s/it]"
     ]
    },
    {
     "name": "stdout",
     "output_type": "stream",
     "text": [
      "Websites Name:\t [REUTERS] Even as Singapore lifts gay sex ban, LGBT families feel little has changed , We encounter a problem in this websites or we come the end the this thread\n"
     ]
    },
    {
     "name": "stderr",
     "output_type": "stream",
     "text": [
      "333it [20:07, 47.39s/it]"
     ]
    },
    {
     "name": "stdout",
     "output_type": "stream",
     "text": [
      "Websites Name:\t [REUTERS] Even as Singapore lifts gay sex ban, LGBT families feel little has changed , We encounter a problem in this websites or we come the end the this thread\n"
     ]
    },
    {
     "name": "stderr",
     "output_type": "stream",
     "text": [
      "334it [20:27, 39.24s/it]"
     ]
    },
    {
     "name": "stdout",
     "output_type": "stream",
     "text": [
      "Websites Name:\t [Consolidated] LGBT protests in front of MOE building threads , We encounter a problem in this websites or we come the end the this thread\n"
     ]
    },
    {
     "name": "stderr",
     "output_type": "stream",
     "text": [
      "335it [21:04, 38.39s/it]"
     ]
    },
    {
     "name": "stdout",
     "output_type": "stream",
     "text": [
      "Websites Name:\t Discriminatory remarks against LGBT during Sec 4 assembly in HCI. , We encounter a problem in this websites or we come the end the this thread\n"
     ]
    },
    {
     "name": "stderr",
     "output_type": "stream",
     "text": [
      "336it [23:44, 75.01s/it]"
     ]
    },
    {
     "name": "stdout",
     "output_type": "stream",
     "text": [
      "Websites Name:\t LGBT girl deported from Bali after LGBT and lifestyle tweets , We encounter a problem in this websites or we come the end the this thread\n"
     ]
    },
    {
     "name": "stderr",
     "output_type": "stream",
     "text": [
      "337it [23:53, 55.02s/it]"
     ]
    },
    {
     "name": "stdout",
     "output_type": "stream",
     "text": [
      "Websites Name:\t <160 media>Repeal of Section 377A a relief but move to protect marriage definition is 'disappointing', say LGBTQ groups , We encounter a problem in this websites or we come the end the this thread\n"
     ]
    },
    {
     "name": "stderr",
     "output_type": "stream",
     "text": [
      "338it [26:17, 81.76s/it]"
     ]
    },
    {
     "name": "stdout",
     "output_type": "stream",
     "text": [
      "Websites Name:\t 'If you want to be homosexual, do it privately': Tan Kin Lian raises eyebrows with comments on LGBT community , We encounter a problem in this websites or we come the end the this thread\n"
     ]
    },
    {
     "name": "stderr",
     "output_type": "stream",
     "text": [
      "339it [27:08, 72.52s/it]"
     ]
    },
    {
     "name": "stdout",
     "output_type": "stream",
     "text": [
      "An error occurred: Message: element click intercepted: Element <button class=\"button--primary button button--ag-yes\">...</button> is not clickable at point (911, 473). Other element would receive the click: <div id=\"sphm_overlay\">...</div>\n",
      "  (Session info: chrome=121.0.6167.161)\n",
      "Stacktrace:\n",
      "\tGetHandleVerifier [0x00651673+52979]\n",
      "\t(No symbol) [0x005D7961]\n",
      "\t(No symbol) [0x004BDD3D]\n",
      "\t(No symbol) [0x004FB79B]\n",
      "\t(No symbol) [0x004F9EB7]\n",
      "\t(No symbol) [0x004F7F1B]\n",
      "\t(No symbol) [0x004F70BD]\n",
      "\t(No symbol) [0x004EE010]\n",
      "\t(No symbol) [0x005144EC]\n",
      "\t(No symbol) [0x004EDA4E]\n",
      "\t(No symbol) [0x00514784]\n",
      "\t(No symbol) [0x0052B3FE]\n",
      "\t(No symbol) [0x00514286]\n",
      "\t(No symbol) [0x004EC063]\n",
      "\t(No symbol) [0x004ECECD]\n",
      "\tGetHandleVerifier [0x00968D83+3294723]\n",
      "\tGetHandleVerifier [0x009A6CC2+3548482]\n",
      "\tGetHandleVerifier [0x009A1C9C+3527964]\n",
      "\tGetHandleVerifier [0x006E870E+671630]\n",
      "\t(No symbol) [0x005E1EB4]\n",
      "\t(No symbol) [0x005DD808]\n",
      "\t(No symbol) [0x005DD92D]\n",
      "\t(No symbol) [0x005CF7E0]\n",
      "\tBaseThreadInitThunk [0x75EF7BA9+25]\n",
      "\tRtlInitializeExceptionChain [0x7722BD2B+107]\n",
      "\tRtlClearBits [0x7722BCAF+191]\n",
      "\n",
      "Websites Name:\t [REUTERS] Even as Singapore lifts gay sex ban, LGBT families feel little has changed , We encounter a problem in this websites or we come the end the this thread\n"
     ]
    },
    {
     "name": "stderr",
     "output_type": "stream",
     "text": [
      "340it [27:32, 58.04s/it]"
     ]
    },
    {
     "name": "stdout",
     "output_type": "stream",
     "text": [
      "Websites Name:\t 'If you want to be homosexual, do it privately': Tan Kin Lian raises eyebrows with comments on LGBT community , We encounter a problem in this websites or we come the end the this thread\n"
     ]
    },
    {
     "name": "stderr",
     "output_type": "stream",
     "text": [
      "341it [27:57, 48.25s/it]"
     ]
    },
    {
     "name": "stdout",
     "output_type": "stream",
     "text": [
      "Websites Name:\t [REUTERS] Even as Singapore lifts gay sex ban, LGBT families feel little has changed , We encounter a problem in this websites or we come the end the this thread\n"
     ]
    },
    {
     "name": "stderr",
     "output_type": "stream",
     "text": [
      "342it [28:18, 39.91s/it]"
     ]
    },
    {
     "name": "stdout",
     "output_type": "stream",
     "text": [
      "Websites Name:\t GLGT Empress have spoken her view about LGBT liao , We encounter a problem in this websites or we come the end the this thread\n"
     ]
    },
    {
     "name": "stderr",
     "output_type": "stream",
     "text": [
      "343it [28:34, 32.81s/it]"
     ]
    },
    {
     "name": "stdout",
     "output_type": "stream",
     "text": [
      "Websites Name:\t Discriminatory remarks against LGBT during Sec 4 assembly in HCI. , We encounter a problem in this websites or we come the end the this thread\n"
     ]
    },
    {
     "name": "stderr",
     "output_type": "stream",
     "text": [
      "344it [30:56, 65.51s/it]"
     ]
    },
    {
     "name": "stdout",
     "output_type": "stream",
     "text": [
      "Websites Name:\t 'If you want to be homosexual, do it privately': Tan Kin Lian raises eyebrows with comments on LGBT community , We encounter a problem in this websites or we come the end the this thread\n"
     ]
    },
    {
     "name": "stderr",
     "output_type": "stream",
     "text": [
      "345it [31:32, 56.56s/it]"
     ]
    },
    {
     "name": "stdout",
     "output_type": "stream",
     "text": [
      "Websites Name:\t George Goh said he will fight for the rights of all Singaporeans. When asked if LGBT couples included, he said \"it's personal, I'll keep it to myself\" , We encounter a problem in this websites or we come the end the this thread\n"
     ]
    },
    {
     "name": "stderr",
     "output_type": "stream",
     "text": [
      "346it [31:56, 46.88s/it]"
     ]
    },
    {
     "name": "stdout",
     "output_type": "stream",
     "text": [
      "Websites Name:\t Should there be a 3rd toilet for LGBT? , We encounter a problem in this websites or we come the end the this thread\n"
     ]
    },
    {
     "name": "stderr",
     "output_type": "stream",
     "text": [
      "347it [32:07, 36.29s/it]"
     ]
    },
    {
     "name": "stdout",
     "output_type": "stream",
     "text": [
      "Websites Name:\t Pride just get bigger, LGBT is now LGBTQIA+ , We encounter a problem in this websites or we come the end the this thread\n"
     ]
    },
    {
     "name": "stderr",
     "output_type": "stream",
     "text": [
      "348it [32:32, 32.63s/it]"
     ]
    },
    {
     "name": "stdout",
     "output_type": "stream",
     "text": [
      "Websites Name:\t Ugandan host asks LGBT activist: \"Why are you gay?\" , We encounter a problem in this websites or we come the end the this thread\n"
     ]
    },
    {
     "name": "stderr",
     "output_type": "stream",
     "text": [
      "349it [32:45, 26.87s/it]"
     ]
    },
    {
     "name": "stdout",
     "output_type": "stream",
     "text": [
      "Websites Name:\t Viral 'conversion clinic' on TikTok is actually 'LGBT-friendly' speakeasy on Neil Road , We encounter a problem in this websites or we come the end the this thread\n"
     ]
    },
    {
     "name": "stderr",
     "output_type": "stream",
     "text": [
      "350it [33:04, 24.50s/it]"
     ]
    },
    {
     "name": "stdout",
     "output_type": "stream",
     "text": [
      "Websites Name:\t [LGBT] A Lesbian Couple’s Singaporean Dream for Legitimacy With a Biological Child , We encounter a problem in this websites or we come the end the this thread\n"
     ]
    },
    {
     "name": "stderr",
     "output_type": "stream",
     "text": [
      "351it [33:19, 21.57s/it]"
     ]
    },
    {
     "name": "stdout",
     "output_type": "stream",
     "text": [
      "Websites Name:\t Discriminatory remarks against LGBT during Sec 4 assembly in HCI. , We encounter a problem in this websites or we come the end the this thread\n"
     ]
    },
    {
     "name": "stderr",
     "output_type": "stream",
     "text": [
      "352it [35:23, 52.38s/it]"
     ]
    },
    {
     "name": "stdout",
     "output_type": "stream",
     "text": [
      "Websites Name:\t any of u got LGBT siblings at home? , We encounter a problem in this websites or we come the end the this thread\n"
     ]
    },
    {
     "name": "stderr",
     "output_type": "stream",
     "text": [
      "353it [35:25, 37.26s/it]"
     ]
    },
    {
     "name": "stdout",
     "output_type": "stream",
     "text": [
      "Websites Name:\t Pride just get bigger, LGBT is now LGBTQIA+ , We encounter a problem in this websites or we come the end the this thread\n"
     ]
    },
    {
     "name": "stderr",
     "output_type": "stream",
     "text": [
      "354it [35:42, 31.14s/it]"
     ]
    },
    {
     "name": "stdout",
     "output_type": "stream",
     "text": [
      "Websites Name:\t [GVGT] LGBT meltdown , We encounter a problem in this websites or we come the end the this thread\n"
     ]
    },
    {
     "name": "stderr",
     "output_type": "stream",
     "text": [
      "355it [35:44, 22.50s/it]"
     ]
    },
    {
     "name": "stdout",
     "output_type": "stream",
     "text": [
      "Websites Name:\t Pride just get bigger, LGBT is now LGBTQIA+ , We encounter a problem in this websites or we come the end the this thread\n"
     ]
    },
    {
     "name": "stderr",
     "output_type": "stream",
     "text": [
      "356it [36:01, 20.87s/it]"
     ]
    },
    {
     "name": "stdout",
     "output_type": "stream",
     "text": [
      "Websites Name:\t M'sian govt app claiming to help LGBT people 'return to nature' , We encounter a problem in this websites or we come the end the this thread\n"
     ]
    },
    {
     "name": "stderr",
     "output_type": "stream",
     "text": [
      "357it [36:03, 15.17s/it]"
     ]
    },
    {
     "name": "stdout",
     "output_type": "stream",
     "text": [
      "Websites Name:\t Govt should bar singles and LGBT from buying hdb , We encounter a problem in this websites or we come the end the this thread\n"
     ]
    },
    {
     "name": "stderr",
     "output_type": "stream",
     "text": [
      "358it [36:14, 13.96s/it]"
     ]
    },
    {
     "name": "stdout",
     "output_type": "stream",
     "text": [
      "Websites Name:\t GLGT Empress have spoken her view about LGBT liao , We encounter a problem in this websites or we come the end the this thread\n"
     ]
    },
    {
     "name": "stderr",
     "output_type": "stream",
     "text": [
      "359it [36:43, 18.40s/it]"
     ]
    },
    {
     "name": "stdout",
     "output_type": "stream",
     "text": [
      "Websites Name:\t Google Play removes M'sian govt app claiming to help LGBT people 'return to nature' , We encounter a problem in this websites or we come the end the this thread\n"
     ]
    },
    {
     "name": "stderr",
     "output_type": "stream",
     "text": [
      "360it [36:47, 14.03s/it]"
     ]
    },
    {
     "name": "stdout",
     "output_type": "stream",
     "text": [
      "Websites Name:\t Malaysia confiscates Swatch watches over ‘LGBT elements’ , We encounter a problem in this websites or we come the end the this thread\n"
     ]
    },
    {
     "name": "stderr",
     "output_type": "stream",
     "text": [
      "361it [36:57, 12.90s/it]"
     ]
    },
    {
     "name": "stdout",
     "output_type": "stream",
     "text": [
      "Websites Name:\t Gender equality - Female, gay and other LGBT must do National Service. , We encounter a problem in this websites or we come the end the this thread\n"
     ]
    },
    {
     "name": "stderr",
     "output_type": "stream",
     "text": [
      "362it [37:19, 15.64s/it]"
     ]
    },
    {
     "name": "stdout",
     "output_type": "stream",
     "text": [
      "Websites Name:\t Should lgbt be allowed to get married and buy flats together , We encounter a problem in this websites or we come the end the this thread\n"
     ]
    },
    {
     "name": "stderr",
     "output_type": "stream",
     "text": [
      "363it [37:29, 13.96s/it]"
     ]
    },
    {
     "name": "stdout",
     "output_type": "stream",
     "text": [
      "Websites Name:\t [Consolidated] LGBT protests in front of MOE building threads , We encounter a problem in this websites or we come the end the this thread\n"
     ]
    },
    {
     "name": "stderr",
     "output_type": "stream",
     "text": [
      "364it [38:03, 19.80s/it]"
     ]
    },
    {
     "name": "stdout",
     "output_type": "stream",
     "text": [
      "Websites Name:\t Gays really sabo all LGBT, win the battle lose the war , We encounter a problem in this websites or we come the end the this thread\n"
     ]
    },
    {
     "name": "stderr",
     "output_type": "stream",
     "text": [
      "365it [38:16, 17.96s/it]"
     ]
    },
    {
     "name": "stdout",
     "output_type": "stream",
     "text": [
      "Websites Name:\t Discriminatory remarks against LGBT during Sec 4 assembly in HCI. , We encounter a problem in this websites or we come the end the this thread\n"
     ]
    },
    {
     "name": "stderr",
     "output_type": "stream",
     "text": [
      "366it [40:32, 53.38s/it]"
     ]
    },
    {
     "name": "stdout",
     "output_type": "stream",
     "text": [
      "Websites Name:\t LGBT community unlikely to 'seek same-sex marriage or to redefine families', should 377A be repealed , We encounter a problem in this websites or we come the end the this thread\n"
     ]
    },
    {
     "name": "stderr",
     "output_type": "stream",
     "text": [
      "367it [40:45, 41.11s/it]"
     ]
    },
    {
     "name": "stdout",
     "output_type": "stream",
     "text": [
      "Websites Name:\t why are so many edmwers against the 377 repeal? , We encounter a problem in this websites or we come the end the this thread\n"
     ]
    },
    {
     "name": "stderr",
     "output_type": "stream",
     "text": [
      "368it [42:41, 63.79s/it]"
     ]
    },
    {
     "name": "stdout",
     "output_type": "stream",
     "text": [
      "Websites Name:\t Iker Casillas: \"I hope you will respect me, I am gay” , We encounter a problem in this websites or we come the end the this thread\n"
     ]
    },
    {
     "name": "stderr",
     "output_type": "stream",
     "text": [
      "369it [43:10, 53.23s/it]"
     ]
    },
    {
     "name": "stdout",
     "output_type": "stream",
     "text": [
      "Websites Name:\t [Consolidated] LGBT protests in front of MOE building threads , We encounter a problem in this websites or we come the end the this thread\n"
     ]
    },
    {
     "name": "stderr",
     "output_type": "stream",
     "text": [
      "370it [43:46, 48.19s/it]"
     ]
    },
    {
     "name": "stdout",
     "output_type": "stream",
     "text": [
      "Websites Name:\t Why all these LGBT cannot be like Kumar ah? Kumar never spread their nonsense agenda and famous , We encounter a problem in this websites or we come the end the this thread\n"
     ]
    },
    {
     "name": "stderr",
     "output_type": "stream",
     "text": [
      "371it [43:52, 35.40s/it]"
     ]
    },
    {
     "name": "stdout",
     "output_type": "stream",
     "text": [
      "Websites Name:\t If LGBT wants to ask for same sex marriage, they should target WC , We encounter a problem in this websites or we come the end the this thread\n"
     ]
    },
    {
     "name": "stderr",
     "output_type": "stream",
     "text": [
      "372it [43:54, 25.42s/it]"
     ]
    },
    {
     "name": "stdout",
     "output_type": "stream",
     "text": [
      "Websites Name:\t Govt should bar singles and LGBT from buying hdb , We encounter a problem in this websites or we come the end the this thread\n"
     ]
    },
    {
     "name": "stderr",
     "output_type": "stream",
     "text": [
      "373it [44:04, 20.87s/it]"
     ]
    },
    {
     "name": "stdout",
     "output_type": "stream",
     "text": [
      "Websites Name:\t what party do the lgbt generally support? , We encounter a problem in this websites or we come the end the this thread\n"
     ]
    },
    {
     "name": "stderr",
     "output_type": "stream",
     "text": [
      "374it [44:06, 15.16s/it]"
     ]
    },
    {
     "name": "stdout",
     "output_type": "stream",
     "text": [
      "Websites Name:\t How come there is no LGBT scandal coming out from parliament since section 377A has been abolished? , We encounter a problem in this websites or we come the end the this thread\n"
     ]
    },
    {
     "name": "stderr",
     "output_type": "stream",
     "text": [
      "375it [44:08, 11.16s/it]"
     ]
    },
    {
     "name": "stdout",
     "output_type": "stream",
     "text": [
      "Websites Name:\t Here the people seem very hostile to lgbt community , We encounter a problem in this websites or we come the end the this thread\n"
     ]
    },
    {
     "name": "stderr",
     "output_type": "stream",
     "text": [
      "376it [44:14,  9.50s/it]"
     ]
    },
    {
     "name": "stdout",
     "output_type": "stream",
     "text": [
      "Websites Name:\t Latest acronym for LGBT , We encounter a problem in this websites or we come the end the this thread\n"
     ]
    },
    {
     "name": "stderr",
     "output_type": "stream",
     "text": [
      "377it [44:23,  9.57s/it]"
     ]
    },
    {
     "name": "stdout",
     "output_type": "stream",
     "text": [
      "Websites Name:\t [poll] Do you treat LGBT colleagues/acquaintance differently? , We encounter a problem in this websites or we come the end the this thread\n"
     ]
    },
    {
     "name": "stderr",
     "output_type": "stream",
     "text": [
      "378it [44:36, 10.61s/it]"
     ]
    },
    {
     "name": "stdout",
     "output_type": "stream",
     "text": [
      "Websites Name:\t [LGBT] A Lesbian Couple’s Singaporean Dream for Legitimacy With a Biological Child , We encounter a problem in this websites or we come the end the this thread\n"
     ]
    },
    {
     "name": "stderr",
     "output_type": "stream",
     "text": [
      "379it [45:02, 15.20s/it]"
     ]
    },
    {
     "name": "stdout",
     "output_type": "stream",
     "text": [
      "Websites Name:\t [GVGT] Indian Bro Want To Whack LGBT , We encounter a problem in this websites or we come the end the this thread\n"
     ]
    },
    {
     "name": "stderr",
     "output_type": "stream",
     "text": [
      "380it [45:06, 11.61s/it]"
     ]
    },
    {
     "name": "stdout",
     "output_type": "stream",
     "text": [
      "Websites Name:\t Which mediacorpse artist is lgbt , We encounter a problem in this websites or we come the end the this thread\n"
     ]
    },
    {
     "name": "stderr",
     "output_type": "stream",
     "text": [
      "381it [45:08,  8.81s/it]"
     ]
    },
    {
     "name": "stdout",
     "output_type": "stream",
     "text": [
      "Websites Name:\t GLGT Empress have spoken her view about LGBT liao , We encounter a problem in this websites or we come the end the this thread\n"
     ]
    },
    {
     "name": "stderr",
     "output_type": "stream",
     "text": [
      "382it [45:25, 11.18s/it]"
     ]
    },
    {
     "name": "stdout",
     "output_type": "stream",
     "text": [
      "Websites Name:\t GLGT Empress have spoken her view about LGBT liao , We encounter a problem in this websites or we come the end the this thread\n"
     ]
    },
    {
     "name": "stderr",
     "output_type": "stream",
     "text": [
      "383it [45:39, 12.15s/it]"
     ]
    },
    {
     "name": "stdout",
     "output_type": "stream",
     "text": [
      "Websites Name:\t [LGBT] A Lesbian Couple’s Singaporean Dream for Legitimacy With a Biological Child , We encounter a problem in this websites or we come the end the this thread\n"
     ]
    },
    {
     "name": "stderr",
     "output_type": "stream",
     "text": [
      "384it [45:54, 13.00s/it]"
     ]
    },
    {
     "name": "stdout",
     "output_type": "stream",
     "text": [
      "Websites Name:\t Here the people seem very hostile to lgbt community , We encounter a problem in this websites or we come the end the this thread\n"
     ]
    },
    {
     "name": "stderr",
     "output_type": "stream",
     "text": [
      "385it [45:59, 10.61s/it]"
     ]
    },
    {
     "name": "stdout",
     "output_type": "stream",
     "text": [
      "Websites Name:\t LGBT party canceled due to Singapore management being ‘uncomfortable’ with ‘gay event’ , We encounter a problem in this websites or we come the end the this thread\n"
     ]
    },
    {
     "name": "stderr",
     "output_type": "stream",
     "text": [
      "386it [46:10, 10.61s/it]"
     ]
    },
    {
     "name": "stdout",
     "output_type": "stream",
     "text": [
      "Websites Name:\t 🙏 Christian group ‘deeply concerned’ about Singapore psychologists supporting LGBT 🏳️‍🌈 , We encounter a problem in this websites or we come the end the this thread\n"
     ]
    },
    {
     "name": "stderr",
     "output_type": "stream",
     "text": [
      "387it [46:27, 12.75s/it]"
     ]
    },
    {
     "name": "stdout",
     "output_type": "stream",
     "text": [
      "Websites Name:\t Discriminatory remarks against LGBT during Sec 4 assembly in HCI. , We encounter a problem in this websites or we come the end the this thread\n"
     ]
    },
    {
     "name": "stderr",
     "output_type": "stream",
     "text": [
      "388it [48:41, 49.00s/it]"
     ]
    },
    {
     "name": "stdout",
     "output_type": "stream",
     "text": [
      "Websites Name:\t Discriminatory remarks against LGBT during Sec 4 assembly in HCI. , We encounter a problem in this websites or we come the end the this thread\n"
     ]
    },
    {
     "name": "stderr",
     "output_type": "stream",
     "text": [
      "389it [51:31, 85.17s/it]"
     ]
    },
    {
     "name": "stdout",
     "output_type": "stream",
     "text": [
      "Websites Name:\t msia : The LGBT community should be categorised as those with mental health issues , We encounter a problem in this websites or we come the end the this thread\n"
     ]
    },
    {
     "name": "stderr",
     "output_type": "stream",
     "text": [
      "390it [51:39, 62.27s/it]"
     ]
    },
    {
     "name": "stdout",
     "output_type": "stream",
     "text": [
      "Websites Name:\t Why do so many LGBT people suffer from mental health problems? - BBC Newsnight , We encounter a problem in this websites or we come the end the this thread\n"
     ]
    },
    {
     "name": "stderr",
     "output_type": "stream",
     "text": [
      "391it [51:50, 46.70s/it]"
     ]
    },
    {
     "name": "stdout",
     "output_type": "stream",
     "text": [
      "Websites Name:\t can LGBT go to heaven? , We encounter a problem in this websites or we come the end the this thread\n"
     ]
    },
    {
     "name": "stderr",
     "output_type": "stream",
     "text": [
      "392it [51:51, 33.17s/it]"
     ]
    },
    {
     "name": "stdout",
     "output_type": "stream",
     "text": [
      "Websites Name:\t If singapore don't support LGBT, why is our national mascot a merlion? , We encounter a problem in this websites or we come the end the this thread\n"
     ]
    },
    {
     "name": "stderr",
     "output_type": "stream",
     "text": [
      "393it [51:54, 23.93s/it]"
     ]
    },
    {
     "name": "stdout",
     "output_type": "stream",
     "text": [
      "Websites Name:\t MFA reminds US embassy \"not to interfere\" with domestic matters following webinar with LGBT org , We encounter a problem in this websites or we come the end the this thread\n"
     ]
    },
    {
     "name": "stderr",
     "output_type": "stream",
     "text": [
      "394it [52:01, 18.93s/it]"
     ]
    },
    {
     "name": "stdout",
     "output_type": "stream",
     "text": [
      "Websites Name:\t 🙏 Christian group ‘deeply concerned’ about Singapore psychologists supporting LGBT 🏳️‍🌈 , We encounter a problem in this websites or we come the end the this thread\n"
     ]
    },
    {
     "name": "stderr",
     "output_type": "stream",
     "text": [
      "395it [52:19, 18.53s/it]"
     ]
    },
    {
     "name": "stdout",
     "output_type": "stream",
     "text": [
      "Websites Name:\t Should there be a 3rd toilet for LGBT? , We encounter a problem in this websites or we come the end the this thread\n"
     ]
    },
    {
     "name": "stderr",
     "output_type": "stream",
     "text": [
      "396it [52:26, 15.25s/it]"
     ]
    },
    {
     "name": "stdout",
     "output_type": "stream",
     "text": [
      "Websites Name:\t Why NDR 2021 never talk about LGBT? , We encounter a problem in this websites or we come the end the this thread\n"
     ]
    },
    {
     "name": "stderr",
     "output_type": "stream",
     "text": [
      "397it [52:28, 11.26s/it]"
     ]
    },
    {
     "name": "stdout",
     "output_type": "stream",
     "text": [
      "Websites Name:\t Why all these LGBT cannot be like Kumar ah? Kumar never spread their nonsense agenda and famous , We encounter a problem in this websites or we come the end the this thread\n"
     ]
    },
    {
     "name": "stderr",
     "output_type": "stream",
     "text": [
      "398it [52:34,  9.54s/it]"
     ]
    },
    {
     "name": "stdout",
     "output_type": "stream",
     "text": [
      "Websites Name:\t Do you know of any LGBTs in your workplace? If so, are you open to it? , We encounter a problem in this websites or we come the end the this thread\n"
     ]
    },
    {
     "name": "stderr",
     "output_type": "stream",
     "text": [
      "1034it [53:01,  3.08s/it]\n"
     ]
    },
    {
     "name": "stdout",
     "output_type": "stream",
     "text": [
      "Aspect is :\tpink dot\n"
     ]
    },
    {
     "name": "stderr",
     "output_type": "stream",
     "text": [
      "0it [00:00, ?it/s]"
     ]
    },
    {
     "name": "stdout",
     "output_type": "stream",
     "text": [
      "Websites Name:\t Pink Dot upset as IMDA slapped Disney film Light year with NC16 rating !!! With overt homosexual depictions , We encounter a problem in this websites or we come the end the this thread\n"
     ]
    },
    {
     "name": "stderr",
     "output_type": "stream",
     "text": [
      "489it [00:20, 24.23it/s]"
     ]
    },
    {
     "name": "stdout",
     "output_type": "stream",
     "text": [
      "Websites Name:\t Hwa Chong also pink dot siaz , We encounter a problem in this websites or we come the end the this thread\n"
     ]
    },
    {
     "name": "stderr",
     "output_type": "stream",
     "text": [
      "489it [00:33, 24.23it/s]"
     ]
    },
    {
     "name": "stdout",
     "output_type": "stream",
     "text": [
      "Websites Name:\t Speakers corner very crowded now , We encounter a problem in this websites or we come the end the this thread\n"
     ]
    },
    {
     "name": "stderr",
     "output_type": "stream",
     "text": [
      "491it [00:48,  8.09it/s]"
     ]
    },
    {
     "name": "stdout",
     "output_type": "stream",
     "text": [
      "Websites Name:\t Protect 377A Townhall Attracts Over 1,200 Attendees Who Want Govt To Preserve Traditional Marriages , We encounter a problem in this websites or we come the end the this thread\n"
     ]
    },
    {
     "name": "stderr",
     "output_type": "stream",
     "text": [
      "492it [01:46,  2.76it/s]"
     ]
    },
    {
     "name": "stdout",
     "output_type": "stream",
     "text": [
      "Websites Name:\t Sadness to repeal of 377A , We encounter a problem in this websites or we come the end the this thread\n"
     ]
    },
    {
     "name": "stderr",
     "output_type": "stream",
     "text": [
      "493it [01:52,  2.54it/s]"
     ]
    },
    {
     "name": "stdout",
     "output_type": "stream",
     "text": [
      "Websites Name:\t Ex teacher out of prison worked as tutor asking a teenager to suck each other kkj , We encounter a problem in this websites or we come the end the this thread\n"
     ]
    },
    {
     "name": "stderr",
     "output_type": "stream",
     "text": [
      "494it [02:08,  1.90it/s]"
     ]
    },
    {
     "name": "stdout",
     "output_type": "stream",
     "text": [
      "Websites Name:\t ‘I Wish My Parents Are Here Too’: Pink Dot 2023 Attendees Hope For S’pore To Be More Accepting , We encounter a problem in this websites or we come the end the this thread\n"
     ]
    },
    {
     "name": "stderr",
     "output_type": "stream",
     "text": [
      "495it [03:42,  1.62s/it]"
     ]
    },
    {
     "name": "stdout",
     "output_type": "stream",
     "text": [
      "Websites Name:\t Why Jack Neo no do ah girls to men? , We encounter a problem in this websites or we come the end the this thread\n"
     ]
    },
    {
     "name": "stderr",
     "output_type": "stream",
     "text": [
      "496it [03:45,  1.64s/it]"
     ]
    },
    {
     "name": "stdout",
     "output_type": "stream",
     "text": [
      "Websites Name:\t ‘I Wish My Parents Are Here Too’: Pink Dot 2023 Attendees Hope For S’pore To Be More Accepting , We encounter a problem in this websites or we come the end the this thread\n"
     ]
    },
    {
     "name": "stderr",
     "output_type": "stream",
     "text": [
      "497it [05:36,  4.17s/it]"
     ]
    },
    {
     "name": "stdout",
     "output_type": "stream",
     "text": [
      "Websites Name:\t To tackle the spread of monkeypox in Singapore, MOH says it's reaching out to at-risk groups, including those engaging in \"high-risk sexual activities , We encounter a problem in this websites or we come the end the this thread\n"
     ]
    },
    {
     "name": "stderr",
     "output_type": "stream",
     "text": [
      "498it [06:01,  4.83s/it]"
     ]
    },
    {
     "name": "stdout",
     "output_type": "stream",
     "text": [
      "Websites Name:\t ‘I Wish My Parents Are Here Too’: Pink Dot 2023 Attendees Hope For S’pore To Be More Accepting , We encounter a problem in this websites or we come the end the this thread\n"
     ]
    },
    {
     "name": "stderr",
     "output_type": "stream",
     "text": [
      "499it [07:29,  8.43s/it]"
     ]
    },
    {
     "name": "stdout",
     "output_type": "stream",
     "text": [
      "Websites Name:\t Parkroyal Collection Pickering hotel apologises after turning away same-sex couple trying to book wedding venue , We encounter a problem in this websites or we come the end the this thread\n"
     ]
    },
    {
     "name": "stderr",
     "output_type": "stream",
     "text": [
      "500it [08:06, 10.14s/it]"
     ]
    },
    {
     "name": "stdout",
     "output_type": "stream",
     "text": [
      "Websites Name:\t Din know Korea also got film pink dot movie one , We encounter a problem in this websites or we come the end the this thread\n"
     ]
    },
    {
     "name": "stderr",
     "output_type": "stream",
     "text": [
      "501it [08:08,  9.52s/it]"
     ]
    },
    {
     "name": "stdout",
     "output_type": "stream",
     "text": [
      "Websites Name:\t Actually very easy solution to low birth rates , We encounter a problem in this websites or we come the end the this thread\n"
     ]
    },
    {
     "name": "stderr",
     "output_type": "stream",
     "text": [
      "502it [08:22,  9.93s/it]"
     ]
    },
    {
     "name": "stdout",
     "output_type": "stream",
     "text": [
      "Websites Name:\t (GVGT) 张信哲 & Ationg singer Joker Xue 薛之谦 first song duet collaboration.....but the beedio MV is pink dot kym??!! , We encounter a problem in this websites or we come the end the this thread\n"
     ]
    },
    {
     "name": "stderr",
     "output_type": "stream",
     "text": [
      "503it [08:24,  8.92s/it]"
     ]
    },
    {
     "name": "stdout",
     "output_type": "stream",
     "text": [
      "Websites Name:\t ..wow..Jamus Lim also attended the Pink Dot event........ , We encounter a problem in this websites or we come the end the this thread\n"
     ]
    },
    {
     "name": "stderr",
     "output_type": "stream",
     "text": [
      "504it [08:34,  9.16s/it]"
     ]
    },
    {
     "name": "stdout",
     "output_type": "stream",
     "text": [
      "Websites Name:\t What does LTK and WP think about 377A and Pink Dot? , We encounter a problem in this websites or we come the end the this thread\n"
     ]
    },
    {
     "name": "stderr",
     "output_type": "stream",
     "text": [
      "505it [08:36,  7.91s/it]"
     ]
    },
    {
     "name": "stdout",
     "output_type": "stream",
     "text": [
      "Websites Name:\t ‘I Wish My Parents Are Here Too’: Pink Dot 2023 Attendees Hope For S’pore To Be More Accepting , We encounter a problem in this websites or we come the end the this thread\n"
     ]
    },
    {
     "name": "stderr",
     "output_type": "stream",
     "text": [
      "506it [10:12, 25.70s/it]"
     ]
    },
    {
     "name": "stdout",
     "output_type": "stream",
     "text": [
      "Websites Name:\t Pink Dot upset as IMDA slapped Disney film Light year with NC16 rating !!! With overt homosexual depictions , We encounter a problem in this websites or we come the end the this thread\n"
     ]
    },
    {
     "name": "stderr",
     "output_type": "stream",
     "text": [
      "507it [10:37, 25.36s/it]"
     ]
    },
    {
     "name": "stdout",
     "output_type": "stream",
     "text": [
      "Websites Name:\t if you see a pink volvo.. , We encounter a problem in this websites or we come the end the this thread\n"
     ]
    },
    {
     "name": "stderr",
     "output_type": "stream",
     "text": [
      "508it [10:53, 23.29s/it]"
     ]
    },
    {
     "name": "stdout",
     "output_type": "stream",
     "text": [
      "Websites Name:\t ‘I Wish My Parents Are Here Too’: Pink Dot 2023 Attendees Hope For S’pore To Be More Accepting , We encounter a problem in this websites or we come the end the this thread\n"
     ]
    },
    {
     "name": "stderr",
     "output_type": "stream",
     "text": [
      "509it [12:27, 41.35s/it]"
     ]
    },
    {
     "name": "stdout",
     "output_type": "stream",
     "text": [
      "Websites Name:\t Workers’ Party MPs He Ting Ru, Louis Chua attend Pink Dot 2023 , We encounter a problem in this websites or we come the end the this thread\n"
     ]
    },
    {
     "name": "stderr",
     "output_type": "stream",
     "text": [
      "510it [12:35, 32.37s/it]"
     ]
    },
    {
     "name": "stdout",
     "output_type": "stream",
     "text": [
      "Websites Name:\t Pink Dot hails 'victory'. Churches say Section 377A repeal very regrettable. , We encounter a problem in this websites or we come the end the this thread\n"
     ]
    },
    {
     "name": "stderr",
     "output_type": "stream",
     "text": [
      "511it [13:07, 32.26s/it]"
     ]
    },
    {
     "name": "stdout",
     "output_type": "stream",
     "text": [
      "Websites Name:\t Pink Dot slams censors over Marvel film's M18 rating, calls LGBTQ censorship 'harmful', 'discriminatory' , We encounter a problem in this websites or we come the end the this thread\n"
     ]
    },
    {
     "name": "stderr",
     "output_type": "stream",
     "text": [
      "512it [13:25, 28.16s/it]"
     ]
    },
    {
     "name": "stdout",
     "output_type": "stream",
     "text": [
      "Websites Name:\t Do you personally support Pink Dots and LGBT+ in Singapore? , We encounter a problem in this websites or we come the end the this thread\n"
     ]
    },
    {
     "name": "stderr",
     "output_type": "stream",
     "text": [
      "513it [13:37, 23.73s/it]"
     ]
    },
    {
     "name": "stdout",
     "output_type": "stream",
     "text": [
      "Websites Name:\t Parkroyal Collection Pickering hotel apologises after turning away same-sex couple trying to book wedding venue , We encounter a problem in this websites or we come the end the this thread\n"
     ]
    },
    {
     "name": "stderr",
     "output_type": "stream",
     "text": [
      "514it [14:17, 28.24s/it]"
     ]
    },
    {
     "name": "stdout",
     "output_type": "stream",
     "text": [
      "Websites Name:\t Mostly young people at Pinkdot 14 , We encounter a problem in this websites or we come the end the this thread\n"
     ]
    },
    {
     "name": "stderr",
     "output_type": "stream",
     "text": [
      "515it [14:18, 20.47s/it]"
     ]
    },
    {
     "name": "stdout",
     "output_type": "stream",
     "text": [
      "Websites Name:\t ‘I Wish My Parents Are Here Too’: Pink Dot 2023 Attendees Hope For S’pore To Be More Accepting , We encounter a problem in this websites or we come the end the this thread\n"
     ]
    },
    {
     "name": "stderr",
     "output_type": "stream",
     "text": [
      "516it [16:07, 46.44s/it]"
     ]
    },
    {
     "name": "stdout",
     "output_type": "stream",
     "text": [
      "Websites Name:\t When you allow Pink Dot events, now they even dare to protest. Pink Dot event should be banned , We encounter a problem in this websites or we come the end the this thread\n"
     ]
    },
    {
     "name": "stderr",
     "output_type": "stream",
     "text": [
      "517it [16:17, 35.75s/it]"
     ]
    },
    {
     "name": "stdout",
     "output_type": "stream",
     "text": [
      "Websites Name:\t The minimum Pink Dot can do now is to send out notice to its member to practice safe sex! , We encounter a problem in this websites or we come the end the this thread\n"
     ]
    },
    {
     "name": "stderr",
     "output_type": "stream",
     "text": [
      "518it [16:35, 30.36s/it]"
     ]
    },
    {
     "name": "stdout",
     "output_type": "stream",
     "text": [
      "Websites Name:\t [GLGT] SMOL outlet tio abuse by lao funker over rainbow flag! , We encounter a problem in this websites or we come the end the this thread\n"
     ]
    },
    {
     "name": "stderr",
     "output_type": "stream",
     "text": [
      "519it [17:04, 29.99s/it]"
     ]
    },
    {
     "name": "stdout",
     "output_type": "stream",
     "text": [
      "Websites Name:\t [GPGT] Guess who was at Pinkdot too , We encounter a problem in this websites or we come the end the this thread\n"
     ]
    },
    {
     "name": "stderr",
     "output_type": "stream",
     "text": [
      "520it [17:06, 21.52s/it]"
     ]
    },
    {
     "name": "stdout",
     "output_type": "stream",
     "text": [
      "Websites Name:\t PinkDot: Which edmwers going? , We encounter a problem in this websites or we come the end the this thread\n"
     ]
    },
    {
     "name": "stderr",
     "output_type": "stream",
     "text": [
      "521it [17:20, 19.44s/it]"
     ]
    },
    {
     "name": "stdout",
     "output_type": "stream",
     "text": [
      "Websites Name:\t <GPGT>Pink dot go staycation and receive marriage proposal in Singapore , We encounter a problem in this websites or we come the end the this thread\n"
     ]
    },
    {
     "name": "stderr",
     "output_type": "stream",
     "text": [
      "523it [22:14, 97.23s/it]"
     ]
    },
    {
     "name": "stdout",
     "output_type": "stream",
     "text": [
      "Websites Name:\t Actually why pink dot celebrate? They gonna get pwned by an even more powerful Womens' Charter , We encounter a problem in this websites or we come the end the this thread\n"
     ]
    },
    {
     "name": "stderr",
     "output_type": "stream",
     "text": [
      "524it [22:25, 71.46s/it]"
     ]
    },
    {
     "name": "stdout",
     "output_type": "stream",
     "text": [
      "Websites Name:\t Pink Dot hails 'victory'. Churches say Section 377A repeal very regrettable. , We encounter a problem in this websites or we come the end the this thread\n"
     ]
    },
    {
     "name": "stderr",
     "output_type": "stream",
     "text": [
      "525it [23:13, 64.39s/it]"
     ]
    },
    {
     "name": "stdout",
     "output_type": "stream",
     "text": [
      "Websites Name:\t LGBTQ+ people, looks like 377a will be repealed! , We encounter a problem in this websites or we come the end the this thread\n"
     ]
    },
    {
     "name": "stderr",
     "output_type": "stream",
     "text": [
      "526it [23:38, 52.67s/it]"
     ]
    },
    {
     "name": "stdout",
     "output_type": "stream",
     "text": [
      "Websites Name:\t PAP MP Henry Kwek Attends Pink Dot While Lee Hsien Loong is On Leave! , We encounter a problem in this websites or we come the end the this thread\n"
     ]
    },
    {
     "name": "stderr",
     "output_type": "stream",
     "text": [
      "527it [23:41, 37.78s/it]"
     ]
    },
    {
     "name": "stdout",
     "output_type": "stream",
     "text": [
      "Websites Name:\t ‘I Wish My Parents Are Here Too’: Pink Dot 2023 Attendees Hope For S’pore To Be More Accepting , We encounter a problem in this websites or we come the end the this thread\n"
     ]
    },
    {
     "name": "stderr",
     "output_type": "stream",
     "text": [
      "528it [26:02, 68.65s/it]"
     ]
    },
    {
     "name": "stdout",
     "output_type": "stream",
     "text": [
      "Websites Name:\t ‘I Wish My Parents Are Here Too’: Pink Dot 2023 Attendees Hope For S’pore To Be More Accepting , We encounter a problem in this websites or we come the end the this thread\n"
     ]
    },
    {
     "name": "stderr",
     "output_type": "stream",
     "text": [
      "529it [27:31, 74.77s/it]"
     ]
    },
    {
     "name": "stdout",
     "output_type": "stream",
     "text": [
      "Websites Name:\t Xavier Ong is pinkdot , We encounter a problem in this websites or we come the end the this thread\n"
     ]
    },
    {
     "name": "stderr",
     "output_type": "stream",
     "text": [
      "530it [27:47, 57.14s/it]"
     ]
    },
    {
     "name": "stdout",
     "output_type": "stream",
     "text": [
      "Websites Name:\t Pink Dot hails 'victory'. Churches say Section 377A repeal very regrettable. , We encounter a problem in this websites or we come the end the this thread\n"
     ]
    },
    {
     "name": "stderr",
     "output_type": "stream",
     "text": [
      "531it [28:20, 49.90s/it]"
     ]
    },
    {
     "name": "stdout",
     "output_type": "stream",
     "text": [
      "Websites Name:\t GPGT PAP MP attending pink dot , We encounter a problem in this websites or we come the end the this thread\n"
     ]
    },
    {
     "name": "stderr",
     "output_type": "stream",
     "text": [
      "532it [28:52, 44.54s/it]"
     ]
    },
    {
     "name": "stdout",
     "output_type": "stream",
     "text": [
      "Websites Name:\t Did any NS personnel ask you out for a date(lunch/dinner) , We encounter a problem in this websites or we come the end the this thread\n"
     ]
    },
    {
     "name": "stderr",
     "output_type": "stream",
     "text": [
      "533it [28:57, 32.85s/it]"
     ]
    },
    {
     "name": "stdout",
     "output_type": "stream",
     "text": [
      "Websites Name:\t Pink Dot 14: The Change We Want To. Singapore’s landmark LGBTQ+ rally return to Hong Lim Park on 18 Jun 2022 after 2 years of online-only events. , We encounter a problem in this websites or we come the end the this thread\n"
     ]
    },
    {
     "name": "stderr",
     "output_type": "stream",
     "text": [
      "534it [29:03, 24.60s/it]"
     ]
    },
    {
     "name": "stdout",
     "output_type": "stream",
     "text": [
      "Websites Name:\t Pink Dot hails 'victory'. Churches say Section 377A repeal very regrettable. , We encounter a problem in this websites or we come the end the this thread\n"
     ]
    },
    {
     "name": "stderr",
     "output_type": "stream",
     "text": [
      "535it [29:40, 28.43s/it]"
     ]
    },
    {
     "name": "stdout",
     "output_type": "stream",
     "text": [
      "Websites Name:\t If pink dot can protest until 377A get repealed, we can too for NS to be Repealed , We encounter a problem in this websites or we come the end the this thread\n"
     ]
    },
    {
     "name": "stderr",
     "output_type": "stream",
     "text": [
      "536it [29:48, 22.35s/it]"
     ]
    },
    {
     "name": "stdout",
     "output_type": "stream",
     "text": [
      "Websites Name:\t Pink Dot SG: Impt to remember anyone can catch the disease. Stigma deters ppl from coming forward get tested & puts all of us at risk... , We encounter a problem in this websites or we come the end the this thread\n"
     ]
    },
    {
     "name": "stderr",
     "output_type": "stream",
     "text": [
      "537it [29:56, 17.91s/it]"
     ]
    },
    {
     "name": "stdout",
     "output_type": "stream",
     "text": [
      "Websites Name:\t Laboratory technician at a secondary school hugged a male student from behind & kissed the 13-year-old boy's cheek... , We encounter a problem in this websites or we come the end the this thread\n"
     ]
    },
    {
     "name": "stderr",
     "output_type": "stream",
     "text": [
      "538it [30:14, 17.87s/it]"
     ]
    },
    {
     "name": "stdout",
     "output_type": "stream",
     "text": [
      "Websites Name:\t wtf pap!!!!!!!! suddenly rain , We encounter a problem in this websites or we come the end the this thread\n"
     ]
    },
    {
     "name": "stderr",
     "output_type": "stream",
     "text": [
      "539it [30:25, 16.00s/it]"
     ]
    },
    {
     "name": "stdout",
     "output_type": "stream",
     "text": [
      "Websites Name:\t Having a small crush on male colleague at workplace , We encounter a problem in this websites or we come the end the this thread\n"
     ]
    },
    {
     "name": "stderr",
     "output_type": "stream",
     "text": [
      "540it [30:31, 12.90s/it]"
     ]
    },
    {
     "name": "stdout",
     "output_type": "stream",
     "text": [
      "Websites Name:\t AMDK to earn 160K/year in SG wants to bring his BOYFRIEND over KYM? GPGT , We encounter a problem in this websites or we come the end the this thread\n"
     ]
    },
    {
     "name": "stderr",
     "output_type": "stream",
     "text": [
      "541it [30:41, 11.93s/it]"
     ]
    },
    {
     "name": "stdout",
     "output_type": "stream",
     "text": [
      "Websites Name:\t Actually Adultery is not a Crime right? , We encounter a problem in this websites or we come the end the this thread\n"
     ]
    },
    {
     "name": "stderr",
     "output_type": "stream",
     "text": [
      "542it [30:58, 13.61s/it]"
     ]
    },
    {
     "name": "stdout",
     "output_type": "stream",
     "text": [
      "Websites Name:\t ST Forum: If smoking is personal choice, then smoke should remain in personal space , We encounter a problem in this websites or we come the end the this thread\n"
     ]
    },
    {
     "name": "stderr",
     "output_type": "stream",
     "text": [
      "543it [31:48, 24.57s/it]"
     ]
    },
    {
     "name": "stdout",
     "output_type": "stream",
     "text": [
      "Websites Name:\t What if u are straight and u tio monkeypox? , We encounter a problem in this websites or we come the end the this thread\n"
     ]
    },
    {
     "name": "stderr",
     "output_type": "stream",
     "text": [
      "544it [31:50, 17.79s/it]"
     ]
    },
    {
     "name": "stdout",
     "output_type": "stream",
     "text": [
      "Websites Name:\t 哇兰 ehhh!!!! The Singaporean guy 陈孟奇 who wrote the song 马德里不思义 for Jolene now become a 大猛男 like Tan Chuando , We encounter a problem in this websites or we come the end the this thread\n"
     ]
    },
    {
     "name": "stderr",
     "output_type": "stream",
     "text": [
      "545it [31:59, 15.11s/it]"
     ]
    },
    {
     "name": "stdout",
     "output_type": "stream",
     "text": [
      "Websites Name:\t [GPGT] Majulah Pink Dot! , We encounter a problem in this websites or we come the end the this thread\n"
     ]
    },
    {
     "name": "stderr",
     "output_type": "stream",
     "text": [
      "546it [32:02, 11.48s/it]"
     ]
    },
    {
     "name": "stdout",
     "output_type": "stream",
     "text": [
      "Websites Name:\t ‘I Wish My Parents Are Here Too’: Pink Dot 2023 Attendees Hope For S’pore To Be More Accepting , We encounter a problem in this websites or we come the end the this thread\n"
     ]
    },
    {
     "name": "stderr",
     "output_type": "stream",
     "text": [
      "547it [33:30, 34.52s/it]"
     ]
    },
    {
     "name": "stdout",
     "output_type": "stream",
     "text": [
      "Websites Name:\t Workers’ Party MPs He Ting Ru, Louis Chua attend Pink Dot 2023 , We encounter a problem in this websites or we come the end the this thread\n"
     ]
    },
    {
     "name": "stderr",
     "output_type": "stream",
     "text": [
      "548it [33:49, 29.87s/it]"
     ]
    },
    {
     "name": "stdout",
     "output_type": "stream",
     "text": [
      "Websites Name:\t Teen gets probation for taking photos and videos of 15 men using urinals , We encounter a problem in this websites or we come the end the this thread\n"
     ]
    },
    {
     "name": "stderr",
     "output_type": "stream",
     "text": [
      "549it [33:59, 23.84s/it]"
     ]
    },
    {
     "name": "stdout",
     "output_type": "stream",
     "text": [
      "Websites Name:\t Sling bag vs backpack , We encounter a problem in this websites or we come the end the this thread\n"
     ]
    },
    {
     "name": "stderr",
     "output_type": "stream",
     "text": [
      "550it [54:01, 377.23s/it]"
     ]
    },
    {
     "name": "stdout",
     "output_type": "stream",
     "text": [
      "Websites Name:\t The pink color tang yuan is it strawberry fav de??? , We encounter a problem in this websites or we come the end the this thread\n"
     ]
    },
    {
     "name": "stderr",
     "output_type": "stream",
     "text": [
      "551it [54:03, 264.68s/it]"
     ]
    },
    {
     "name": "stdout",
     "output_type": "stream",
     "text": [
      "Websites Name:\t Parents, how will you feel if your kid is a pinkdotter? Or ask you to use their preferred gender pronouns , We encounter a problem in this websites or we come the end the this thread\n"
     ]
    },
    {
     "name": "stderr",
     "output_type": "stream",
     "text": [
      "552it [54:11, 187.56s/it]"
     ]
    },
    {
     "name": "stdout",
     "output_type": "stream",
     "text": [
      "Websites Name:\t Pinky wearing Pink colour again!!!! , We encounter a problem in this websites or we come the end the this thread\n"
     ]
    },
    {
     "name": "stderr",
     "output_type": "stream",
     "text": [
      "553it [54:16, 132.90s/it]"
     ]
    },
    {
     "name": "stdout",
     "output_type": "stream",
     "text": [
      "Websites Name:\t Why is pink Lumia so hard to find? , We encounter a problem in this websites or we come the end the this thread\n"
     ]
    },
    {
     "name": "stderr",
     "output_type": "stream",
     "text": [
      "554it [54:18, 93.72s/it] "
     ]
    },
    {
     "name": "stdout",
     "output_type": "stream",
     "text": [
      "Websites Name:\t BREAKING NEWS: NEW NUS SAGAT , We encounter a problem in this websites or we come the end the this thread\n"
     ]
    },
    {
     "name": "stderr",
     "output_type": "stream",
     "text": [
      "555it [54:48, 74.56s/it]"
     ]
    },
    {
     "name": "stdout",
     "output_type": "stream",
     "text": [
      "Websites Name:\t [GLGT]Jail for 36 yo voyeur who filmed men showering at Anytime Fitness because he felt ugly , We encounter a problem in this websites or we come the end the this thread\n"
     ]
    },
    {
     "name": "stderr",
     "output_type": "stream",
     "text": [
      "556it [54:56, 54.56s/it]"
     ]
    },
    {
     "name": "stdout",
     "output_type": "stream",
     "text": [
      "Websites Name:\t How does EDMW feel/treat gays or even gay members here? , We encounter a problem in this websites or we come the end the this thread\n"
     ]
    },
    {
     "name": "stderr",
     "output_type": "stream",
     "text": [
      "557it [55:09, 42.02s/it]"
     ]
    },
    {
     "name": "stdout",
     "output_type": "stream",
     "text": [
      "Websites Name:\t All want Gahment to become more progressive, PAap heard chiu and nao evolve to meet chiu needs, go pinkdot event, kpkb 什么？ , We encounter a problem in this websites or we come the end the this thread\n"
     ]
    },
    {
     "name": "stderr",
     "output_type": "stream",
     "text": [
      "558it [55:24, 33.96s/it]"
     ]
    },
    {
     "name": "stdout",
     "output_type": "stream",
     "text": [
      "Websites Name:\t What do you know about Reddit s/Singapore moderators? , We encounter a problem in this websites or we come the end the this thread\n"
     ]
    },
    {
     "name": "stderr",
     "output_type": "stream",
     "text": [
      "559it [55:47, 30.72s/it]"
     ]
    },
    {
     "name": "stdout",
     "output_type": "stream",
     "text": [
      "Websites Name:\t [GPGT] Thomas Ong and Sharon Au couple photo taken in 1968 kym , We encounter a problem in this websites or we come the end the this thread\n"
     ]
    },
    {
     "name": "stderr",
     "output_type": "stream",
     "text": [
      "560it [56:02, 25.88s/it]"
     ]
    },
    {
     "name": "stdout",
     "output_type": "stream",
     "text": [
      "Websites Name:\t Pink Dot: Parliamentarians must continue to be the voice of community and act on critical topics such as education, housing security, and... , We encounter a problem in this websites or we come the end the this thread\n"
     ]
    },
    {
     "name": "stderr",
     "output_type": "stream",
     "text": [
      "561it [56:07, 19.64s/it]"
     ]
    },
    {
     "name": "stdout",
     "output_type": "stream",
     "text": [
      "Websites Name:\t Do you personally support Pink Dots and LGBT+ in Singapore? , We encounter a problem in this websites or we come the end the this thread\n"
     ]
    },
    {
     "name": "stderr",
     "output_type": "stream",
     "text": [
      "562it [56:19, 17.38s/it]"
     ]
    },
    {
     "name": "stdout",
     "output_type": "stream",
     "text": [
      "Websites Name:\t 61yo man allegedly kissed male SCDF colleague's lips in ambulance , We encounter a problem in this websites or we come the end the this thread\n"
     ]
    },
    {
     "name": "stderr",
     "output_type": "stream",
     "text": [
      "563it [56:25, 14.03s/it]"
     ]
    },
    {
     "name": "stdout",
     "output_type": "stream",
     "text": [
      "Websites Name:\t GPGT PAP MP attending pink dot , We encounter a problem in this websites or we come the end the this thread\n"
     ]
    },
    {
     "name": "stderr",
     "output_type": "stream",
     "text": [
      "564it [56:53, 18.16s/it]"
     ]
    },
    {
     "name": "stdout",
     "output_type": "stream",
     "text": [
      "Websites Name:\t Later Pink Dot who going? , We encounter a problem in this websites or we come the end the this thread\n"
     ]
    },
    {
     "name": "stderr",
     "output_type": "stream",
     "text": [
      "565it [57:11, 18.27s/it]"
     ]
    },
    {
     "name": "stdout",
     "output_type": "stream",
     "text": [
      "Websites Name:\t [LOL @pinkdot man] Man jailed for inciting violence, threatening judge who dismissed 377A challenges , We encounter a problem in this websites or we come the end the this thread\n"
     ]
    },
    {
     "name": "stderr",
     "output_type": "stream",
     "text": [
      "566it [57:14, 13.52s/it]"
     ]
    },
    {
     "name": "stdout",
     "output_type": "stream",
     "text": [
      "Websites Name:\t ‘I Wish My Parents Are Here Too’: Pink Dot 2023 Attendees Hope For S’pore To Be More Accepting , We encounter a problem in this websites or we come the end the this thread\n"
     ]
    },
    {
     "name": "stderr",
     "output_type": "stream",
     "text": [
      "567it [58:47, 37.46s/it]"
     ]
    },
    {
     "name": "stdout",
     "output_type": "stream",
     "text": [
      "Websites Name:\t ‘I Wish My Parents Are Here Too’: Pink Dot 2023 Attendees Hope For S’pore To Be More Accepting , We encounter a problem in this websites or we come the end the this thread\n"
     ]
    },
    {
     "name": "stderr",
     "output_type": "stream",
     "text": [
      "568it [1:00:45, 61.58s/it]"
     ]
    },
    {
     "name": "stdout",
     "output_type": "stream",
     "text": [
      "Websites Name:\t [GLGT]Man jailed 6 weeks for filming male stranger using toilet at Lot One Shoppers’ Mall to pcc , We encounter a problem in this websites or we come the end the this thread\n"
     ]
    },
    {
     "name": "stderr",
     "output_type": "stream",
     "text": [
      "569it [1:00:59, 47.17s/it]"
     ]
    },
    {
     "name": "stdout",
     "output_type": "stream",
     "text": [
      "Websites Name:\t Here are the LGBTQ-friendly companies sponsoring Pink Dot 2021 , We encounter a problem in this websites or we come the end the this thread\n"
     ]
    },
    {
     "name": "stderr",
     "output_type": "stream",
     "text": [
      "570it [1:01:01, 33.82s/it]"
     ]
    },
    {
     "name": "stdout",
     "output_type": "stream",
     "text": [
      "Websites Name:\t ‘I Wish My Parents Are Here Too’: Pink Dot 2023 Attendees Hope For S’pore To Be More Accepting , We encounter a problem in this websites or we come the end the this thread\n"
     ]
    },
    {
     "name": "stderr",
     "output_type": "stream",
     "text": [
      "571it [1:02:26, 49.13s/it]"
     ]
    },
    {
     "name": "stdout",
     "output_type": "stream",
     "text": [
      "Websites Name:\t how to advise 11yo son to masturbate less often?? , We encounter a problem in this websites or we come the end the this thread\n"
     ]
    },
    {
     "name": "stderr",
     "output_type": "stream",
     "text": [
      "572it [1:02:42, 39.10s/it]"
     ]
    },
    {
     "name": "stdout",
     "output_type": "stream",
     "text": [
      "Websites Name:\t Sentosa Cove Waters Turn Pink with many dead fishes & foul smell , We encounter a problem in this websites or we come the end the this thread\n"
     ]
    },
    {
     "name": "stderr",
     "output_type": "stream",
     "text": [
      "573it [1:02:57, 31.82s/it]"
     ]
    },
    {
     "name": "stdout",
     "output_type": "stream",
     "text": [
      "Websites Name:\t Is it xiasuay, if someone pointed out your shoe is woman model? , We encounter a problem in this websites or we come the end the this thread\n"
     ]
    },
    {
     "name": "stderr",
     "output_type": "stream",
     "text": [
      "574it [1:03:07, 25.53s/it]"
     ]
    },
    {
     "name": "stdout",
     "output_type": "stream",
     "text": [
      "Websites Name:\t Later Pink Dot who going? , We encounter a problem in this websites or we come the end the this thread\n"
     ]
    },
    {
     "name": "stderr",
     "output_type": "stream",
     "text": [
      "575it [1:03:26, 23.53s/it]"
     ]
    },
    {
     "name": "stdout",
     "output_type": "stream",
     "text": [
      "Websites Name:\t Who’s going pinkdot this Saturday? , We encounter a problem in this websites or we come the end the this thread\n"
     ]
    },
    {
     "name": "stderr",
     "output_type": "stream",
     "text": [
      "576it [1:03:32, 18.09s/it]"
     ]
    },
    {
     "name": "stdout",
     "output_type": "stream",
     "text": [
      "Websites Name:\t Later Pink Dot who going? , We encounter a problem in this websites or we come the end the this thread\n"
     ]
    },
    {
     "name": "stderr",
     "output_type": "stream",
     "text": [
      "577it [1:03:51, 18.53s/it]"
     ]
    },
    {
     "name": "stdout",
     "output_type": "stream",
     "text": [
      "Websites Name:\t [CASTRATED pls] Swimming coach sexually abused a student for four years! , We encounter a problem in this websites or we come the end the this thread\n"
     ]
    },
    {
     "name": "stderr",
     "output_type": "stream",
     "text": [
      "578it [1:04:07, 17.60s/it]"
     ]
    },
    {
     "name": "stdout",
     "output_type": "stream",
     "text": [
      "Websites Name:\t When you allow Pink Dot events, now they even dare to protest. Pink Dot event should be banned , We encounter a problem in this websites or we come the end the this thread\n"
     ]
    },
    {
     "name": "stderr",
     "output_type": "stream",
     "text": [
      "579it [1:04:19, 16.14s/it]"
     ]
    },
    {
     "name": "stdout",
     "output_type": "stream",
     "text": [
      "Websites Name:\t 50yo man jailed 24yrs for forcing 3 boys to give him bj , We encounter a problem in this websites or we come the end the this thread\n"
     ]
    },
    {
     "name": "stderr",
     "output_type": "stream",
     "text": [
      "580it [1:04:29, 14.15s/it]"
     ]
    },
    {
     "name": "stdout",
     "output_type": "stream",
     "text": [
      "Websites Name:\t Pink Dot SG is on June 12 , We encounter a problem in this websites or we come the end the this thread\n"
     ]
    },
    {
     "name": "stderr",
     "output_type": "stream",
     "text": [
      "581it [1:04:31, 10.65s/it]"
     ]
    },
    {
     "name": "stdout",
     "output_type": "stream",
     "text": [
      "Websites Name:\t Pink Dot hails 'victory'. Churches say Section 377A repeal very regrettable. , We encounter a problem in this websites or we come the end the this thread\n"
     ]
    },
    {
     "name": "stderr",
     "output_type": "stream",
     "text": [
      "582it [1:05:03, 17.04s/it]"
     ]
    },
    {
     "name": "stdout",
     "output_type": "stream",
     "text": [
      "Websites Name:\t After seeing grab driver get molested by 2 Chao gheys, it reinforces my view that 377A is a necessity , We encounter a problem in this websites or we come the end the this thread\n"
     ]
    },
    {
     "name": "stderr",
     "output_type": "stream",
     "text": [
      "583it [1:05:17, 16.00s/it]"
     ]
    },
    {
     "name": "stdout",
     "output_type": "stream",
     "text": [
      "Websites Name:\t u all think pink dot will get bigger and bigger as long geylang no open ? , We encounter a problem in this websites or we come the end the this thread\n"
     ]
    },
    {
     "name": "stderr",
     "output_type": "stream",
     "text": [
      "584it [1:05:19, 11.95s/it]"
     ]
    },
    {
     "name": "stdout",
     "output_type": "stream",
     "text": [
      "Websites Name:\t 48yo Pri sch support staff rubbing 8yo kkj he found cute & adorable kena jail & caning , We encounter a problem in this websites or we come the end the this thread\n"
     ]
    },
    {
     "name": "stderr",
     "output_type": "stream",
     "text": [
      "585it [1:05:27, 10.73s/it]"
     ]
    },
    {
     "name": "stdout",
     "output_type": "stream",
     "text": [
      "Websites Name:\t [GPGT] The dinosaur extinct at Jurassic World because all becum Pink Dot is it ? , We encounter a problem in this websites or we come the end the this thread\n"
     ]
    },
    {
     "name": "stderr",
     "output_type": "stream",
     "text": [
      "586it [1:05:33,  9.08s/it]"
     ]
    },
    {
     "name": "stdout",
     "output_type": "stream",
     "text": [
      "Websites Name:\t [GPGT] How cum this kor kor's shorts got a zip behind at the pigu ? , We encounter a problem in this websites or we come the end the this thread\n"
     ]
    },
    {
     "name": "stderr",
     "output_type": "stream",
     "text": [
      "587it [1:05:45, 10.13s/it]"
     ]
    },
    {
     "name": "stdout",
     "output_type": "stream",
     "text": [
      "Websites Name:\t “Both parents female?” HDB replaces cartoon after people with too much time read too much into it , We encounter a problem in this websites or we come the end the this thread\n"
     ]
    },
    {
     "name": "stderr",
     "output_type": "stream",
     "text": [
      "1034it [1:06:08,  3.84s/it]\n"
     ]
    },
    {
     "name": "stdout",
     "output_type": "stream",
     "text": [
      "Aspect is :\tpride month\n"
     ]
    },
    {
     "name": "stderr",
     "output_type": "stream",
     "text": [
      "589it [24:50,  2.53s/it]"
     ]
    },
    {
     "name": "stdout",
     "output_type": "stream",
     "text": [
      "Websites Name:\t GPGT - How about some Turkish Food?? , We encounter a problem in this websites or we come the end the this thread\n"
     ]
    },
    {
     "name": "stderr",
     "output_type": "stream",
     "text": [
      "590it [25:02,  2.55s/it]"
     ]
    },
    {
     "name": "stdout",
     "output_type": "stream",
     "text": [
      "Websites Name:\t Disappointed with McDonald father day discount ....[Discrimination] , We encounter a problem in this websites or we come the end the this thread\n"
     ]
    },
    {
     "name": "stderr",
     "output_type": "stream",
     "text": [
      "591it [25:16,  2.59s/it]"
     ]
    },
    {
     "name": "stdout",
     "output_type": "stream",
     "text": [
      "Websites Name:\t Queering history for Pride month , We encounter a problem in this websites or we come the end the this thread\n"
     ]
    },
    {
     "name": "stderr",
     "output_type": "stream",
     "text": [
      "592it [25:18,  2.59s/it]"
     ]
    },
    {
     "name": "stdout",
     "output_type": "stream",
     "text": [
      "Websites Name:\t what's the worst injury u ever sustain? , We encounter a problem in this websites or we come the end the this thread\n"
     ]
    },
    {
     "name": "stderr",
     "output_type": "stream",
     "text": [
      "593it [25:29,  2.65s/it]"
     ]
    },
    {
     "name": "stdout",
     "output_type": "stream",
     "text": [
      "Websites Name:\t How to make someone return $2k? I have small claims court order. , We encounter a problem in this websites or we come the end the this thread\n"
     ]
    },
    {
     "name": "stderr",
     "output_type": "stream",
     "text": [
      "594it [25:57,  2.90s/it]"
     ]
    },
    {
     "name": "stdout",
     "output_type": "stream",
     "text": [
      "Websites Name:\t ‘I Wish My Parents Are Here Too’: Pink Dot 2023 Attendees Hope For S’pore To Be More Accepting , We encounter a problem in this websites or we come the end the this thread\n"
     ]
    },
    {
     "name": "stderr",
     "output_type": "stream",
     "text": [
      "595it [28:19,  4.82s/it]"
     ]
    },
    {
     "name": "stdout",
     "output_type": "stream",
     "text": [
      "Websites Name:\t \"When ur dating a girl but ur also a lil bit into men\" Another boleh land concert cancelled!!!! , We encounter a problem in this websites or we come the end the this thread\n"
     ]
    },
    {
     "name": "stderr",
     "output_type": "stream",
     "text": [
      "596it [28:22,  4.78s/it]"
     ]
    },
    {
     "name": "stdout",
     "output_type": "stream",
     "text": [
      "Websites Name:\t Heading into 30s, and seeking financial advice/opinions , We encounter a problem in this websites or we come the end the this thread\n"
     ]
    },
    {
     "name": "stderr",
     "output_type": "stream",
     "text": [
      "597it [28:45,  5.29s/it]"
     ]
    },
    {
     "name": "stdout",
     "output_type": "stream",
     "text": [
      "Websites Name:\t After waiting for almost a year, Lim Swee Hoe was ecstatic when his USD340,000 Porsche Taycan finally arrived in Singapore last month , We encounter a problem in this websites or we come the end the this thread\n"
     ]
    },
    {
     "name": "stderr",
     "output_type": "stream",
     "text": [
      "598it [29:01,  5.66s/it]"
     ]
    },
    {
     "name": "stdout",
     "output_type": "stream",
     "text": [
      "Websites Name:\t Naumi Hotel SG spotlights real life same sex couple in campaign with Dear Straight People , We encounter a problem in this websites or we come the end the this thread\n"
     ]
    },
    {
     "name": "stderr",
     "output_type": "stream",
     "text": [
      "599it [29:07,  5.71s/it]"
     ]
    },
    {
     "name": "stdout",
     "output_type": "stream",
     "text": [
      "Websites Name:\t Pelosi calls on Singapore businesses to support LGBTQ groups , We encounter a problem in this websites or we come the end the this thread\n"
     ]
    },
    {
     "name": "stderr",
     "output_type": "stream",
     "text": [
      "600it [29:15,  5.86s/it]"
     ]
    },
    {
     "name": "stdout",
     "output_type": "stream",
     "text": [
      "Websites Name:\t Kuwait criticises US embassy over pro-LGBT tweets , We encounter a problem in this websites or we come the end the this thread\n"
     ]
    },
    {
     "name": "stderr",
     "output_type": "stream",
     "text": [
      "601it [29:17,  5.49s/it]"
     ]
    },
    {
     "name": "stdout",
     "output_type": "stream",
     "text": [
      "Websites Name:\t yr coy got event for pride month? , We encounter a problem in this websites or we come the end the this thread\n"
     ]
    },
    {
     "name": "stderr",
     "output_type": "stream",
     "text": [
      "602it [29:24,  5.69s/it]"
     ]
    },
    {
     "name": "stdout",
     "output_type": "stream",
     "text": [
      "Websites Name:\t Why Sheng Siong can sell cheaper than NTUC and still give 16 months bonus? , We encounter a problem in this websites or we come the end the this thread\n"
     ]
    },
    {
     "name": "stderr",
     "output_type": "stream",
     "text": [
      "603it [29:36,  6.57s/it]"
     ]
    },
    {
     "name": "stdout",
     "output_type": "stream",
     "text": [
      "Websites Name:\t Can don't serve 1 month notice by asking for early dismissal? , We encounter a problem in this websites or we come the end the this thread\n"
     ]
    },
    {
     "name": "stderr",
     "output_type": "stream",
     "text": [
      "604it [29:44,  6.74s/it]"
     ]
    },
    {
     "name": "stdout",
     "output_type": "stream",
     "text": [
      "Websites Name:\t Pls dont complain about earning too little k , We encounter a problem in this websites or we come the end the this thread\n"
     ]
    },
    {
     "name": "stderr",
     "output_type": "stream",
     "text": [
      "605it [29:53,  7.14s/it]"
     ]
    },
    {
     "name": "stdout",
     "output_type": "stream",
     "text": [
      "Websites Name:\t Pink Dot upset as IMDA slapped Disney film Light year with NC16 rating !!! With overt homosexual depictions , We encounter a problem in this websites or we come the end the this thread\n"
     ]
    },
    {
     "name": "stderr",
     "output_type": "stream",
     "text": [
      "606it [30:11,  9.41s/it]"
     ]
    },
    {
     "name": "stdout",
     "output_type": "stream",
     "text": [
      "Websites Name:\t Man ‘raped and beaten by the Taliban in Kabul after he was duped into meeting them’ , We encounter a problem in this websites or we come the end the this thread\n"
     ]
    },
    {
     "name": "stderr",
     "output_type": "stream",
     "text": [
      "607it [30:46, 15.40s/it]"
     ]
    },
    {
     "name": "stdout",
     "output_type": "stream",
     "text": [
      "Websites Name:\t Chinese Pride | Andrew Yang files papers to run for New York mayor , We encounter a problem in this websites or we come the end the this thread\n"
     ]
    },
    {
     "name": "stderr",
     "output_type": "stream",
     "text": [
      "608it [30:58, 14.57s/it]"
     ]
    },
    {
     "name": "stdout",
     "output_type": "stream",
     "text": [
      "Websites Name:\t [GVGT] Hiding Their LGBTQ+ Relationship , We encounter a problem in this websites or we come the end the this thread\n"
     ]
    },
    {
     "name": "stderr",
     "output_type": "stream",
     "text": [
      "609it [31:01, 11.70s/it]"
     ]
    },
    {
     "name": "stdout",
     "output_type": "stream",
     "text": [
      "Websites Name:\t How much Saving is in your bank at 30yrs old , We encounter a problem in this websites or we come the end the this thread\n"
     ]
    },
    {
     "name": "stderr",
     "output_type": "stream",
     "text": [
      "610it [34:31, 65.89s/it]"
     ]
    },
    {
     "name": "stdout",
     "output_type": "stream",
     "text": [
      "Websites Name:\t Ayden Sng Quits His $6K-A-Month Consulting Job To Join Mediacorpse , We encounter a problem in this websites or we come the end the this thread\n"
     ]
    },
    {
     "name": "stderr",
     "output_type": "stream",
     "text": [
      "611it [34:49, 52.28s/it]"
     ]
    },
    {
     "name": "stdout",
     "output_type": "stream",
     "text": [
      "Websites Name:\t Married guys how much do u spend on wife and family per month?? , We encounter a problem in this websites or we come the end the this thread\n"
     ]
    },
    {
     "name": "stderr",
     "output_type": "stream",
     "text": [
      "612it [35:03, 41.47s/it]"
     ]
    },
    {
     "name": "stdout",
     "output_type": "stream",
     "text": [
      "Websites Name:\t 3 months ago, OYK gave a Tour De Force performance to defend CECA. Now hes a Pariah , We encounter a problem in this websites or we come the end the this thread\n"
     ]
    },
    {
     "name": "stderr",
     "output_type": "stream",
     "text": [
      "613it [35:06, 30.18s/it]"
     ]
    },
    {
     "name": "stdout",
     "output_type": "stream",
     "text": [
      "Websites Name:\t 12 yr old being taught anal sex & 9 yr olds told 2, Masturbate as homework in UK. , We encounter a problem in this websites or we come the end the this thread\n"
     ]
    },
    {
     "name": "stderr",
     "output_type": "stream",
     "text": [
      "614it [35:20, 25.56s/it]"
     ]
    },
    {
     "name": "stdout",
     "output_type": "stream",
     "text": [
      "Websites Name:\t Yaya SAF instructor when told not mask up properly talking to recruits at pasir ris said 'Who R U' , We encounter a problem in this websites or we come the end the this thread\n"
     ]
    },
    {
     "name": "stderr",
     "output_type": "stream",
     "text": [
      "615it [39:33, 92.48s/it]"
     ]
    },
    {
     "name": "stdout",
     "output_type": "stream",
     "text": [
      "Websites Name:\t ‘I Wish My Parents Are Here Too’: Pink Dot 2023 Attendees Hope For S’pore To Be More Accepting , We encounter a problem in this websites or we come the end the this thread\n"
     ]
    },
    {
     "name": "stderr",
     "output_type": "stream",
     "text": [
      "616it [41:47, 104.95s/it]"
     ]
    },
    {
     "name": "stdout",
     "output_type": "stream",
     "text": [
      "Websites Name:\t [GPGT] This post sibei deep sia…anyone knows what it means? , We encounter a problem in this websites or we come the end the this thread\n"
     ]
    },
    {
     "name": "stderr",
     "output_type": "stream",
     "text": [
      "617it [42:02, 78.00s/it] "
     ]
    },
    {
     "name": "stdout",
     "output_type": "stream",
     "text": [
      "Websites Name:\t Bentley - Red Swastika School , We encounter a problem in this websites or we come the end the this thread\n"
     ]
    },
    {
     "name": "stderr",
     "output_type": "stream",
     "text": [
      "618it [49:52, 195.13s/it]"
     ]
    },
    {
     "name": "stdout",
     "output_type": "stream",
     "text": [
      "Websites Name:\t GVGT - Chio Malaysia sugar baby says $ can buy love. Give her a house, RM$10K per month and McLaren 720S to drive is good enough… , We encounter a problem in this websites or we come the end the this thread\n"
     ]
    },
    {
     "name": "stderr",
     "output_type": "stream",
     "text": [
      "619it [50:04, 140.39s/it]"
     ]
    },
    {
     "name": "stdout",
     "output_type": "stream",
     "text": [
      "Websites Name:\t I am going to semi-retire next month but...... , We encounter a problem in this websites or we come the end the this thread\n"
     ]
    },
    {
     "name": "stderr",
     "output_type": "stream",
     "text": [
      "620it [50:14, 101.42s/it]"
     ]
    },
    {
     "name": "stdout",
     "output_type": "stream",
     "text": [
      "Websites Name:\t yr coy got event for pride month? , We encounter a problem in this websites or we come the end the this thread\n"
     ]
    },
    {
     "name": "stderr",
     "output_type": "stream",
     "text": [
      "621it [50:21, 73.17s/it] "
     ]
    },
    {
     "name": "stdout",
     "output_type": "stream",
     "text": [
      "Websites Name:\t Pelosi calls on Singapore businesses to support LGBTQ groups , We encounter a problem in this websites or we come the end the this thread\n"
     ]
    },
    {
     "name": "stderr",
     "output_type": "stream",
     "text": [
      "622it [50:29, 53.65s/it]"
     ]
    },
    {
     "name": "stdout",
     "output_type": "stream",
     "text": [
      "Websites Name:\t 'He was crying the entire flight': Mother says her 14-month-old child wasn't served meal on 19-hour SIA flight , We encounter a problem in this websites or we come the end the this thread\n"
     ]
    },
    {
     "name": "stderr",
     "output_type": "stream",
     "text": [
      "623it [51:09, 49.58s/it]"
     ]
    },
    {
     "name": "stdout",
     "output_type": "stream",
     "text": [
      "Websites Name:\t S'pore Psychological Society: People's innate sexual orientations or gender identities were not mental disorders to be fixed , We encounter a problem in this websites or we come the end the this thread\n"
     ]
    },
    {
     "name": "stderr",
     "output_type": "stream",
     "text": [
      "624it [51:11, 35.22s/it]"
     ]
    },
    {
     "name": "stdout",
     "output_type": "stream",
     "text": [
      "Websites Name:\t New reasons for working after retirement , We encounter a problem in this websites or we come the end the this thread\n"
     ]
    },
    {
     "name": "stderr",
     "output_type": "stream",
     "text": [
      "625it [51:19, 27.10s/it]"
     ]
    },
    {
     "name": "stdout",
     "output_type": "stream",
     "text": [
      "Websites Name:\t Mr Koh, 33, had sleepless nights due to stress, so he apply for ComCare and gets $1,450 cash a month , We encounter a problem in this websites or we come the end the this thread\n"
     ]
    },
    {
     "name": "stderr",
     "output_type": "stream",
     "text": [
      "626it [51:40, 25.12s/it]"
     ]
    },
    {
     "name": "stdout",
     "output_type": "stream",
     "text": [
      "Websites Name:\t Will this happen here??? Pronouns and those woke stuff…… , We encounter a problem in this websites or we come the end the this thread\n"
     ]
    },
    {
     "name": "stderr",
     "output_type": "stream",
     "text": [
      "627it [51:45, 19.22s/it]"
     ]
    },
    {
     "name": "stdout",
     "output_type": "stream",
     "text": [
      "Websites Name:\t [AMA] I earn more than 20k a month , We encounter a problem in this websites or we come the end the this thread\n"
     ]
    },
    {
     "name": "stderr",
     "output_type": "stream",
     "text": [
      "628it [52:56, 34.57s/it]"
     ]
    },
    {
     "name": "stdout",
     "output_type": "stream",
     "text": [
      "Websites Name:\t [GVGT] Aaron Yan put XXX into boi boi sia , We encounter a problem in this websites or we come the end the this thread\n"
     ]
    },
    {
     "name": "stderr",
     "output_type": "stream",
     "text": [
      "629it [53:10, 28.56s/it]"
     ]
    },
    {
     "name": "stdout",
     "output_type": "stream",
     "text": [
      "Websites Name:\t awful experience w/ first-hand car - what can we do? , We encounter a problem in this websites or we come the end the this thread\n"
     ]
    },
    {
     "name": "stderr",
     "output_type": "stream",
     "text": [
      "630it [53:18, 22.43s/it]"
     ]
    },
    {
     "name": "stdout",
     "output_type": "stream",
     "text": [
      "Websites Name:\t Stairwell of Clementi HDB block turned rainbow coloured for 3 hours , We encounter a problem in this websites or we come the end the this thread\n"
     ]
    },
    {
     "name": "stderr",
     "output_type": "stream",
     "text": [
      "631it [53:26, 17.94s/it]"
     ]
    },
    {
     "name": "stdout",
     "output_type": "stream",
     "text": [
      "Websites Name:\t Young man working as security personnel bought volkswagen to prove others wrong he can't make it in life , We encounter a problem in this websites or we come the end the this thread\n"
     ]
    },
    {
     "name": "stderr",
     "output_type": "stream",
     "text": [
      "632it [54:06, 24.70s/it]"
     ]
    },
    {
     "name": "stdout",
     "output_type": "stream",
     "text": [
      "Websites Name:\t Bad Experience with TEK today , We encounter a problem in this websites or we come the end the this thread\n"
     ]
    },
    {
     "name": "stderr",
     "output_type": "stream",
     "text": [
      "633it [54:17, 20.64s/it]"
     ]
    },
    {
     "name": "stdout",
     "output_type": "stream",
     "text": [
      "Websites Name:\t Marvel announces first gay Captain America , We encounter a problem in this websites or we come the end the this thread\n"
     ]
    },
    {
     "name": "stderr",
     "output_type": "stream",
     "text": [
      "634it [54:31, 18.66s/it]"
     ]
    },
    {
     "name": "stdout",
     "output_type": "stream",
     "text": [
      "Websites Name:\t We Singaporeans have to sacrifice how much for Singapore Airlines??? , We encounter a problem in this websites or we come the end the this thread\n"
     ]
    },
    {
     "name": "stderr",
     "output_type": "stream",
     "text": [
      "635it [54:48, 17.91s/it]"
     ]
    },
    {
     "name": "stdout",
     "output_type": "stream",
     "text": [
      "Websites Name:\t How is local bank bonus like ? , We encounter a problem in this websites or we come the end the this thread\n"
     ]
    },
    {
     "name": "stderr",
     "output_type": "stream",
     "text": [
      "636it [54:59, 15.85s/it]"
     ]
    },
    {
     "name": "stdout",
     "output_type": "stream",
     "text": [
      "Websites Name:\t What do you think of men who always say buy car in Singapore is stupid and not he can't afford to buy , We encounter a problem in this websites or we come the end the this thread\n"
     ]
    },
    {
     "name": "stderr",
     "output_type": "stream",
     "text": [
      "639it [1:06:06, 169.05s/it]"
     ]
    },
    {
     "name": "stdout",
     "output_type": "stream",
     "text": [
      "Websites Name:\t Help. Does anyone know the Nov 21 Tengah BTO is within the flight paths of Tengah Airbase? , We encounter a problem in this websites or we come the end the this thread\n"
     ]
    },
    {
     "name": "stderr",
     "output_type": "stream",
     "text": [
      "640it [1:07:02, 135.35s/it]"
     ]
    },
    {
     "name": "stdout",
     "output_type": "stream",
     "text": [
      "Websites Name:\t After 377, our society has crumbled to liars n fake figures of uprightness , We encounter a problem in this websites or we come the end the this thread\n"
     ]
    },
    {
     "name": "stderr",
     "output_type": "stream",
     "text": [
      "641it [1:07:05, 95.66s/it] "
     ]
    },
    {
     "name": "stdout",
     "output_type": "stream",
     "text": [
      "Websites Name:\t Pink Dot 14: The Change We Want To. Singapore’s landmark LGBTQ+ rally return to Hong Lim Park on 18 Jun 2022 after 2 years of online-only events. , We encounter a problem in this websites or we come the end the this thread\n"
     ]
    },
    {
     "name": "stderr",
     "output_type": "stream",
     "text": [
      "642it [1:07:13, 69.15s/it]"
     ]
    },
    {
     "name": "stdout",
     "output_type": "stream",
     "text": [
      "Websites Name:\t In case people say i abuse ComCare again… , We encounter a problem in this websites or we come the end the this thread\n"
     ]
    },
    {
     "name": "stderr",
     "output_type": "stream",
     "text": [
      "643it [1:07:30, 53.56s/it]"
     ]
    },
    {
     "name": "stdout",
     "output_type": "stream",
     "text": [
      "Websites Name:\t Highlights from my Tokyo & Tokyo Auto Salon 2015 trip , We encounter a problem in this websites or we come the end the this thread\n"
     ]
    },
    {
     "name": "stderr",
     "output_type": "stream",
     "text": [
      "644it [1:07:33, 38.49s/it]"
     ]
    },
    {
     "name": "stdout",
     "output_type": "stream",
     "text": [
      "Websites Name:\t [GPGT] Humsup di di touch big neh neh pok jie jie !!!!! , We encounter a problem in this websites or we come the end the this thread\n"
     ]
    },
    {
     "name": "stderr",
     "output_type": "stream",
     "text": [
      "645it [1:07:44, 30.31s/it]"
     ]
    },
    {
     "name": "stdout",
     "output_type": "stream",
     "text": [
      "Websites Name:\t If WP wins in a freak election, is Pritam Singh well prepared to be PM? , We encounter a problem in this websites or we come the end the this thread\n"
     ]
    },
    {
     "name": "stderr",
     "output_type": "stream",
     "text": [
      "646it [1:08:49, 40.57s/it]"
     ]
    },
    {
     "name": "stdout",
     "output_type": "stream",
     "text": [
      "Websites Name:\t now flag hanging becomes pa/cc duty? , We encounter a problem in this websites or we come the end the this thread\n"
     ]
    },
    {
     "name": "stderr",
     "output_type": "stream",
     "text": [
      "647it [1:08:57, 30.87s/it]"
     ]
    },
    {
     "name": "stdout",
     "output_type": "stream",
     "text": [
      "Websites Name:\t what can i do? , We encounter a problem in this websites or we come the end the this thread\n"
     ]
    },
    {
     "name": "stderr",
     "output_type": "stream",
     "text": [
      "648it [1:09:11, 25.70s/it]"
     ]
    },
    {
     "name": "stdout",
     "output_type": "stream",
     "text": [
      "An error occurred: Message: element click intercepted: Element <button class=\"button--primary button button--ag-yes\">...</button> is not clickable at point (911, 473). Other element would receive the click: <div id=\"sphm_overlay\">...</div>\n",
      "  (Session info: chrome=121.0.6167.161)\n",
      "Stacktrace:\n",
      "\tGetHandleVerifier [0x00651673+52979]\n",
      "\t(No symbol) [0x005D7961]\n",
      "\t(No symbol) [0x004BDD3D]\n",
      "\t(No symbol) [0x004FB79B]\n",
      "\t(No symbol) [0x004F9EB7]\n",
      "\t(No symbol) [0x004F7F1B]\n",
      "\t(No symbol) [0x004F70BD]\n",
      "\t(No symbol) [0x004EE010]\n",
      "\t(No symbol) [0x005144EC]\n",
      "\t(No symbol) [0x004EDA4E]\n",
      "\t(No symbol) [0x00514784]\n",
      "\t(No symbol) [0x0052B3FE]\n",
      "\t(No symbol) [0x00514286]\n",
      "\t(No symbol) [0x004EC063]\n",
      "\t(No symbol) [0x004ECECD]\n",
      "\tGetHandleVerifier [0x00968D83+3294723]\n",
      "\tGetHandleVerifier [0x009A6CC2+3548482]\n",
      "\tGetHandleVerifier [0x009A1C9C+3527964]\n",
      "\tGetHandleVerifier [0x006E870E+671630]\n",
      "\t(No symbol) [0x005E1EB4]\n",
      "\t(No symbol) [0x005DD808]\n",
      "\t(No symbol) [0x005DD92D]\n",
      "\t(No symbol) [0x005CF7E0]\n",
      "\tBaseThreadInitThunk [0x75EF7BA9+25]\n",
      "\tRtlInitializeExceptionChain [0x7722BD2B+107]\n",
      "\tRtlClearBits [0x7722BCAF+191]\n",
      "\n",
      "Websites Name:\t Actually NDP really need nearly 3 months of rehearsal for what ah? How much tax money spent on this? , We encounter a problem in this websites or we come the end the this thread\n"
     ]
    },
    {
     "name": "stderr",
     "output_type": "stream",
     "text": [
      "649it [1:09:29, 23.46s/it]"
     ]
    },
    {
     "name": "stdout",
     "output_type": "stream",
     "text": [
      "Websites Name:\t Buibui in your 40s and older, do you exercise ah? , We encounter a problem in this websites or we come the end the this thread\n"
     ]
    },
    {
     "name": "stderr",
     "output_type": "stream",
     "text": [
      "650it [1:09:44, 20.97s/it]"
     ]
    },
    {
     "name": "stdout",
     "output_type": "stream",
     "text": [
      "Websites Name:\t The Big Read: Undervalued, underpaid, disrespected – for some, a decent day's work just isn't treated the same by society , We encounter a problem in this websites or we come the end the this thread\n"
     ]
    },
    {
     "name": "stderr",
     "output_type": "stream",
     "text": [
      "651it [1:09:49, 16.19s/it]"
     ]
    },
    {
     "name": "stdout",
     "output_type": "stream",
     "text": [
      "Websites Name:\t Who r u? Who r u? , We encounter a problem in this websites or we come the end the this thread\n"
     ]
    },
    {
     "name": "stderr",
     "output_type": "stream",
     "text": [
      "652it [1:09:58, 14.00s/it]"
     ]
    },
    {
     "name": "stdout",
     "output_type": "stream",
     "text": [
      "Websites Name:\t Monkeypox is spreading in Taiwan and China , We encounter a problem in this websites or we come the end the this thread\n"
     ]
    },
    {
     "name": "stderr",
     "output_type": "stream",
     "text": [
      "653it [1:10:04, 11.50s/it]"
     ]
    },
    {
     "name": "stdout",
     "output_type": "stream",
     "text": [
      "Websites Name:\t yr coy got event for pride month? , We encounter a problem in this websites or we come the end the this thread\n"
     ]
    },
    {
     "name": "stderr",
     "output_type": "stream",
     "text": [
      "654it [1:10:11, 10.30s/it]"
     ]
    },
    {
     "name": "stdout",
     "output_type": "stream",
     "text": [
      "Websites Name:\t Irfan Fandi , We encounter a problem in this websites or we come the end the this thread\n"
     ]
    },
    {
     "name": "stderr",
     "output_type": "stream",
     "text": [
      "655it [1:10:17,  9.02s/it]"
     ]
    },
    {
     "name": "stdout",
     "output_type": "stream",
     "text": [
      "Websites Name:\t if Trump shu shu still president, do you think afghan will still fall to taliban? , We encounter a problem in this websites or we come the end the this thread\n"
     ]
    },
    {
     "name": "stderr",
     "output_type": "stream",
     "text": [
      "656it [1:11:04, 20.38s/it]"
     ]
    },
    {
     "name": "stdout",
     "output_type": "stream",
     "text": [
      "Websites Name:\t Software engineer jailed 4 weeks for filming another man performing sex act alone in DSTA toilet , We encounter a problem in this websites or we come the end the this thread\n"
     ]
    },
    {
     "name": "stderr",
     "output_type": "stream",
     "text": [
      "657it [1:11:26, 20.65s/it]"
     ]
    },
    {
     "name": "stdout",
     "output_type": "stream",
     "text": [
      "Websites Name:\t i went to vote...i cried... , We encounter a problem in this websites or we come the end the this thread\n"
     ]
    },
    {
     "name": "stderr",
     "output_type": "stream",
     "text": [
      "658it [1:11:38, 18.31s/it]"
     ]
    },
    {
     "name": "stdout",
     "output_type": "stream",
     "text": [
      "Websites Name:\t Is $1.5k monthly enough to survive? , We encounter a problem in this websites or we come the end the this thread\n"
     ]
    },
    {
     "name": "stderr",
     "output_type": "stream",
     "text": [
      "659it [1:32:05, 380.69s/it]"
     ]
    },
    {
     "name": "stdout",
     "output_type": "stream",
     "text": [
      "Websites Name:\t [SG50GAT] French AMDK claimed Singaporeans people very lazy, very arrogant, and so often on MC , We encounter a problem in this websites or we come the end the this thread\n"
     ]
    },
    {
     "name": "stderr",
     "output_type": "stream",
     "text": [
      "660it [1:32:43, 277.86s/it]"
     ]
    },
    {
     "name": "stdout",
     "output_type": "stream",
     "text": [
      "Websites Name:\t Breaking! Tiong land is targeting ethnic pride & chinese nationalism in sh1t por! , We encounter a problem in this websites or we come the end the this thread\n"
     ]
    },
    {
     "name": "stderr",
     "output_type": "stream",
     "text": [
      "661it [1:33:22, 206.37s/it]"
     ]
    },
    {
     "name": "stdout",
     "output_type": "stream",
     "text": [
      "Websites Name:\t [FT Pinoy Pride!] Man gets jail for breaking into ex-gf house 9 times to steal $40k , We encounter a problem in this websites or we come the end the this thread\n"
     ]
    },
    {
     "name": "stderr",
     "output_type": "stream",
     "text": [
      "662it [1:33:28, 146.17s/it]"
     ]
    },
    {
     "name": "stdout",
     "output_type": "stream",
     "text": [
      "Websites Name:\t What can you do now if World War 3 (nuclear war) is coming in 6-12 months' time? , We encounter a problem in this websites or we come the end the this thread\n"
     ]
    },
    {
     "name": "stderr",
     "output_type": "stream",
     "text": [
      "663it [1:33:46, 107.87s/it]"
     ]
    },
    {
     "name": "stdout",
     "output_type": "stream",
     "text": [
      "Websites Name:\t Blackbox Research : 45% of Singaporeans say they will be comfortable with a gay Prime Minister or President , We encounter a problem in this websites or we come the end the this thread\n"
     ]
    },
    {
     "name": "stderr",
     "output_type": "stream",
     "text": [
      "664it [1:34:00, 79.53s/it] "
     ]
    },
    {
     "name": "stdout",
     "output_type": "stream",
     "text": [
      "Websites Name:\t OYK: Celebrate the launch of inaugural flight under the SG-HK Air Travel Bubble. It will happen, in the not too distant future , We encounter a problem in this websites or we come the end the this thread\n"
     ]
    },
    {
     "name": "stderr",
     "output_type": "stream",
     "text": [
      "665it [1:34:05, 57.31s/it]"
     ]
    },
    {
     "name": "stdout",
     "output_type": "stream",
     "text": [
      "Websites Name:\t Many Singaporeans feel CDC mayor salaries are 'outrageous': Pritam Singh , We encounter a problem in this websites or we come the end the this thread\n"
     ]
    },
    {
     "name": "stderr",
     "output_type": "stream",
     "text": [
      "666it [1:35:13, 60.47s/it]"
     ]
    },
    {
     "name": "stdout",
     "output_type": "stream",
     "text": [
      "Websites Name:\t If your boss humilate you by demoting you, will you resign?? , We encounter a problem in this websites or we come the end the this thread\n"
     ]
    },
    {
     "name": "stderr",
     "output_type": "stream",
     "text": [
      "667it [1:35:44, 51.58s/it]"
     ]
    },
    {
     "name": "stdout",
     "output_type": "stream",
     "text": [
      "Websites Name:\t I know someone who earns 12k a month but take bus/mrt.... , We encounter a problem in this websites or we come the end the this thread\n"
     ]
    },
    {
     "name": "stderr",
     "output_type": "stream",
     "text": [
      "668it [1:36:18, 46.33s/it]"
     ]
    },
    {
     "name": "stdout",
     "output_type": "stream",
     "text": [
      "Websites Name:\t Gen Z wont settle for lower pay than 4-5k/mth, but can u blame them? , We encounter a problem in this websites or we come the end the this thread\n"
     ]
    },
    {
     "name": "stderr",
     "output_type": "stream",
     "text": [
      "669it [1:36:59, 44.83s/it]"
     ]
    },
    {
     "name": "stdout",
     "output_type": "stream",
     "text": [
      "Websites Name:\t 5 planets are aligned in a rare 'parade' this month. Here's when to see the sky spectacle. , We encounter a problem in this websites or we come the end the this thread\n"
     ]
    },
    {
     "name": "stderr",
     "output_type": "stream",
     "text": [
      "670it [1:37:02, 32.19s/it]"
     ]
    },
    {
     "name": "stdout",
     "output_type": "stream",
     "text": [
      "Websites Name:\t [GPGT] Sinkiebu say she used to not care abt how much a guy makes, but now.. , We encounter a problem in this websites or we come the end the this thread\n"
     ]
    },
    {
     "name": "stderr",
     "output_type": "stream",
     "text": [
      "671it [1:37:44, 35.02s/it]"
     ]
    },
    {
     "name": "stdout",
     "output_type": "stream",
     "text": [
      "Websites Name:\t NDP songs are trash , We encounter a problem in this websites or we come the end the this thread\n"
     ]
    },
    {
     "name": "stderr",
     "output_type": "stream",
     "text": [
      "672it [1:37:57, 28.43s/it]"
     ]
    },
    {
     "name": "stdout",
     "output_type": "stream",
     "text": [
      "Websites Name:\t anyone living in kansai, can lend me SUPER SINKIE stuff? like merlion toy, five stones, chapteh? , We encounter a problem in this websites or we come the end the this thread\n"
     ]
    },
    {
     "name": "stderr",
     "output_type": "stream",
     "text": [
      "673it [1:37:59, 20.53s/it]"
     ]
    },
    {
     "name": "stdout",
     "output_type": "stream",
     "text": [
      "Websites Name:\t Anyone in engineering industry like me? Sg like bo hope low salary. , We encounter a problem in this websites or we come the end the this thread\n"
     ]
    },
    {
     "name": "stderr",
     "output_type": "stream",
     "text": [
      "674it [1:38:38, 26.08s/it]"
     ]
    },
    {
     "name": "stdout",
     "output_type": "stream",
     "text": [
      "Websites Name:\t I Recommend: With SIN-KOR VTL, go to Korea! , We encounter a problem in this websites or we come the end the this thread\n"
     ]
    },
    {
     "name": "stderr",
     "output_type": "stream",
     "text": [
      "675it [1:38:40, 18.95s/it]"
     ]
    },
    {
     "name": "stdout",
     "output_type": "stream",
     "text": [
      "Websites Name:\t Jason Wong open letter to Balestier Khalsa football club appealing on letting sports be sports , We encounter a problem in this websites or we come the end the this thread\n"
     ]
    },
    {
     "name": "stderr",
     "output_type": "stream",
     "text": [
      "676it [1:38:47, 15.33s/it]"
     ]
    },
    {
     "name": "stdout",
     "output_type": "stream",
     "text": [
      "Websites Name:\t 26-year-old earning $4K/month asks if she should be earning more since she has local university degree , We encounter a problem in this websites or we come the end the this thread\n"
     ]
    },
    {
     "name": "stderr",
     "output_type": "stream",
     "text": [
      "677it [1:38:54, 12.74s/it]"
     ]
    },
    {
     "name": "stdout",
     "output_type": "stream",
     "text": [
      "Websites Name:\t ‘I Wish My Parents Are Here Too’: Pink Dot 2023 Attendees Hope For S’pore To Be More Accepting , We encounter a problem in this websites or we come the end the this thread\n"
     ]
    },
    {
     "name": "stderr",
     "output_type": "stream",
     "text": [
      "678it [1:40:46, 42.51s/it]"
     ]
    },
    {
     "name": "stdout",
     "output_type": "stream",
     "text": [
      "Websites Name:\t [GPGT] Spent More Than $1k on Graduation Photoshoot. Worth it or Not? , We encounter a problem in this websites or we come the end the this thread\n"
     ]
    },
    {
     "name": "stderr",
     "output_type": "stream",
     "text": [
      "679it [1:41:02, 34.61s/it]"
     ]
    },
    {
     "name": "stdout",
     "output_type": "stream",
     "text": [
      "Websites Name:\t Apple also joined the Go-Woke movement , We encounter a problem in this websites or we come the end the this thread\n"
     ]
    },
    {
     "name": "stderr",
     "output_type": "stream",
     "text": [
      "681it [1:45:51, 103.00s/it]"
     ]
    },
    {
     "name": "stdout",
     "output_type": "stream",
     "text": [
      "Websites Name:\t ‘I Wish My Parents Are Here Too’: Pink Dot 2023 Attendees Hope For S’pore To Be More Accepting , We encounter a problem in this websites or we come the end the this thread\n"
     ]
    },
    {
     "name": "stderr",
     "output_type": "stream",
     "text": [
      "682it [2:07:44, 465.93s/it]"
     ]
    },
    {
     "name": "stdout",
     "output_type": "stream",
     "text": [
      "Websites Name:\t Taiwan want to fight war? 14days reservist cry until like that liao. Fight what war? , We encounter a problem in this websites or we come the end the this thread\n"
     ]
    },
    {
     "name": "stderr",
     "output_type": "stream",
     "text": [
      "683it [2:08:04, 332.16s/it]"
     ]
    },
    {
     "name": "stdout",
     "output_type": "stream",
     "text": [
      "Websites Name:\t On average, households earned $13,124 each month. , We encounter a problem in this websites or we come the end the this thread\n"
     ]
    },
    {
     "name": "stderr",
     "output_type": "stream",
     "text": [
      "684it [2:08:25, 238.95s/it]"
     ]
    },
    {
     "name": "stdout",
     "output_type": "stream",
     "text": [
      "Websites Name:\t Aaron Yan aka 炎亚纶 from 飞轮海 dio daiji , We encounter a problem in this websites or we come the end the this thread\n"
     ]
    },
    {
     "name": "stderr",
     "output_type": "stream",
     "text": [
      "685it [2:09:31, 186.99s/it]"
     ]
    },
    {
     "name": "stdout",
     "output_type": "stream",
     "text": [
      "Websites Name:\t Health agency confirms community spread of monkeypox in England , We encounter a problem in this websites or we come the end the this thread\n"
     ]
    },
    {
     "name": "stderr",
     "output_type": "stream",
     "text": [
      "686it [2:09:45, 134.94s/it]"
     ]
    },
    {
     "name": "stdout",
     "output_type": "stream",
     "text": [
      "Websites Name:\t How to earn $10k/month , We encounter a problem in this websites or we come the end the this thread\n"
     ]
    },
    {
     "name": "stderr",
     "output_type": "stream",
     "text": [
      "687it [2:10:06, 101.01s/it]"
     ]
    },
    {
     "name": "stdout",
     "output_type": "stream",
     "text": [
      "Websites Name:\t Do you know of any LGBTs in your workplace? If so, are you open to it? , We encounter a problem in this websites or we come the end the this thread\n"
     ]
    },
    {
     "name": "stderr",
     "output_type": "stream",
     "text": [
      "1034it [2:10:46,  7.59s/it]\n"
     ]
    },
    {
     "name": "stdout",
     "output_type": "stream",
     "text": [
      "Aspect is :\tsection 377A\n"
     ]
    },
    {
     "name": "stderr",
     "output_type": "stream",
     "text": [
      "0it [00:00, ?it/s]"
     ]
    },
    {
     "name": "stdout",
     "output_type": "stream",
     "text": [
      "Websites Name:\t DPM Wong: PAP will not lift whip for Parliament debate on Section 377A repeal , We encounter a problem in this websites or we come the end the this thread\n"
     ]
    },
    {
     "name": "stderr",
     "output_type": "stream",
     "text": [
      "835it [00:14, 56.51it/s]"
     ]
    },
    {
     "name": "stdout",
     "output_type": "stream",
     "text": [
      "Websites Name:\t SCMP claimed Singapore may be edging closer to scrapping Section 377A , We encounter a problem in this websites or we come the end the this thread\n"
     ]
    },
    {
     "name": "stderr",
     "output_type": "stream",
     "text": [
      "835it [00:27, 56.51it/s]"
     ]
    },
    {
     "name": "stdout",
     "output_type": "stream",
     "text": [
      "Websites Name:\t Section 377A review: Govt considering how to safeguard 'current legal position on marriage', says Shanmugam , We encounter a problem in this websites or we come the end the this thread\n"
     ]
    },
    {
     "name": "stderr",
     "output_type": "stream",
     "text": [
      "837it [01:15,  8.27it/s]"
     ]
    },
    {
     "name": "stdout",
     "output_type": "stream",
     "text": [
      "Websites Name:\t This guy proposed to his boyfriend... omg!!!! , We encounter a problem in this websites or we come the end the this thread\n"
     ]
    },
    {
     "name": "stderr",
     "output_type": "stream",
     "text": [
      "838it [01:31,  6.29it/s]"
     ]
    },
    {
     "name": "stdout",
     "output_type": "stream",
     "text": [
      "Websites Name:\t Would we soon have a leaked video of a male politician violating the now-repealed Section 377A? , We encounter a problem in this websites or we come the end the this thread\n"
     ]
    },
    {
     "name": "stderr",
     "output_type": "stream",
     "text": [
      "839it [01:36,  5.68it/s]"
     ]
    },
    {
     "name": "stdout",
     "output_type": "stream",
     "text": [
      "Websites Name:\t Homosexual man says that anus sex makes people more healthy \"morally and logically speaking\"???!!! , We encounter a problem in this websites or we come the end the this thread\n"
     ]
    },
    {
     "name": "stderr",
     "output_type": "stream",
     "text": [
      "840it [01:38,  5.44it/s]"
     ]
    },
    {
     "name": "stdout",
     "output_type": "stream",
     "text": [
      "Websites Name:\t Section 377A review: Govt considering how to safeguard 'current legal position on marriage', says Shanmugam , We encounter a problem in this websites or we come the end the this thread\n"
     ]
    },
    {
     "name": "stderr",
     "output_type": "stream",
     "text": [
      "841it [02:26,  1.92it/s]"
     ]
    },
    {
     "name": "stdout",
     "output_type": "stream",
     "text": [
      "Websites Name:\t Community statement by LGBTQ groups on the repeal of 377A. , We encounter a problem in this websites or we come the end the this thread\n"
     ]
    },
    {
     "name": "stderr",
     "output_type": "stream",
     "text": [
      "842it [02:39,  1.56it/s]"
     ]
    },
    {
     "name": "stdout",
     "output_type": "stream",
     "text": [
      "Websites Name:\t PM Lee: The government will repeal Section 377A , We encounter a problem in this websites or we come the end the this thread\n"
     ]
    },
    {
     "name": "stderr",
     "output_type": "stream",
     "text": [
      "843it [04:01,  1.78s/it]"
     ]
    },
    {
     "name": "stdout",
     "output_type": "stream",
     "text": [
      "Websites Name:\t PM Lee: The government will repeal Section 377A , We encounter a problem in this websites or we come the end the this thread\n"
     ]
    },
    {
     "name": "stderr",
     "output_type": "stream",
     "text": [
      "844it [05:45,  3.77s/it]"
     ]
    },
    {
     "name": "stdout",
     "output_type": "stream",
     "text": [
      "Websites Name:\t 377A so debatable/difficult to repeal meh? Lmao all the boomer merdeka gen really arm chio , We encounter a problem in this websites or we come the end the this thread\n"
     ]
    },
    {
     "name": "stderr",
     "output_type": "stream",
     "text": [
      "845it [06:17,  4.52s/it]"
     ]
    },
    {
     "name": "stdout",
     "output_type": "stream",
     "text": [
      "Websites Name:\t PM Lee: The government will repeal Section 377A , We encounter a problem in this websites or we come the end the this thread\n"
     ]
    },
    {
     "name": "stderr",
     "output_type": "stream",
     "text": [
      "846it [07:30,  7.10s/it]"
     ]
    },
    {
     "name": "stdout",
     "output_type": "stream",
     "text": [
      "Websites Name:\t Repeal 377A means what? , We encounter a problem in this websites or we come the end the this thread\n"
     ]
    },
    {
     "name": "stderr",
     "output_type": "stream",
     "text": [
      "847it [07:40,  7.20s/it]"
     ]
    },
    {
     "name": "stdout",
     "output_type": "stream",
     "text": [
      "Websites Name:\t Support for Section 377A drops as attitudes to same-sex relationships shift, survey finds , We encounter a problem in this websites or we come the end the this thread\n"
     ]
    },
    {
     "name": "stderr",
     "output_type": "stream",
     "text": [
      "848it [07:53,  7.64s/it]"
     ]
    },
    {
     "name": "stdout",
     "output_type": "stream",
     "text": [
      "Websites Name:\t Why was the Section 377A introduced in the first place ? , We encounter a problem in this websites or we come the end the this thread\n"
     ]
    },
    {
     "name": "stderr",
     "output_type": "stream",
     "text": [
      "849it [07:56,  7.22s/it]"
     ]
    },
    {
     "name": "stdout",
     "output_type": "stream",
     "text": [
      "Websites Name:\t Debate intensifies over Section 377A in Singapore , We encounter a problem in this websites or we come the end the this thread\n"
     ]
    },
    {
     "name": "stderr",
     "output_type": "stream",
     "text": [
      "850it [08:04,  7.35s/it]"
     ]
    },
    {
     "name": "stdout",
     "output_type": "stream",
     "text": [
      "Websites Name:\t 'Most difficult speech I have to make': MPs have their say in Parliament about the repeal of Section 377A , We encounter a problem in this websites or we come the end the this thread\n"
     ]
    },
    {
     "name": "stderr",
     "output_type": "stream",
     "text": [
      "851it [08:10,  7.10s/it]"
     ]
    },
    {
     "name": "stdout",
     "output_type": "stream",
     "text": [
      "Websites Name:\t Ministers meet with Singapore's religious leaders outline positions on repeal of Section 377A , We encounter a problem in this websites or we come the end the this thread\n"
     ]
    },
    {
     "name": "stderr",
     "output_type": "stream",
     "text": [
      "852it [08:45, 11.63s/it]"
     ]
    },
    {
     "name": "stdout",
     "output_type": "stream",
     "text": [
      "Websites Name:\t Section 377A review: Govt considering how to safeguard 'current legal position on marriage', says Shanmugam , We encounter a problem in this websites or we come the end the this thread\n"
     ]
    },
    {
     "name": "stderr",
     "output_type": "stream",
     "text": [
      "853it [09:40, 19.86s/it]"
     ]
    },
    {
     "name": "stdout",
     "output_type": "stream",
     "text": [
      "Websites Name:\t High Court dismisses all three Section 377A challenges , We encounter a problem in this websites or we come the end the this thread\n"
     ]
    },
    {
     "name": "stderr",
     "output_type": "stream",
     "text": [
      "854it [10:03, 20.62s/it]"
     ]
    },
    {
     "name": "stdout",
     "output_type": "stream",
     "text": [
      "Websites Name:\t Section 377A review: Govt considering how to safeguard 'current legal position on marriage', says Shanmugam , We encounter a problem in this websites or we come the end the this thread\n"
     ]
    },
    {
     "name": "stderr",
     "output_type": "stream",
     "text": [
      "855it [10:55, 27.82s/it]"
     ]
    },
    {
     "name": "stdout",
     "output_type": "stream",
     "text": [
      "Websites Name:\t Support for Section 377A drops as attitudes to same-sex relationships shift, survey finds , We encounter a problem in this websites or we come the end the this thread\n"
     ]
    },
    {
     "name": "stderr",
     "output_type": "stream",
     "text": [
      "856it [11:07, 23.96s/it]"
     ]
    },
    {
     "name": "stdout",
     "output_type": "stream",
     "text": [
      "Websites Name:\t Section 377A: Ministries looking at ways to deal with cancel culture, work pressure, says Shanmugam , We encounter a problem in this websites or we come the end the this thread\n"
     ]
    },
    {
     "name": "stderr",
     "output_type": "stream",
     "text": [
      "857it [11:09, 18.21s/it]"
     ]
    },
    {
     "name": "stdout",
     "output_type": "stream",
     "text": [
      "Websites Name:\t 34% of Singaporeans support the decision to repeal Section 377A, 20% were not, 46% had no opinion , We encounter a problem in this websites or we come the end the this thread\n"
     ]
    },
    {
     "name": "stderr",
     "output_type": "stream",
     "text": [
      "858it [11:15, 14.83s/it]"
     ]
    },
    {
     "name": "stdout",
     "output_type": "stream",
     "text": [
      "Websites Name:\t PM Lee: The government will repeal Section 377A , We encounter a problem in this websites or we come the end the this thread\n"
     ]
    },
    {
     "name": "stderr",
     "output_type": "stream",
     "text": [
      "859it [12:29, 31.52s/it]"
     ]
    },
    {
     "name": "stdout",
     "output_type": "stream",
     "text": [
      "Websites Name:\t Protect 377A Townhall Attracts Over 1,200 Attendees Who Want Govt To Preserve Traditional Marriages , We encounter a problem in this websites or we come the end the this thread\n"
     ]
    },
    {
     "name": "stderr",
     "output_type": "stream",
     "text": [
      "860it [13:34, 41.14s/it]"
     ]
    },
    {
     "name": "stdout",
     "output_type": "stream",
     "text": [
      "Websites Name:\t Luckily PM Lee is no fool when it comes to repealing Section 377A. , We encounter a problem in this websites or we come the end the this thread\n"
     ]
    },
    {
     "name": "stderr",
     "output_type": "stream",
     "text": [
      "861it [14:01, 36.82s/it]"
     ]
    },
    {
     "name": "stdout",
     "output_type": "stream",
     "text": [
      "Websites Name:\t Forum: Repeal Section 377A, then discuss issues separately , We encounter a problem in this websites or we come the end the this thread\n"
     ]
    },
    {
     "name": "stderr",
     "output_type": "stream",
     "text": [
      "862it [14:08, 28.13s/it]"
     ]
    },
    {
     "name": "stdout",
     "output_type": "stream",
     "text": [
      "Websites Name:\t PM Lee: The government will repeal Section 377A , We encounter a problem in this websites or we come the end the this thread\n"
     ]
    },
    {
     "name": "stderr",
     "output_type": "stream",
     "text": [
      "863it [15:43, 47.90s/it]"
     ]
    },
    {
     "name": "stdout",
     "output_type": "stream",
     "text": [
      "Websites Name:\t BUDDHIST JOINT REFLECTION ON THE REPEAL OF SECTION 377A , We encounter a problem in this websites or we come the end the this thread\n"
     ]
    },
    {
     "name": "stderr",
     "output_type": "stream",
     "text": [
      "864it [15:55, 37.27s/it]"
     ]
    },
    {
     "name": "stdout",
     "output_type": "stream",
     "text": [
      "Websites Name:\t News| Govt policies on media content will not alter upon repeal of Section 377A: MCI , We encounter a problem in this websites or we come the end the this thread\n"
     ]
    },
    {
     "name": "stderr",
     "output_type": "stream",
     "text": [
      "865it [15:58, 27.05s/it]"
     ]
    },
    {
     "name": "stdout",
     "output_type": "stream",
     "text": [
      "Websites Name:\t Section 377A review: Govt considering how to safeguard 'current legal position on marriage', says Shanmugam , We encounter a problem in this websites or we come the end the this thread\n"
     ]
    },
    {
     "name": "stderr",
     "output_type": "stream",
     "text": [
      "866it [16:47, 33.75s/it]"
     ]
    },
    {
     "name": "stdout",
     "output_type": "stream",
     "text": [
      "Websites Name:\t we abolish 377A to be more welcoming of foreign billionaires and talents.. , We encounter a problem in this websites or we come the end the this thread\n"
     ]
    },
    {
     "name": "stderr",
     "output_type": "stream",
     "text": [
      "867it [16:53, 25.24s/it]"
     ]
    },
    {
     "name": "stdout",
     "output_type": "stream",
     "text": [
      "Websites Name:\t PM Lee: The government will repeal Section 377A , We encounter a problem in this websites or we come the end the this thread\n"
     ]
    },
    {
     "name": "stderr",
     "output_type": "stream",
     "text": [
      "868it [18:07, 39.95s/it]"
     ]
    },
    {
     "name": "stdout",
     "output_type": "stream",
     "text": [
      "Websites Name:\t Community statement by LGBTQ groups on the repeal of 377A. , We encounter a problem in this websites or we come the end the this thread\n"
     ]
    },
    {
     "name": "stderr",
     "output_type": "stream",
     "text": [
      "869it [18:18, 31.33s/it]"
     ]
    },
    {
     "name": "stdout",
     "output_type": "stream",
     "text": [
      "Websites Name:\t Man admits to threatening judge who dismissed Section 377A challenges , We encounter a problem in this websites or we come the end the this thread\n"
     ]
    },
    {
     "name": "stderr",
     "output_type": "stream",
     "text": [
      "870it [18:26, 24.28s/it]"
     ]
    },
    {
     "name": "stdout",
     "output_type": "stream",
     "text": [
      "Websites Name:\t AWARE Singapore: We greet the repeal of Section 377A of Singapore’s Penal Code with immense joy. , We encounter a problem in this websites or we come the end the this thread\n"
     ]
    },
    {
     "name": "stderr",
     "output_type": "stream",
     "text": [
      "871it [18:33, 19.22s/it]"
     ]
    },
    {
     "name": "stdout",
     "output_type": "stream",
     "text": [
      "Websites Name:\t Forum: Repeal Section 377A, then discuss issues separately , We encounter a problem in this websites or we come the end the this thread\n"
     ]
    },
    {
     "name": "stderr",
     "output_type": "stream",
     "text": [
      "872it [18:39, 15.10s/it]"
     ]
    },
    {
     "name": "stdout",
     "output_type": "stream",
     "text": [
      "Websites Name:\t Section 377A: Religious groups call for unity; poll finds 43% support repeal, double those against , We encounter a problem in this websites or we come the end the this thread\n"
     ]
    },
    {
     "name": "stderr",
     "output_type": "stream",
     "text": [
      "873it [18:42, 11.42s/it]"
     ]
    },
    {
     "name": "stdout",
     "output_type": "stream",
     "text": [
      "Websites Name:\t Luckily PM Lee is no fool when it comes to repealing Section 377A. , We encounter a problem in this websites or we come the end the this thread\n"
     ]
    },
    {
     "name": "stderr",
     "output_type": "stream",
     "text": [
      "874it [38:45, 368.97s/it]"
     ]
    },
    {
     "name": "stdout",
     "output_type": "stream",
     "text": [
      "Websites Name:\t <160 media>Repeal of Section 377A a relief but move to protect marriage definition is 'disappointing', say LGBTQ groups , We encounter a problem in this websites or we come the end the this thread\n"
     ]
    },
    {
     "name": "stderr",
     "output_type": "stream",
     "text": [
      "875it [40:31, 290.10s/it]"
     ]
    },
    {
     "name": "stdout",
     "output_type": "stream",
     "text": [
      "Websites Name:\t 3 WP Sengkang MPs voice support for repeal of 377A , We encounter a problem in this websites or we come the end the this thread\n"
     ]
    },
    {
     "name": "stderr",
     "output_type": "stream",
     "text": [
      "876it [40:37, 204.73s/it]"
     ]
    },
    {
     "name": "stdout",
     "output_type": "stream",
     "text": [
      "Websites Name:\t Pink Dot hails 'victory'. Churches say Section 377A repeal very regrettable. , We encounter a problem in this websites or we come the end the this thread\n"
     ]
    },
    {
     "name": "stderr",
     "output_type": "stream",
     "text": [
      "877it [41:14, 154.55s/it]"
     ]
    },
    {
     "name": "stdout",
     "output_type": "stream",
     "text": [
      "Websites Name:\t Gahmen just repealed 377A but HWZ got alot more conservative , We encounter a problem in this websites or we come the end the this thread\n"
     ]
    },
    {
     "name": "stderr",
     "output_type": "stream",
     "text": [
      "878it [41:20, 110.02s/it]"
     ]
    },
    {
     "name": "stdout",
     "output_type": "stream",
     "text": [
      "Websites Name:\t The government has launched a survey to gather public views about the LGBT+ community in Singapore & Section 377A... , We encounter a problem in this websites or we come the end the this thread\n"
     ]
    },
    {
     "name": "stderr",
     "output_type": "stream",
     "text": [
      "879it [41:46, 84.64s/it] "
     ]
    },
    {
     "name": "stdout",
     "output_type": "stream",
     "text": [
      "Websites Name:\t 6 men who challenged Section 377A in the courts said they were elated & relieved & still in a state of shock & disbelief... , We encounter a problem in this websites or we come the end the this thread\n"
     ]
    },
    {
     "name": "stderr",
     "output_type": "stream",
     "text": [
      "880it [41:48, 59.77s/it]"
     ]
    },
    {
     "name": "stdout",
     "output_type": "stream",
     "text": [
      "Websites Name:\t Pink Dot hails 'victory'. Churches say Section 377A repeal very regrettable. , We encounter a problem in this websites or we come the end the this thread\n"
     ]
    },
    {
     "name": "stderr",
     "output_type": "stream",
     "text": [
      "881it [42:25, 53.10s/it]"
     ]
    },
    {
     "name": "stdout",
     "output_type": "stream",
     "text": [
      "Websites Name:\t 139: Of faith, hope, love and the law: Should Section 377A stay or go? , We encounter a problem in this websites or we come the end the this thread\n"
     ]
    },
    {
     "name": "stderr",
     "output_type": "stream",
     "text": [
      "882it [42:28, 38.13s/it]"
     ]
    },
    {
     "name": "stdout",
     "output_type": "stream",
     "text": [
      "Websites Name:\t [POLL] chiu sarpork repealing Section 377A ?? , We encounter a problem in this websites or we come the end the this thread\n"
     ]
    },
    {
     "name": "stderr",
     "output_type": "stream",
     "text": [
      "883it [42:31, 27.61s/it]"
     ]
    },
    {
     "name": "stdout",
     "output_type": "stream",
     "text": [
      "Websites Name:\t Ministers meet with Singapore's religious leaders outline positions on repeal of Section 377A , We encounter a problem in this websites or we come the end the this thread\n"
     ]
    },
    {
     "name": "stderr",
     "output_type": "stream",
     "text": [
      "884it [43:26, 35.77s/it]"
     ]
    },
    {
     "name": "stdout",
     "output_type": "stream",
     "text": [
      "Websites Name:\t Section 377A was created because of racism, not homophobia , We encounter a problem in this websites or we come the end the this thread\n"
     ]
    },
    {
     "name": "stderr",
     "output_type": "stream",
     "text": [
      "885it [43:29, 25.98s/it]"
     ]
    },
    {
     "name": "stdout",
     "output_type": "stream",
     "text": [
      "Websites Name:\t Did SDP say they are going to seek repelling of Section 377A during their rally? , We encounter a problem in this websites or we come the end the this thread\n"
     ]
    },
    {
     "name": "stderr",
     "output_type": "stream",
     "text": [
      "886it [43:32, 19.08s/it]"
     ]
    },
    {
     "name": "stdout",
     "output_type": "stream",
     "text": [
      "Websites Name:\t Pink Dot hails 'victory'. Churches say Section 377A repeal very regrettable. , We encounter a problem in this websites or we come the end the this thread\n"
     ]
    },
    {
     "name": "stderr",
     "output_type": "stream",
     "text": [
      "887it [44:06, 23.43s/it]"
     ]
    },
    {
     "name": "stdout",
     "output_type": "stream",
     "text": [
      "Websites Name:\t The government has launched a survey to gather public views about the LGBT+ community in Singapore & Section 377A... , We encounter a problem in this websites or we come the end the this thread\n"
     ]
    },
    {
     "name": "stderr",
     "output_type": "stream",
     "text": [
      "888it [44:31, 23.93s/it]"
     ]
    },
    {
     "name": "stdout",
     "output_type": "stream",
     "text": [
      "Websites Name:\t <160 media>Repeal of Section 377A a relief but move to protect marriage definition is 'disappointing', say LGBTQ groups , We encounter a problem in this websites or we come the end the this thread\n"
     ]
    },
    {
     "name": "stderr",
     "output_type": "stream",
     "text": [
      "889it [46:13, 47.45s/it]"
     ]
    },
    {
     "name": "stdout",
     "output_type": "stream",
     "text": [
      "Websites Name:\t DPM Wong: PAP will not lift whip for Parliament debate on Section 377A repeal , We encounter a problem in this websites or we come the end the this thread\n"
     ]
    },
    {
     "name": "stderr",
     "output_type": "stream",
     "text": [
      "890it [46:28, 37.62s/it]"
     ]
    },
    {
     "name": "stdout",
     "output_type": "stream",
     "text": [
      "Websites Name:\t Can EDMW recommend a place where I can go and celebrate for 377A repeal by Pinky ? , We encounter a problem in this websites or we come the end the this thread\n"
     ]
    },
    {
     "name": "stderr",
     "output_type": "stream",
     "text": [
      "891it [46:42, 30.54s/it]"
     ]
    },
    {
     "name": "stdout",
     "output_type": "stream",
     "text": [
      "Websites Name:\t [LIVE 5:30PM 🕠] Government considering best way forward on Section 377A, says Shanmugam , We encounter a problem in this websites or we come the end the this thread\n"
     ]
    },
    {
     "name": "stderr",
     "output_type": "stream",
     "text": [
      "892it [46:45, 22.13s/it]"
     ]
    },
    {
     "name": "stdout",
     "output_type": "stream",
     "text": [
      "Websites Name:\t Section 377A review: Govt considering how to safeguard 'current legal position on marriage', says Shanmugam , We encounter a problem in this websites or we come the end the this thread\n"
     ]
    },
    {
     "name": "stderr",
     "output_type": "stream",
     "text": [
      "893it [47:41, 32.57s/it]"
     ]
    },
    {
     "name": "stdout",
     "output_type": "stream",
     "text": [
      "Websites Name:\t Singapore Buddhist Federation: 'Must agree to disagree' on 'divisive' Section 377A , We encounter a problem in this websites or we come the end the this thread\n"
     ]
    },
    {
     "name": "stderr",
     "output_type": "stream",
     "text": [
      "894it [47:59, 28.05s/it]"
     ]
    },
    {
     "name": "stdout",
     "output_type": "stream",
     "text": [
      "Websites Name:\t Jail for man who threatened judge after challenges against Section 377A were dismissed , We encounter a problem in this websites or we come the end the this thread\n"
     ]
    },
    {
     "name": "stderr",
     "output_type": "stream",
     "text": [
      "895it [48:02, 20.55s/it]"
     ]
    },
    {
     "name": "stdout",
     "output_type": "stream",
     "text": [
      "Websites Name:\t ‘No criminal offence disclosed’ on townhall organisers urging protection for family, marriage in mulling repeal of Section 377A: MHA , We encounter a problem in this websites or we come the end the this thread\n"
     ]
    },
    {
     "name": "stderr",
     "output_type": "stream",
     "text": [
      "896it [48:12, 17.36s/it]"
     ]
    },
    {
     "name": "stdout",
     "output_type": "stream",
     "text": [
      "Websites Name:\t <160 media>Repeal of Section 377A a relief but move to protect marriage definition is 'disappointing', say LGBTQ groups , We encounter a problem in this websites or we come the end the this thread\n"
     ]
    },
    {
     "name": "stderr",
     "output_type": "stream",
     "text": [
      "897it [49:52, 42.13s/it]"
     ]
    },
    {
     "name": "stdout",
     "output_type": "stream",
     "text": [
      "Websites Name:\t MOE statement concerning Section 377A , We encounter a problem in this websites or we come the end the this thread\n"
     ]
    },
    {
     "name": "stderr",
     "output_type": "stream",
     "text": [
      "898it [50:04, 33.10s/it]"
     ]
    },
    {
     "name": "stdout",
     "output_type": "stream",
     "text": [
      "Websites Name:\t <160 media>Repeal of Section 377A a relief but move to protect marriage definition is 'disappointing', say LGBTQ groups , We encounter a problem in this websites or we come the end the this thread\n"
     ]
    },
    {
     "name": "stderr",
     "output_type": "stream",
     "text": [
      "899it [51:55, 56.53s/it]"
     ]
    },
    {
     "name": "stdout",
     "output_type": "stream",
     "text": [
      "Websites Name:\t Section 377A review: Govt considering how to safeguard 'current legal position on marriage', says Shanmugam , We encounter a problem in this websites or we come the end the this thread\n"
     ]
    },
    {
     "name": "stderr",
     "output_type": "stream",
     "text": [
      "900it [52:57, 58.20s/it]"
     ]
    },
    {
     "name": "stdout",
     "output_type": "stream",
     "text": [
      "Websites Name:\t Those convicted under Section 377A can apply to have records rendered spent: Shanmugam , We encounter a problem in this websites or we come the end the this thread\n"
     ]
    },
    {
     "name": "stderr",
     "output_type": "stream",
     "text": [
      "901it [52:59, 41.28s/it]"
     ]
    },
    {
     "name": "stdout",
     "output_type": "stream",
     "text": [
      "Websites Name:\t V unwise for Govt to repeal 377A which criminalises sex between men, until & unless robust safeguards in place especially for sake of our children , We encounter a problem in this websites or we come the end the this thread\n"
     ]
    },
    {
     "name": "stderr",
     "output_type": "stream",
     "text": [
      "902it [53:17, 34.28s/it]"
     ]
    },
    {
     "name": "stdout",
     "output_type": "stream",
     "text": [
      "Websites Name:\t High Court dismisses all three Section 377A challenges , We encounter a problem in this websites or we come the end the this thread\n"
     ]
    },
    {
     "name": "stderr",
     "output_type": "stream",
     "text": [
      "903it [53:32, 28.38s/it]"
     ]
    },
    {
     "name": "stdout",
     "output_type": "stream",
     "text": [
      "Websites Name:\t DPM Wong: PAP will not lift whip for Parliament debate on Section 377A repeal , We encounter a problem in this websites or we come the end the this thread\n"
     ]
    },
    {
     "name": "stderr",
     "output_type": "stream",
     "text": [
      "904it [53:59, 28.20s/it]"
     ]
    },
    {
     "name": "stdout",
     "output_type": "stream",
     "text": [
      "Websites Name:\t Man who called Judge a boomer and told him to watch out after verdict on 377A jailed , We encounter a problem in this websites or we come the end the this thread\n"
     ]
    },
    {
     "name": "stderr",
     "output_type": "stream",
     "text": [
      "905it [54:09, 22.61s/it]"
     ]
    },
    {
     "name": "stdout",
     "output_type": "stream",
     "text": [
      "Websites Name:\t Got give got take! Gov will review 377A but at the same time safeguard marriage , We encounter a problem in this websites or we come the end the this thread\n"
     ]
    },
    {
     "name": "stderr",
     "output_type": "stream",
     "text": [
      "906it [54:12, 16.61s/it]"
     ]
    },
    {
     "name": "stdout",
     "output_type": "stream",
     "text": [
      "Websites Name:\t Opposition ‘missing in action’ when it comes to repeal of Section 377A: PM Lee , We encounter a problem in this websites or we come the end the this thread\n"
     ]
    },
    {
     "name": "stderr",
     "output_type": "stream",
     "text": [
      "907it [54:37, 19.30s/it]"
     ]
    },
    {
     "name": "stdout",
     "output_type": "stream",
     "text": [
      "Websites Name:\t Section 377A repeal: Parents asked to list top concerns in Focus on the Family survey , We encounter a problem in this websites or we come the end the this thread\n"
     ]
    },
    {
     "name": "stderr",
     "output_type": "stream",
     "text": [
      "908it [54:40, 14.23s/it]"
     ]
    },
    {
     "name": "stdout",
     "output_type": "stream",
     "text": [
      "Websites Name:\t PM Lee: The government will repeal Section 377A , We encounter a problem in this websites or we come the end the this thread\n"
     ]
    },
    {
     "name": "stderr",
     "output_type": "stream",
     "text": [
      "909it [55:54, 32.40s/it]"
     ]
    },
    {
     "name": "stdout",
     "output_type": "stream",
     "text": [
      "Websites Name:\t 377A so debatable/difficult to repeal meh? Lmao all the boomer merdeka gen really arm chio , We encounter a problem in this websites or we come the end the this thread\n"
     ]
    },
    {
     "name": "stderr",
     "output_type": "stream",
     "text": [
      "910it [56:24, 31.52s/it]"
     ]
    },
    {
     "name": "stdout",
     "output_type": "stream",
     "text": [
      "Websites Name:\t Man admits to threatening judge who dismissed Section 377A challenges , We encounter a problem in this websites or we come the end the this thread\n"
     ]
    },
    {
     "name": "stderr",
     "output_type": "stream",
     "text": [
      "911it [56:32, 24.53s/it]"
     ]
    },
    {
     "name": "stdout",
     "output_type": "stream",
     "text": [
      "Websites Name:\t Shanmugam on Section 377A: Ministers should refrain from expressing personal views.....which minister ha?? , We encounter a problem in this websites or we come the end the this thread\n"
     ]
    },
    {
     "name": "stderr",
     "output_type": "stream",
     "text": [
      "912it [56:35, 18.05s/it]"
     ]
    },
    {
     "name": "stdout",
     "output_type": "stream",
     "text": [
      "Websites Name:\t The government has launched a survey to gather public views about the LGBT+ community in Singapore & Section 377A... , We encounter a problem in this websites or we come the end the this thread\n"
     ]
    },
    {
     "name": "stderr",
     "output_type": "stream",
     "text": [
      "913it [57:01, 20.35s/it]"
     ]
    },
    {
     "name": "stdout",
     "output_type": "stream",
     "text": [
      "Websites Name:\t Section 377A: Court of Appeal said law on sex between men could be unconstitutional, says Shanmugam , We encounter a problem in this websites or we come the end the this thread\n"
     ]
    },
    {
     "name": "stderr",
     "output_type": "stream",
     "text": [
      "914it [57:13, 17.86s/it]"
     ]
    },
    {
     "name": "stdout",
     "output_type": "stream",
     "text": [
      "Websites Name:\t How come there is no LGBT scandal coming out from parliament since section 377A has been abolished? , We encounter a problem in this websites or we come the end the this thread\n"
     ]
    },
    {
     "name": "stderr",
     "output_type": "stream",
     "text": [
      "915it [57:16, 13.51s/it]"
     ]
    },
    {
     "name": "stdout",
     "output_type": "stream",
     "text": [
      "Websites Name:\t PM Lee: The government will repeal Section 377A , We encounter a problem in this websites or we come the end the this thread\n"
     ]
    },
    {
     "name": "stderr",
     "output_type": "stream",
     "text": [
      "916it [58:29, 31.48s/it]"
     ]
    },
    {
     "name": "stdout",
     "output_type": "stream",
     "text": [
      "Websites Name:\t Singapore Buddhist Federation: 'Must agree to disagree' on 'divisive' Section 377A , We encounter a problem in this websites or we come the end the this thread\n"
     ]
    },
    {
     "name": "stderr",
     "output_type": "stream",
     "text": [
      "917it [58:35, 23.67s/it]"
     ]
    },
    {
     "name": "stdout",
     "output_type": "stream",
     "text": [
      "Websites Name:\t <160 media>Repeal of Section 377A a relief but move to protect marriage definition is 'disappointing', say LGBTQ groups , We encounter a problem in this websites or we come the end the this thread\n"
     ]
    },
    {
     "name": "stderr",
     "output_type": "stream",
     "text": [
      "918it [1:00:22, 48.64s/it]"
     ]
    },
    {
     "name": "stdout",
     "output_type": "stream",
     "text": [
      "Websites Name:\t wa only wp voted against 377a repeal , We encounter a problem in this websites or we come the end the this thread\n"
     ]
    },
    {
     "name": "stderr",
     "output_type": "stream",
     "text": [
      "919it [1:00:24, 34.61s/it]"
     ]
    },
    {
     "name": "stdout",
     "output_type": "stream",
     "text": [
      "Websites Name:\t <160 media>Repeal of Section 377A a relief but move to protect marriage definition is 'disappointing', say LGBTQ groups , We encounter a problem in this websites or we come the end the this thread\n"
     ]
    },
    {
     "name": "stderr",
     "output_type": "stream",
     "text": [
      "920it [1:02:29, 61.78s/it]"
     ]
    },
    {
     "name": "stdout",
     "output_type": "stream",
     "text": [
      "Websites Name:\t [GLGT] We are not illegal anymore.. we looked forward to getting married and starting a family in SG , We encounter a problem in this websites or we come the end the this thread\n"
     ]
    },
    {
     "name": "stderr",
     "output_type": "stream",
     "text": [
      "921it [1:02:57, 51.66s/it]"
     ]
    },
    {
     "name": "stdout",
     "output_type": "stream",
     "text": [
      "Websites Name:\t With repeal of Section 377A a 'done deal', law prof asks: Is it time to initiate public discussion on same-sex marriage? , We encounter a problem in this websites or we come the end the this thread\n"
     ]
    },
    {
     "name": "stderr",
     "output_type": "stream",
     "text": [
      "922it [1:03:15, 41.55s/it]"
     ]
    },
    {
     "name": "stdout",
     "output_type": "stream",
     "text": [
      "Websites Name:\t Luckily PM Lee is no fool when it comes to repealing Section 377A. , We encounter a problem in this websites or we come the end the this thread\n"
     ]
    },
    {
     "name": "stderr",
     "output_type": "stream",
     "text": [
      "923it [1:03:45, 38.17s/it]"
     ]
    },
    {
     "name": "stdout",
     "output_type": "stream",
     "text": [
      "Websites Name:\t ‘No criminal offence disclosed’ on townhall organisers urging protection for family, marriage in mulling repeal of Section 377A: MHA , We encounter a problem in this websites or we come the end the this thread\n"
     ]
    },
    {
     "name": "stderr",
     "output_type": "stream",
     "text": [
      "924it [1:04:07, 33.20s/it]"
     ]
    },
    {
     "name": "stdout",
     "output_type": "stream",
     "text": [
      "Websites Name:\t Shanmugam accuses Workers' Party of not taking stand on 377A; Pritam says minister mischaracterised his speech , We encounter a problem in this websites or we come the end the this thread\n"
     ]
    },
    {
     "name": "stderr",
     "output_type": "stream",
     "text": [
      "925it [1:04:31, 30.58s/it]"
     ]
    },
    {
     "name": "stdout",
     "output_type": "stream",
     "text": [
      "Websites Name:\t Opposition ‘missing in action’ when it comes to repeal of Section 377A: PM Lee , We encounter a problem in this websites or we come the end the this thread\n"
     ]
    },
    {
     "name": "stderr",
     "output_type": "stream",
     "text": [
      "926it [1:04:59, 29.72s/it]"
     ]
    },
    {
     "name": "stdout",
     "output_type": "stream",
     "text": [
      "Websites Name:\t Luckily PM Lee is no fool when it comes to repealing Section 377A. , We encounter a problem in this websites or we come the end the this thread\n"
     ]
    },
    {
     "name": "stderr",
     "output_type": "stream",
     "text": [
      "927it [1:05:20, 26.99s/it]"
     ]
    },
    {
     "name": "stdout",
     "output_type": "stream",
     "text": [
      "Websites Name:\t <160 media>Repeal of Section 377A a relief but move to protect marriage definition is 'disappointing', say LGBTQ groups , We encounter a problem in this websites or we come the end the this thread\n"
     ]
    },
    {
     "name": "stderr",
     "output_type": "stream",
     "text": [
      "928it [1:07:06, 50.95s/it]"
     ]
    },
    {
     "name": "stdout",
     "output_type": "stream",
     "text": [
      "Websites Name:\t PM Lee: The government will repeal Section 377A , We encounter a problem in this websites or we come the end the this thread\n"
     ]
    },
    {
     "name": "stderr",
     "output_type": "stream",
     "text": [
      "929it [1:08:35, 62.19s/it]"
     ]
    },
    {
     "name": "stdout",
     "output_type": "stream",
     "text": [
      "Websites Name:\t PM Lee: The government will repeal Section 377A , We encounter a problem in this websites or we come the end the this thread\n"
     ]
    },
    {
     "name": "stderr",
     "output_type": "stream",
     "text": [
      "930it [1:10:10, 72.10s/it]"
     ]
    },
    {
     "name": "stdout",
     "output_type": "stream",
     "text": [
      "Websites Name:\t DPM Wong: Repeal of Section 377A does not meet ‘very high’ bar to hold referendum , We encounter a problem in this websites or we come the end the this thread\n"
     ]
    },
    {
     "name": "stderr",
     "output_type": "stream",
     "text": [
      "931it [1:10:13, 51.36s/it]"
     ]
    },
    {
     "name": "stdout",
     "output_type": "stream",
     "text": [
      "Websites Name:\t 34% of Singaporeans support the decision to repeal Section 377A, 20% were not, 46% had no opinion , We encounter a problem in this websites or we come the end the this thread\n"
     ]
    },
    {
     "name": "stderr",
     "output_type": "stream",
     "text": [
      "932it [1:10:22, 38.57s/it]"
     ]
    },
    {
     "name": "stdout",
     "output_type": "stream",
     "text": [
      "Websites Name:\t Pink Dot hails 'victory'. Churches say Section 377A repeal very regrettable. , We encounter a problem in this websites or we come the end the this thread\n"
     ]
    },
    {
     "name": "stderr",
     "output_type": "stream",
     "text": [
      "933it [1:11:08, 40.94s/it]"
     ]
    },
    {
     "name": "stdout",
     "output_type": "stream",
     "text": [
      "Websites Name:\t Section 377A review: Govt considering how to safeguard 'current legal position on marriage', says Shanmugam , We encounter a problem in this websites or we come the end the this thread\n"
     ]
    },
    {
     "name": "stderr",
     "output_type": "stream",
     "text": [
      "1034it [1:12:29,  4.21s/it]\n"
     ]
    },
    {
     "name": "stdout",
     "output_type": "stream",
     "text": [
      "Aspect is :\ttransgender\n"
     ]
    },
    {
     "name": "stderr",
     "output_type": "stream",
     "text": [
      "0it [00:00, ?it/s]"
     ]
    },
    {
     "name": "stdout",
     "output_type": "stream",
     "text": [
      "Websites Name:\t [GPGT] 2 Transgender contestants to compete at Miss Universe 2023 in November... , We encounter a problem in this websites or we come the end the this thread\n"
     ]
    },
    {
     "name": "stderr",
     "output_type": "stream",
     "text": [
      "935it [00:08, 112.15it/s]"
     ]
    },
    {
     "name": "stdout",
     "output_type": "stream",
     "text": [
      "Websites Name:\t [SHOCKING] Thousands of transgender U.S. youths are MEDICALLY transitioning. Jiak yok!!! , We encounter a problem in this websites or we come the end the this thread\n",
      "Websites Name:\t Bluebird Way Podcast Episode 11: Cammy , Living As A Transgender In Singapore. , We encounter a problem in this websites or we come the end the this thread\n",
      "Websites Name:\t Male runner ranked 172nd racing as a boy, become transgender and finishes 4th in rankings , We encounter a problem in this websites or we come the end the this thread\n"
     ]
    },
    {
     "name": "stderr",
     "output_type": "stream",
     "text": [
      "935it [00:26, 112.15it/s]"
     ]
    },
    {
     "name": "stdout",
     "output_type": "stream",
     "text": [
      "Websites Name:\t GVGT - Transgender (biological male) tries to breastfeed her/his non-binary baby , We encounter a problem in this websites or we come the end the this thread\n"
     ]
    },
    {
     "name": "stderr",
     "output_type": "stream",
     "text": [
      "939it [00:29, 24.60it/s] "
     ]
    },
    {
     "name": "stdout",
     "output_type": "stream",
     "text": [
      "Websites Name:\t Ellen Page comes out as transgender male... , We encounter a problem in this websites or we come the end the this thread\n"
     ]
    },
    {
     "name": "stderr",
     "output_type": "stream",
     "text": [
      "940it [00:55, 10.30it/s]"
     ]
    },
    {
     "name": "stdout",
     "output_type": "stream",
     "text": [
      "Websites Name:\t Thai transgender getting engaged , We encounter a problem in this websites or we come the end the this thread\n"
     ]
    },
    {
     "name": "stderr",
     "output_type": "stream",
     "text": [
      "941it [01:24,  5.39it/s]"
     ]
    },
    {
     "name": "stdout",
     "output_type": "stream",
     "text": [
      "Websites Name:\t [AP] Dubbed torture, Singapore ID policies leave transgender people sterile , We encounter a problem in this websites or we come the end the this thread\n"
     ]
    },
    {
     "name": "stderr",
     "output_type": "stream",
     "text": [
      "942it [01:55,  3.10it/s]"
     ]
    },
    {
     "name": "stdout",
     "output_type": "stream",
     "text": [
      "Websites Name:\t World's youngest transgender model is only 10 , We encounter a problem in this websites or we come the end the this thread\n"
     ]
    },
    {
     "name": "stderr",
     "output_type": "stream",
     "text": [
      "943it [02:10,  2.40it/s]"
     ]
    },
    {
     "name": "stdout",
     "output_type": "stream",
     "text": [
      "Websites Name:\t Transgender Pool Player STUNNED After Female Competitor WALKS OFF As Crowd ERUPTS IN CHEERS! , We encounter a problem in this websites or we come the end the this thread\n"
     ]
    },
    {
     "name": "stderr",
     "output_type": "stream",
     "text": [
      "944it [02:31,  1.69it/s]"
     ]
    },
    {
     "name": "stdout",
     "output_type": "stream",
     "text": [
      "Websites Name:\t Washington state man found guilty in murder of transgender teen , We encounter a problem in this websites or we come the end the this thread\n"
     ]
    },
    {
     "name": "stderr",
     "output_type": "stream",
     "text": [
      "945it [02:46,  1.62it/s]"
     ]
    },
    {
     "name": "stdout",
     "output_type": "stream",
     "text": [
      "Websites Name:\t Wa [saga] MOE blocks transgender student from receiving hormone therapy , We encounter a problem in this websites or we come the end the this thread\n"
     ]
    },
    {
     "name": "stderr",
     "output_type": "stream",
     "text": [
      "946it [03:05,  1.15s/it]"
     ]
    },
    {
     "name": "stdout",
     "output_type": "stream",
     "text": [
      "Websites Name:\t Thai transgender getting engaged , We encounter a problem in this websites or we come the end the this thread\n"
     ]
    },
    {
     "name": "stderr",
     "output_type": "stream",
     "text": [
      "947it [03:33,  1.81s/it]"
     ]
    },
    {
     "name": "stdout",
     "output_type": "stream",
     "text": [
      "Websites Name:\t Rachel Levine: Transgender official sworn in as four-star admiral in US history , We encounter a problem in this websites or we come the end the this thread\n"
     ]
    },
    {
     "name": "stderr",
     "output_type": "stream",
     "text": [
      "948it [03:43,  2.08s/it]"
     ]
    },
    {
     "name": "stdout",
     "output_type": "stream",
     "text": [
      "Websites Name:\t Transgender woman forced to use men’s locker room sues NYC yoga studio for $5M , We encounter a problem in this websites or we come the end the this thread\n"
     ]
    },
    {
     "name": "stderr",
     "output_type": "stream",
     "text": [
      "949it [03:58,  2.69s/it]"
     ]
    },
    {
     "name": "stdout",
     "output_type": "stream",
     "text": [
      "Websites Name:\t [SAGAT] Transgender student says school barred her again; considering poly route , We encounter a problem in this websites or we come the end the this thread\n"
     ]
    },
    {
     "name": "stderr",
     "output_type": "stream",
     "text": [
      "950it [05:07,  6.76s/it]"
     ]
    },
    {
     "name": "stdout",
     "output_type": "stream",
     "text": [
      "Websites Name:\t UK Judges rule the 33-year-old transgender, should not be send back to SG for NS , We encounter a problem in this websites or we come the end the this thread\n"
     ]
    },
    {
     "name": "stderr",
     "output_type": "stream",
     "text": [
      "951it [05:33,  8.31s/it]"
     ]
    },
    {
     "name": "stdout",
     "output_type": "stream",
     "text": [
      "Websites Name:\t Transgender man who used fake penis to trick women into sex , We encounter a problem in this websites or we come the end the this thread\n"
     ]
    },
    {
     "name": "stderr",
     "output_type": "stream",
     "text": [
      "952it [05:39,  8.02s/it]"
     ]
    },
    {
     "name": "stdout",
     "output_type": "stream",
     "text": [
      "Websites Name:\t Joe Biden 1st day executive order - Reverse Trump ban on transgender serving in US military !!! , We encounter a problem in this websites or we come the end the this thread\n"
     ]
    },
    {
     "name": "stderr",
     "output_type": "stream",
     "text": [
      "952it [05:56,  8.02s/it]"
     ]
    },
    {
     "name": "stdout",
     "output_type": "stream",
     "text": [
      "Websites Name:\t Ellen Page comes out as transgender male... , We encounter a problem in this websites or we come the end the this thread\n"
     ]
    },
    {
     "name": "stderr",
     "output_type": "stream",
     "text": [
      "954it [06:32, 12.25s/it]"
     ]
    },
    {
     "name": "stdout",
     "output_type": "stream",
     "text": [
      "Websites Name:\t Rachel Levine: Transgender official sworn in as four-star admiral in US history , We encounter a problem in this websites or we come the end the this thread\n"
     ]
    },
    {
     "name": "stderr",
     "output_type": "stream",
     "text": [
      "955it [06:46, 12.50s/it]"
     ]
    },
    {
     "name": "stdout",
     "output_type": "stream",
     "text": [
      "Websites Name:\t Is a Transgender Person called 人妖 demeaning??? , We encounter a problem in this websites or we come the end the this thread\n"
     ]
    },
    {
     "name": "stderr",
     "output_type": "stream",
     "text": [
      "956it [06:57, 12.26s/it]"
     ]
    },
    {
     "name": "stdout",
     "output_type": "stream",
     "text": [
      "Websites Name:\t Ellen Page comes out as transgender male... , We encounter a problem in this websites or we come the end the this thread\n"
     ]
    },
    {
     "name": "stderr",
     "output_type": "stream",
     "text": [
      "957it [07:21, 14.60s/it]"
     ]
    },
    {
     "name": "stdout",
     "output_type": "stream",
     "text": [
      "Websites Name:\t Ellen Page comes out as transgender male... , We encounter a problem in this websites or we come the end the this thread\n"
     ]
    },
    {
     "name": "stderr",
     "output_type": "stream",
     "text": [
      "958it [07:47, 16.92s/it]"
     ]
    },
    {
     "name": "stdout",
     "output_type": "stream",
     "text": [
      "Websites Name:\t Thai beauty pageant finalist denied entry into Dubai for being transgender , We encounter a problem in this websites or we come the end the this thread\n"
     ]
    },
    {
     "name": "stderr",
     "output_type": "stream",
     "text": [
      "959it [08:06, 14.76s/it]"
     ]
    },
    {
     "name": "stdout",
     "output_type": "stream",
     "text": [
      "Websites Name:\t Thai transgender getting engaged , We encounter a problem in this websites or we come the end the this thread\n"
     ]
    },
    {
     "name": "stderr",
     "output_type": "stream",
     "text": [
      "960it [08:22, 18.05s/it]"
     ]
    },
    {
     "name": "stdout",
     "output_type": "stream",
     "text": [
      "Websites Name:\t [SHOCKING] Thousands of transgender U.S. youths are MEDICALLY transitioning. Jiak yok!!! , We encounter a problem in this websites or we come the end the this thread\n"
     ]
    },
    {
     "name": "stderr",
     "output_type": "stream",
     "text": [
      "961it [08:32, 15.88s/it]"
     ]
    },
    {
     "name": "stdout",
     "output_type": "stream",
     "text": [
      "Websites Name:\t Any transgender women or self declare women in worldcup woman ? , We encounter a problem in this websites or we come the end the this thread\n"
     ]
    },
    {
     "name": "stderr",
     "output_type": "stream",
     "text": [
      "962it [08:35, 12.24s/it]"
     ]
    },
    {
     "name": "stdout",
     "output_type": "stream",
     "text": [
      "Websites Name:\t Thai transgender getting engaged , We encounter a problem in this websites or we come the end the this thread\n"
     ]
    },
    {
     "name": "stderr",
     "output_type": "stream",
     "text": [
      "963it [09:04, 17.12s/it]"
     ]
    },
    {
     "name": "stdout",
     "output_type": "stream",
     "text": [
      "Websites Name:\t GPGT: Transgender student in ITE got bullied , We encounter a problem in this websites or we come the end the this thread\n"
     ]
    },
    {
     "name": "stderr",
     "output_type": "stream",
     "text": [
      "964it [09:25, 18.10s/it]"
     ]
    },
    {
     "name": "stdout",
     "output_type": "stream",
     "text": [
      "Websites Name:\t UK Judges rule the 33-year-old transgender, should not be send back to SG for NS , We encounter a problem in this websites or we come the end the this thread\n"
     ]
    },
    {
     "name": "stderr",
     "output_type": "stream",
     "text": [
      "965it [09:54, 21.36s/it]"
     ]
    },
    {
     "name": "stdout",
     "output_type": "stream",
     "text": [
      "Websites Name:\t [SAGAT] Transgender student says school barred her again; considering poly route , We encounter a problem in this websites or we come the end the this thread\n"
     ]
    },
    {
     "name": "stderr",
     "output_type": "stream",
     "text": [
      "966it [11:02, 35.02s/it]"
     ]
    },
    {
     "name": "stdout",
     "output_type": "stream",
     "text": [
      "Websites Name:\t Disney president who is the 'mother of a transgender and a pansexual child' says she wants at least half of ALL future characters to be LGBTQIA , We encounter a problem in this websites or we come the end the this thread\n"
     ]
    },
    {
     "name": "stderr",
     "output_type": "stream",
     "text": [
      "967it [11:26, 31.66s/it]"
     ]
    },
    {
     "name": "stdout",
     "output_type": "stream",
     "text": [
      "Websites Name:\t Thai transgender women pose with exemption certs after getting drafted for army , We encounter a problem in this websites or we come the end the this thread\n"
     ]
    },
    {
     "name": "stderr",
     "output_type": "stream",
     "text": [
      "968it [11:46, 28.35s/it]"
     ]
    },
    {
     "name": "stdout",
     "output_type": "stream",
     "text": [
      "Websites Name:\t Transgender woman forced to use men’s locker room sues NYC yoga studio for $5M , We encounter a problem in this websites or we come the end the this thread\n"
     ]
    },
    {
     "name": "stderr",
     "output_type": "stream",
     "text": [
      "969it [12:03, 24.95s/it]"
     ]
    },
    {
     "name": "stdout",
     "output_type": "stream",
     "text": [
      "Websites Name:\t More than 300 teachers, counsellors, social workers urge MOE to support transgender students , We encounter a problem in this websites or we come the end the this thread\n"
     ]
    },
    {
     "name": "stderr",
     "output_type": "stream",
     "text": [
      "970it [12:23, 23.42s/it]"
     ]
    },
    {
     "name": "stdout",
     "output_type": "stream",
     "text": [
      "Websites Name:\t Wa [saga] MOE blocks transgender student from receiving hormone therapy , We encounter a problem in this websites or we come the end the this thread\n"
     ]
    },
    {
     "name": "stderr",
     "output_type": "stream",
     "text": [
      "971it [12:57, 26.67s/it]"
     ]
    },
    {
     "name": "stdout",
     "output_type": "stream",
     "text": [
      "Websites Name:\t Daddy just gave birth! , We encounter a problem in this websites or we come the end the this thread\n"
     ]
    },
    {
     "name": "stderr",
     "output_type": "stream",
     "text": [
      "972it [13:00, 19.52s/it]"
     ]
    },
    {
     "name": "stdout",
     "output_type": "stream",
     "text": [
      "Websites Name:\t Is a transgender person male or female? , We encounter a problem in this websites or we come the end the this thread\n"
     ]
    },
    {
     "name": "stderr",
     "output_type": "stream",
     "text": [
      "973it [13:08, 16.06s/it]"
     ]
    },
    {
     "name": "stdout",
     "output_type": "stream",
     "text": [
      "Websites Name:\t Report Reveals Sharp Rise in Transgender Young People in the U.S. , We encounter a problem in this websites or we come the end the this thread\n"
     ]
    },
    {
     "name": "stderr",
     "output_type": "stream",
     "text": [
      "974it [13:20, 14.97s/it]"
     ]
    },
    {
     "name": "stdout",
     "output_type": "stream",
     "text": [
      "Websites Name:\t More than 300 teachers, counsellors, social workers urge MOE to support transgender students , We encounter a problem in this websites or we come the end the this thread\n"
     ]
    },
    {
     "name": "stderr",
     "output_type": "stream",
     "text": [
      "975it [13:42, 17.04s/it]"
     ]
    },
    {
     "name": "stdout",
     "output_type": "stream",
     "text": [
      "Websites Name:\t [AP] Dubbed torture, Singapore ID policies leave transgender people sterile , We encounter a problem in this websites or we come the end the this thread\n"
     ]
    },
    {
     "name": "stderr",
     "output_type": "stream",
     "text": [
      "976it [14:11, 20.51s/it]"
     ]
    },
    {
     "name": "stdout",
     "output_type": "stream",
     "text": [
      "Websites Name:\t Thai transgender women pose with exemption certs after getting drafted for army , We encounter a problem in this websites or we come the end the this thread\n"
     ]
    },
    {
     "name": "stderr",
     "output_type": "stream",
     "text": [
      "977it [14:31, 20.41s/it]"
     ]
    },
    {
     "name": "stdout",
     "output_type": "stream",
     "text": [
      "Websites Name:\t Wa [saga] MOE blocks transgender student from receiving hormone therapy , We encounter a problem in this websites or we come the end the this thread\n"
     ]
    },
    {
     "name": "stderr",
     "output_type": "stream",
     "text": [
      "978it [15:01, 23.30s/it]"
     ]
    },
    {
     "name": "stdout",
     "output_type": "stream",
     "text": [
      "Websites Name:\t [GVGT]Transgender zeh zeh (kor kor) explained why she (he) did not serve NS. , We encounter a problem in this websites or we come the end the this thread\n"
     ]
    },
    {
     "name": "stderr",
     "output_type": "stream",
     "text": [
      "979it [15:15, 20.41s/it]"
     ]
    },
    {
     "name": "stdout",
     "output_type": "stream",
     "text": [
      "Websites Name:\t WHERE ARE THE CHANGI VILLAGE TRANSVESTITES: THE PLIGHT OF TRANSGENDER PEOPLE IN SINGAPORE , We encounter a problem in this websites or we come the end the this thread\n"
     ]
    },
    {
     "name": "stderr",
     "output_type": "stream",
     "text": [
      "980it [15:23, 16.86s/it]"
     ]
    },
    {
     "name": "stdout",
     "output_type": "stream",
     "text": [
      "Websites Name:\t Biden signed exec order to mandate schools to allow transgender male compete in girl sports , We encounter a problem in this websites or we come the end the this thread\n"
     ]
    },
    {
     "name": "stderr",
     "output_type": "stream",
     "text": [
      "981it [15:48, 19.11s/it]"
     ]
    },
    {
     "name": "stdout",
     "output_type": "stream",
     "text": [
      "Websites Name:\t Women prisoners raped by \"Transgender\" prisoners , We encounter a problem in this websites or we come the end the this thread\n"
     ]
    },
    {
     "name": "stderr",
     "output_type": "stream",
     "text": [
      "982it [15:56, 15.93s/it]"
     ]
    },
    {
     "name": "stdout",
     "output_type": "stream",
     "text": [
      "Websites Name:\t Reuters appoints transgender Singaporean journalist Gina Chua as executive editor , We encounter a problem in this websites or we come the end the this thread\n"
     ]
    },
    {
     "name": "stderr",
     "output_type": "stream",
     "text": [
      "983it [16:04, 13.52s/it]"
     ]
    },
    {
     "name": "stdout",
     "output_type": "stream",
     "text": [
      "Websites Name:\t GPGT - US chiobu female Olympian swimmer lose to this transgender , We encounter a problem in this websites or we come the end the this thread\n"
     ]
    },
    {
     "name": "stderr",
     "output_type": "stream",
     "text": [
      "984it [16:23, 15.18s/it]"
     ]
    },
    {
     "name": "stdout",
     "output_type": "stream",
     "text": [
      "Websites Name:\t Wa [saga] MOE blocks transgender student from receiving hormone therapy , We encounter a problem in this websites or we come the end the this thread\n"
     ]
    },
    {
     "name": "stderr",
     "output_type": "stream",
     "text": [
      "985it [16:58, 21.02s/it]"
     ]
    },
    {
     "name": "stdout",
     "output_type": "stream",
     "text": [
      "Websites Name:\t 1st transgender olympic athlete NZ Laurel Hubbard fails all 3 lifts as China takes gold , We encounter a problem in this websites or we come the end the this thread\n"
     ]
    },
    {
     "name": "stderr",
     "output_type": "stream",
     "text": [
      "986it [17:01, 15.54s/it]"
     ]
    },
    {
     "name": "stdout",
     "output_type": "stream",
     "text": [
      "Websites Name:\t Should Transgender People Be Allowed in Women's Bathhouses? | Japan Street Interview , We encounter a problem in this websites or we come the end the this thread\n"
     ]
    },
    {
     "name": "stderr",
     "output_type": "stream",
     "text": [
      "987it [17:03, 11.60s/it]"
     ]
    },
    {
     "name": "stdout",
     "output_type": "stream",
     "text": [
      "Websites Name:\t If a transgender (M to F) date a girl , We encounter a problem in this websites or we come the end the this thread\n"
     ]
    },
    {
     "name": "stderr",
     "output_type": "stream",
     "text": [
      "988it [17:08,  9.74s/it]"
     ]
    },
    {
     "name": "stdout",
     "output_type": "stream",
     "text": [
      "Websites Name:\t [AP] Dubbed torture, Singapore ID policies leave transgender people sterile , We encounter a problem in this websites or we come the end the this thread\n"
     ]
    },
    {
     "name": "stderr",
     "output_type": "stream",
     "text": [
      "989it [17:37, 15.41s/it]"
     ]
    },
    {
     "name": "stdout",
     "output_type": "stream",
     "text": [
      "Websites Name:\t GPGT: Transgender student in ITE got bullied , We encounter a problem in this websites or we come the end the this thread\n"
     ]
    },
    {
     "name": "stderr",
     "output_type": "stream",
     "text": [
      "990it [17:47, 13.91s/it]"
     ]
    },
    {
     "name": "stdout",
     "output_type": "stream",
     "text": [
      "Websites Name:\t Thai transgender getting engaged , We encounter a problem in this websites or we come the end the this thread\n"
     ]
    },
    {
     "name": "stderr",
     "output_type": "stream",
     "text": [
      "991it [18:15, 18.15s/it]"
     ]
    },
    {
     "name": "stdout",
     "output_type": "stream",
     "text": [
      "Websites Name:\t [GVGT] What Discrimination Looks Like for Transgender Students in Singapore , We encounter a problem in this websites or we come the end the this thread\n"
     ]
    },
    {
     "name": "stderr",
     "output_type": "stream",
     "text": [
      "992it [18:18, 13.56s/it]"
     ]
    },
    {
     "name": "stdout",
     "output_type": "stream",
     "text": [
      "Websites Name:\t UK Judges rule the 33-year-old transgender, should not be send back to SG for NS , We encounter a problem in this websites or we come the end the this thread\n"
     ]
    },
    {
     "name": "stderr",
     "output_type": "stream",
     "text": [
      "993it [18:45, 17.48s/it]"
     ]
    },
    {
     "name": "stdout",
     "output_type": "stream",
     "text": [
      "Websites Name:\t Transgender \"woman\" who competes in female weight lifting complains about male identify as female smashing his records. , We encounter a problem in this websites or we come the end the this thread\n"
     ]
    },
    {
     "name": "stderr",
     "output_type": "stream",
     "text": [
      "994it [19:24, 23.84s/it]"
     ]
    },
    {
     "name": "stdout",
     "output_type": "stream",
     "text": [
      "An error occurred: Message: element click intercepted: Element <button class=\"button--primary button button--ag-yes\">...</button> is not clickable at point (911, 473). Other element would receive the click: <div id=\"sphm_overlay\">...</div>\n",
      "  (Session info: chrome=121.0.6167.161)\n",
      "Stacktrace:\n",
      "\tGetHandleVerifier [0x00651673+52979]\n",
      "\t(No symbol) [0x005D7961]\n",
      "\t(No symbol) [0x004BDD3D]\n",
      "\t(No symbol) [0x004FB79B]\n",
      "\t(No symbol) [0x004F9EB7]\n",
      "\t(No symbol) [0x004F7F1B]\n",
      "\t(No symbol) [0x004F70BD]\n",
      "\t(No symbol) [0x004EE010]\n",
      "\t(No symbol) [0x005144EC]\n",
      "\t(No symbol) [0x004EDA4E]\n",
      "\t(No symbol) [0x00514784]\n",
      "\t(No symbol) [0x0052B3FE]\n",
      "\t(No symbol) [0x00514286]\n",
      "\t(No symbol) [0x004EC063]\n",
      "\t(No symbol) [0x004ECECD]\n",
      "\tGetHandleVerifier [0x00968D83+3294723]\n",
      "\tGetHandleVerifier [0x009A6CC2+3548482]\n",
      "\tGetHandleVerifier [0x009A1C9C+3527964]\n",
      "\tGetHandleVerifier [0x006E870E+671630]\n",
      "\t(No symbol) [0x005E1EB4]\n",
      "\t(No symbol) [0x005DD808]\n",
      "\t(No symbol) [0x005DD92D]\n",
      "\t(No symbol) [0x005CF7E0]\n",
      "\tBaseThreadInitThunk [0x75EF7BA9+25]\n",
      "\tRtlInitializeExceptionChain [0x7722BD2B+107]\n",
      "\tRtlClearBits [0x7722BCAF+191]\n",
      "\n",
      "Websites Name:\t Transgender Woman Raped In IMH, NHG Invokes 377A Against Her , We encounter a problem in this websites or we come the end the this thread\n"
     ]
    },
    {
     "name": "stderr",
     "output_type": "stream",
     "text": [
      "995it [20:10, 30.65s/it]"
     ]
    },
    {
     "name": "stdout",
     "output_type": "stream",
     "text": [
      "Websites Name:\t UPenn transgender swimmer continues dominant season with more record-breaking wins , We encounter a problem in this websites or we come the end the this thread\n"
     ]
    },
    {
     "name": "stderr",
     "output_type": "stream",
     "text": [
      "996it [20:20, 24.40s/it]"
     ]
    },
    {
     "name": "stdout",
     "output_type": "stream",
     "text": [
      "Websites Name:\t Transgender \"woman\" who competes in female weight lifting complains about male identify as female smashing his records. , We encounter a problem in this websites or we come the end the this thread\n"
     ]
    },
    {
     "name": "stderr",
     "output_type": "stream",
     "text": [
      "997it [20:48, 25.63s/it]"
     ]
    },
    {
     "name": "stdout",
     "output_type": "stream",
     "text": [
      "Websites Name:\t [SAGAT] Transgender student says school barred her again; considering poly route , We encounter a problem in this websites or we come the end the this thread\n"
     ]
    },
    {
     "name": "stderr",
     "output_type": "stream",
     "text": [
      "998it [22:02, 40.12s/it]"
     ]
    },
    {
     "name": "stdout",
     "output_type": "stream",
     "text": [
      "Websites Name:\t Wa [saga] MOE blocks transgender student from receiving hormone therapy , We encounter a problem in this websites or we come the end the this thread\n"
     ]
    },
    {
     "name": "stderr",
     "output_type": "stream",
     "text": [
      "999it [22:36, 38.22s/it]"
     ]
    },
    {
     "name": "stdout",
     "output_type": "stream",
     "text": [
      "Websites Name:\t [GVGT] Boyfriend of late Thai actress Tango appears in Transgender singer's MV , We encounter a problem in this websites or we come the end the this thread\n"
     ]
    },
    {
     "name": "stderr",
     "output_type": "stream",
     "text": [
      "1000it [22:38, 27.45s/it]"
     ]
    },
    {
     "name": "stdout",
     "output_type": "stream",
     "text": [
      "Websites Name:\t [AP] Dubbed torture, Singapore ID policies leave transgender people sterile , We encounter a problem in this websites or we come the end the this thread\n"
     ]
    },
    {
     "name": "stderr",
     "output_type": "stream",
     "text": [
      "1001it [23:11, 28.91s/it]"
     ]
    },
    {
     "name": "stdout",
     "output_type": "stream",
     "text": [
      "Websites Name:\t Rachel Levine: Transgender official sworn in as four-star admiral in US history , We encounter a problem in this websites or we come the end the this thread\n"
     ]
    },
    {
     "name": "stderr",
     "output_type": "stream",
     "text": [
      "1002it [23:24, 24.29s/it]"
     ]
    },
    {
     "name": "stdout",
     "output_type": "stream",
     "text": [
      "Websites Name:\t UK Judges rule the 33-year-old transgender, should not be send back to SG for NS , We encounter a problem in this websites or we come the end the this thread\n"
     ]
    },
    {
     "name": "stderr",
     "output_type": "stream",
     "text": [
      "1003it [23:57, 26.90s/it]"
     ]
    },
    {
     "name": "stdout",
     "output_type": "stream",
     "text": [
      "Websites Name:\t Thai transgender women pose with exemption certs after getting drafted for army , We encounter a problem in this websites or we come the end the this thread\n"
     ]
    },
    {
     "name": "stderr",
     "output_type": "stream",
     "text": [
      "1004it [24:35, 30.18s/it]"
     ]
    },
    {
     "name": "stdout",
     "output_type": "stream",
     "text": [
      "Websites Name:\t [SAGAT] Transgender student says school barred her again; considering poly route , We encounter a problem in this websites or we come the end the this thread\n"
     ]
    },
    {
     "name": "stderr",
     "output_type": "stream",
     "text": [
      "1005it [25:48, 43.02s/it]"
     ]
    },
    {
     "name": "stdout",
     "output_type": "stream",
     "text": [
      "Websites Name:\t [video] Wa la.....Pattaya's transgender show returns after 3 years' hiatus !!! , We encounter a problem in this websites or we come the end the this thread\n"
     ]
    },
    {
     "name": "stderr",
     "output_type": "stream",
     "text": [
      "1006it [25:51, 30.90s/it]"
     ]
    },
    {
     "name": "stdout",
     "output_type": "stream",
     "text": [
      "Websites Name:\t sinkapore transgender share their story , We encounter a problem in this websites or we come the end the this thread\n"
     ]
    },
    {
     "name": "stderr",
     "output_type": "stream",
     "text": [
      "1007it [25:58, 23.80s/it]"
     ]
    },
    {
     "name": "stdout",
     "output_type": "stream",
     "text": [
      "Websites Name:\t as a man do u prefer , We encounter a problem in this websites or we come the end the this thread\n"
     ]
    },
    {
     "name": "stderr",
     "output_type": "stream",
     "text": [
      "1008it [26:00, 17.41s/it]"
     ]
    },
    {
     "name": "stdout",
     "output_type": "stream",
     "text": [
      "Websites Name:\t [CNA Insider Documentary] \"My Life As A Transgender University Student\" , We encounter a problem in this websites or we come the end the this thread\n"
     ]
    },
    {
     "name": "stderr",
     "output_type": "stream",
     "text": [
      "1009it [26:02, 12.73s/it]"
     ]
    },
    {
     "name": "stdout",
     "output_type": "stream",
     "text": [
      "Websites Name:\t [SAGAT] Transgender student says school barred her again; considering poly route , We encounter a problem in this websites or we come the end the this thread\n"
     ]
    },
    {
     "name": "stderr",
     "output_type": "stream",
     "text": [
      "1010it [27:14, 30.37s/it]"
     ]
    },
    {
     "name": "stdout",
     "output_type": "stream",
     "text": [
      "Websites Name:\t [AP] Dubbed torture, Singapore ID policies leave transgender people sterile , We encounter a problem in this websites or we come the end the this thread\n"
     ]
    },
    {
     "name": "stderr",
     "output_type": "stream",
     "text": [
      "1011it [27:46, 30.96s/it]"
     ]
    },
    {
     "name": "stdout",
     "output_type": "stream",
     "text": [
      "Websites Name:\t Disney president who is the 'mother of a transgender and a pansexual child' says she wants at least half of ALL future characters to be LGBTQIA , We encounter a problem in this websites or we come the end the this thread\n"
     ]
    },
    {
     "name": "stderr",
     "output_type": "stream",
     "text": [
      "1012it [28:10, 28.91s/it]"
     ]
    },
    {
     "name": "stdout",
     "output_type": "stream",
     "text": [
      "Websites Name:\t Teammates of transgender swimmer seek bar from women's competition , We encounter a problem in this websites or we come the end the this thread\n"
     ]
    },
    {
     "name": "stderr",
     "output_type": "stream",
     "text": [
      "1013it [28:19, 22.95s/it]"
     ]
    },
    {
     "name": "stdout",
     "output_type": "stream",
     "text": [
      "Websites Name:\t [SAGAT] Transgender student says school barred her again; considering poly route , We encounter a problem in this websites or we come the end the this thread\n"
     ]
    },
    {
     "name": "stderr",
     "output_type": "stream",
     "text": [
      "1014it [29:57, 45.26s/it]"
     ]
    },
    {
     "name": "stdout",
     "output_type": "stream",
     "text": [
      "Websites Name:\t Transgender Indonesians spotlight plastics pollution , We encounter a problem in this websites or we come the end the this thread\n"
     ]
    },
    {
     "name": "stderr",
     "output_type": "stream",
     "text": [
      "1015it [30:00, 32.58s/it]"
     ]
    },
    {
     "name": "stdout",
     "output_type": "stream",
     "text": [
      "Websites Name:\t GPGT - US chiobu female Olympian swimmer lose to this transgender , We encounter a problem in this websites or we come the end the this thread\n"
     ]
    },
    {
     "name": "stderr",
     "output_type": "stream",
     "text": [
      "1016it [30:10, 26.01s/it]"
     ]
    },
    {
     "name": "stdout",
     "output_type": "stream",
     "text": [
      "Websites Name:\t [SAGAT] Transgender student says school barred her again; considering poly route , We encounter a problem in this websites or we come the end the this thread\n"
     ]
    },
    {
     "name": "stderr",
     "output_type": "stream",
     "text": [
      "1017it [31:19, 38.82s/it]"
     ]
    },
    {
     "name": "stdout",
     "output_type": "stream",
     "text": [
      "Websites Name:\t [GVGT]Transgender zeh zeh (kor kor) explained why she (he) did not serve NS. , We encounter a problem in this websites or we come the end the this thread\n"
     ]
    },
    {
     "name": "stderr",
     "output_type": "stream",
     "text": [
      "1018it [31:33, 31.24s/it]"
     ]
    },
    {
     "name": "stdout",
     "output_type": "stream",
     "text": [
      "Websites Name:\t Would chiu choose a dinobu or a chio transgender? , We encounter a problem in this websites or we come the end the this thread\n"
     ]
    },
    {
     "name": "stderr",
     "output_type": "stream",
     "text": [
      "1019it [31:41, 24.37s/it]"
     ]
    },
    {
     "name": "stdout",
     "output_type": "stream",
     "text": [
      "Websites Name:\t South Korea 1st transgender soldier commit suicide, spark anger in south korea , We encounter a problem in this websites or we come the end the this thread\n"
     ]
    },
    {
     "name": "stderr",
     "output_type": "stream",
     "text": [
      "1020it [31:43, 17.58s/it]"
     ]
    },
    {
     "name": "stdout",
     "output_type": "stream",
     "text": [
      "Websites Name:\t Singaporean Transgender Woman Is 1st Runner-Up At World’s Largest Transgender Pageant, Miss International Queen , We encounter a problem in this websites or we come the end the this thread\n"
     ]
    },
    {
     "name": "stderr",
     "output_type": "stream",
     "text": [
      "1021it [31:56, 16.36s/it]"
     ]
    },
    {
     "name": "stdout",
     "output_type": "stream",
     "text": [
      "Websites Name:\t [AP] Dubbed torture, Singapore ID policies leave transgender people sterile , We encounter a problem in this websites or we come the end the this thread\n"
     ]
    },
    {
     "name": "stderr",
     "output_type": "stream",
     "text": [
      "1022it [32:26, 20.54s/it]"
     ]
    },
    {
     "name": "stdout",
     "output_type": "stream",
     "text": [
      "Websites Name:\t Florida ban transgender in sports, school can check chiu got kkj or not , We encounter a problem in this websites or we come the end the this thread\n"
     ]
    },
    {
     "name": "stderr",
     "output_type": "stream",
     "text": [
      "1023it [32:29, 15.28s/it]"
     ]
    },
    {
     "name": "stdout",
     "output_type": "stream",
     "text": [
      "Websites Name:\t Convicted man claims to be transgender woman, impregnate 2 inmates! , We encounter a problem in this websites or we come the end the this thread\n"
     ]
    },
    {
     "name": "stderr",
     "output_type": "stream",
     "text": [
      "1024it [32:42, 14.55s/it]"
     ]
    },
    {
     "name": "stdout",
     "output_type": "stream",
     "text": [
      "Websites Name:\t Teammates of transgender swimmer seek bar from women's competition , We encounter a problem in this websites or we come the end the this thread\n"
     ]
    },
    {
     "name": "stderr",
     "output_type": "stream",
     "text": [
      "1025it [33:06, 17.41s/it]"
     ]
    },
    {
     "name": "stdout",
     "output_type": "stream",
     "text": [
      "Websites Name:\t Transgender Woman Raped In IMH, NHG Invokes 377A Against Her , We encounter a problem in this websites or we come the end the this thread\n"
     ]
    },
    {
     "name": "stderr",
     "output_type": "stream",
     "text": [
      "1026it [33:45, 23.68s/it]"
     ]
    },
    {
     "name": "stdout",
     "output_type": "stream",
     "text": [
      "Websites Name:\t Transgender woman forced to use men’s locker room sues NYC yoga studio for $5M , We encounter a problem in this websites or we come the end the this thread\n"
     ]
    },
    {
     "name": "stderr",
     "output_type": "stream",
     "text": [
      "1027it [33:59, 21.01s/it]"
     ]
    },
    {
     "name": "stdout",
     "output_type": "stream",
     "text": [
      "Websites Name:\t Would chiu choose a dinobu or a chio transgender? , We encounter a problem in this websites or we come the end the this thread\n"
     ]
    },
    {
     "name": "stderr",
     "output_type": "stream",
     "text": [
      "1028it [34:07, 16.99s/it]"
     ]
    },
    {
     "name": "stdout",
     "output_type": "stream",
     "text": [
      "Websites Name:\t Thai transgender getting engaged , We encounter a problem in this websites or we come the end the this thread\n"
     ]
    },
    {
     "name": "stderr",
     "output_type": "stream",
     "text": [
      "1029it [34:36, 20.46s/it]"
     ]
    },
    {
     "name": "stdout",
     "output_type": "stream",
     "text": [
      "Websites Name:\t This transgender thing is getting out of hand , We encounter a problem in this websites or we come the end the this thread\n"
     ]
    },
    {
     "name": "stderr",
     "output_type": "stream",
     "text": [
      "1030it [34:38, 15.06s/it]"
     ]
    },
    {
     "name": "stdout",
     "output_type": "stream",
     "text": [
      "Websites Name:\t Wa [saga] MOE blocks transgender student from receiving hormone therapy , We encounter a problem in this websites or we come the end the this thread\n"
     ]
    },
    {
     "name": "stderr",
     "output_type": "stream",
     "text": [
      "1031it [35:10, 20.11s/it]"
     ]
    },
    {
     "name": "stdout",
     "output_type": "stream",
     "text": [
      "Websites Name:\t Transgender \"woman\" who competes in female weight lifting complains about male identify as female smashing his records. , We encounter a problem in this websites or we come the end the this thread\n"
     ]
    },
    {
     "name": "stderr",
     "output_type": "stream",
     "text": [
      "1032it [35:38, 22.57s/it]"
     ]
    },
    {
     "name": "stdout",
     "output_type": "stream",
     "text": [
      "Websites Name:\t Teammates of transgender swimmer seek bar from women's competition , We encounter a problem in this websites or we come the end the this thread\n"
     ]
    },
    {
     "name": "stderr",
     "output_type": "stream",
     "text": [
      "1033it [35:47, 18.38s/it]"
     ]
    },
    {
     "name": "stdout",
     "output_type": "stream",
     "text": [
      "Websites Name:\t [SAGAT] Transgender student says school barred her again; considering poly route , We encounter a problem in this websites or we come the end the this thread\n"
     ]
    },
    {
     "name": "stderr",
     "output_type": "stream",
     "text": [
      "1034it [37:18,  2.17s/it]\n"
     ]
    },
    {
     "name": "stdout",
     "output_type": "stream",
     "text": [
      "Aspect is :\tlesbian\n"
     ]
    },
    {
     "name": "stderr",
     "output_type": "stream",
     "text": [
      "0it [00:00, ?it/s]"
     ]
    },
    {
     "name": "stdout",
     "output_type": "stream",
     "text": [
      "Websites Name:\t How can you be born 'gay' ? , We encounter a problem in this websites or we come the end the this thread\n"
     ]
    },
    {
     "name": "stderr",
     "output_type": "stream",
     "text": [
      "201it [00:24, 29.42it/s]"
     ]
    },
    {
     "name": "stdout",
     "output_type": "stream",
     "text": [
      "Websites Name:\t Lesbian wedding in Spore...wasted for BBFA , We encounter a problem in this websites or we come the end the this thread\n"
     ]
    },
    {
     "name": "stderr",
     "output_type": "stream",
     "text": [
      "202it [00:34,  4.41it/s]"
     ]
    },
    {
     "name": "stdout",
     "output_type": "stream",
     "text": [
      "Websites Name:\t How come Michelle Chong not married ah? , We encounter a problem in this websites or we come the end the this thread\n"
     ]
    },
    {
     "name": "stderr",
     "output_type": "stream",
     "text": [
      "203it [00:47,  2.81it/s]"
     ]
    },
    {
     "name": "stdout",
     "output_type": "stream",
     "text": [
      "Websites Name:\t 90s cartoon Rugrats reboot features openly lesbian character , We encounter a problem in this websites or we come the end the this thread\n"
     ]
    },
    {
     "name": "stderr",
     "output_type": "stream",
     "text": [
      "204it [00:49,  2.66it/s]"
     ]
    },
    {
     "name": "stdout",
     "output_type": "stream",
     "text": [
      "Websites Name:\t Hebe eat fries KYM , We encounter a problem in this websites or we come the end the this thread\n",
      "Websites Name:\t If moi identify moiself as female lesbian.... izit easier to get gf??? , We encounter a problem in this websites or we come the end the this thread\n"
     ]
    },
    {
     "name": "stderr",
     "output_type": "stream",
     "text": [
      "206it [00:57,  1.93it/s]"
     ]
    },
    {
     "name": "stdout",
     "output_type": "stream",
     "text": [
      "Websites Name:\t [GVGT] My Child Came Out To Me As Lesbian: \"I Dont Want To Hurt Them At All\" , We encounter a problem in this websites or we come the end the this thread\n"
     ]
    },
    {
     "name": "stderr",
     "output_type": "stream",
     "text": [
      "207it [01:04,  1.43it/s]"
     ]
    },
    {
     "name": "stdout",
     "output_type": "stream",
     "text": [
      "Websites Name:\t Lesbian maid sexually assaulted employer's daughters aged 1 & 4. Helper allegedly thrust her fingers at their private parts and placed mouth there. , We encounter a problem in this websites or we come the end the this thread\n"
     ]
    },
    {
     "name": "stderr",
     "output_type": "stream",
     "text": [
      "208it [01:24,  1.42s/it]"
     ]
    },
    {
     "name": "stdout",
     "output_type": "stream",
     "text": [
      "Websites Name:\t [gek sim] proof that hebe dont like JJ lin..sobz , We encounter a problem in this websites or we come the end the this thread\n"
     ]
    },
    {
     "name": "stderr",
     "output_type": "stream",
     "text": [
      "209it [01:30,  1.63s/it]"
     ]
    },
    {
     "name": "stdout",
     "output_type": "stream",
     "text": [
      "Websites Name:\t Ellen Page comes out as transgender male... , We encounter a problem in this websites or we come the end the this thread\n"
     ]
    },
    {
     "name": "stderr",
     "output_type": "stream",
     "text": [
      "210it [02:06,  3.94s/it]"
     ]
    },
    {
     "name": "stdout",
     "output_type": "stream",
     "text": [
      "Websites Name:\t 📢 [GPGT IMPT!!] 20 Yr Old Chinese Lesbian: The problem with alternatives to \"Chinese privilege\" 📢 , We encounter a problem in this websites or we come the end the this thread\n"
     ]
    },
    {
     "name": "stderr",
     "output_type": "stream",
     "text": [
      "211it [02:16,  4.49s/it]"
     ]
    },
    {
     "name": "stdout",
     "output_type": "stream",
     "text": [
      "Websites Name:\t UK: seven police arrest crying autistic teenage girl ‘for saying one looks like lesbian nana’ , We encounter a problem in this websites or we come the end the this thread\n"
     ]
    },
    {
     "name": "stderr",
     "output_type": "stream",
     "text": [
      "212it [02:18,  4.18s/it]"
     ]
    },
    {
     "name": "stdout",
     "output_type": "stream",
     "text": [
      "Websites Name:\t Lesbian couple want to rename Paya Lebar to Paya LesBar , We encounter a problem in this websites or we come the end the this thread\n"
     ]
    },
    {
     "name": "stderr",
     "output_type": "stream",
     "text": [
      "213it [02:29,  5.11s/it]"
     ]
    },
    {
     "name": "stdout",
     "output_type": "stream",
     "text": [
      "Websites Name:\t My lesbian friend suggest me to merry her , We encounter a problem in this websites or we come the end the this thread\n"
     ]
    },
    {
     "name": "stderr",
     "output_type": "stream",
     "text": [
      "214it [02:39,  5.87s/it]"
     ]
    },
    {
     "name": "stdout",
     "output_type": "stream",
     "text": [
      "Websites Name:\t [GVGT]: Nowadays lesbian use terms like top & bottom? , We encounter a problem in this websites or we come the end the this thread\n"
     ]
    },
    {
     "name": "stderr",
     "output_type": "stream",
     "text": [
      "215it [02:42,  5.38s/it]"
     ]
    },
    {
     "name": "stdout",
     "output_type": "stream",
     "text": [
      "Websites Name:\t Lesbian wedding in Spore...wasted for BBFA , We encounter a problem in this websites or we come the end the this thread\n"
     ]
    },
    {
     "name": "stderr",
     "output_type": "stream",
     "text": [
      "216it [03:08,  9.67s/it]"
     ]
    },
    {
     "name": "stdout",
     "output_type": "stream",
     "text": [
      "Websites Name:\t COMING OUT STORY: LESBIANS WHO GOT MARRIED IN SINGAPORE , We encounter a problem in this websites or we come the end the this thread\n"
     ]
    },
    {
     "name": "stderr",
     "output_type": "stream",
     "text": [
      "217it [03:26, 11.69s/it]"
     ]
    },
    {
     "name": "stdout",
     "output_type": "stream",
     "text": [
      "Websites Name:\t High divorce rate because women have it too good in SG , We encounter a problem in this websites or we come the end the this thread\n"
     ]
    },
    {
     "name": "stderr",
     "output_type": "stream",
     "text": [
      "218it [03:34, 10.84s/it]"
     ]
    },
    {
     "name": "stdout",
     "output_type": "stream",
     "text": [
      "Websites Name:\t How does lesbian have piak piak? , We encounter a problem in this websites or we come the end the this thread\n"
     ]
    },
    {
     "name": "stderr",
     "output_type": "stream",
     "text": [
      "219it [03:41,  9.70s/it]"
     ]
    },
    {
     "name": "stdout",
     "output_type": "stream",
     "text": [
      "Websites Name:\t [LGBT] A Lesbian Couple’s Singaporean Dream for Legitimacy With a Biological Child , We encounter a problem in this websites or we come the end the this thread\n"
     ]
    },
    {
     "name": "stderr",
     "output_type": "stream",
     "text": [
      "220it [04:07, 14.32s/it]"
     ]
    },
    {
     "name": "stdout",
     "output_type": "stream",
     "text": [
      "Websites Name:\t Had a movie date with guy and his hands grabbed me so tight, i decided to become lesbian! , We encounter a problem in this websites or we come the end the this thread\n"
     ]
    },
    {
     "name": "stderr",
     "output_type": "stream",
     "text": [
      "221it [04:12, 11.62s/it]"
     ]
    },
    {
     "name": "stdout",
     "output_type": "stream",
     "text": [
      "Websites Name:\t Kor kor tio green hat in the relationship , We encounter a problem in this websites or we come the end the this thread\n"
     ]
    },
    {
     "name": "stderr",
     "output_type": "stream",
     "text": [
      "222it [04:15,  9.22s/it]"
     ]
    },
    {
     "name": "stdout",
     "output_type": "stream",
     "text": [
      "Websites Name:\t Edmw very quiet today , We encounter a problem in this websites or we come the end the this thread\n"
     ]
    },
    {
     "name": "stderr",
     "output_type": "stream",
     "text": [
      "223it [04:17,  7.17s/it]"
     ]
    },
    {
     "name": "stdout",
     "output_type": "stream",
     "text": [
      "Websites Name:\t Aussie woman was born with both a vagina and balls say sex used to hurt but now it’s pleasing’ , We encounter a problem in this websites or we come the end the this thread\n"
     ]
    },
    {
     "name": "stderr",
     "output_type": "stream",
     "text": [
      "224it [04:27,  7.90s/it]"
     ]
    },
    {
     "name": "stdout",
     "output_type": "stream",
     "text": [
      "Websites Name:\t Seems like there are more gays than lesbians ?? , We encounter a problem in this websites or we come the end the this thread\n"
     ]
    },
    {
     "name": "stderr",
     "output_type": "stream",
     "text": [
      "225it [04:33,  7.28s/it]"
     ]
    },
    {
     "name": "stdout",
     "output_type": "stream",
     "text": [
      "Websites Name:\t issit okay for straight person to enjoy watching gay/lesbian activities , We encounter a problem in this websites or we come the end the this thread\n"
     ]
    },
    {
     "name": "stderr",
     "output_type": "stream",
     "text": [
      "226it [04:40,  7.23s/it]"
     ]
    },
    {
     "name": "stdout",
     "output_type": "stream",
     "text": [
      "Websites Name:\t If chao sng ugly bbfa stranded in no man island with 10 chiobu will chio bu let bbfa pump full tank , We encounter a problem in this websites or we come the end the this thread\n"
     ]
    },
    {
     "name": "stderr",
     "output_type": "stream",
     "text": [
      "227it [04:47,  7.28s/it]"
     ]
    },
    {
     "name": "stdout",
     "output_type": "stream",
     "text": [
      "Websites Name:\t Pinoy lesbian couple proposal in sg , We encounter a problem in this websites or we come the end the this thread\n"
     ]
    },
    {
     "name": "stderr",
     "output_type": "stream",
     "text": [
      "228it [05:00,  8.96s/it]"
     ]
    },
    {
     "name": "stdout",
     "output_type": "stream",
     "text": [
      "Websites Name:\t i suspect i got a female colleague is lesbian , We encounter a problem in this websites or we come the end the this thread\n"
     ]
    },
    {
     "name": "stderr",
     "output_type": "stream",
     "text": [
      "229it [05:06,  8.05s/it]"
     ]
    },
    {
     "name": "stdout",
     "output_type": "stream",
     "text": [
      "Websites Name:\t wtf he-man anime, the king grayskull is an org lang? , We encounter a problem in this websites or we come the end the this thread\n"
     ]
    },
    {
     "name": "stderr",
     "output_type": "stream",
     "text": [
      "230it [05:19,  9.60s/it]"
     ]
    },
    {
     "name": "stdout",
     "output_type": "stream",
     "text": [
      "An error occurred: Message: element not interactable\n",
      "  (Session info: chrome=121.0.6167.161)\n",
      "Stacktrace:\n",
      "\tGetHandleVerifier [0x00651673+52979]\n",
      "\t(No symbol) [0x005D7961]\n",
      "\t(No symbol) [0x004BDC00]\n",
      "\t(No symbol) [0x004F6F63]\n",
      "\t(No symbol) [0x004EE010]\n",
      "\t(No symbol) [0x005144EC]\n",
      "\t(No symbol) [0x004EDA4E]\n",
      "\t(No symbol) [0x00514784]\n",
      "\t(No symbol) [0x0052B3FE]\n",
      "\t(No symbol) [0x00514286]\n",
      "\t(No symbol) [0x004EC063]\n",
      "\t(No symbol) [0x004ECECD]\n",
      "\tGetHandleVerifier [0x00968D83+3294723]\n",
      "\tGetHandleVerifier [0x009A6CC2+3548482]\n",
      "\tGetHandleVerifier [0x009A1C9C+3527964]\n",
      "\tGetHandleVerifier [0x006E870E+671630]\n",
      "\t(No symbol) [0x005E1EB4]\n",
      "\t(No symbol) [0x005DD808]\n",
      "\t(No symbol) [0x005DD92D]\n",
      "\t(No symbol) [0x005CF7E0]\n",
      "\tBaseThreadInitThunk [0x75EF7BA9+25]\n",
      "\tRtlInitializeExceptionChain [0x7722BD2B+107]\n",
      "\tRtlClearBits [0x7722BCAF+191]\n",
      "\n",
      "Websites Name:\t GAY vs LES, who is more aggresive in LGBT agenda? , We encounter a problem in this websites or we come the end the this thread\n"
     ]
    },
    {
     "name": "stderr",
     "output_type": "stream",
     "text": [
      "231it [05:27,  9.07s/it]"
     ]
    },
    {
     "name": "stdout",
     "output_type": "stream",
     "text": [
      "Websites Name:\t 25 yo oversea female grad returns to Spore to become hawker , kym? , We encounter a problem in this websites or we come the end the this thread\n"
     ]
    },
    {
     "name": "stderr",
     "output_type": "stream",
     "text": [
      "232it [05:40, 10.10s/it]"
     ]
    },
    {
     "name": "stdout",
     "output_type": "stream",
     "text": [
      "Websites Name:\t Is Xiaxue Just An ATTENTION SEEKER?! ft. Xiaxue | TDK Podcast , We encounter a problem in this websites or we come the end the this thread\n"
     ]
    },
    {
     "name": "stderr",
     "output_type": "stream",
     "text": [
      "233it [05:50, 10.21s/it]"
     ]
    },
    {
     "name": "stdout",
     "output_type": "stream",
     "text": [
      "Websites Name:\t Woke Disney destroy National Treasure liao , We encounter a problem in this websites or we come the end the this thread\n"
     ]
    },
    {
     "name": "stderr",
     "output_type": "stream",
     "text": [
      "234it [05:52,  7.81s/it]"
     ]
    },
    {
     "name": "stdout",
     "output_type": "stream",
     "text": [
      "Websites Name:\t Jeanette Aw KYM in this pictures [GPGT] , We encounter a problem in this websites or we come the end the this thread\n"
     ]
    },
    {
     "name": "stderr",
     "output_type": "stream",
     "text": [
      "235it [06:08, 10.21s/it]"
     ]
    },
    {
     "name": "stdout",
     "output_type": "stream",
     "text": [
      "Websites Name:\t Buzz Lightyear Film makers Restoring The Film's Lesbian Kiss scene !!! , We encounter a problem in this websites or we come the end the this thread\n"
     ]
    },
    {
     "name": "stderr",
     "output_type": "stream",
     "text": [
      "236it [06:11,  7.85s/it]"
     ]
    },
    {
     "name": "stdout",
     "output_type": "stream",
     "text": [
      "Websites Name:\t [question] in childcare, they usually don't allow male teachers to take care of very young children right? , We encounter a problem in this websites or we come the end the this thread\n"
     ]
    },
    {
     "name": "stderr",
     "output_type": "stream",
     "text": [
      "237it [06:16,  7.10s/it]"
     ]
    },
    {
     "name": "stdout",
     "output_type": "stream",
     "text": [
      "Websites Name:\t Would you rather have gay son or lesbian daughter ? , We encounter a problem in this websites or we come the end the this thread\n"
     ]
    },
    {
     "name": "stderr",
     "output_type": "stream",
     "text": [
      "238it [06:18,  5.61s/it]"
     ]
    },
    {
     "name": "stdout",
     "output_type": "stream",
     "text": [
      "Websites Name:\t [Old but gold] The unholy union is falling apart, Lesbian in LGBTQ clashing with Trannies… Kena sent out of pride parade in London , We encounter a problem in this websites or we come the end the this thread\n"
     ]
    },
    {
     "name": "stderr",
     "output_type": "stream",
     "text": [
      "239it [06:23,  5.50s/it]"
     ]
    },
    {
     "name": "stdout",
     "output_type": "stream",
     "text": [
      "Websites Name:\t Lesbian nun movie “Benedetta”, statue of the Virgin Mary is used as a sex toy , We encounter a problem in this websites or we come the end the this thread\n"
     ]
    },
    {
     "name": "stderr",
     "output_type": "stream",
     "text": [
      "240it [06:36,  7.64s/it]"
     ]
    },
    {
     "name": "stdout",
     "output_type": "stream",
     "text": [
      "Websites Name:\t Court dismisses appeal by man who said wife who he had 2 kids with, did not reveal lesbian status when she sought a divorce , We encounter a problem in this websites or we come the end the this thread\n"
     ]
    },
    {
     "name": "stderr",
     "output_type": "stream",
     "text": [
      "241it [06:39,  6.24s/it]"
     ]
    },
    {
     "name": "stdout",
     "output_type": "stream",
     "text": [
      "Websites Name:\t Why is it some girls, after a while, turn into lesbian even though they pretty and have nice figure? , We encounter a problem in this websites or we come the end the this thread\n"
     ]
    },
    {
     "name": "stderr",
     "output_type": "stream",
     "text": [
      "242it [06:46,  6.57s/it]"
     ]
    },
    {
     "name": "stdout",
     "output_type": "stream",
     "text": [
      "Websites Name:\t Seriously who attend \" ghey wedding \" before? , We encounter a problem in this websites or we come the end the this thread\n"
     ]
    },
    {
     "name": "stderr",
     "output_type": "stream",
     "text": [
      "243it [06:53,  6.68s/it]"
     ]
    },
    {
     "name": "stdout",
     "output_type": "stream",
     "text": [
      "Websites Name:\t Gay - Applies to man only or both man and woman?? , We encounter a problem in this websites or we come the end the this thread\n"
     ]
    },
    {
     "name": "stderr",
     "output_type": "stream",
     "text": [
      "244it [06:55,  5.33s/it]"
     ]
    },
    {
     "name": "stdout",
     "output_type": "stream",
     "text": [
      "Websites Name:\t why Tanya Chua still single? , We encounter a problem in this websites or we come the end the this thread\n"
     ]
    },
    {
     "name": "stderr",
     "output_type": "stream",
     "text": [
      "245it [07:09,  7.79s/it]"
     ]
    },
    {
     "name": "stdout",
     "output_type": "stream",
     "text": [
      "Websites Name:\t How does lesbian have piak piak? , We encounter a problem in this websites or we come the end the this thread\n"
     ]
    },
    {
     "name": "stderr",
     "output_type": "stream",
     "text": [
      "246it [07:15,  7.32s/it]"
     ]
    },
    {
     "name": "stdout",
     "output_type": "stream",
     "text": [
      "Websites Name:\t Lesbian maid sexually assaulted employer's daughters aged 1 & 4. Helper allegedly thrust her fingers at their private parts and placed mouth there. , We encounter a problem in this websites or we come the end the this thread\n"
     ]
    },
    {
     "name": "stderr",
     "output_type": "stream",
     "text": [
      "247it [07:35, 11.06s/it]"
     ]
    },
    {
     "name": "stdout",
     "output_type": "stream",
     "text": [
      "Websites Name:\t Why most lesbian couple must be a tomboy and girly girly kind. , We encounter a problem in this websites or we come the end the this thread\n"
     ]
    },
    {
     "name": "stderr",
     "output_type": "stream",
     "text": [
      "248it [07:40,  9.39s/it]"
     ]
    },
    {
     "name": "stdout",
     "output_type": "stream",
     "text": [
      "Websites Name:\t Mum oso can be bi , We encounter a problem in this websites or we come the end the this thread\n"
     ]
    },
    {
     "name": "stderr",
     "output_type": "stream",
     "text": [
      "249it [07:48,  8.91s/it]"
     ]
    },
    {
     "name": "stdout",
     "output_type": "stream",
     "text": [
      "Websites Name:\t Many MediaCorp actor and actress hit 40 yo Liao this year! Why never marry yet? , We encounter a problem in this websites or we come the end the this thread\n"
     ]
    },
    {
     "name": "stderr",
     "output_type": "stream",
     "text": [
      "250it [08:01,  9.94s/it]"
     ]
    },
    {
     "name": "stdout",
     "output_type": "stream",
     "text": [
      "Websites Name:\t [LGBT] A Lesbian Couple’s Singaporean Dream for Legitimacy With a Biological Child , We encounter a problem in this websites or we come the end the this thread\n"
     ]
    },
    {
     "name": "stderr",
     "output_type": "stream",
     "text": [
      "251it [08:19, 12.63s/it]"
     ]
    },
    {
     "name": "stdout",
     "output_type": "stream",
     "text": [
      "Websites Name:\t China censors lesbian plotline in 'Friends' , We encounter a problem in this websites or we come the end the this thread\n"
     ]
    },
    {
     "name": "stderr",
     "output_type": "stream",
     "text": [
      "252it [08:21,  9.36s/it]"
     ]
    },
    {
     "name": "stdout",
     "output_type": "stream",
     "text": [
      "Websites Name:\t why jeanette aw not married yet? , We encounter a problem in this websites or we come the end the this thread\n"
     ]
    },
    {
     "name": "stderr",
     "output_type": "stream",
     "text": [
      "253it [08:31,  9.51s/it]"
     ]
    },
    {
     "name": "stdout",
     "output_type": "stream",
     "text": [
      "Websites Name:\t Can you tell if someone is gay or a lesbian ?? , We encounter a problem in this websites or we come the end the this thread\n"
     ]
    },
    {
     "name": "stderr",
     "output_type": "stream",
     "text": [
      "254it [08:39,  8.93s/it]"
     ]
    },
    {
     "name": "stdout",
     "output_type": "stream",
     "text": [
      "Websites Name:\t COMING OUT STORY: LESBIANS WHO GOT MARRIED IN SINGAPORE , We encounter a problem in this websites or we come the end the this thread\n"
     ]
    },
    {
     "name": "stderr",
     "output_type": "stream",
     "text": [
      "255it [08:56, 11.43s/it]"
     ]
    },
    {
     "name": "stdout",
     "output_type": "stream",
     "text": [
      "Websites Name:\t 📢 [GPGT IMPT!!] 20 Yr Old Chinese Lesbian: The problem with alternatives to \"Chinese privilege\" 📢 , We encounter a problem in this websites or we come the end the this thread\n"
     ]
    },
    {
     "name": "stderr",
     "output_type": "stream",
     "text": [
      "256it [09:04, 10.46s/it]"
     ]
    },
    {
     "name": "stdout",
     "output_type": "stream",
     "text": [
      "Websites Name:\t Pride just get bigger, LGBT is now LGBTQIA+ , We encounter a problem in this websites or we come the end the this thread\n"
     ]
    },
    {
     "name": "stderr",
     "output_type": "stream",
     "text": [
      "257it [09:19, 11.85s/it]"
     ]
    },
    {
     "name": "stdout",
     "output_type": "stream",
     "text": [
      "Websites Name:\t 'A female tomboy, not a trans person': Kelly Kimberly Cheong on her Ah Girls Go Army character's name causing a stir , We encounter a problem in this websites or we come the end the this thread\n"
     ]
    },
    {
     "name": "stderr",
     "output_type": "stream",
     "text": [
      "258it [09:47, 16.55s/it]"
     ]
    },
    {
     "name": "stdout",
     "output_type": "stream",
     "text": [
      "Websites Name:\t Staying with Lesbian and Butch owners/tenants are HORRIBLE! , We encounter a problem in this websites or we come the end the this thread\n"
     ]
    },
    {
     "name": "stderr",
     "output_type": "stream",
     "text": [
      "259it [09:49, 12.39s/it]"
     ]
    },
    {
     "name": "stdout",
     "output_type": "stream",
     "text": [
      "Websites Name:\t My Trans Girlfriend Started Sleeping With Men , We encounter a problem in this websites or we come the end the this thread\n"
     ]
    },
    {
     "name": "stderr",
     "output_type": "stream",
     "text": [
      "260it [10:02, 12.42s/it]"
     ]
    },
    {
     "name": "stdout",
     "output_type": "stream",
     "text": [
      "Websites Name:\t Greta Gerwig Will Direct Chronicles of Narnia Reboot Movies for Netflix , We encounter a problem in this websites or we come the end the this thread\n"
     ]
    },
    {
     "name": "stderr",
     "output_type": "stream",
     "text": [
      "261it [10:06,  9.97s/it]"
     ]
    },
    {
     "name": "stdout",
     "output_type": "stream",
     "text": [
      "Websites Name:\t Sjws attack lesbians for not wanting to have sex with trans women , We encounter a problem in this websites or we come the end the this thread\n"
     ]
    },
    {
     "name": "stderr",
     "output_type": "stream",
     "text": [
      "262it [10:09,  7.81s/it]"
     ]
    },
    {
     "name": "stdout",
     "output_type": "stream",
     "text": [
      "Websites Name:\t [Official] Amazing Race Canada 8 , We encounter a problem in this websites or we come the end the this thread\n"
     ]
    },
    {
     "name": "stderr",
     "output_type": "stream",
     "text": [
      "263it [10:16,  7.65s/it]"
     ]
    },
    {
     "name": "stdout",
     "output_type": "stream",
     "text": [
      "Websites Name:\t Ish \"gay\" and \"lesbian\" offensive terms? , We encounter a problem in this websites or we come the end the this thread\n"
     ]
    },
    {
     "name": "stderr",
     "output_type": "stream",
     "text": [
      "264it [10:18,  6.02s/it]"
     ]
    },
    {
     "name": "stdout",
     "output_type": "stream",
     "text": [
      "Websites Name:\t Are these really SHE Hebe? , We encounter a problem in this websites or we come the end the this thread\n"
     ]
    },
    {
     "name": "stderr",
     "output_type": "stream",
     "text": [
      "265it [10:24,  5.83s/it]"
     ]
    },
    {
     "name": "stdout",
     "output_type": "stream",
     "text": [
      "Websites Name:\t New censorship from tiongland... , We encounter a problem in this websites or we come the end the this thread\n"
     ]
    },
    {
     "name": "stderr",
     "output_type": "stream",
     "text": [
      "266it [10:26,  4.68s/it]"
     ]
    },
    {
     "name": "stdout",
     "output_type": "stream",
     "text": [
      "Websites Name:\t Sinkie Bu Criticised 158cm Sinkie Kia Profile from Bumble Dating App , We encounter a problem in this websites or we come the end the this thread\n"
     ]
    },
    {
     "name": "stderr",
     "output_type": "stream",
     "text": [
      "267it [11:01, 13.83s/it]"
     ]
    },
    {
     "name": "stdout",
     "output_type": "stream",
     "text": [
      "Websites Name:\t If moi identify moiself as female lesbian.... izit easier to get gf??? , We encounter a problem in this websites or we come the end the this thread\n"
     ]
    },
    {
     "name": "stderr",
     "output_type": "stream",
     "text": [
      "268it [11:06, 11.16s/it]"
     ]
    },
    {
     "name": "stdout",
     "output_type": "stream",
     "text": [
      "Websites Name:\t [poll] Do you treat LGBT colleagues/acquaintance differently? , We encounter a problem in this websites or we come the end the this thread\n"
     ]
    },
    {
     "name": "stderr",
     "output_type": "stream",
     "text": [
      "269it [11:18, 11.51s/it]"
     ]
    },
    {
     "name": "stdout",
     "output_type": "stream",
     "text": [
      "Websites Name:\t PM Lee: Gay and lesbian people are “valued members of society” and welcome in Singapore , We encounter a problem in this websites or we come the end the this thread\n"
     ]
    },
    {
     "name": "stderr",
     "output_type": "stream",
     "text": [
      "270it [11:38, 14.13s/it]"
     ]
    },
    {
     "name": "stdout",
     "output_type": "stream",
     "text": [
      "Websites Name:\t GVGT - Ya Hui go pa zum , We encounter a problem in this websites or we come the end the this thread\n"
     ]
    },
    {
     "name": "stderr",
     "output_type": "stream",
     "text": [
      "271it [11:44, 11.41s/it]"
     ]
    },
    {
     "name": "stdout",
     "output_type": "stream",
     "text": [
      "Websites Name:\t [LGBT] A Lesbian Couple’s Singaporean Dream for Legitimacy With a Biological Child , We encounter a problem in this websites or we come the end the this thread\n"
     ]
    },
    {
     "name": "stderr",
     "output_type": "stream",
     "text": [
      "272it [12:02, 13.39s/it]"
     ]
    },
    {
     "name": "stdout",
     "output_type": "stream",
     "text": [
      "Websites Name:\t I’m actually ok w lesbian , We encounter a problem in this websites or we come the end the this thread\n"
     ]
    },
    {
     "name": "stderr",
     "output_type": "stream",
     "text": [
      "273it [12:07, 10.95s/it]"
     ]
    },
    {
     "name": "stdout",
     "output_type": "stream",
     "text": [
      "Websites Name:\t I Proposed To My Female BFF | Between Us , We encounter a problem in this websites or we come the end the this thread\n"
     ]
    },
    {
     "name": "stderr",
     "output_type": "stream",
     "text": [
      "274it [12:10,  8.51s/it]"
     ]
    },
    {
     "name": "stdout",
     "output_type": "stream",
     "text": [
      "Websites Name:\t This girl has celebrity looks , We encounter a problem in this websites or we come the end the this thread\n"
     ]
    },
    {
     "name": "stderr",
     "output_type": "stream",
     "text": [
      "275it [12:16,  8.00s/it]"
     ]
    },
    {
     "name": "stdout",
     "output_type": "stream",
     "text": [
      "Websites Name:\t How you all tahan go out like that? , We encounter a problem in this websites or we come the end the this thread\n"
     ]
    },
    {
     "name": "stderr",
     "output_type": "stream",
     "text": [
      "276it [12:36, 11.58s/it]"
     ]
    },
    {
     "name": "stdout",
     "output_type": "stream",
     "text": [
      "Websites Name:\t When you see gay couples or guys holding hands, do you cringe? 😵‍💫 , We encounter a problem in this websites or we come the end the this thread\n"
     ]
    },
    {
     "name": "stderr",
     "output_type": "stream",
     "text": [
      "277it [12:46, 11.02s/it]"
     ]
    },
    {
     "name": "stdout",
     "output_type": "stream",
     "text": [
      "Websites Name:\t Gurmit Singh's daughter Gabbi Wenyi Ayane Virk wants to show you everything , We encounter a problem in this websites or we come the end the this thread\n"
     ]
    },
    {
     "name": "stderr",
     "output_type": "stream",
     "text": [
      "278it [13:02, 12.48s/it]"
     ]
    },
    {
     "name": "stdout",
     "output_type": "stream",
     "text": [
      "Websites Name:\t [LGBT] A Lesbian Couple’s Singaporean Dream for Legitimacy With a Biological Child , We encounter a problem in this websites or we come the end the this thread\n"
     ]
    },
    {
     "name": "stderr",
     "output_type": "stream",
     "text": [
      "279it [13:17, 13.28s/it]"
     ]
    },
    {
     "name": "stdout",
     "output_type": "stream",
     "text": [
      "Websites Name:\t Monarch: Legacy of Monsters — Apple TV , We encounter a problem in this websites or we come the end the this thread\n"
     ]
    },
    {
     "name": "stderr",
     "output_type": "stream",
     "text": [
      "280it [13:44, 17.22s/it]"
     ]
    },
    {
     "name": "stdout",
     "output_type": "stream",
     "text": [
      "Websites Name:\t Now that gay sex is legal , We encounter a problem in this websites or we come the end the this thread\n"
     ]
    },
    {
     "name": "stderr",
     "output_type": "stream",
     "text": [
      "281it [13:53, 14.82s/it]"
     ]
    },
    {
     "name": "stdout",
     "output_type": "stream",
     "text": [
      "Websites Name:\t COMING OUT STORY: LESBIANS WHO GOT MARRIED IN SINGAPORE , We encounter a problem in this websites or we come the end the this thread\n"
     ]
    },
    {
     "name": "stderr",
     "output_type": "stream",
     "text": [
      "282it [14:10, 15.53s/it]"
     ]
    },
    {
     "name": "stdout",
     "output_type": "stream",
     "text": [
      "Websites Name:\t Why no love for Ferlyn? , We encounter a problem in this websites or we come the end the this thread\n"
     ]
    },
    {
     "name": "stderr",
     "output_type": "stream",
     "text": [
      "283it [14:32, 17.39s/it]"
     ]
    },
    {
     "name": "stdout",
     "output_type": "stream",
     "text": [
      "Websites Name:\t 2 shoppers stabbed to death in brutal knife attack at Hong Kong mall , We encounter a problem in this websites or we come the end the this thread\n"
     ]
    },
    {
     "name": "stderr",
     "output_type": "stream",
     "text": [
      "284it [15:24, 27.88s/it]"
     ]
    },
    {
     "name": "stdout",
     "output_type": "stream",
     "text": [
      "Websites Name:\t Girl lesbian actually welly good hor...if pretend , We encounter a problem in this websites or we come the end the this thread\n"
     ]
    },
    {
     "name": "stderr",
     "output_type": "stream",
     "text": [
      "285it [15:26, 20.05s/it]"
     ]
    },
    {
     "name": "stdout",
     "output_type": "stream",
     "text": [
      "Websites Name:\t 📢 [GPGT IMPT!!] 20 Yr Old Chinese Lesbian: The problem with alternatives to \"Chinese privilege\" 📢 , We encounter a problem in this websites or we come the end the this thread\n"
     ]
    },
    {
     "name": "stderr",
     "output_type": "stream",
     "text": [
      "286it [15:34, 16.44s/it]"
     ]
    },
    {
     "name": "stdout",
     "output_type": "stream",
     "text": [
      "Websites Name:\t [GLGT]31 yo Woman who stalked 25 yo ex-girlfriend and breached protection orders fined $5,000 , We encounter a problem in this websites or we come the end the this thread\n"
     ]
    },
    {
     "name": "stderr",
     "output_type": "stream",
     "text": [
      "287it [15:39, 13.13s/it]"
     ]
    },
    {
     "name": "stdout",
     "output_type": "stream",
     "text": [
      "Websites Name:\t LGBTQ: NTUC Income Ad Features Interracial Lesbian Couple In A Positive Light , We encounter a problem in this websites or we come the end the this thread\n"
     ]
    },
    {
     "name": "stderr",
     "output_type": "stream",
     "text": [
      "288it [15:41,  9.74s/it]"
     ]
    },
    {
     "name": "stdout",
     "output_type": "stream",
     "text": [
      "Websites Name:\t PM Lee: Gay and lesbian people are “valued members of society” and welcome in Singapore , We encounter a problem in this websites or we come the end the this thread\n"
     ]
    },
    {
     "name": "stderr",
     "output_type": "stream",
     "text": [
      "289it [15:51,  9.85s/it]"
     ]
    },
    {
     "name": "stdout",
     "output_type": "stream",
     "text": [
      "Websites Name:\t Have you ever ask a girl out , We encounter a problem in this websites or we come the end the this thread\n"
     ]
    },
    {
     "name": "stderr",
     "output_type": "stream",
     "text": [
      "290it [16:07, 11.77s/it]"
     ]
    },
    {
     "name": "stdout",
     "output_type": "stream",
     "text": [
      "Websites Name:\t Disney appoints Susan Arnold who is openly lesbian as Board Chairman , We encounter a problem in this websites or we come the end the this thread\n"
     ]
    },
    {
     "name": "stderr",
     "output_type": "stream",
     "text": [
      "291it [16:11,  9.33s/it]"
     ]
    },
    {
     "name": "stdout",
     "output_type": "stream",
     "text": [
      "Websites Name:\t Why no love for Ferlyn? , We encounter a problem in this websites or we come the end the this thread\n"
     ]
    },
    {
     "name": "stderr",
     "output_type": "stream",
     "text": [
      "292it [16:32, 12.77s/it]"
     ]
    },
    {
     "name": "stdout",
     "output_type": "stream",
     "text": [
      "Websites Name:\t Lesbian maid sexually assaulted employer's daughters aged 1 & 4. Helper allegedly thrust her fingers at their private parts and placed mouth there. , We encounter a problem in this websites or we come the end the this thread\n"
     ]
    },
    {
     "name": "stderr",
     "output_type": "stream",
     "text": [
      "293it [16:52, 14.92s/it]"
     ]
    },
    {
     "name": "stdout",
     "output_type": "stream",
     "text": [
      "Websites Name:\t K-Pop Stars HyunA And DAWN Announce Their Engagement , We encounter a problem in this websites or we come the end the this thread\n"
     ]
    },
    {
     "name": "stderr",
     "output_type": "stream",
     "text": [
      "294it [16:58, 12.44s/it]"
     ]
    },
    {
     "name": "stdout",
     "output_type": "stream",
     "text": [
      "Websites Name:\t [GPGT] Michael Wong’s Daughter To Marry Girlfriend In US Next Year , We encounter a problem in this websites or we come the end the this thread\n"
     ]
    },
    {
     "name": "stderr",
     "output_type": "stream",
     "text": [
      "295it [17:07, 11.37s/it]"
     ]
    },
    {
     "name": "stdout",
     "output_type": "stream",
     "text": [
      "Websites Name:\t Should there be a 3rd toilet for LGBT? , We encounter a problem in this websites or we come the end the this thread\n"
     ]
    },
    {
     "name": "stderr",
     "output_type": "stream",
     "text": [
      "296it [17:15, 10.26s/it]"
     ]
    },
    {
     "name": "stdout",
     "output_type": "stream",
     "text": [
      "Websites Name:\t GVGT: \"I am Elijah, I am 19, I am non-binary. My pronouns are they/them/their.\" , We encounter a problem in this websites or we come the end the this thread\n"
     ]
    },
    {
     "name": "stderr",
     "output_type": "stream",
     "text": [
      "297it [17:52, 18.40s/it]"
     ]
    },
    {
     "name": "stdout",
     "output_type": "stream",
     "text": [
      "Websites Name:\t Why NDR 2021 never talk about LGBT? , We encounter a problem in this websites or we come the end the this thread\n"
     ]
    },
    {
     "name": "stderr",
     "output_type": "stream",
     "text": [
      "298it [17:54, 13.46s/it]"
     ]
    },
    {
     "name": "stdout",
     "output_type": "stream",
     "text": [
      "Websites Name:\t Are you okay if your wife is a lesbian ? , We encounter a problem in this websites or we come the end the this thread\n"
     ]
    },
    {
     "name": "stderr",
     "output_type": "stream",
     "text": [
      "1034it [18:01,  1.05s/it]\n"
     ]
    },
    {
     "name": "stdout",
     "output_type": "stream",
     "text": [
      "Aspect is :\tlgbtq\n"
     ]
    },
    {
     "name": "stderr",
     "output_type": "stream",
     "text": [
      "0it [00:00, ?it/s]"
     ]
    },
    {
     "name": "stdout",
     "output_type": "stream",
     "text": [
      "Websites Name:\t Tan Kin Lian says being gay is \"natural\" , We encounter a problem in this websites or we come the end the this thread\n"
     ]
    },
    {
     "name": "stderr",
     "output_type": "stream",
     "text": [
      "400it [00:21, 41.24it/s]"
     ]
    },
    {
     "name": "stdout",
     "output_type": "stream",
     "text": [
      "Websites Name:\t LGBTQ are not normal. There is a huge difference between discrminating them and forcing \"they are normal\" to the public , We encounter a problem in this websites or we come the end the this thread\n"
     ]
    },
    {
     "name": "stderr",
     "output_type": "stream",
     "text": [
      "401it [00:37,  8.22it/s]"
     ]
    },
    {
     "name": "stdout",
     "output_type": "stream",
     "text": [
      "Websites Name:\t Singapore debate on LGBTQ rights heats up in test for leaders , We encounter a problem in this websites or we come the end the this thread\n"
     ]
    },
    {
     "name": "stderr",
     "output_type": "stream",
     "text": [
      "402it [00:38,  7.68it/s]"
     ]
    },
    {
     "name": "stdout",
     "output_type": "stream",
     "text": [
      "Websites Name:\t Community statement by LGBTQ groups on the repeal of 377A. , We encounter a problem in this websites or we come the end the this thread\n"
     ]
    },
    {
     "name": "stderr",
     "output_type": "stream",
     "text": [
      "402it [00:51,  7.68it/s]"
     ]
    },
    {
     "name": "stdout",
     "output_type": "stream",
     "text": [
      "Websites Name:\t William Tan, realtor specialising in serving LGBTQ clients: Only those with min. S$6k income can consider buying a condo, many under 35 not there yet , We encounter a problem in this websites or we come the end the this thread\n"
     ]
    },
    {
     "name": "stderr",
     "output_type": "stream",
     "text": [
      "404it [01:28,  2.07it/s]"
     ]
    },
    {
     "name": "stdout",
     "output_type": "stream",
     "text": [
      "Websites Name:\t Malaysia bans Swatch LGBTQ watches, owners or sellers face up to 3 years' jail , We encounter a problem in this websites or we come the end the this thread\n"
     ]
    },
    {
     "name": "stderr",
     "output_type": "stream",
     "text": [
      "405it [01:41,  1.65it/s]"
     ]
    },
    {
     "name": "stdout",
     "output_type": "stream",
     "text": [
      "Websites Name:\t Woke-kanda Forever: Black Panther 2 Actor Spoils LGBTQ Romance Plot , We encounter a problem in this websites or we come the end the this thread\n"
     ]
    },
    {
     "name": "stderr",
     "output_type": "stream",
     "text": [
      "406it [01:51,  1.36it/s]"
     ]
    },
    {
     "name": "stdout",
     "output_type": "stream",
     "text": [
      "Websites Name:\t Pro LGBT user using disabled people to further his agenda, is this allowed? , We encounter a problem in this websites or we come the end the this thread\n"
     ]
    },
    {
     "name": "stderr",
     "output_type": "stream",
     "text": [
      "407it [01:53,  1.30it/s]"
     ]
    },
    {
     "name": "stdout",
     "output_type": "stream",
     "text": [
      "Websites Name:\t Lawrence Wong: As LGBTQ attitudes change, Govt too will consider policy adjustments , We encounter a problem in this websites or we come the end the this thread\n"
     ]
    },
    {
     "name": "stderr",
     "output_type": "stream",
     "text": [
      "408it [01:55,  1.26it/s]"
     ]
    },
    {
     "name": "stdout",
     "output_type": "stream",
     "text": [
      "Websites Name:\t Guy destroys LGBTQ logic , We encounter a problem in this websites or we come the end the this thread\n"
     ]
    },
    {
     "name": "stderr",
     "output_type": "stream",
     "text": [
      "409it [02:07,  1.22s/it]"
     ]
    },
    {
     "name": "stdout",
     "output_type": "stream",
     "text": [
      "Websites Name:\t Pelosi calls on Singapore businesses to support LGBTQ groups , We encounter a problem in this websites or we come the end the this thread\n"
     ]
    },
    {
     "name": "stderr",
     "output_type": "stream",
     "text": [
      "410it [02:17,  1.67s/it]"
     ]
    },
    {
     "name": "stdout",
     "output_type": "stream",
     "text": [
      "Websites Name:\t Male is he, female is she, what about lgbtq? , We encounter a problem in this websites or we come the end the this thread\n"
     ]
    },
    {
     "name": "stderr",
     "output_type": "stream",
     "text": [
      "411it [02:22,  1.93s/it]"
     ]
    },
    {
     "name": "stdout",
     "output_type": "stream",
     "text": [
      "Websites Name:\t William Tan, realtor specialising in serving LGBTQ clients: Only those with min. S$6k income can consider buying a condo, many under 35 not there yet , We encounter a problem in this websites or we come the end the this thread\n"
     ]
    },
    {
     "name": "stderr",
     "output_type": "stream",
     "text": [
      "412it [02:57,  4.85s/it]"
     ]
    },
    {
     "name": "stdout",
     "output_type": "stream",
     "text": [
      "Websites Name:\t GrabHitch driver suspended after sending anti-LGBTQ messages to passenger , We encounter a problem in this websites or we come the end the this thread\n"
     ]
    },
    {
     "name": "stderr",
     "output_type": "stream",
     "text": [
      "413it [03:20,  6.95s/it]"
     ]
    },
    {
     "name": "stdout",
     "output_type": "stream",
     "text": [
      "Websites Name:\t Russia bans LGBTQ activism as ‘extremist’ , We encounter a problem in this websites or we come the end the this thread\n"
     ]
    },
    {
     "name": "stderr",
     "output_type": "stream",
     "text": [
      "414it [03:22,  6.23s/it]"
     ]
    },
    {
     "name": "stdout",
     "output_type": "stream",
     "text": [
      "Websites Name:\t Let's be more compassionate to LGBTQ students and find a balance , We encounter a problem in this websites or we come the end the this thread\n"
     ]
    },
    {
     "name": "stderr",
     "output_type": "stream",
     "text": [
      "415it [03:27,  6.08s/it]"
     ]
    },
    {
     "name": "stdout",
     "output_type": "stream",
     "text": [
      "Websites Name:\t Anti-LGBTQ hate thrives online, spurs fears of more violence , We encounter a problem in this websites or we come the end the this thread\n"
     ]
    },
    {
     "name": "stderr",
     "output_type": "stream",
     "text": [
      "416it [03:29,  5.25s/it]"
     ]
    },
    {
     "name": "stdout",
     "output_type": "stream",
     "text": [
      "Websites Name:\t GPGT - Kellogg’s new LGBTQ cereal wants to fill your mouth with Pride , We encounter a problem in this websites or we come the end the this thread\n"
     ]
    },
    {
     "name": "stderr",
     "output_type": "stream",
     "text": [
      "417it [03:37,  5.82s/it]"
     ]
    },
    {
     "name": "stdout",
     "output_type": "stream",
     "text": [
      "Websites Name:\t <160 media>Repeal of Section 377A a relief but move to protect marriage definition is 'disappointing', say LGBTQ groups , We encounter a problem in this websites or we come the end the this thread\n"
     ]
    },
    {
     "name": "stderr",
     "output_type": "stream",
     "text": [
      "418it [05:22, 29.13s/it]"
     ]
    },
    {
     "name": "stdout",
     "output_type": "stream",
     "text": [
      "Websites Name:\t Pink Dot slams censors over Marvel film's M18 rating, calls LGBTQ censorship 'harmful', 'discriminatory' , We encounter a problem in this websites or we come the end the this thread\n"
     ]
    },
    {
     "name": "stderr",
     "output_type": "stream",
     "text": [
      "419it [05:52, 29.31s/it]"
     ]
    },
    {
     "name": "stdout",
     "output_type": "stream",
     "text": [
      "Websites Name:\t Penny Polar Bear has 2 mums: Gay family joins Peppa Pig TV show , We encounter a problem in this websites or we come the end the this thread\n"
     ]
    },
    {
     "name": "stderr",
     "output_type": "stream",
     "text": [
      "420it [05:55, 22.41s/it]"
     ]
    },
    {
     "name": "stdout",
     "output_type": "stream",
     "text": [
      "Websites Name:\t Community statement by LGBTQ groups on the repeal of 377A. , We encounter a problem in this websites or we come the end the this thread\n"
     ]
    },
    {
     "name": "stderr",
     "output_type": "stream",
     "text": [
      "421it [06:10, 20.39s/it]"
     ]
    },
    {
     "name": "stdout",
     "output_type": "stream",
     "text": [
      "Websites Name:\t Community statement by LGBTQ groups on the repeal of 377A. , We encounter a problem in this websites or we come the end the this thread\n"
     ]
    },
    {
     "name": "stderr",
     "output_type": "stream",
     "text": [
      "422it [06:21, 17.69s/it]"
     ]
    },
    {
     "name": "stdout",
     "output_type": "stream",
     "text": [
      "Websites Name:\t Marvel introducing Gay Couple in upcoming Eternals Movie and will feature first onscreen LGBTQ kiss , We encounter a problem in this websites or we come the end the this thread\n"
     ]
    },
    {
     "name": "stderr",
     "output_type": "stream",
     "text": [
      "423it [06:28, 14.72s/it]"
     ]
    },
    {
     "name": "stdout",
     "output_type": "stream",
     "text": [
      "Websites Name:\t Pelosi calls on Singapore businesses to support LGBTQ groups , We encounter a problem in this websites or we come the end the this thread\n"
     ]
    },
    {
     "name": "stderr",
     "output_type": "stream",
     "text": [
      "424it [06:36, 12.70s/it]"
     ]
    },
    {
     "name": "stdout",
     "output_type": "stream",
     "text": [
      "Websites Name:\t Should LGBTQ activists push for changes in areas such as education & media, will very likely lead to lots of pushback from conservatives... , We encounter a problem in this websites or we come the end the this thread\n"
     ]
    },
    {
     "name": "stderr",
     "output_type": "stream",
     "text": [
      "425it [06:40,  9.99s/it]"
     ]
    },
    {
     "name": "stdout",
     "output_type": "stream",
     "text": [
      "Websites Name:\t Ivan Heng: We LGBTQ people have families.....ST headlines like these are pernicious and stoke fear and prejudice...... , We encounter a problem in this websites or we come the end the this thread\n"
     ]
    },
    {
     "name": "stderr",
     "output_type": "stream",
     "text": [
      "426it [06:50,  9.94s/it]"
     ]
    },
    {
     "name": "stdout",
     "output_type": "stream",
     "text": [
      "Websites Name:\t LGBTQ are not normal. There is a huge difference between discrminating them and forcing \"they are normal\" to the public , We encounter a problem in this websites or we come the end the this thread\n"
     ]
    },
    {
     "name": "stderr",
     "output_type": "stream",
     "text": [
      "427it [07:18, 15.30s/it]"
     ]
    },
    {
     "name": "stdout",
     "output_type": "stream",
     "text": [
      "Websites Name:\t [Old but gold] The unholy union is falling apart, Lesbian in LGBTQ clashing with Trannies… Kena sent out of pride parade in London , We encounter a problem in this websites or we come the end the this thread\n"
     ]
    },
    {
     "name": "stderr",
     "output_type": "stream",
     "text": [
      "428it [07:23, 12.29s/it]"
     ]
    },
    {
     "name": "stdout",
     "output_type": "stream",
     "text": [
      "Websites Name:\t S'pore Psychological Society: People's innate sexual orientations or gender identities were not mental disorders to be fixed , We encounter a problem in this websites or we come the end the this thread\n"
     ]
    },
    {
     "name": "stderr",
     "output_type": "stream",
     "text": [
      "429it [07:34, 12.13s/it]"
     ]
    },
    {
     "name": "stdout",
     "output_type": "stream",
     "text": [
      "Websites Name:\t Singtel AD - LGBTQ+? , We encounter a problem in this websites or we come the end the this thread\n"
     ]
    },
    {
     "name": "stderr",
     "output_type": "stream",
     "text": [
      "430it [07:38,  9.47s/it]"
     ]
    },
    {
     "name": "stdout",
     "output_type": "stream",
     "text": [
      "Websites Name:\t <160 media>Repeal of Section 377A a relief but move to protect marriage definition is 'disappointing', say LGBTQ groups , We encounter a problem in this websites or we come the end the this thread\n"
     ]
    },
    {
     "name": "stderr",
     "output_type": "stream",
     "text": [
      "431it [09:22, 37.83s/it]"
     ]
    },
    {
     "name": "stdout",
     "output_type": "stream",
     "text": [
      "Websites Name:\t Dear LGBTQ of SG, dun understand why y'all rejoiced over 377A being repealed , We encounter a problem in this websites or we come the end the this thread\n"
     ]
    },
    {
     "name": "stderr",
     "output_type": "stream",
     "text": [
      "432it [09:28, 28.38s/it]"
     ]
    },
    {
     "name": "stdout",
     "output_type": "stream",
     "text": [
      "Websites Name:\t Singapore Catholic Church says marriage is between man and woman but it respects dignity of LGBTQ people , We encounter a problem in this websites or we come the end the this thread\n"
     ]
    },
    {
     "name": "stderr",
     "output_type": "stream",
     "text": [
      "433it [09:37, 22.47s/it]"
     ]
    },
    {
     "name": "stdout",
     "output_type": "stream",
     "text": [
      "Websites Name:\t Overheard some woke youngster complain NDP lack LGBTQ representation , We encounter a problem in this websites or we come the end the this thread\n"
     ]
    },
    {
     "name": "stderr",
     "output_type": "stream",
     "text": [
      "434it [09:41, 16.93s/it]"
     ]
    },
    {
     "name": "stdout",
     "output_type": "stream",
     "text": [
      "Websites Name:\t [GVGT] What Discrimination Looks Like for Transgender Students in Singapore , We encounter a problem in this websites or we come the end the this thread\n"
     ]
    },
    {
     "name": "stderr",
     "output_type": "stream",
     "text": [
      "435it [09:44, 12.74s/it]"
     ]
    },
    {
     "name": "stdout",
     "output_type": "stream",
     "text": [
      "Websites Name:\t Why Pritam want to talk LGBTQ and Religion? , We encounter a problem in this websites or we come the end the this thread\n"
     ]
    },
    {
     "name": "stderr",
     "output_type": "stream",
     "text": [
      "436it [09:59, 13.38s/it]"
     ]
    },
    {
     "name": "stdout",
     "output_type": "stream",
     "text": [
      "Websites Name:\t 377a : 23 organizations in #Singapore that support #LGBTQ equality have released a statement , We encounter a problem in this websites or we come the end the this thread\n"
     ]
    },
    {
     "name": "stderr",
     "output_type": "stream",
     "text": [
      "437it [10:01, 10.03s/it]"
     ]
    },
    {
     "name": "stdout",
     "output_type": "stream",
     "text": [
      "Websites Name:\t Pink Dot slams censors over Marvel film's M18 rating, calls LGBTQ censorship 'harmful', 'discriminatory' , We encounter a problem in this websites or we come the end the this thread\n"
     ]
    },
    {
     "name": "stderr",
     "output_type": "stream",
     "text": [
      "438it [10:19, 12.49s/it]"
     ]
    },
    {
     "name": "stdout",
     "output_type": "stream",
     "text": [
      "Websites Name:\t William Tan, realtor specialising in serving LGBTQ clients: Only those with min. S$6k income can consider buying a condo, many under 35 not there yet , We encounter a problem in this websites or we come the end the this thread\n"
     ]
    },
    {
     "name": "stderr",
     "output_type": "stream",
     "text": [
      "439it [11:07, 22.97s/it]"
     ]
    },
    {
     "name": "stdout",
     "output_type": "stream",
     "text": [
      "Websites Name:\t Sex ed after repeal: MPs, advocacy groups want comprehensive, evidence-based info on LGBTQ issues , We encounter a problem in this websites or we come the end the this thread\n"
     ]
    },
    {
     "name": "stderr",
     "output_type": "stream",
     "text": [
      "440it [11:09, 16.96s/it]"
     ]
    },
    {
     "name": "stdout",
     "output_type": "stream",
     "text": [
      "Websites Name:\t 'Doctor Strange' sequel is banned in Saudi Arabia over key LGBTQ superhero , We encounter a problem in this websites or we come the end the this thread\n"
     ]
    },
    {
     "name": "stderr",
     "output_type": "stream",
     "text": [
      "441it [11:20, 15.07s/it]"
     ]
    },
    {
     "name": "stdout",
     "output_type": "stream",
     "text": [
      "Websites Name:\t Woke-kanda Forever: Black Panther 2 Actor Spoils LGBTQ Romance Plot , We encounter a problem in this websites or we come the end the this thread\n"
     ]
    },
    {
     "name": "stderr",
     "output_type": "stream",
     "text": [
      "442it [21:30, 193.60s/it]"
     ]
    },
    {
     "name": "stdout",
     "output_type": "stream",
     "text": [
      "Websites Name:\t Boy boy with his sugar daddy KYM? , We encounter a problem in this websites or we come the end the this thread\n"
     ]
    },
    {
     "name": "stderr",
     "output_type": "stream",
     "text": [
      "443it [21:37, 137.48s/it]"
     ]
    },
    {
     "name": "stdout",
     "output_type": "stream",
     "text": [
      "Websites Name:\t The Realtor Fighting for Public Housing for Singapore’s LGBTQ+ Community , We encounter a problem in this websites or we come the end the this thread\n"
     ]
    },
    {
     "name": "stderr",
     "output_type": "stream",
     "text": [
      "444it [21:45, 98.63s/it] "
     ]
    },
    {
     "name": "stdout",
     "output_type": "stream",
     "text": [
      "Websites Name:\t <160 media>Repeal of Section 377A a relief but move to protect marriage definition is 'disappointing', say LGBTQ groups , We encounter a problem in this websites or we come the end the this thread\n"
     ]
    },
    {
     "name": "stderr",
     "output_type": "stream",
     "text": [
      "445it [23:28, 99.98s/it]"
     ]
    },
    {
     "name": "stdout",
     "output_type": "stream",
     "text": [
      "Websites Name:\t Singapore Catholic Church says marriage is between man and woman but it respects dignity of LGBTQ people , We encounter a problem in this websites or we come the end the this thread\n"
     ]
    },
    {
     "name": "stderr",
     "output_type": "stream",
     "text": [
      "446it [23:36, 72.39s/it]"
     ]
    },
    {
     "name": "stdout",
     "output_type": "stream",
     "text": [
      "Websites Name:\t Snowflakes getting offended on behalf of other people again , We encounter a problem in this websites or we come the end the this thread\n"
     ]
    },
    {
     "name": "stderr",
     "output_type": "stream",
     "text": [
      "447it [23:41, 52.22s/it]"
     ]
    },
    {
     "name": "stdout",
     "output_type": "stream",
     "text": [
      "Websites Name:\t LGBT community unlikely to 'seek same-sex marriage or to redefine families', should 377A be repealed , We encounter a problem in this websites or we come the end the this thread\n"
     ]
    },
    {
     "name": "stderr",
     "output_type": "stream",
     "text": [
      "448it [23:52, 39.85s/it]"
     ]
    },
    {
     "name": "stdout",
     "output_type": "stream",
     "text": [
      "Websites Name:\t Pelosi calls on Singapore businesses to support LGBTQ groups , We encounter a problem in this websites or we come the end the this thread\n"
     ]
    },
    {
     "name": "stderr",
     "output_type": "stream",
     "text": [
      "449it [24:11, 33.50s/it]"
     ]
    },
    {
     "name": "stdout",
     "output_type": "stream",
     "text": [
      "Websites Name:\t Singapore Buddhist Federation: 'Must agree to disagree' on 'divisive' Section 377A , We encounter a problem in this websites or we come the end the this thread\n"
     ]
    },
    {
     "name": "stderr",
     "output_type": "stream",
     "text": [
      "450it [24:20, 26.18s/it]"
     ]
    },
    {
     "name": "stdout",
     "output_type": "stream",
     "text": [
      "Websites Name:\t Shanmugam accuses Workers' Party of not taking stand on 377A; Pritam says minister mischaracterised his speech , We encounter a problem in this websites or we come the end the this thread\n"
     ]
    },
    {
     "name": "stderr",
     "output_type": "stream",
     "text": [
      "451it [24:41, 24.66s/it]"
     ]
    },
    {
     "name": "stdout",
     "output_type": "stream",
     "text": [
      "Websites Name:\t HDB amends graphic 'to avoid misunderstanding' after suggestions that original depicted same-sex couple , We encounter a problem in this websites or we come the end the this thread\n"
     ]
    },
    {
     "name": "stderr",
     "output_type": "stream",
     "text": [
      "452it [24:47, 19.01s/it]"
     ]
    },
    {
     "name": "stdout",
     "output_type": "stream",
     "text": [
      "Websites Name:\t Woke-kanda Forever: Black Panther 2 Actor Spoils LGBTQ Romance Plot , We encounter a problem in this websites or we come the end the this thread\n"
     ]
    },
    {
     "name": "stderr",
     "output_type": "stream",
     "text": [
      "453it [24:57, 16.26s/it]"
     ]
    },
    {
     "name": "stdout",
     "output_type": "stream",
     "text": [
      "Websites Name:\t ‘Stay... stand up for what you believe in’: Janil Puthucheary tells LGBTQ youths thinking of leaving Singapore , We encounter a problem in this websites or we come the end the this thread\n"
     ]
    },
    {
     "name": "stderr",
     "output_type": "stream",
     "text": [
      "454it [25:14, 16.46s/it]"
     ]
    },
    {
     "name": "stdout",
     "output_type": "stream",
     "text": [
      "Websites Name:\t What’s gender neutral?......was just reading an article and this was mentioned... , We encounter a problem in this websites or we come the end the this thread\n"
     ]
    },
    {
     "name": "stderr",
     "output_type": "stream",
     "text": [
      "455it [25:16, 12.15s/it]"
     ]
    },
    {
     "name": "stdout",
     "output_type": "stream",
     "text": [
      "Websites Name:\t [GLGT] We are not illegal anymore.. we looked forward to getting married and starting a family in SG , We encounter a problem in this websites or we come the end the this thread\n"
     ]
    },
    {
     "name": "stderr",
     "output_type": "stream",
     "text": [
      "456it [25:37, 14.90s/it]"
     ]
    },
    {
     "name": "stdout",
     "output_type": "stream",
     "text": [
      "Websites Name:\t Malaysia bans Swatch LGBTQ watches, owners or sellers face up to 3 years' jail , We encounter a problem in this websites or we come the end the this thread\n"
     ]
    },
    {
     "name": "stderr",
     "output_type": "stream",
     "text": [
      "457it [25:51, 14.59s/it]"
     ]
    },
    {
     "name": "stdout",
     "output_type": "stream",
     "text": [
      "Websites Name:\t [OPINION] I think PAP just won the LGBTQ++ votes permanently. , We encounter a problem in this websites or we come the end the this thread\n"
     ]
    },
    {
     "name": "stderr",
     "output_type": "stream",
     "text": [
      "458it [26:02, 13.40s/it]"
     ]
    },
    {
     "name": "stdout",
     "output_type": "stream",
     "text": [
      "Websites Name:\t LGBTQ are not normal. There is a huge difference between discrminating them and forcing \"they are normal\" to the public , We encounter a problem in this websites or we come the end the this thread\n"
     ]
    },
    {
     "name": "stderr",
     "output_type": "stream",
     "text": [
      "459it [26:41, 21.37s/it]"
     ]
    },
    {
     "name": "stdout",
     "output_type": "stream",
     "text": [
      "Websites Name:\t AWARE recommends MOE establish clear guidelines on LGBTQ-affirming care that schools must follow , We encounter a problem in this websites or we come the end the this thread\n"
     ]
    },
    {
     "name": "stderr",
     "output_type": "stream",
     "text": [
      "460it [26:47, 16.49s/it]"
     ]
    },
    {
     "name": "stdout",
     "output_type": "stream",
     "text": [
      "Websites Name:\t Male is he, female is she, what about lgbtq? , We encounter a problem in this websites or we come the end the this thread\n"
     ]
    },
    {
     "name": "stderr",
     "output_type": "stream",
     "text": [
      "461it [26:54, 13.87s/it]"
     ]
    },
    {
     "name": "stdout",
     "output_type": "stream",
     "text": [
      "Websites Name:\t [Discussion] LGBTQ wokeism - How to draw the line at what is morally wrong? , We encounter a problem in this websites or we come the end the this thread\n"
     ]
    },
    {
     "name": "stderr",
     "output_type": "stream",
     "text": [
      "462it [27:00, 11.28s/it]"
     ]
    },
    {
     "name": "stdout",
     "output_type": "stream",
     "text": [
      "Websites Name:\t Wad if Jacky neo new movies is lgbtq? , We encounter a problem in this websites or we come the end the this thread\n"
     ]
    },
    {
     "name": "stderr",
     "output_type": "stream",
     "text": [
      "463it [27:01,  8.42s/it]"
     ]
    },
    {
     "name": "stdout",
     "output_type": "stream",
     "text": [
      "Websites Name:\t Marvel introducing Gay Couple in upcoming Eternals Movie and will feature first onscreen LGBTQ kiss , We encounter a problem in this websites or we come the end the this thread\n"
     ]
    },
    {
     "name": "stderr",
     "output_type": "stream",
     "text": [
      "464it [27:09,  8.06s/it]"
     ]
    },
    {
     "name": "stdout",
     "output_type": "stream",
     "text": [
      "Websites Name:\t Many LGBTQ couples are opting to start families with donations from friends or acquaintances , We encounter a problem in this websites or we come the end the this thread\n"
     ]
    },
    {
     "name": "stderr",
     "output_type": "stream",
     "text": [
      "465it [27:11,  6.35s/it]"
     ]
    },
    {
     "name": "stdout",
     "output_type": "stream",
     "text": [
      "Websites Name:\t AWARE: LGBTQ rights do not impinge on the rights of straight people any more than the existence of one colour impinges on another , We encounter a problem in this websites or we come the end the this thread\n"
     ]
    },
    {
     "name": "stderr",
     "output_type": "stream",
     "text": [
      "466it [27:16,  6.00s/it]"
     ]
    },
    {
     "name": "stdout",
     "output_type": "stream",
     "text": [
      "Websites Name:\t [GPGT] Titus Low new LGBTQ-friendly Ice Cream Parlour opens 6 Sep 2022 , We encounter a problem in this websites or we come the end the this thread\n"
     ]
    },
    {
     "name": "stderr",
     "output_type": "stream",
     "text": [
      "467it [27:27,  7.38s/it]"
     ]
    },
    {
     "name": "stdout",
     "output_type": "stream",
     "text": [
      "Websites Name:\t Jason Wong open letter to Balestier Khalsa football club appealing on letting sports be sports , We encounter a problem in this websites or we come the end the this thread\n"
     ]
    },
    {
     "name": "stderr",
     "output_type": "stream",
     "text": [
      "468it [27:32,  6.86s/it]"
     ]
    },
    {
     "name": "stdout",
     "output_type": "stream",
     "text": [
      "Websites Name:\t Singapore Buddhist Federation: 'Must agree to disagree' on 'divisive' Section 377A , We encounter a problem in this websites or we come the end the this thread\n"
     ]
    },
    {
     "name": "stderr",
     "output_type": "stream",
     "text": [
      "469it [27:48,  9.36s/it]"
     ]
    },
    {
     "name": "stdout",
     "output_type": "stream",
     "text": [
      "Websites Name:\t [GPGT] Wtf nao Google has a 'LBGTQ' tag for food establishments?!!! , We encounter a problem in this websites or we come the end the this thread\n"
     ]
    },
    {
     "name": "stderr",
     "output_type": "stream",
     "text": [
      "470it [38:25, 197.71s/it]"
     ]
    },
    {
     "name": "stdout",
     "output_type": "stream",
     "text": [
      "Websites Name:\t have u ever accidentally discover that someone was gay or kana discovered? , We encounter a problem in this websites or we come the end the this thread\n"
     ]
    },
    {
     "name": "stderr",
     "output_type": "stream",
     "text": [
      "471it [38:33, 140.76s/it]"
     ]
    },
    {
     "name": "stdout",
     "output_type": "stream",
     "text": [
      "Websites Name:\t 'Doctor Strange' sequel is banned in Saudi Arabia over key LGBTQ superhero , We encounter a problem in this websites or we come the end the this thread\n"
     ]
    },
    {
     "name": "stderr",
     "output_type": "stream",
     "text": [
      "472it [38:40, 100.87s/it]"
     ]
    },
    {
     "name": "stdout",
     "output_type": "stream",
     "text": [
      "Websites Name:\t Homophobia is a Crime? | Police Investigate Man Who Threw Pride Flag at Worker 🏳️*🌈 , We encounter a problem in this websites or we come the end the this thread\n"
     ]
    },
    {
     "name": "stderr",
     "output_type": "stream",
     "text": [
      "473it [38:55, 74.96s/it] "
     ]
    },
    {
     "name": "stdout",
     "output_type": "stream",
     "text": [
      "Websites Name:\t Chiu think LKY will repeal 377A if still alive ? , We encounter a problem in this websites or we come the end the this thread\n"
     ]
    },
    {
     "name": "stderr",
     "output_type": "stream",
     "text": [
      "474it [38:57, 53.25s/it]"
     ]
    },
    {
     "name": "stdout",
     "output_type": "stream",
     "text": [
      "Websites Name:\t GrabHitch driver suspended after sending anti-LGBTQ messages to passenger , We encounter a problem in this websites or we come the end the this thread\n"
     ]
    },
    {
     "name": "stderr",
     "output_type": "stream",
     "text": [
      "475it [39:20, 44.02s/it]"
     ]
    },
    {
     "name": "stdout",
     "output_type": "stream",
     "text": [
      "Websites Name:\t <160 media>Repeal of Section 377A a relief but move to protect marriage definition is 'disappointing', say LGBTQ groups , We encounter a problem in this websites or we come the end the this thread\n"
     ]
    },
    {
     "name": "stderr",
     "output_type": "stream",
     "text": [
      "476it [41:03, 61.63s/it]"
     ]
    },
    {
     "name": "stdout",
     "output_type": "stream",
     "text": [
      "Websites Name:\t Do Singaporeans care strongly about the LGBTQ cause? Here's what an AsiaOne survey found , We encounter a problem in this websites or we come the end the this thread\n"
     ]
    },
    {
     "name": "stderr",
     "output_type": "stream",
     "text": [
      "477it [41:04, 43.66s/it]"
     ]
    },
    {
     "name": "stdout",
     "output_type": "stream",
     "text": [
      "Websites Name:\t Here are the LGBTQ-friendly companies sponsoring Pink Dot 2021 , We encounter a problem in this websites or we come the end the this thread\n"
     ]
    },
    {
     "name": "stderr",
     "output_type": "stream",
     "text": [
      "478it [41:08, 31.52s/it]"
     ]
    },
    {
     "name": "stdout",
     "output_type": "stream",
     "text": [
      "Websites Name:\t [GLGT] We are not illegal anymore.. we looked forward to getting married and starting a family in SG , We encounter a problem in this websites or we come the end the this thread\n"
     ]
    },
    {
     "name": "stderr",
     "output_type": "stream",
     "text": [
      "479it [41:39, 31.52s/it]"
     ]
    },
    {
     "name": "stdout",
     "output_type": "stream",
     "text": [
      "Websites Name:\t [GPGT] Titus Low new LGBTQ-friendly Ice Cream Parlour opens 6 Sep 2022 , We encounter a problem in this websites or we come the end the this thread\n"
     ]
    },
    {
     "name": "stderr",
     "output_type": "stream",
     "text": [
      "480it [41:54, 26.63s/it]"
     ]
    },
    {
     "name": "stdout",
     "output_type": "stream",
     "text": [
      "Websites Name:\t GrabHitch driver suspended after sending anti-LGBTQ messages to passenger , We encounter a problem in this websites or we come the end the this thread\n"
     ]
    },
    {
     "name": "stderr",
     "output_type": "stream",
     "text": [
      "481it [42:16, 25.10s/it]"
     ]
    },
    {
     "name": "stdout",
     "output_type": "stream",
     "text": [
      "Websites Name:\t <160 media>Repeal of Section 377A a relief but move to protect marriage definition is 'disappointing', say LGBTQ groups , We encounter a problem in this websites or we come the end the this thread\n"
     ]
    },
    {
     "name": "stderr",
     "output_type": "stream",
     "text": [
      "482it [44:03, 49.66s/it]"
     ]
    },
    {
     "name": "stdout",
     "output_type": "stream",
     "text": [
      "Websites Name:\t LGBTQ: NTUC Income Ad Features Interracial Lesbian Couple In A Positive Light , We encounter a problem in this websites or we come the end the this thread\n"
     ]
    },
    {
     "name": "stderr",
     "output_type": "stream",
     "text": [
      "483it [44:04, 35.25s/it]"
     ]
    },
    {
     "name": "stdout",
     "output_type": "stream",
     "text": [
      "Websites Name:\t <160 media>Repeal of Section 377A a relief but move to protect marriage definition is 'disappointing', say LGBTQ groups , We encounter a problem in this websites or we come the end the this thread\n"
     ]
    },
    {
     "name": "stderr",
     "output_type": "stream",
     "text": [
      "484it [45:54, 57.59s/it]"
     ]
    },
    {
     "name": "stdout",
     "output_type": "stream",
     "text": [
      "Websites Name:\t [NEW LGBTQ++ TERM] What is a platonic life partnership? These couples are breaking societal relationship norms , We encounter a problem in this websites or we come the end the this thread\n"
     ]
    },
    {
     "name": "stderr",
     "output_type": "stream",
     "text": [
      "485it [46:02, 42.80s/it]"
     ]
    },
    {
     "name": "stdout",
     "output_type": "stream",
     "text": [
      "Websites Name:\t LGBTQ-themed arts performances in public spaces in line with the times: National Arts Council chief , We encounter a problem in this websites or we come the end the this thread\n"
     ]
    },
    {
     "name": "stderr",
     "output_type": "stream",
     "text": [
      "486it [46:05, 30.71s/it]"
     ]
    },
    {
     "name": "stdout",
     "output_type": "stream",
     "text": [
      "Websites Name:\t Why NDR 2021 never talk about LGBT? , We encounter a problem in this websites or we come the end the this thread\n"
     ]
    },
    {
     "name": "stderr",
     "output_type": "stream",
     "text": [
      "487it [46:08, 22.39s/it]"
     ]
    },
    {
     "name": "stdout",
     "output_type": "stream",
     "text": [
      "Websites Name:\t Lgbtq, whats a queer , We encounter a problem in this websites or we come the end the this thread\n"
     ]
    },
    {
     "name": "stderr",
     "output_type": "stream",
     "text": [
      "1034it [46:11,  2.68s/it]\n"
     ]
    },
    {
     "name": "stdout",
     "output_type": "stream",
     "text": [
      "Aspect is :\tsame-sex marriage\n"
     ]
    },
    {
     "name": "stderr",
     "output_type": "stream",
     "text": [
      "0it [00:00, ?it/s]"
     ]
    },
    {
     "name": "stdout",
     "output_type": "stream",
     "text": [
      "Websites Name:\t Very disappointed that Mr Lee chose to ignore the LGBTs again , We encounter a problem in this websites or we come the end the this thread\n"
     ]
    },
    {
     "name": "stderr",
     "output_type": "stream",
     "text": [
      "748it [00:28, 50.21it/s]"
     ]
    },
    {
     "name": "stdout",
     "output_type": "stream",
     "text": [
      "Websites Name:\t This guy proposed to his boyfriend... omg!!!! , We encounter a problem in this websites or we come the end the this thread\n"
     ]
    },
    {
     "name": "stderr",
     "output_type": "stream",
     "text": [
      "749it [00:30, 20.04it/s]"
     ]
    },
    {
     "name": "stdout",
     "output_type": "stream",
     "text": [
      "Websites Name:\t Section 377A review: Govt considering how to safeguard 'current legal position on marriage', says Shanmugam , We encounter a problem in this websites or we come the end the this thread\n"
     ]
    },
    {
     "name": "stderr",
     "output_type": "stream",
     "text": [
      "750it [01:19,  5.45it/s]"
     ]
    },
    {
     "name": "stdout",
     "output_type": "stream",
     "text": [
      "Websites Name:\t LGBTQ are not normal. There is a huge difference between discrminating them and forcing \"they are normal\" to the public , We encounter a problem in this websites or we come the end the this thread\n"
     ]
    },
    {
     "name": "stderr",
     "output_type": "stream",
     "text": [
      "751it [01:48,  3.42it/s]"
     ]
    },
    {
     "name": "stdout",
     "output_type": "stream",
     "text": [
      "Websites Name:\t Section 377A review: Govt considering how to safeguard 'current legal position on marriage', says Shanmugam , We encounter a problem in this websites or we come the end the this thread\n"
     ]
    },
    {
     "name": "stderr",
     "output_type": "stream",
     "text": [
      "752it [02:37,  1.78it/s]"
     ]
    },
    {
     "name": "stdout",
     "output_type": "stream",
     "text": [
      "Websites Name:\t With 377A repealed. How long do you think will they start asking for same sex marriage at Hong Lim Park? , We encounter a problem in this websites or we come the end the this thread\n"
     ]
    },
    {
     "name": "stderr",
     "output_type": "stream",
     "text": [
      "753it [02:52,  1.48it/s]"
     ]
    },
    {
     "name": "stdout",
     "output_type": "stream",
     "text": [
      "Websites Name:\t If increasing pay will prevent corruptions, then what will prevent affair scandals? , We encounter a problem in this websites or we come the end the this thread\n"
     ]
    },
    {
     "name": "stderr",
     "output_type": "stream",
     "text": [
      "754it [03:01,  1.31it/s]"
     ]
    },
    {
     "name": "stdout",
     "output_type": "stream",
     "text": [
      "Websites Name:\t Am I the only one who thinks Same-sex marriage is really not so bad? , We encounter a problem in this websites or we come the end the this thread\n"
     ]
    },
    {
     "name": "stderr",
     "output_type": "stream",
     "text": [
      "755it [03:15,  1.04it/s]"
     ]
    },
    {
     "name": "stdout",
     "output_type": "stream",
     "text": [
      "Websites Name:\t If same sex marriage allowed, i think soon will need Ghey Charter sia. How to identify who is female? , We encounter a problem in this websites or we come the end the this thread\n"
     ]
    },
    {
     "name": "stderr",
     "output_type": "stream",
     "text": [
      "756it [03:17,  1.01it/s]"
     ]
    },
    {
     "name": "stdout",
     "output_type": "stream",
     "text": [
      "Websites Name:\t PM Lee: The government will repeal Section 377A , We encounter a problem in this websites or we come the end the this thread\n"
     ]
    },
    {
     "name": "stderr",
     "output_type": "stream",
     "text": [
      "757it [04:58,  3.99s/it]"
     ]
    },
    {
     "name": "stdout",
     "output_type": "stream",
     "text": [
      "Websites Name:\t India could soon become second country in Asia to legalize same sex marriage , We encounter a problem in this websites or we come the end the this thread\n"
     ]
    },
    {
     "name": "stderr",
     "output_type": "stream",
     "text": [
      "758it [05:01,  3.95s/it]"
     ]
    },
    {
     "name": "stdout",
     "output_type": "stream",
     "text": [
      "Websites Name:\t Do you support same sex marriage? , We encounter a problem in this websites or we come the end the this thread\n"
     ]
    },
    {
     "name": "stderr",
     "output_type": "stream",
     "text": [
      "759it [05:57,  6.84s/it]"
     ]
    },
    {
     "name": "stdout",
     "output_type": "stream",
     "text": [
      "Websites Name:\t Section 377A review: Govt considering how to safeguard 'current legal position on marriage', says Shanmugam , We encounter a problem in this websites or we come the end the this thread\n"
     ]
    },
    {
     "name": "stderr",
     "output_type": "stream",
     "text": [
      "760it [06:47, 10.01s/it]"
     ]
    },
    {
     "name": "stdout",
     "output_type": "stream",
     "text": [
      "Websites Name:\t Gay couple says life in Singapore still not equal , We encounter a problem in this websites or we come the end the this thread\n"
     ]
    },
    {
     "name": "stderr",
     "output_type": "stream",
     "text": [
      "761it [07:00, 10.28s/it]"
     ]
    },
    {
     "name": "stdout",
     "output_type": "stream",
     "text": [
      "Websites Name:\t Homosexuals r INTOLLERENT people who like to have their cake and eat it too. , We encounter a problem in this websites or we come the end the this thread\n"
     ]
    },
    {
     "name": "stderr",
     "output_type": "stream",
     "text": [
      "762it [07:02,  9.31s/it]"
     ]
    },
    {
     "name": "stdout",
     "output_type": "stream",
     "text": [
      "Websites Name:\t Luckily PM Lee is no fool when it comes to repealing Section 377A. , We encounter a problem in this websites or we come the end the this thread\n"
     ]
    },
    {
     "name": "stderr",
     "output_type": "stream",
     "text": [
      "763it [07:24, 11.14s/it]"
     ]
    },
    {
     "name": "stdout",
     "output_type": "stream",
     "text": [
      "Websites Name:\t Actually if govt allow homosexual marriage and buy HDB? , We encounter a problem in this websites or we come the end the this thread\n"
     ]
    },
    {
     "name": "stderr",
     "output_type": "stream",
     "text": [
      "764it [07:33, 10.76s/it]"
     ]
    },
    {
     "name": "stdout",
     "output_type": "stream",
     "text": [
      "Websites Name:\t Actually if govt allow homosexual marriage and buy HDB? , We encounter a problem in this websites or we come the end the this thread\n"
     ]
    },
    {
     "name": "stderr",
     "output_type": "stream",
     "text": [
      "765it [07:43, 10.55s/it]"
     ]
    },
    {
     "name": "stdout",
     "output_type": "stream",
     "text": [
      "Websites Name:\t Cuba approves law change that opens door to gay marriage, other family rights , We encounter a problem in this websites or we come the end the this thread\n"
     ]
    },
    {
     "name": "stderr",
     "output_type": "stream",
     "text": [
      "766it [07:45,  8.65s/it]"
     ]
    },
    {
     "name": "stdout",
     "output_type": "stream",
     "text": [
      "Websites Name:\t Prudential has featured a same-sex couple ad , We encounter a problem in this websites or we come the end the this thread\n"
     ]
    },
    {
     "name": "stderr",
     "output_type": "stream",
     "text": [
      "767it [08:02, 10.74s/it]"
     ]
    },
    {
     "name": "stdout",
     "output_type": "stream",
     "text": [
      "Websites Name:\t Tw allow gay couple to adopt little girl , We encounter a problem in this websites or we come the end the this thread\n"
     ]
    },
    {
     "name": "stderr",
     "output_type": "stream",
     "text": [
      "768it [08:27, 14.33s/it]"
     ]
    },
    {
     "name": "stdout",
     "output_type": "stream",
     "text": [
      "Websites Name:\t The disaster of same sex marriage for Singapore: , We encounter a problem in this websites or we come the end the this thread\n"
     ]
    },
    {
     "name": "stderr",
     "output_type": "stream",
     "text": [
      "769it [08:29, 11.18s/it]"
     ]
    },
    {
     "name": "stdout",
     "output_type": "stream",
     "text": [
      "Websites Name:\t Section 377A review: Govt considering how to safeguard 'current legal position on marriage', says Shanmugam , We encounter a problem in this websites or we come the end the this thread\n"
     ]
    },
    {
     "name": "stderr",
     "output_type": "stream",
     "text": [
      "770it [09:24, 23.27s/it]"
     ]
    },
    {
     "name": "stdout",
     "output_type": "stream",
     "text": [
      "Websites Name:\t How will gay community ''celebrate'' tonight? , We encounter a problem in this websites or we come the end the this thread\n"
     ]
    },
    {
     "name": "stderr",
     "output_type": "stream",
     "text": [
      "771it [09:33, 19.14s/it]"
     ]
    },
    {
     "name": "stdout",
     "output_type": "stream",
     "text": [
      "Websites Name:\t 377A so debatable/difficult to repeal meh? Lmao all the boomer merdeka gen really arm chio , We encounter a problem in this websites or we come the end the this thread\n"
     ]
    },
    {
     "name": "stderr",
     "output_type": "stream",
     "text": [
      "772it [10:05, 22.84s/it]"
     ]
    },
    {
     "name": "stdout",
     "output_type": "stream",
     "text": [
      "Websites Name:\t Parkroyal Collection Pickering hotel apologises after turning away same-sex couple trying to book wedding venue , We encounter a problem in this websites or we come the end the this thread\n"
     ]
    },
    {
     "name": "stderr",
     "output_type": "stream",
     "text": [
      "773it [10:43, 27.34s/it]"
     ]
    },
    {
     "name": "stdout",
     "output_type": "stream",
     "text": [
      "Websites Name:\t Parkroyal Collection Pickering hotel apologises after turning away same-sex couple trying to book wedding venue , We encounter a problem in this websites or we come the end the this thread\n"
     ]
    },
    {
     "name": "stderr",
     "output_type": "stream",
     "text": [
      "774it [11:23, 30.88s/it]"
     ]
    },
    {
     "name": "stdout",
     "output_type": "stream",
     "text": [
      "Websites Name:\t Tw allow gay couple to adopt little girl , We encounter a problem in this websites or we come the end the this thread\n"
     ]
    },
    {
     "name": "stderr",
     "output_type": "stream",
     "text": [
      "775it [11:46, 28.65s/it]"
     ]
    },
    {
     "name": "stdout",
     "output_type": "stream",
     "text": [
      "Websites Name:\t [REUTERS] Even as Singapore lifts gay sex ban, LGBT families feel little has changed , We encounter a problem in this websites or we come the end the this thread\n"
     ]
    },
    {
     "name": "stderr",
     "output_type": "stream",
     "text": [
      "776it [12:11, 27.62s/it]"
     ]
    },
    {
     "name": "stdout",
     "output_type": "stream",
     "text": [
      "Websites Name:\t [REUTERS] Even as Singapore lifts gay sex ban, LGBT families feel little has changed , We encounter a problem in this websites or we come the end the this thread\n"
     ]
    },
    {
     "name": "stderr",
     "output_type": "stream",
     "text": [
      "777it [12:47, 30.01s/it]"
     ]
    },
    {
     "name": "stdout",
     "output_type": "stream",
     "text": [
      "Websites Name:\t Luckily PM Lee is no fool when it comes to repealing Section 377A. , We encounter a problem in this websites or we come the end the this thread\n"
     ]
    },
    {
     "name": "stderr",
     "output_type": "stream",
     "text": [
      "778it [13:12, 28.49s/it]"
     ]
    },
    {
     "name": "stdout",
     "output_type": "stream",
     "text": [
      "Websites Name:\t Dear LGBTQ of SG, dun understand why y'all rejoiced over 377A being repealed , We encounter a problem in this websites or we come the end the this thread\n"
     ]
    },
    {
     "name": "stderr",
     "output_type": "stream",
     "text": [
      "779it [13:17, 21.62s/it]"
     ]
    },
    {
     "name": "stdout",
     "output_type": "stream",
     "text": [
      "Websites Name:\t Do you agree that Singapore should allow same-sex marriage? , We encounter a problem in this websites or we come the end the this thread\n"
     ]
    },
    {
     "name": "stderr",
     "output_type": "stream",
     "text": [
      "780it [13:47, 24.08s/it]"
     ]
    },
    {
     "name": "stdout",
     "output_type": "stream",
     "text": [
      "Websites Name:\t [Consolidated] LGBT protests in front of MOE building threads , We encounter a problem in this websites or we come the end the this thread\n"
     ]
    },
    {
     "name": "stderr",
     "output_type": "stream",
     "text": [
      "781it [14:20, 26.70s/it]"
     ]
    },
    {
     "name": "stdout",
     "output_type": "stream",
     "text": [
      "Websites Name:\t Repeal 377A so what? Since when was it even enforced in the first place? , We encounter a problem in this websites or we come the end the this thread\n"
     ]
    },
    {
     "name": "stderr",
     "output_type": "stream",
     "text": [
      "782it [14:28, 21.28s/it]"
     ]
    },
    {
     "name": "stdout",
     "output_type": "stream",
     "text": [
      "Websites Name:\t [GLGT] We are not illegal anymore.. we looked forward to getting married and starting a family in SG , We encounter a problem in this websites or we come the end the this thread\n"
     ]
    },
    {
     "name": "stderr",
     "output_type": "stream",
     "text": [
      "783it [14:52, 21.82s/it]"
     ]
    },
    {
     "name": "stdout",
     "output_type": "stream",
     "text": [
      "Websites Name:\t 'If you want to be homosexual, do it privately': Tan Kin Lian raises eyebrows with comments on LGBT community , We encounter a problem in this websites or we come the end the this thread\n"
     ]
    },
    {
     "name": "stderr",
     "output_type": "stream",
     "text": [
      "784it [15:19, 23.42s/it]"
     ]
    },
    {
     "name": "stdout",
     "output_type": "stream",
     "text": [
      "Websites Name:\t Protect 377A Townhall Attracts Over 1,200 Attendees Who Want Govt To Preserve Traditional Marriages , We encounter a problem in this websites or we come the end the this thread\n"
     ]
    },
    {
     "name": "stderr",
     "output_type": "stream",
     "text": [
      "785it [16:31, 38.21s/it]"
     ]
    },
    {
     "name": "stdout",
     "output_type": "stream",
     "text": [
      "Websites Name:\t Gahmen just repealed 377A but HWZ got alot more conservative , We encounter a problem in this websites or we come the end the this thread\n"
     ]
    },
    {
     "name": "stderr",
     "output_type": "stream",
     "text": [
      "786it [16:39, 28.99s/it]"
     ]
    },
    {
     "name": "stdout",
     "output_type": "stream",
     "text": [
      "Websites Name:\t [Public opinion] Do you want 377A to be repealed? Voice your vote now before PM National Rally speech at 1845 , We encounter a problem in this websites or we come the end the this thread\n"
     ]
    },
    {
     "name": "stderr",
     "output_type": "stream",
     "text": [
      "787it [17:08, 29.00s/it]"
     ]
    },
    {
     "name": "stdout",
     "output_type": "stream",
     "text": [
      "Websites Name:\t why are so many edmwers against the 377 repeal? , We encounter a problem in this websites or we come the end the this thread\n"
     ]
    },
    {
     "name": "stderr",
     "output_type": "stream",
     "text": [
      "788it [18:46, 49.66s/it]"
     ]
    },
    {
     "name": "stdout",
     "output_type": "stream",
     "text": [
      "Websites Name:\t Do you know of any LGBTs in your workplace? If so, are you open to it? , We encounter a problem in this websites or we come the end the this thread\n"
     ]
    },
    {
     "name": "stderr",
     "output_type": "stream",
     "text": [
      "789it [19:04, 40.19s/it]"
     ]
    },
    {
     "name": "stdout",
     "output_type": "stream",
     "text": [
      "Websites Name:\t Tw allow gay couple to adopt little girl , We encounter a problem in this websites or we come the end the this thread\n"
     ]
    },
    {
     "name": "stderr",
     "output_type": "stream",
     "text": [
      "790it [19:25, 34.59s/it]"
     ]
    },
    {
     "name": "stdout",
     "output_type": "stream",
     "text": [
      "Websites Name:\t With 377A repealed. How long do you think will they start asking for same sex marriage at Hong Lim Park? , We encounter a problem in this websites or we come the end the this thread\n"
     ]
    },
    {
     "name": "stderr",
     "output_type": "stream",
     "text": [
      "791it [19:45, 30.04s/it]"
     ]
    },
    {
     "name": "stdout",
     "output_type": "stream",
     "text": [
      "Websites Name:\t Laboratory technician at a secondary school hugged a male student from behind & kissed the 13-year-old boy's cheek... , We encounter a problem in this websites or we come the end the this thread\n"
     ]
    },
    {
     "name": "stderr",
     "output_type": "stream",
     "text": [
      "792it [19:52, 23.09s/it]"
     ]
    },
    {
     "name": "stdout",
     "output_type": "stream",
     "text": [
      "Websites Name:\t Pelosi calls on Singapore businesses to support LGBTQ groups , We encounter a problem in this websites or we come the end the this thread\n"
     ]
    },
    {
     "name": "stderr",
     "output_type": "stream",
     "text": [
      "793it [20:01, 19.07s/it]"
     ]
    },
    {
     "name": "stdout",
     "output_type": "stream",
     "text": [
      "Websites Name:\t <160 media>Repeal of Section 377A a relief but move to protect marriage definition is 'disappointing', say LGBTQ groups , We encounter a problem in this websites or we come the end the this thread\n"
     ]
    },
    {
     "name": "stderr",
     "output_type": "stream",
     "text": [
      "794it [22:22, 55.40s/it]"
     ]
    },
    {
     "name": "stdout",
     "output_type": "stream",
     "text": [
      "Websites Name:\t Do you support same sex marriage? , We encounter a problem in this websites or we come the end the this thread\n"
     ]
    },
    {
     "name": "stderr",
     "output_type": "stream",
     "text": [
      "795it [23:58, 67.64s/it]"
     ]
    },
    {
     "name": "stdout",
     "output_type": "stream",
     "text": [
      "Websites Name:\t Do you support same sex marriage? , We encounter a problem in this websites or we come the end the this thread\n"
     ]
    },
    {
     "name": "stderr",
     "output_type": "stream",
     "text": [
      "796it [25:37, 77.15s/it]"
     ]
    },
    {
     "name": "stdout",
     "output_type": "stream",
     "text": [
      "Websites Name:\t ‘I Wish My Parents Are Here Too’: Pink Dot 2023 Attendees Hope For S’pore To Be More Accepting , We encounter a problem in this websites or we come the end the this thread\n"
     ]
    },
    {
     "name": "stderr",
     "output_type": "stream",
     "text": [
      "797it [28:41, 109.28s/it]"
     ]
    },
    {
     "name": "stdout",
     "output_type": "stream",
     "text": [
      "Websites Name:\t <160 media>Repeal of Section 377A a relief but move to protect marriage definition is 'disappointing', say LGBTQ groups , We encounter a problem in this websites or we come the end the this thread\n"
     ]
    },
    {
     "name": "stderr",
     "output_type": "stream",
     "text": [
      "798it [30:48, 114.50s/it]"
     ]
    },
    {
     "name": "stdout",
     "output_type": "stream",
     "text": [
      "Websites Name:\t Sham talks about sex equality but no same sex marriage....lol... , We encounter a problem in this websites or we come the end the this thread\n"
     ]
    },
    {
     "name": "stderr",
     "output_type": "stream",
     "text": [
      "799it [30:51, 81.12s/it] "
     ]
    },
    {
     "name": "stdout",
     "output_type": "stream",
     "text": [
      "Websites Name:\t Section 377A review: Govt considering how to safeguard 'current legal position on marriage', says Shanmugam , We encounter a problem in this websites or we come the end the this thread\n"
     ]
    },
    {
     "name": "stderr",
     "output_type": "stream",
     "text": [
      "800it [51:50, 434.33s/it]"
     ]
    },
    {
     "name": "stdout",
     "output_type": "stream",
     "text": [
      "Websites Name:\t V unwise for Govt to repeal 377A which criminalises sex between men, until & unless robust safeguards in place especially for sake of our children , We encounter a problem in this websites or we come the end the this thread\n"
     ]
    },
    {
     "name": "stderr",
     "output_type": "stream",
     "text": [
      "802it [59:33, 350.28s/it]"
     ]
    },
    {
     "name": "stdout",
     "output_type": "stream",
     "text": [
      "Websites Name:\t Do you agree that Singapore should allow same-sex marriage? , We encounter a problem in this websites or we come the end the this thread\n"
     ]
    },
    {
     "name": "stderr",
     "output_type": "stream",
     "text": [
      "803it [1:00:32, 262.74s/it]"
     ]
    },
    {
     "name": "stdout",
     "output_type": "stream",
     "text": [
      "Websites Name:\t [GLGT] Tokyo to introduce same-sex partnerships by March 2023 , We encounter a problem in this websites or we come the end the this thread\n"
     ]
    },
    {
     "name": "stderr",
     "output_type": "stream",
     "text": [
      "804it [1:00:48, 188.83s/it]"
     ]
    },
    {
     "name": "stdout",
     "output_type": "stream",
     "text": [
      "Websites Name:\t Prominent Gay activist Remy Choo claims that \"the fight will not end with 377A repeal\". , We encounter a problem in this websites or we come the end the this thread\n"
     ]
    },
    {
     "name": "stderr",
     "output_type": "stream",
     "text": [
      "805it [1:01:17, 140.76s/it]"
     ]
    },
    {
     "name": "stdout",
     "output_type": "stream",
     "text": [
      "Websites Name:\t who here marry late one? , We encounter a problem in this websites or we come the end the this thread\n"
     ]
    },
    {
     "name": "stderr",
     "output_type": "stream",
     "text": [
      "806it [1:02:20, 117.52s/it]"
     ]
    },
    {
     "name": "stdout",
     "output_type": "stream",
     "text": [
      "Websites Name:\t Anglican Church in S’pore ‘deeply disappointed’ by Church of England’s blessing of same-sex couples , We encounter a problem in this websites or we come the end the this thread\n"
     ]
    },
    {
     "name": "stderr",
     "output_type": "stream",
     "text": [
      "807it [1:02:38, 87.50s/it] "
     ]
    },
    {
     "name": "stdout",
     "output_type": "stream",
     "text": [
      "Websites Name:\t Gays really sabo all LGBT, win the battle lose the war , We encounter a problem in this websites or we come the end the this thread\n"
     ]
    },
    {
     "name": "stderr",
     "output_type": "stream",
     "text": [
      "808it [1:02:57, 67.05s/it]"
     ]
    },
    {
     "name": "stdout",
     "output_type": "stream",
     "text": [
      "Websites Name:\t With 377A repealed. How long do you think will they start asking for same sex marriage at Hong Lim Park? , We encounter a problem in this websites or we come the end the this thread\n"
     ]
    },
    {
     "name": "stderr",
     "output_type": "stream",
     "text": [
      "809it [1:03:14, 52.18s/it]"
     ]
    },
    {
     "name": "stdout",
     "output_type": "stream",
     "text": [
      "Websites Name:\t LGBT community unlikely to 'seek same-sex marriage or to redefine families', should 377A be repealed , We encounter a problem in this websites or we come the end the this thread\n"
     ]
    },
    {
     "name": "stderr",
     "output_type": "stream",
     "text": [
      "810it [1:03:27, 40.16s/it]"
     ]
    },
    {
     "name": "stdout",
     "output_type": "stream",
     "text": [
      "Websites Name:\t why are so many edmwers against the 377 repeal? , We encounter a problem in this websites or we come the end the this thread\n"
     ]
    },
    {
     "name": "stderr",
     "output_type": "stream",
     "text": [
      "811it [1:05:16, 60.90s/it]"
     ]
    },
    {
     "name": "stdout",
     "output_type": "stream",
     "text": [
      "Websites Name:\t India’s top court refuses to legalise same-sex marriage , We encounter a problem in this websites or we come the end the this thread\n"
     ]
    },
    {
     "name": "stderr",
     "output_type": "stream",
     "text": [
      "812it [1:05:18, 43.25s/it]"
     ]
    },
    {
     "name": "stdout",
     "output_type": "stream",
     "text": [
      "Websites Name:\t If LGBT wants to ask for same sex marriage, they should target WC , We encounter a problem in this websites or we come the end the this thread\n"
     ]
    },
    {
     "name": "stderr",
     "output_type": "stream",
     "text": [
      "813it [1:05:21, 31.24s/it]"
     ]
    },
    {
     "name": "stdout",
     "output_type": "stream",
     "text": [
      "Websites Name:\t Do you support same sex marriage? , We encounter a problem in this websites or we come the end the this thread\n"
     ]
    },
    {
     "name": "stderr",
     "output_type": "stream",
     "text": [
      "814it [1:06:36, 44.39s/it]"
     ]
    },
    {
     "name": "stdout",
     "output_type": "stream",
     "text": [
      "Websites Name:\t LGBTQ+ people, looks like 377a will be repealed! , We encounter a problem in this websites or we come the end the this thread\n"
     ]
    },
    {
     "name": "stderr",
     "output_type": "stream",
     "text": [
      "815it [1:07:03, 39.01s/it]"
     ]
    },
    {
     "name": "stdout",
     "output_type": "stream",
     "text": [
      "Websites Name:\t Repeal 377A so what? Since when was it even enforced in the first place? , We encounter a problem in this websites or we come the end the this thread\n"
     ]
    },
    {
     "name": "stderr",
     "output_type": "stream",
     "text": [
      "816it [1:07:15, 31.15s/it]"
     ]
    },
    {
     "name": "stdout",
     "output_type": "stream",
     "text": [
      "Websites Name:\t Parkroyal Collection Pickering hotel apologises after turning away same-sex couple trying to book wedding venue , We encounter a problem in this websites or we come the end the this thread\n"
     ]
    },
    {
     "name": "stderr",
     "output_type": "stream",
     "text": [
      "817it [1:08:27, 43.40s/it]"
     ]
    },
    {
     "name": "stdout",
     "output_type": "stream",
     "text": [
      "Websites Name:\t Hong Kong court ruled that gay couples get equal housing rights , We encounter a problem in this websites or we come the end the this thread\n"
     ]
    },
    {
     "name": "stderr",
     "output_type": "stream",
     "text": [
      "818it [1:08:33, 31.93s/it]"
     ]
    },
    {
     "name": "stdout",
     "output_type": "stream",
     "text": [
      "Websites Name:\t With repeal of Section 377A a 'done deal', law prof asks: Is it time to initiate public discussion on same-sex marriage? , We encounter a problem in this websites or we come the end the this thread\n"
     ]
    },
    {
     "name": "stderr",
     "output_type": "stream",
     "text": [
      "819it [1:08:50, 27.46s/it]"
     ]
    },
    {
     "name": "stdout",
     "output_type": "stream",
     "text": [
      "Websites Name:\t GLGT Empress have spoken her view about LGBT liao , We encounter a problem in this websites or we come the end the this thread\n"
     ]
    },
    {
     "name": "stderr",
     "output_type": "stream",
     "text": [
      "820it [1:09:07, 24.54s/it]"
     ]
    },
    {
     "name": "stdout",
     "output_type": "stream",
     "text": [
      "Websites Name:\t Luckily PM Lee is no fool when it comes to repealing Section 377A. , We encounter a problem in this websites or we come the end the this thread\n"
     ]
    },
    {
     "name": "stderr",
     "output_type": "stream",
     "text": [
      "821it [1:09:31, 24.15s/it]"
     ]
    },
    {
     "name": "stdout",
     "output_type": "stream",
     "text": [
      "Websites Name:\t ‘I Wish My Parents Are Here Too’: Pink Dot 2023 Attendees Hope For S’pore To Be More Accepting , We encounter a problem in this websites or we come the end the this thread\n"
     ]
    },
    {
     "name": "stderr",
     "output_type": "stream",
     "text": [
      "822it [1:11:20, 49.72s/it]"
     ]
    },
    {
     "name": "stdout",
     "output_type": "stream",
     "text": [
      "Websites Name:\t [GLGT] Tokyo to introduce same-sex partnerships by March 2023 , We encounter a problem in this websites or we come the end the this thread\n"
     ]
    },
    {
     "name": "stderr",
     "output_type": "stream",
     "text": [
      "823it [1:11:29, 37.48s/it]"
     ]
    },
    {
     "name": "stdout",
     "output_type": "stream",
     "text": [
      "Websites Name:\t <160 media>Repeal of Section 377A a relief but move to protect marriage definition is 'disappointing', say LGBTQ groups , We encounter a problem in this websites or we come the end the this thread\n"
     ]
    },
    {
     "name": "stderr",
     "output_type": "stream",
     "text": [
      "824it [1:13:35, 64.04s/it]"
     ]
    },
    {
     "name": "stdout",
     "output_type": "stream",
     "text": [
      "Websites Name:\t COMING OUT STORY: LESBIANS WHO GOT MARRIED IN SINGAPORE , We encounter a problem in this websites or we come the end the this thread\n"
     ]
    },
    {
     "name": "stderr",
     "output_type": "stream",
     "text": [
      "825it [1:14:00, 52.48s/it]"
     ]
    },
    {
     "name": "stdout",
     "output_type": "stream",
     "text": [
      "Websites Name:\t Do you support same sex marriage? , We encounter a problem in this websites or we come the end the this thread\n"
     ]
    },
    {
     "name": "stderr",
     "output_type": "stream",
     "text": [
      "826it [1:15:25, 62.27s/it]"
     ]
    },
    {
     "name": "stdout",
     "output_type": "stream",
     "text": [
      "Websites Name:\t Luckily PM Lee is no fool when it comes to repealing Section 377A. , We encounter a problem in this websites or we come the end the this thread\n"
     ]
    },
    {
     "name": "stderr",
     "output_type": "stream",
     "text": [
      "827it [1:16:14, 58.01s/it]"
     ]
    },
    {
     "name": "stdout",
     "output_type": "stream",
     "text": [
      "An error occurred: Message: element click intercepted: Element <button class=\"button--primary button button--ag-yes\">...</button> is not clickable at point (911, 473). Other element would receive the click: <div id=\"sphm_overlay\">...</div>\n",
      "  (Session info: chrome=121.0.6167.161)\n",
      "Stacktrace:\n",
      "\tGetHandleVerifier [0x00651673+52979]\n",
      "\t(No symbol) [0x005D7961]\n",
      "\t(No symbol) [0x004BDD3D]\n",
      "\t(No symbol) [0x004FB79B]\n",
      "\t(No symbol) [0x004F9EB7]\n",
      "\t(No symbol) [0x004F7F1B]\n",
      "\t(No symbol) [0x004F70BD]\n",
      "\t(No symbol) [0x004EE010]\n",
      "\t(No symbol) [0x005144EC]\n",
      "\t(No symbol) [0x004EDA4E]\n",
      "\t(No symbol) [0x00514784]\n",
      "\t(No symbol) [0x0052B3FE]\n",
      "\t(No symbol) [0x00514286]\n",
      "\t(No symbol) [0x004EC063]\n",
      "\t(No symbol) [0x004ECECD]\n",
      "\tGetHandleVerifier [0x00968D83+3294723]\n",
      "\tGetHandleVerifier [0x009A6CC2+3548482]\n",
      "\tGetHandleVerifier [0x009A1C9C+3527964]\n",
      "\tGetHandleVerifier [0x006E870E+671630]\n",
      "\t(No symbol) [0x005E1EB4]\n",
      "\t(No symbol) [0x005DD808]\n",
      "\t(No symbol) [0x005DD92D]\n",
      "\t(No symbol) [0x005CF7E0]\n",
      "\tBaseThreadInitThunk [0x75EF7BA9+25]\n",
      "\tRtlInitializeExceptionChain [0x7722BD2B+107]\n",
      "\tRtlClearBits [0x7722BCAF+191]\n",
      "\n",
      "Websites Name:\t FB post| Tonight may well be one of the most momentous nights for human rights in Singapore’s history , We encounter a problem in this websites or we come the end the this thread\n"
     ]
    },
    {
     "name": "stderr",
     "output_type": "stream",
     "text": [
      "828it [1:16:23, 43.47s/it]"
     ]
    },
    {
     "name": "stdout",
     "output_type": "stream",
     "text": [
      "Websites Name:\t <160 media>Repeal of Section 377A a relief but move to protect marriage definition is 'disappointing', say LGBTQ groups , We encounter a problem in this websites or we come the end the this thread\n"
     ]
    },
    {
     "name": "stderr",
     "output_type": "stream",
     "text": [
      "829it [1:18:12, 63.13s/it]"
     ]
    },
    {
     "name": "stdout",
     "output_type": "stream",
     "text": [
      "Websites Name:\t Lesbian wedding in Spore...wasted for BBFA , We encounter a problem in this websites or we come the end the this thread\n"
     ]
    },
    {
     "name": "stderr",
     "output_type": "stream",
     "text": [
      "830it [1:18:44, 53.89s/it]"
     ]
    },
    {
     "name": "stdout",
     "output_type": "stream",
     "text": [
      "Websites Name:\t [TW]...18yo inherited S$21.9mil...jumped from 10th flr home...继承5亿台币财产台高中生坠楼 祖父被揭是生父 , We encounter a problem in this websites or we come the end the this thread\n"
     ]
    },
    {
     "name": "stderr",
     "output_type": "stream",
     "text": [
      "831it [1:19:03, 43.19s/it]"
     ]
    },
    {
     "name": "stdout",
     "output_type": "stream",
     "text": [
      "Websites Name:\t If same-sex marriage is legalised - can we abolish WC? , We encounter a problem in this websites or we come the end the this thread\n"
     ]
    },
    {
     "name": "stderr",
     "output_type": "stream",
     "text": [
      "832it [1:19:05, 30.84s/it]"
     ]
    },
    {
     "name": "stdout",
     "output_type": "stream",
     "text": [
      "Websites Name:\t Parkroyal Collection Pickering hotel apologises after turning away same-sex couple trying to book wedding venue , We encounter a problem in this websites or we come the end the this thread\n"
     ]
    },
    {
     "name": "stderr",
     "output_type": "stream",
     "text": [
      "833it [1:19:54, 36.28s/it]"
     ]
    },
    {
     "name": "stdout",
     "output_type": "stream",
     "text": [
      "Websites Name:\t Who Cannot find gf becos of height? Do u find its dam unfair? , We encounter a problem in this websites or we come the end the this thread\n"
     ]
    },
    {
     "name": "stderr",
     "output_type": "stream",
     "text": [
      "1034it [1:20:30,  4.67s/it]\n"
     ]
    },
    {
     "name": "stdout",
     "output_type": "stream",
     "text": [
      "Aspect is :\tqueer\n"
     ]
    },
    {
     "name": "stderr",
     "output_type": "stream",
     "text": [
      "688it [05:21,  2.14it/s]\n"
     ]
    },
    {
     "name": "stdout",
     "output_type": "stream",
     "text": [
      "An error occurred: Message: disconnected: not connected to DevTools\n",
      "  (failed to check if window was closed: disconnected: not connected to DevTools)\n",
      "  (Session info: chrome=121.0.6167.161)\n",
      "Stacktrace:\n",
      "\tGetHandleVerifier [0x00651673+52979]\n",
      "\t(No symbol) [0x005D7961]\n",
      "\t(No symbol) [0x004BDD3D]\n",
      "\t(No symbol) [0x004AE8A3]\n",
      "\t(No symbol) [0x004AE449]\n",
      "\t(No symbol) [0x004BF970]\n",
      "\t(No symbol) [0x0052ACD6]\n",
      "\t(No symbol) [0x00514286]\n",
      "\t(No symbol) [0x004EC063]\n",
      "\t(No symbol) [0x004ECECD]\n",
      "\tGetHandleVerifier [0x00968D83+3294723]\n",
      "\tGetHandleVerifier [0x009A6CC2+3548482]\n",
      "\tGetHandleVerifier [0x009A1C9C+3527964]\n",
      "\tGetHandleVerifier [0x006E870E+671630]\n",
      "\t(No symbol) [0x005E1EB4]\n",
      "\t(No symbol) [0x005DD808]\n",
      "\t(No symbol) [0x005DD92D]\n",
      "\t(No symbol) [0x005CF7E0]\n",
      "\tBaseThreadInitThunk [0x75EF7BA9+25]\n",
      "\tRtlInitializeExceptionChain [0x7722BD2B+107]\n",
      "\tRtlClearBits [0x7722BCAF+191]\n",
      "\n"
     ]
    }
   ],
   "source": [
    "#aspect_terms = [\"lgbtq\", \"lgbt\", \"gay\", \"lesbian\", \"bisexual\", \"transgender\", \"queer\", \"pink dot\", \"pride month\", \"section 377A\", \"same-sex marriage\"]\n",
    "crawler = HardwarezoneCrawler()\n",
    "#crawler.combine_url_data()\n",
    "data_df = pd.read_csv(\"E:/Critical Inquiry/Code/Data Scraping/data/hwz_url_data.csv\")\n",
    "aspect_terms = dict(data_df[\"aspect\"].value_counts()).keys()\n",
    "print(\"All aspect terms:\\t\" + str(aspect_terms))\n",
    "for aspect in aspect_terms:\n",
    "    print(\"Aspect is :\\t\" + aspect)\n",
    "    crawler.getReviews_content(\"E:/Critical Inquiry/Code/Data Scraping/data/hwz_url_data.csv\", aspect)"
   ]
  },
  {
   "cell_type": "code",
   "execution_count": 4,
   "metadata": {},
   "outputs": [
    {
     "name": "stderr",
     "output_type": "stream",
     "text": [
      "688it [00:49, 13.90it/s]\n"
     ]
    },
    {
     "ename": "KeyboardInterrupt",
     "evalue": "",
     "output_type": "error",
     "traceback": [
      "\u001b[1;31m---------------------------------------------------------------------------\u001b[0m",
      "\u001b[1;31mKeyboardInterrupt\u001b[0m                         Traceback (most recent call last)",
      "Cell \u001b[1;32mIn[4], line 1\u001b[0m\n\u001b[1;32m----> 1\u001b[0m crawler\u001b[38;5;241m.\u001b[39mgetReviews_content(\u001b[38;5;124m\"\u001b[39m\u001b[38;5;124mE:/Critical Inquiry/Code/Data Scraping/data/hwz_url_data.csv\u001b[39m\u001b[38;5;124m\"\u001b[39m, \u001b[38;5;124m\"\u001b[39m\u001b[38;5;124mqueer\u001b[39m\u001b[38;5;124m\"\u001b[39m)\n",
      "Cell \u001b[1;32mIn[2], line 204\u001b[0m, in \u001b[0;36mHardwarezoneCrawler.getReviews_content\u001b[1;34m(self, csv_path, aspect_term)\u001b[0m\n\u001b[0;32m    201\u001b[0m \u001b[38;5;28;01mtry\u001b[39;00m:\n\u001b[0;32m    202\u001b[0m     \u001b[38;5;66;03m# Find the first page link\u001b[39;00m\n\u001b[0;32m    203\u001b[0m     thread_first_page \u001b[38;5;241m=\u001b[39m driver\u001b[38;5;241m.\u001b[39mfind_element(\u001b[38;5;124m\"\u001b[39m\u001b[38;5;124mxpath\u001b[39m\u001b[38;5;124m\"\u001b[39m,\u001b[38;5;124m\"\u001b[39m\u001b[38;5;124m//ul[@class=\u001b[39m\u001b[38;5;124m'\u001b[39m\u001b[38;5;124mpageNav-main\u001b[39m\u001b[38;5;124m'\u001b[39m\u001b[38;5;124m]/li/a\u001b[39m\u001b[38;5;124m\"\u001b[39m)\n\u001b[1;32m--> 204\u001b[0m     driver\u001b[38;5;241m.\u001b[39mget(thread_first_page\u001b[38;5;241m.\u001b[39mget_attribute(\u001b[38;5;124m\"\u001b[39m\u001b[38;5;124mhref\u001b[39m\u001b[38;5;124m\"\u001b[39m))\n\u001b[0;32m    205\u001b[0m \u001b[38;5;28;01mexcept\u001b[39;00m \u001b[38;5;167;01mException\u001b[39;00m \u001b[38;5;28;01mas\u001b[39;00m e:\n\u001b[0;32m    206\u001b[0m     \u001b[38;5;66;03m#print(driver.find_element(\"xpath\",\"//h1[@class='p-title-value']\").text, \"\\t, this thread Only one pages\")\u001b[39;00m\n\u001b[0;32m    207\u001b[0m     \u001b[38;5;28;01mpass\u001b[39;00m\n",
      "File \u001b[1;32mc:\\Users\\jeffr\\anaconda3\\Lib\\site-packages\\selenium\\webdriver\\remote\\webdriver.py:356\u001b[0m, in \u001b[0;36mWebDriver.get\u001b[1;34m(self, url)\u001b[0m\n\u001b[0;32m    354\u001b[0m \u001b[38;5;28;01mdef\u001b[39;00m \u001b[38;5;21mget\u001b[39m(\u001b[38;5;28mself\u001b[39m, url: \u001b[38;5;28mstr\u001b[39m) \u001b[38;5;241m-\u001b[39m\u001b[38;5;241m>\u001b[39m \u001b[38;5;28;01mNone\u001b[39;00m:\n\u001b[0;32m    355\u001b[0m \u001b[38;5;250m    \u001b[39m\u001b[38;5;124;03m\"\"\"Loads a web page in the current browser session.\"\"\"\u001b[39;00m\n\u001b[1;32m--> 356\u001b[0m     \u001b[38;5;28mself\u001b[39m\u001b[38;5;241m.\u001b[39mexecute(Command\u001b[38;5;241m.\u001b[39mGET, {\u001b[38;5;124m\"\u001b[39m\u001b[38;5;124murl\u001b[39m\u001b[38;5;124m\"\u001b[39m: url})\n",
      "File \u001b[1;32mc:\\Users\\jeffr\\anaconda3\\Lib\\site-packages\\selenium\\webdriver\\remote\\webdriver.py:345\u001b[0m, in \u001b[0;36mWebDriver.execute\u001b[1;34m(self, driver_command, params)\u001b[0m\n\u001b[0;32m    342\u001b[0m     \u001b[38;5;28;01melif\u001b[39;00m \u001b[38;5;124m\"\u001b[39m\u001b[38;5;124msessionId\u001b[39m\u001b[38;5;124m\"\u001b[39m \u001b[38;5;129;01mnot\u001b[39;00m \u001b[38;5;129;01min\u001b[39;00m params:\n\u001b[0;32m    343\u001b[0m         params[\u001b[38;5;124m\"\u001b[39m\u001b[38;5;124msessionId\u001b[39m\u001b[38;5;124m\"\u001b[39m] \u001b[38;5;241m=\u001b[39m \u001b[38;5;28mself\u001b[39m\u001b[38;5;241m.\u001b[39msession_id\n\u001b[1;32m--> 345\u001b[0m response \u001b[38;5;241m=\u001b[39m \u001b[38;5;28mself\u001b[39m\u001b[38;5;241m.\u001b[39mcommand_executor\u001b[38;5;241m.\u001b[39mexecute(driver_command, params)\n\u001b[0;32m    346\u001b[0m \u001b[38;5;28;01mif\u001b[39;00m response:\n\u001b[0;32m    347\u001b[0m     \u001b[38;5;28mself\u001b[39m\u001b[38;5;241m.\u001b[39merror_handler\u001b[38;5;241m.\u001b[39mcheck_response(response)\n",
      "File \u001b[1;32mc:\\Users\\jeffr\\anaconda3\\Lib\\site-packages\\selenium\\webdriver\\remote\\remote_connection.py:302\u001b[0m, in \u001b[0;36mRemoteConnection.execute\u001b[1;34m(self, command, params)\u001b[0m\n\u001b[0;32m    300\u001b[0m trimmed \u001b[38;5;241m=\u001b[39m \u001b[38;5;28mself\u001b[39m\u001b[38;5;241m.\u001b[39m_trim_large_entries(params)\n\u001b[0;32m    301\u001b[0m LOGGER\u001b[38;5;241m.\u001b[39mdebug(\u001b[38;5;124m\"\u001b[39m\u001b[38;5;132;01m%s\u001b[39;00m\u001b[38;5;124m \u001b[39m\u001b[38;5;132;01m%s\u001b[39;00m\u001b[38;5;124m \u001b[39m\u001b[38;5;132;01m%s\u001b[39;00m\u001b[38;5;124m\"\u001b[39m, command_info[\u001b[38;5;241m0\u001b[39m], url, \u001b[38;5;28mstr\u001b[39m(trimmed))\n\u001b[1;32m--> 302\u001b[0m \u001b[38;5;28;01mreturn\u001b[39;00m \u001b[38;5;28mself\u001b[39m\u001b[38;5;241m.\u001b[39m_request(command_info[\u001b[38;5;241m0\u001b[39m], url, body\u001b[38;5;241m=\u001b[39mdata)\n",
      "File \u001b[1;32mc:\\Users\\jeffr\\anaconda3\\Lib\\site-packages\\selenium\\webdriver\\remote\\remote_connection.py:322\u001b[0m, in \u001b[0;36mRemoteConnection._request\u001b[1;34m(self, method, url, body)\u001b[0m\n\u001b[0;32m    319\u001b[0m     body \u001b[38;5;241m=\u001b[39m \u001b[38;5;28;01mNone\u001b[39;00m\n\u001b[0;32m    321\u001b[0m \u001b[38;5;28;01mif\u001b[39;00m \u001b[38;5;28mself\u001b[39m\u001b[38;5;241m.\u001b[39mkeep_alive:\n\u001b[1;32m--> 322\u001b[0m     response \u001b[38;5;241m=\u001b[39m \u001b[38;5;28mself\u001b[39m\u001b[38;5;241m.\u001b[39m_conn\u001b[38;5;241m.\u001b[39mrequest(method, url, body\u001b[38;5;241m=\u001b[39mbody, headers\u001b[38;5;241m=\u001b[39mheaders)\n\u001b[0;32m    323\u001b[0m     statuscode \u001b[38;5;241m=\u001b[39m response\u001b[38;5;241m.\u001b[39mstatus\n\u001b[0;32m    324\u001b[0m \u001b[38;5;28;01melse\u001b[39;00m:\n",
      "File \u001b[1;32mc:\\Users\\jeffr\\anaconda3\\Lib\\site-packages\\urllib3\\request.py:78\u001b[0m, in \u001b[0;36mRequestMethods.request\u001b[1;34m(self, method, url, fields, headers, **urlopen_kw)\u001b[0m\n\u001b[0;32m     74\u001b[0m     \u001b[38;5;28;01mreturn\u001b[39;00m \u001b[38;5;28mself\u001b[39m\u001b[38;5;241m.\u001b[39mrequest_encode_url(\n\u001b[0;32m     75\u001b[0m         method, url, fields\u001b[38;5;241m=\u001b[39mfields, headers\u001b[38;5;241m=\u001b[39mheaders, \u001b[38;5;241m*\u001b[39m\u001b[38;5;241m*\u001b[39murlopen_kw\n\u001b[0;32m     76\u001b[0m     )\n\u001b[0;32m     77\u001b[0m \u001b[38;5;28;01melse\u001b[39;00m:\n\u001b[1;32m---> 78\u001b[0m     \u001b[38;5;28;01mreturn\u001b[39;00m \u001b[38;5;28mself\u001b[39m\u001b[38;5;241m.\u001b[39mrequest_encode_body(\n\u001b[0;32m     79\u001b[0m         method, url, fields\u001b[38;5;241m=\u001b[39mfields, headers\u001b[38;5;241m=\u001b[39mheaders, \u001b[38;5;241m*\u001b[39m\u001b[38;5;241m*\u001b[39murlopen_kw\n\u001b[0;32m     80\u001b[0m     )\n",
      "File \u001b[1;32mc:\\Users\\jeffr\\anaconda3\\Lib\\site-packages\\urllib3\\request.py:170\u001b[0m, in \u001b[0;36mRequestMethods.request_encode_body\u001b[1;34m(self, method, url, fields, headers, encode_multipart, multipart_boundary, **urlopen_kw)\u001b[0m\n\u001b[0;32m    167\u001b[0m extra_kw[\u001b[38;5;124m\"\u001b[39m\u001b[38;5;124mheaders\u001b[39m\u001b[38;5;124m\"\u001b[39m]\u001b[38;5;241m.\u001b[39mupdate(headers)\n\u001b[0;32m    168\u001b[0m extra_kw\u001b[38;5;241m.\u001b[39mupdate(urlopen_kw)\n\u001b[1;32m--> 170\u001b[0m \u001b[38;5;28;01mreturn\u001b[39;00m \u001b[38;5;28mself\u001b[39m\u001b[38;5;241m.\u001b[39murlopen(method, url, \u001b[38;5;241m*\u001b[39m\u001b[38;5;241m*\u001b[39mextra_kw)\n",
      "File \u001b[1;32mc:\\Users\\jeffr\\anaconda3\\Lib\\site-packages\\urllib3\\poolmanager.py:376\u001b[0m, in \u001b[0;36mPoolManager.urlopen\u001b[1;34m(self, method, url, redirect, **kw)\u001b[0m\n\u001b[0;32m    374\u001b[0m     response \u001b[38;5;241m=\u001b[39m conn\u001b[38;5;241m.\u001b[39murlopen(method, url, \u001b[38;5;241m*\u001b[39m\u001b[38;5;241m*\u001b[39mkw)\n\u001b[0;32m    375\u001b[0m \u001b[38;5;28;01melse\u001b[39;00m:\n\u001b[1;32m--> 376\u001b[0m     response \u001b[38;5;241m=\u001b[39m conn\u001b[38;5;241m.\u001b[39murlopen(method, u\u001b[38;5;241m.\u001b[39mrequest_uri, \u001b[38;5;241m*\u001b[39m\u001b[38;5;241m*\u001b[39mkw)\n\u001b[0;32m    378\u001b[0m redirect_location \u001b[38;5;241m=\u001b[39m redirect \u001b[38;5;129;01mand\u001b[39;00m response\u001b[38;5;241m.\u001b[39mget_redirect_location()\n\u001b[0;32m    379\u001b[0m \u001b[38;5;28;01mif\u001b[39;00m \u001b[38;5;129;01mnot\u001b[39;00m redirect_location:\n",
      "File \u001b[1;32mc:\\Users\\jeffr\\anaconda3\\Lib\\site-packages\\urllib3\\connectionpool.py:714\u001b[0m, in \u001b[0;36mHTTPConnectionPool.urlopen\u001b[1;34m(self, method, url, body, headers, retries, redirect, assert_same_host, timeout, pool_timeout, release_conn, chunked, body_pos, **response_kw)\u001b[0m\n\u001b[0;32m    711\u001b[0m     \u001b[38;5;28mself\u001b[39m\u001b[38;5;241m.\u001b[39m_prepare_proxy(conn)\n\u001b[0;32m    713\u001b[0m \u001b[38;5;66;03m# Make the request on the httplib connection object.\u001b[39;00m\n\u001b[1;32m--> 714\u001b[0m httplib_response \u001b[38;5;241m=\u001b[39m \u001b[38;5;28mself\u001b[39m\u001b[38;5;241m.\u001b[39m_make_request(\n\u001b[0;32m    715\u001b[0m     conn,\n\u001b[0;32m    716\u001b[0m     method,\n\u001b[0;32m    717\u001b[0m     url,\n\u001b[0;32m    718\u001b[0m     timeout\u001b[38;5;241m=\u001b[39mtimeout_obj,\n\u001b[0;32m    719\u001b[0m     body\u001b[38;5;241m=\u001b[39mbody,\n\u001b[0;32m    720\u001b[0m     headers\u001b[38;5;241m=\u001b[39mheaders,\n\u001b[0;32m    721\u001b[0m     chunked\u001b[38;5;241m=\u001b[39mchunked,\n\u001b[0;32m    722\u001b[0m )\n\u001b[0;32m    724\u001b[0m \u001b[38;5;66;03m# If we're going to release the connection in ``finally:``, then\u001b[39;00m\n\u001b[0;32m    725\u001b[0m \u001b[38;5;66;03m# the response doesn't need to know about the connection. Otherwise\u001b[39;00m\n\u001b[0;32m    726\u001b[0m \u001b[38;5;66;03m# it will also try to release it and we'll have a double-release\u001b[39;00m\n\u001b[0;32m    727\u001b[0m \u001b[38;5;66;03m# mess.\u001b[39;00m\n\u001b[0;32m    728\u001b[0m response_conn \u001b[38;5;241m=\u001b[39m conn \u001b[38;5;28;01mif\u001b[39;00m \u001b[38;5;129;01mnot\u001b[39;00m release_conn \u001b[38;5;28;01melse\u001b[39;00m \u001b[38;5;28;01mNone\u001b[39;00m\n",
      "File \u001b[1;32mc:\\Users\\jeffr\\anaconda3\\Lib\\site-packages\\urllib3\\connectionpool.py:466\u001b[0m, in \u001b[0;36mHTTPConnectionPool._make_request\u001b[1;34m(self, conn, method, url, timeout, chunked, **httplib_request_kw)\u001b[0m\n\u001b[0;32m    461\u001b[0m             httplib_response \u001b[38;5;241m=\u001b[39m conn\u001b[38;5;241m.\u001b[39mgetresponse()\n\u001b[0;32m    462\u001b[0m         \u001b[38;5;28;01mexcept\u001b[39;00m \u001b[38;5;167;01mBaseException\u001b[39;00m \u001b[38;5;28;01mas\u001b[39;00m e:\n\u001b[0;32m    463\u001b[0m             \u001b[38;5;66;03m# Remove the TypeError from the exception chain in\u001b[39;00m\n\u001b[0;32m    464\u001b[0m             \u001b[38;5;66;03m# Python 3 (including for exceptions like SystemExit).\u001b[39;00m\n\u001b[0;32m    465\u001b[0m             \u001b[38;5;66;03m# Otherwise it looks like a bug in the code.\u001b[39;00m\n\u001b[1;32m--> 466\u001b[0m             six\u001b[38;5;241m.\u001b[39mraise_from(e, \u001b[38;5;28;01mNone\u001b[39;00m)\n\u001b[0;32m    467\u001b[0m \u001b[38;5;28;01mexcept\u001b[39;00m (SocketTimeout, BaseSSLError, SocketError) \u001b[38;5;28;01mas\u001b[39;00m e:\n\u001b[0;32m    468\u001b[0m     \u001b[38;5;28mself\u001b[39m\u001b[38;5;241m.\u001b[39m_raise_timeout(err\u001b[38;5;241m=\u001b[39me, url\u001b[38;5;241m=\u001b[39murl, timeout_value\u001b[38;5;241m=\u001b[39mread_timeout)\n",
      "File \u001b[1;32m<string>:3\u001b[0m, in \u001b[0;36mraise_from\u001b[1;34m(value, from_value)\u001b[0m\n",
      "File \u001b[1;32mc:\\Users\\jeffr\\anaconda3\\Lib\\site-packages\\urllib3\\connectionpool.py:461\u001b[0m, in \u001b[0;36mHTTPConnectionPool._make_request\u001b[1;34m(self, conn, method, url, timeout, chunked, **httplib_request_kw)\u001b[0m\n\u001b[0;32m    458\u001b[0m \u001b[38;5;28;01mexcept\u001b[39;00m \u001b[38;5;167;01mTypeError\u001b[39;00m:\n\u001b[0;32m    459\u001b[0m     \u001b[38;5;66;03m# Python 3\u001b[39;00m\n\u001b[0;32m    460\u001b[0m     \u001b[38;5;28;01mtry\u001b[39;00m:\n\u001b[1;32m--> 461\u001b[0m         httplib_response \u001b[38;5;241m=\u001b[39m conn\u001b[38;5;241m.\u001b[39mgetresponse()\n\u001b[0;32m    462\u001b[0m     \u001b[38;5;28;01mexcept\u001b[39;00m \u001b[38;5;167;01mBaseException\u001b[39;00m \u001b[38;5;28;01mas\u001b[39;00m e:\n\u001b[0;32m    463\u001b[0m         \u001b[38;5;66;03m# Remove the TypeError from the exception chain in\u001b[39;00m\n\u001b[0;32m    464\u001b[0m         \u001b[38;5;66;03m# Python 3 (including for exceptions like SystemExit).\u001b[39;00m\n\u001b[0;32m    465\u001b[0m         \u001b[38;5;66;03m# Otherwise it looks like a bug in the code.\u001b[39;00m\n\u001b[0;32m    466\u001b[0m         six\u001b[38;5;241m.\u001b[39mraise_from(e, \u001b[38;5;28;01mNone\u001b[39;00m)\n",
      "File \u001b[1;32mc:\\Users\\jeffr\\anaconda3\\Lib\\http\\client.py:1378\u001b[0m, in \u001b[0;36mHTTPConnection.getresponse\u001b[1;34m(self)\u001b[0m\n\u001b[0;32m   1376\u001b[0m \u001b[38;5;28;01mtry\u001b[39;00m:\n\u001b[0;32m   1377\u001b[0m     \u001b[38;5;28;01mtry\u001b[39;00m:\n\u001b[1;32m-> 1378\u001b[0m         response\u001b[38;5;241m.\u001b[39mbegin()\n\u001b[0;32m   1379\u001b[0m     \u001b[38;5;28;01mexcept\u001b[39;00m \u001b[38;5;167;01mConnectionError\u001b[39;00m:\n\u001b[0;32m   1380\u001b[0m         \u001b[38;5;28mself\u001b[39m\u001b[38;5;241m.\u001b[39mclose()\n",
      "File \u001b[1;32mc:\\Users\\jeffr\\anaconda3\\Lib\\http\\client.py:318\u001b[0m, in \u001b[0;36mHTTPResponse.begin\u001b[1;34m(self)\u001b[0m\n\u001b[0;32m    316\u001b[0m \u001b[38;5;66;03m# read until we get a non-100 response\u001b[39;00m\n\u001b[0;32m    317\u001b[0m \u001b[38;5;28;01mwhile\u001b[39;00m \u001b[38;5;28;01mTrue\u001b[39;00m:\n\u001b[1;32m--> 318\u001b[0m     version, status, reason \u001b[38;5;241m=\u001b[39m \u001b[38;5;28mself\u001b[39m\u001b[38;5;241m.\u001b[39m_read_status()\n\u001b[0;32m    319\u001b[0m     \u001b[38;5;28;01mif\u001b[39;00m status \u001b[38;5;241m!=\u001b[39m CONTINUE:\n\u001b[0;32m    320\u001b[0m         \u001b[38;5;28;01mbreak\u001b[39;00m\n",
      "File \u001b[1;32mc:\\Users\\jeffr\\anaconda3\\Lib\\http\\client.py:279\u001b[0m, in \u001b[0;36mHTTPResponse._read_status\u001b[1;34m(self)\u001b[0m\n\u001b[0;32m    278\u001b[0m \u001b[38;5;28;01mdef\u001b[39;00m \u001b[38;5;21m_read_status\u001b[39m(\u001b[38;5;28mself\u001b[39m):\n\u001b[1;32m--> 279\u001b[0m     line \u001b[38;5;241m=\u001b[39m \u001b[38;5;28mstr\u001b[39m(\u001b[38;5;28mself\u001b[39m\u001b[38;5;241m.\u001b[39mfp\u001b[38;5;241m.\u001b[39mreadline(_MAXLINE \u001b[38;5;241m+\u001b[39m \u001b[38;5;241m1\u001b[39m), \u001b[38;5;124m\"\u001b[39m\u001b[38;5;124miso-8859-1\u001b[39m\u001b[38;5;124m\"\u001b[39m)\n\u001b[0;32m    280\u001b[0m     \u001b[38;5;28;01mif\u001b[39;00m \u001b[38;5;28mlen\u001b[39m(line) \u001b[38;5;241m>\u001b[39m _MAXLINE:\n\u001b[0;32m    281\u001b[0m         \u001b[38;5;28;01mraise\u001b[39;00m LineTooLong(\u001b[38;5;124m\"\u001b[39m\u001b[38;5;124mstatus line\u001b[39m\u001b[38;5;124m\"\u001b[39m)\n",
      "File \u001b[1;32mc:\\Users\\jeffr\\anaconda3\\Lib\\socket.py:706\u001b[0m, in \u001b[0;36mSocketIO.readinto\u001b[1;34m(self, b)\u001b[0m\n\u001b[0;32m    704\u001b[0m \u001b[38;5;28;01mwhile\u001b[39;00m \u001b[38;5;28;01mTrue\u001b[39;00m:\n\u001b[0;32m    705\u001b[0m     \u001b[38;5;28;01mtry\u001b[39;00m:\n\u001b[1;32m--> 706\u001b[0m         \u001b[38;5;28;01mreturn\u001b[39;00m \u001b[38;5;28mself\u001b[39m\u001b[38;5;241m.\u001b[39m_sock\u001b[38;5;241m.\u001b[39mrecv_into(b)\n\u001b[0;32m    707\u001b[0m     \u001b[38;5;28;01mexcept\u001b[39;00m timeout:\n\u001b[0;32m    708\u001b[0m         \u001b[38;5;28mself\u001b[39m\u001b[38;5;241m.\u001b[39m_timeout_occurred \u001b[38;5;241m=\u001b[39m \u001b[38;5;28;01mTrue\u001b[39;00m\n",
      "\u001b[1;31mKeyboardInterrupt\u001b[0m: "
     ]
    }
   ],
   "source": [
    "crawler.getReviews_content(\"E:/Critical Inquiry/Code/Data Scraping/data/hwz_url_data.csv\", \"queer\")"
   ]
  },
  {
   "cell_type": "code",
   "execution_count": 19,
   "metadata": {},
   "outputs": [],
   "source": [
    "crawler = HardwarezoneCrawler()\n",
    "crawler.combine_data()"
   ]
  },
  {
   "cell_type": "code",
   "execution_count": null,
   "metadata": {},
   "outputs": [],
   "source": [
    "file_path = 'E:/Critical Inquiry/Code/Data Scraping/data/hwz_all_data.csv'\n",
    "column_names=['url', 'title', 'content', 'author', 'time_stamp', 'membership', \"aspect\"]\n",
    "df = pd.read_csv(file_path, header=None)\n",
    "    \n",
    "# Add column names\n",
    "df.columns = column_names\n",
    "\n",
    "# Rewrite the file with column names included\n",
    "df.to_csv(file_path, index=False)"
   ]
  }
 ],
 "metadata": {
  "kernelspec": {
   "display_name": "base",
   "language": "python",
   "name": "python3"
  },
  "language_info": {
   "codemirror_mode": {
    "name": "ipython",
    "version": 3
   },
   "file_extension": ".py",
   "mimetype": "text/x-python",
   "name": "python",
   "nbconvert_exporter": "python",
   "pygments_lexer": "ipython3",
   "version": "3.11.5"
  }
 },
 "nbformat": 4,
 "nbformat_minor": 2
}
